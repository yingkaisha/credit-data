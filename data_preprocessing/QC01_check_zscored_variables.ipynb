{
 "cells": [
  {
   "cell_type": "markdown",
   "id": "15e5de64-f695-40f3-8fde-4107481704a0",
   "metadata": {},
   "source": [
    "# Check the distribution of zscored variables (TSI and Q)"
   ]
  },
  {
   "cell_type": "code",
   "execution_count": 1,
   "id": "857c0896-f06e-403a-8353-481eae1c43ff",
   "metadata": {},
   "outputs": [],
   "source": [
    "import numpy as np\n",
    "import xarray as xr\n",
    "from glob import glob"
   ]
  },
  {
   "cell_type": "code",
   "execution_count": 2,
   "id": "d4810f4f-4f22-4f39-b176-27d2f27643cb",
   "metadata": {},
   "outputs": [],
   "source": [
    "from credit.data import get_forward_data"
   ]
  },
  {
   "cell_type": "code",
   "execution_count": 3,
   "id": "4b7a6b58-1e13-4fec-bd21-94ad3092a8b0",
   "metadata": {},
   "outputs": [],
   "source": [
    "import matplotlib.pyplot as plt\n",
    "%matplotlib inline"
   ]
  },
  {
   "cell_type": "markdown",
   "id": "07f41bbc-cf57-483a-a218-501314b7e350",
   "metadata": {},
   "source": [
    "## Check normalized TSI"
   ]
  },
  {
   "cell_type": "code",
   "execution_count": 4,
   "id": "8b70e37b-cf4a-4cc8-8313-cb668e23a42f",
   "metadata": {},
   "outputs": [],
   "source": [
    "# glob all tsi files and lazzy open as xr.Dataset\n",
    "filenames = sorted(glob('/glade/derecho/scratch/dgagne/credit_solar_1h_0.25deg/*.nc'))\n",
    "#filenames = sorted(glob('/glade/derecho/scratch/schreck/STAGING/TOTAL_*'))\n",
    "\n",
    "train_years_range = [1979, 2014]\n",
    "train_years = [str(year) for year in range(train_years_range[0], train_years_range[1])]\n",
    "train_files = [file for file in filenames if any(year in file for year in train_years)]\n",
    "\n",
    "list_ds_train = []\n",
    "\n",
    "for fn in train_files:\n",
    "    list_ds_train.append(get_forward_data(fn))"
   ]
  },
  {
   "cell_type": "markdown",
   "id": "13156891-74c9-47e4-9e7e-a25a9b343f69",
   "metadata": {},
   "source": [
    "### how tsi mean std was computed"
   ]
  },
  {
   "cell_type": "code",
   "execution_count": 5,
   "id": "68688c9b-f714-42a5-a16c-f2b8ae6b0b04",
   "metadata": {},
   "outputs": [],
   "source": [
    "# # loop thorugh files and compute mean and std \n",
    "# for i_ds, ds in enumerate(list_ds_train):\n",
    "    \n",
    "#     print('{}'.format(train_files[i_ds]))\n",
    "    \n",
    "#     mean_current_yr = float(ds['tsi'].mean())\n",
    "#     var_current_yr = float(ds['tsi'].var())\n",
    "#     L = len(ds['tsi'])*640*1280\n",
    "    \n",
    "#     print('{} - {}'.format(mean_current_yr, var_current_yr))\n",
    "    \n",
    "#     print('... done')\n",
    "    \n",
    "#     if i_ds == 0:\n",
    "    \n",
    "#         mean_combined = mean_current_yr\n",
    "#         var_combined = var_current_yr\n",
    "#         L_combined = L\n",
    "        \n",
    "#     else:\n",
    "#         print('pooling ...')\n",
    "#         # https://math.stackexchange.com/questions/2971315/how-do-i-combine-standard-deviations-of-two-groups\n",
    "#         mean_new = (L*mean_current_yr + L_combined*mean_combined) / (L + L_combined)\n",
    "#         var_new = ((L-1)*var_current_yr + (L_combined-1)*var_combined) / (L + L_combined -1)\n",
    "#         var_new_adjust = (L*L_combined*(mean_current_yr -mean_combined)**2) / (L + L_combined) / (L + L_combined -1)\n",
    "    \n",
    "#         mean_combined = mean_new\n",
    "#         var_combined = var_new + var_new_adjust\n",
    "#         L_combined = L_combined + L\n",
    "\n",
    "#         print('{} - {}'.format(mean_combined, var_combined))\n",
    "        \n",
    "#         print('... done')"
   ]
  },
  {
   "cell_type": "code",
   "execution_count": 6,
   "id": "6278fdcc-f975-4ae7-82cb-2a1f66a45f37",
   "metadata": {},
   "outputs": [],
   "source": [
    "NEW_mean = xr.open_dataset('/glade/campaign/cisl/aiml/ksha/CREDIT/mean_1h_1979_2018_16lev_0.25deg.nc')\n",
    "NEW_std = xr.open_dataset('/glade/campaign/cisl/aiml/ksha/CREDIT/std_1h_1979_2018_16lev_0.25deg.nc')"
   ]
  },
  {
   "cell_type": "code",
   "execution_count": 7,
   "id": "2999074a-9996-4836-badb-ce8d6e305243",
   "metadata": {},
   "outputs": [],
   "source": [
    "mean_tsi = np.array(NEW_mean['tsi'])\n",
    "std_tsi = np.array(NEW_std['tsi'])"
   ]
  },
  {
   "cell_type": "code",
   "execution_count": 8,
   "id": "ea07d001-7d5f-41da-83b0-bb1bac3af42f",
   "metadata": {},
   "outputs": [
    {
     "data": {
      "text/plain": [
       "array(1056801.76402968)"
      ]
     },
     "execution_count": 8,
     "metadata": {},
     "output_type": "execute_result"
    }
   ],
   "source": [
    "mean_tsi"
   ]
  },
  {
   "cell_type": "code",
   "execution_count": 9,
   "id": "75a62040-3325-4b73-89d3-8b04505bac6c",
   "metadata": {},
   "outputs": [
    {
     "data": {
      "text/plain": [
       "array(1416275.11762502)"
      ]
     },
     "execution_count": 9,
     "metadata": {},
     "output_type": "execute_result"
    }
   ],
   "source": [
    "std_tsi"
   ]
  },
  {
   "cell_type": "code",
   "execution_count": 10,
   "id": "9c7765cd-e2a0-408b-853c-1775dbb1dfc8",
   "metadata": {},
   "outputs": [],
   "source": [
    "ds_norm = (list_ds_train[1]['tsi'] - mean_tsi) / std_tsi"
   ]
  },
  {
   "cell_type": "code",
   "execution_count": 11,
   "id": "ca203457-59ae-4dac-9ac7-f73ab24a02ab",
   "metadata": {},
   "outputs": [
    {
     "data": {
      "text/plain": [
       "-0.7461839318275452"
      ]
     },
     "execution_count": 11,
     "metadata": {},
     "output_type": "execute_result"
    }
   ],
   "source": [
    "float(ds_norm.min())"
   ]
  },
  {
   "cell_type": "code",
   "execution_count": 12,
   "id": "1d065926-308d-4642-85e4-b2e3824a0d45",
   "metadata": {},
   "outputs": [
    {
     "data": {
      "text/plain": [
       "2.7664783000946045"
      ]
     },
     "execution_count": 12,
     "metadata": {},
     "output_type": "execute_result"
    }
   ],
   "source": [
    "float(ds_norm.max())"
   ]
  },
  {
   "cell_type": "code",
   "execution_count": 13,
   "id": "1d67ce6c-2b2f-4798-b8fc-d81d2e640762",
   "metadata": {},
   "outputs": [],
   "source": [
    "# ds_norm.plot.hist()"
   ]
  },
  {
   "cell_type": "markdown",
   "id": "da2bc0b2-d251-4c06-9f7f-d7781a769cfc",
   "metadata": {},
   "source": [
    "## How about the old TSI? (almost the same result)"
   ]
  },
  {
   "cell_type": "code",
   "execution_count": 14,
   "id": "d13ad81a-36a5-4a37-9c10-ddf1255fa116",
   "metadata": {},
   "outputs": [],
   "source": [
    "TOA_forcing_path = '/glade/derecho/scratch/dgagne/credit_scalers/solar_radiation_2024-03-29_0204.nc' \n",
    "ds_old = get_forward_data(TOA_forcing_path)"
   ]
  },
  {
   "cell_type": "code",
   "execution_count": 15,
   "id": "952f363f-6f3d-45ea-81b4-409840719ac3",
   "metadata": {},
   "outputs": [
    {
     "data": {
      "text/plain": [
       "988673.375"
      ]
     },
     "execution_count": 15,
     "metadata": {},
     "output_type": "execute_result"
    }
   ],
   "source": [
    "float(ds_old['tsi'].mean(skipna=False))"
   ]
  },
  {
   "cell_type": "code",
   "execution_count": 16,
   "id": "d010bb69-08e1-49f0-a628-2b2c26b7b4bf",
   "metadata": {},
   "outputs": [
    {
     "data": {
      "text/plain": [
       "1325118.875"
      ]
     },
     "execution_count": 16,
     "metadata": {},
     "output_type": "execute_result"
    }
   ],
   "source": [
    "float(ds_old['tsi'].std(skipna=False))"
   ]
  },
  {
   "cell_type": "code",
   "execution_count": 36,
   "id": "488b2cd2-2882-43e0-8142-3c4d39e9c395",
   "metadata": {},
   "outputs": [],
   "source": [
    "ds_old_norm = (ds_old['tsi'] - 988673.375) / 1325118.875"
   ]
  },
  {
   "cell_type": "code",
   "execution_count": 37,
   "id": "8e81458c-54ac-4c71-bcc9-8bf0a1aef267",
   "metadata": {},
   "outputs": [
    {
     "data": {
      "text/plain": [
       "-0.7461016178131104"
      ]
     },
     "execution_count": 37,
     "metadata": {},
     "output_type": "execute_result"
    }
   ],
   "source": [
    "float(ds_old_norm.min())"
   ]
  },
  {
   "cell_type": "code",
   "execution_count": 38,
   "id": "117929f9-5f22-46da-aa66-f1c568cd8c3e",
   "metadata": {},
   "outputs": [
    {
     "data": {
      "text/plain": [
       "2.7680108547210693"
      ]
     },
     "execution_count": 38,
     "metadata": {},
     "output_type": "execute_result"
    }
   ],
   "source": [
    "float(ds_old_norm.max())"
   ]
  },
  {
   "cell_type": "code",
   "execution_count": 39,
   "id": "17a63cc0-ab69-47d3-9b38-0020dfdc2b1f",
   "metadata": {},
   "outputs": [],
   "source": [
    "# ds_old_norm.plot.hist()"
   ]
  },
  {
   "cell_type": "markdown",
   "id": "f0843199-e594-4511-9e94-57ff5834bc5d",
   "metadata": {},
   "source": [
    "## Check normalized 500 hPa Q"
   ]
  },
  {
   "cell_type": "code",
   "execution_count": 18,
   "id": "8142f6ec-e653-452b-990e-86f89abe57da",
   "metadata": {},
   "outputs": [],
   "source": [
    "ERA_files = sorted(glob('/glade/derecho/scratch/wchapman/y_TOTAL*'))\n",
    "ERA_example = xr.open_zarr(ERA_files[0])"
   ]
  },
  {
   "cell_type": "code",
   "execution_count": 19,
   "id": "ffd4cd15-8222-4696-8348-25a06b4db76b",
   "metadata": {},
   "outputs": [],
   "source": [
    "mean_q = np.array(NEW_mean['Q500'])\n",
    "std_q = np.array(NEW_std['Q500'])"
   ]
  },
  {
   "cell_type": "code",
   "execution_count": 20,
   "id": "110f5dc9-355d-400a-b0cf-893919b62a45",
   "metadata": {},
   "outputs": [],
   "source": [
    "q_norm = (ERA_example['Q500'] - mean_q) / std_q"
   ]
  },
  {
   "cell_type": "code",
   "execution_count": 21,
   "id": "c206b34e-dd0e-4cb6-82e0-45ce17bebc1f",
   "metadata": {},
   "outputs": [
    {
     "data": {
      "text/plain": [
       "-0.7999893426895142"
      ]
     },
     "execution_count": 21,
     "metadata": {},
     "output_type": "execute_result"
    }
   ],
   "source": [
    "float(q_norm.min())"
   ]
  },
  {
   "cell_type": "code",
   "execution_count": 22,
   "id": "c0bfa67e-b595-47e9-82cc-816f6cfd8c1b",
   "metadata": {},
   "outputs": [
    {
     "data": {
      "text/plain": [
       "8.571893692016602"
      ]
     },
     "execution_count": 22,
     "metadata": {},
     "output_type": "execute_result"
    }
   ],
   "source": [
    "float(q_norm.max())"
   ]
  },
  {
   "cell_type": "code",
   "execution_count": 23,
   "id": "223a41ec-7cdb-4c8a-8248-54e98933d568",
   "metadata": {},
   "outputs": [],
   "source": [
    "# q_norm.plot.hist()"
   ]
  },
  {
   "cell_type": "markdown",
   "id": "24658392-ec1e-4fbc-818f-318206c1c176",
   "metadata": {},
   "source": [
    "## Check top-of-atmos Q"
   ]
  },
  {
   "cell_type": "code",
   "execution_count": 24,
   "id": "ba4ba30f-71bc-47a1-9c79-6dad61fb648e",
   "metadata": {},
   "outputs": [],
   "source": [
    "ERA_files = sorted(glob('/glade/derecho/scratch/wchapman/y_TOTAL*'))\n",
    "ERA_example = xr.open_zarr(ERA_files[0])"
   ]
  },
  {
   "cell_type": "code",
   "execution_count": 25,
   "id": "c6717764-ce30-4301-81ef-fa179ea1c95e",
   "metadata": {},
   "outputs": [],
   "source": [
    "mean_q_toa = np.array(NEW_mean['Q'].isel(level=0))\n",
    "std_q_toa = np.array(NEW_std['Q'].isel(level=0))"
   ]
  },
  {
   "cell_type": "code",
   "execution_count": 26,
   "id": "615e33e7-30e3-40ef-b238-e34b5d2ba448",
   "metadata": {},
   "outputs": [],
   "source": [
    "q_toa_norm = (ERA_example['Q'].isel(level=0) - mean_q_toa) / std_q_toa"
   ]
  },
  {
   "cell_type": "code",
   "execution_count": 27,
   "id": "d60a22da-6e9e-4e4b-b556-e442b10b4cad",
   "metadata": {},
   "outputs": [
    {
     "data": {
      "text/plain": [
       "-8.435981750488281"
      ]
     },
     "execution_count": 27,
     "metadata": {},
     "output_type": "execute_result"
    }
   ],
   "source": [
    "float(q_toa_norm.min())"
   ]
  },
  {
   "cell_type": "code",
   "execution_count": 28,
   "id": "ff375d04-dd04-4487-a58a-177f7be0abb9",
   "metadata": {},
   "outputs": [
    {
     "data": {
      "text/plain": [
       "0.8486422896385193"
      ]
     },
     "execution_count": 28,
     "metadata": {},
     "output_type": "execute_result"
    }
   ],
   "source": [
    "float(q_toa_norm.max())"
   ]
  },
  {
   "cell_type": "code",
   "execution_count": 29,
   "id": "b721f23f-b3c4-4fe5-80d0-94861dd098f4",
   "metadata": {},
   "outputs": [],
   "source": [
    "# q_toa_norm.plot.hist()"
   ]
  },
  {
   "cell_type": "markdown",
   "id": "11166df1-82a4-423b-98fd-a4fc66d23715",
   "metadata": {},
   "source": [
    "## Check surface Q"
   ]
  },
  {
   "cell_type": "code",
   "execution_count": 30,
   "id": "df0166fc-b758-4094-989a-0d3369d079d8",
   "metadata": {},
   "outputs": [],
   "source": [
    "ERA_files = sorted(glob('/glade/derecho/scratch/wchapman/y_TOTAL*'))\n",
    "ERA_example = xr.open_zarr(ERA_files[0])"
   ]
  },
  {
   "cell_type": "code",
   "execution_count": 31,
   "id": "abc470fa-98b2-4f35-a5aa-e19f49f3dcf3",
   "metadata": {},
   "outputs": [],
   "source": [
    "mean_q_surf = np.array(NEW_mean['Q'].isel(level=14))\n",
    "std_q_surf = np.array(NEW_std['Q'].isel(level=14))"
   ]
  },
  {
   "cell_type": "code",
   "execution_count": 32,
   "id": "42ef2637-7cd4-4045-811f-9c19f4821fa5",
   "metadata": {},
   "outputs": [],
   "source": [
    "q_surf_norm = (ERA_example['Q'].isel(level=14) - mean_q_surf) / std_q_surf"
   ]
  },
  {
   "cell_type": "code",
   "execution_count": 33,
   "id": "607a6bc8-69ea-4a01-9811-9fe576165b8f",
   "metadata": {},
   "outputs": [
    {
     "data": {
      "text/plain": [
       "-1.1894210577011108"
      ]
     },
     "execution_count": 33,
     "metadata": {},
     "output_type": "execute_result"
    }
   ],
   "source": [
    "float(q_surf_norm.min())"
   ]
  },
  {
   "cell_type": "code",
   "execution_count": 34,
   "id": "72b462ca-dec4-4b74-af2e-d1f36e3e3d5c",
   "metadata": {},
   "outputs": [
    {
     "data": {
      "text/plain": [
       "3.679657459259033"
      ]
     },
     "execution_count": 34,
     "metadata": {},
     "output_type": "execute_result"
    }
   ],
   "source": [
    "float(q_surf_norm.max())"
   ]
  },
  {
   "cell_type": "code",
   "execution_count": 35,
   "id": "78667fbf-d115-4303-b625-cddf0fa034b2",
   "metadata": {},
   "outputs": [],
   "source": [
    "# q_surf_norm.plot.hist()"
   ]
  },
  {
   "cell_type": "code",
   "execution_count": null,
   "id": "e66cbce9-e1d3-40fc-b515-0e9e59bb4bb6",
   "metadata": {},
   "outputs": [],
   "source": []
  }
 ],
 "metadata": {
  "kernelspec": {
   "display_name": "Python 3 (ipykernel)",
   "language": "python",
   "name": "python3"
  },
  "language_info": {
   "codemirror_mode": {
    "name": "ipython",
    "version": 3
   },
   "file_extension": ".py",
   "mimetype": "text/x-python",
   "name": "python",
   "nbconvert_exporter": "python",
   "pygments_lexer": "ipython3",
   "version": "3.11.9"
  }
 },
 "nbformat": 4,
 "nbformat_minor": 5
}
