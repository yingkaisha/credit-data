{
 "cells": [
  {
   "cell_type": "markdown",
   "id": "304505aa-820b-41ea-af52-57a62b6c8655",
   "metadata": {},
   "source": [
    "# Generate qsub scripts for ERA5 data preparation"
   ]
  },
  {
   "cell_type": "code",
   "execution_count": 1,
   "id": "a4e06d0d-df0e-4353-9fc7-dcab383a8d70",
   "metadata": {},
   "outputs": [],
   "source": [
    "import os\n",
    "import sys\n",
    "import yaml\n",
    "import numpy as np\n",
    "import xarray as xr"
   ]
  },
  {
   "cell_type": "code",
   "execution_count": 2,
   "id": "94494a11-1fef-419e-9dfe-4307e9e90634",
   "metadata": {},
   "outputs": [],
   "source": [
    "sys.path.insert(0, os.path.realpath('../libs/'))\n",
    "import preprocess_utils as pu"
   ]
  },
  {
   "cell_type": "markdown",
   "id": "02e6238c-b5dc-46d9-bcd9-14478af09332",
   "metadata": {},
   "source": [
    "## Casper PBS"
   ]
  },
  {
   "cell_type": "markdown",
   "id": "9d95334d-0d4c-451f-8d64-e2627c35bce3",
   "metadata": {},
   "source": [
    "### 6 hourly pressure level analysis"
   ]
  },
  {
   "cell_type": "code",
   "execution_count": 3,
   "id": "83b2b411-d4b1-473e-ad38-115e3b373fdc",
   "metadata": {},
   "outputs": [],
   "source": [
    "config_name = os.path.realpath('data_config_6h.yml')\n",
    "\n",
    "with open(config_name, 'r') as stream:\n",
    "    conf = yaml.safe_load(stream)"
   ]
  },
  {
   "cell_type": "code",
   "execution_count": 4,
   "id": "b9cd63ca-00fd-4319-95c8-46510a49388a",
   "metadata": {},
   "outputs": [],
   "source": [
    "years_range = conf['RDA']['years_range']\n",
    "years = np.arange(years_range[0], years_range[1])"
   ]
  },
  {
   "cell_type": "code",
   "execution_count": 5,
   "id": "c724f245-1cbf-4ad8-b76f-3bb8da944e3a",
   "metadata": {},
   "outputs": [],
   "source": [
    "for i_year, year in enumerate(years):\n",
    "    \n",
    "    f = open('{}ERA5_PP_plevel_6h_{}.sh'.format(conf['qsub']['qsub_loc'], year), 'w') \n",
    "    \n",
    "    heads = '''#!/bin/bash -l\n",
    "\n",
    "#PBS -N {}\n",
    "#PBS -A NAML0001\n",
    "#PBS -l walltime=23:59:59\n",
    "#PBS -l select=1:ncpus=8\n",
    "#PBS -q casper\n",
    "#PBS -o {}.log\n",
    "#PBS -e {}.err\n",
    "\n",
    "conda activate credit\n",
    "cd {}\n",
    "python PP_ERA5_plevel_upper_air.py {}\n",
    "'''.format(year, year, year, \n",
    "           conf['qsub']['scripts_loc'], \n",
    "           year)\n",
    "    \n",
    "    print(heads, file=f)    \n",
    "    f.close()\n",
    "\n",
    "\n",
    "\n",
    "f = open('{}batch_ERA5_PP_plevel_6h.sh'.format(conf['qsub']['qsub_loc']), 'w')\n",
    "for i_year, year in enumerate(years):\n",
    "    print('qsub ERA5_PP_plevel_6h_{}.sh'.format(year), file=f)\n",
    "f.close()"
   ]
  },
  {
   "cell_type": "markdown",
   "id": "3ba79a73-e2f4-4979-9491-761e6150e8b7",
   "metadata": {},
   "source": [
    "### Pressure level analysis subset"
   ]
  },
  {
   "cell_type": "code",
   "execution_count": 6,
   "id": "ee9f4664-3a55-4ded-bf89-65268509fa95",
   "metadata": {},
   "outputs": [],
   "source": [
    "config_name = os.path.realpath('data_config_6h.yml')\n",
    "\n",
    "with open(config_name, 'r') as stream:\n",
    "    conf = yaml.safe_load(stream)"
   ]
  },
  {
   "cell_type": "code",
   "execution_count": 7,
   "id": "b1908e82-6040-4550-983e-78057fc70795",
   "metadata": {},
   "outputs": [],
   "source": [
    "years_range = conf['RDA']['years_range']\n",
    "years = np.arange(years_range[0], years_range[1])"
   ]
  },
  {
   "cell_type": "code",
   "execution_count": 8,
   "id": "6c0de3b7-eff0-4ccc-a969-092944cf7e5f",
   "metadata": {},
   "outputs": [],
   "source": [
    "for i_year, year in enumerate(years):\n",
    "    \n",
    "    f = open('{}ERA5_PP_plevel_subset_6h_{}.sh'.format(conf['qsub']['qsub_loc'], year), 'w') \n",
    "    \n",
    "    heads = '''#!/bin/bash -l\n",
    "\n",
    "#PBS -N {}_subset\n",
    "#PBS -A NAML0001\n",
    "#PBS -l walltime=23:59:59\n",
    "#PBS -l select=1:ncpus=8\n",
    "#PBS -q casper\n",
    "#PBS -o {}_subset.log\n",
    "#PBS -e {}_subset.err\n",
    "\n",
    "conda activate credit\n",
    "cd {}\n",
    "python PP_ERA5_plevel_upper_subset.py {}\n",
    "'''.format(year, year, year, \n",
    "           conf['qsub']['scripts_loc'], \n",
    "           year)\n",
    "    \n",
    "    print(heads, file=f)    \n",
    "    f.close()\n",
    "\n",
    "f = open('{}batch_ERA5_PP_plevel_subset_6h.sh'.format(conf['qsub']['qsub_loc']), 'w')\n",
    "for i_year, year in enumerate(years):\n",
    "    print('qsub ERA5_PP_plevel_subset_6h_{}.sh'.format(year), file=f)\n",
    "f.close()"
   ]
  },
  {
   "cell_type": "markdown",
   "id": "e1acc12e-633d-4fa0-b1ca-a093d80b21b6",
   "metadata": {},
   "source": [
    "### 6 hourly surface analysis"
   ]
  },
  {
   "cell_type": "code",
   "execution_count": 13,
   "id": "d30b2e99-8dea-44f8-80db-305f740feaca",
   "metadata": {},
   "outputs": [],
   "source": [
    "config_name = os.path.realpath('data_config_6h.yml')\n",
    "\n",
    "with open(config_name, 'r') as stream:\n",
    "    conf = yaml.safe_load(stream)"
   ]
  },
  {
   "cell_type": "code",
   "execution_count": 14,
   "id": "c86238da-0472-4b96-98fd-b29722ab6e37",
   "metadata": {},
   "outputs": [],
   "source": [
    "years_range = conf['RDA']['years_range']\n",
    "years = np.arange(years_range[0], years_range[1])"
   ]
  },
  {
   "cell_type": "code",
   "execution_count": 15,
   "id": "e2fe588f-58ca-4662-9cc4-a61426eb5f37",
   "metadata": {},
   "outputs": [],
   "source": [
    "for i_year, year in enumerate(years):\n",
    "    \n",
    "    f = open('{}ERA5_PP_plevel_surf_6h_{}.sh'.format(conf['qsub']['qsub_loc'], year), 'w') \n",
    "    \n",
    "    heads = '''#!/bin/bash -l\n",
    "\n",
    "#PBS -N {}_surf\n",
    "#PBS -A NAML0001\n",
    "#PBS -l walltime=23:59:59\n",
    "#PBS -l select=1:ncpus=8\n",
    "#PBS -q casper\n",
    "#PBS -o {}_surf.log\n",
    "#PBS -e {}_surf.err\n",
    "\n",
    "conda activate credit\n",
    "cd {}\n",
    "python PP_ERA5_plevel_surface.py {}\n",
    "'''.format(year, year, year, \n",
    "           conf['qsub']['scripts_loc'], \n",
    "           year)\n",
    "    \n",
    "    print(heads, file=f)    \n",
    "    f.close()\n",
    "\n",
    "\n",
    "\n",
    "f = open('{}batch_ERA5_PP_plevel_surf_6h.sh'.format(conf['qsub']['qsub_loc']), 'w')\n",
    "for i_year, year in enumerate(years):\n",
    "    print('qsub ERA5_PP_plevel_surf_6h_{}.sh'.format(year), file=f)\n",
    "f.close()"
   ]
  },
  {
   "cell_type": "markdown",
   "id": "a767f673-5536-422f-8a8c-923ea89b2b3e",
   "metadata": {},
   "source": [
    "### 6 hourly forecasts for accumlative variables (casper, from ARCO)"
   ]
  },
  {
   "cell_type": "code",
   "execution_count": 16,
   "id": "635e2397-fe15-4194-98c0-57d23f47fc36",
   "metadata": {},
   "outputs": [],
   "source": [
    "config_name = os.path.realpath('data_config_6h.yml')\n",
    "\n",
    "with open(config_name, 'r') as stream:\n",
    "    conf = yaml.safe_load(stream)"
   ]
  },
  {
   "cell_type": "code",
   "execution_count": 17,
   "id": "89243249-9562-4b9f-b341-59c3be4ef5b8",
   "metadata": {},
   "outputs": [],
   "source": [
    "years_range = conf['ARCO']['years_range']\n",
    "years = np.arange(years_range[0], years_range[1])"
   ]
  },
  {
   "cell_type": "code",
   "execution_count": 18,
   "id": "ecc8dbe6-8f4c-4376-a2a6-ce2c8e750c12",
   "metadata": {},
   "outputs": [],
   "source": [
    "for i_year, year in enumerate(years):\n",
    "    \n",
    "    f = open('{}ERA5_PP_plevel_accum_6h_{}.sh'.format(conf['qsub']['qsub_loc'], year), 'w') \n",
    "    \n",
    "    heads = '''#!/bin/bash -l\n",
    "\n",
    "#PBS -N {}_accum\n",
    "#PBS -A NAML0001\n",
    "#PBS -l walltime=23:59:59\n",
    "#PBS -l select=1:ncpus=8\n",
    "#PBS -q casper\n",
    "#PBS -o {}_accum.log\n",
    "#PBS -e {}_accum.err\n",
    "\n",
    "conda activate credit\n",
    "cd {}\n",
    "python PP_ERA5_plevel_accum.py {}\n",
    "'''.format(year, year, year, \n",
    "           conf['qsub']['scripts_loc'], \n",
    "           year)\n",
    "    \n",
    "    print(heads, file=f)    \n",
    "    f.close()\n",
    "\n",
    "f = open('{}batch_ERA5_PP_plevel_accum_6h.sh'.format(conf['qsub']['qsub_loc']), 'w')\n",
    "for i_year, year in enumerate(years):\n",
    "    print('qsub ERA5_PP_plevel_accum_6h_{}.sh'.format(year), file=f)\n",
    "f.close()"
   ]
  },
  {
   "cell_type": "markdown",
   "id": "896c25b2-cf71-4c2d-ab95-2806a0674549",
   "metadata": {},
   "source": [
    "## Derecho PBS"
   ]
  },
  {
   "cell_type": "markdown",
   "id": "37ecc2bd-f660-4717-8394-5718d1ce51f6",
   "metadata": {},
   "source": [
    "### 6 hourly pressure level analysis"
   ]
  },
  {
   "cell_type": "code",
   "execution_count": 4,
   "id": "114b8b39-a02d-4382-8062-55591204e374",
   "metadata": {},
   "outputs": [],
   "source": [
    "config_name = os.path.realpath('data_config_6h.yml')\n",
    "\n",
    "with open(config_name, 'r') as stream:\n",
    "    conf = yaml.safe_load(stream)\n",
    "\n",
    "years_range = conf['ARCO']['years_range']\n",
    "years = np.arange(years_range[0], years_range[1])"
   ]
  },
  {
   "cell_type": "code",
   "execution_count": 7,
   "id": "ee122092-b5c0-46eb-ae95-0f58d31c23f5",
   "metadata": {},
   "outputs": [],
   "source": [
    "for i_year, year in enumerate(years):\n",
    "    \n",
    "    f = open('{}ERA5_PP_plevel_6h_{}.sh'.format(conf['qsub']['qsub_loc'], year), 'w') \n",
    "    \n",
    "    heads = '''#!/bin/bash -l\n",
    "\n",
    "#PBS -N year_{}\n",
    "#PBS -l walltime=12:00:00\n",
    "#PBS -l select=1:ncpus=8\n",
    "#PBS -A NAML0001\n",
    "#PBS -q main\n",
    "\n",
    "source /glade/u/home/ksha/.bashrc\n",
    "module purge\n",
    "module load conda\n",
    "conda activate /glade/work/ksha/miniconda3/envs/credit\n",
    "\n",
    "cd {}\n",
    "python PP_ERA5_plevel_upper_air.py {}\n",
    "'''.format(year, \n",
    "           conf['qsub']['scripts_loc'], \n",
    "           year)\n",
    "    \n",
    "    print(heads, file=f)    \n",
    "    f.close()\n",
    "\n",
    "f = open('{}batch_ERA5_PP_plevel_6h.sh'.format(conf['qsub']['qsub_loc']), 'w')\n",
    "for i_year, year in enumerate(years):\n",
    "    print('qsub ERA5_PP_plevel_6h_{}.sh'.format(year), file=f)\n",
    "f.close()"
   ]
  },
  {
   "cell_type": "code",
   "execution_count": null,
   "id": "be5bede6-373f-414d-a167-184b566fb08b",
   "metadata": {},
   "outputs": [],
   "source": []
  }
 ],
 "metadata": {
  "kernelspec": {
   "display_name": "Python 3 (ipykernel)",
   "language": "python",
   "name": "python3"
  },
  "language_info": {
   "codemirror_mode": {
    "name": "ipython",
    "version": 3
   },
   "file_extension": ".py",
   "mimetype": "text/x-python",
   "name": "python",
   "nbconvert_exporter": "python",
   "pygments_lexer": "ipython3",
   "version": "3.11.9"
  }
 },
 "nbformat": 4,
 "nbformat_minor": 5
}
