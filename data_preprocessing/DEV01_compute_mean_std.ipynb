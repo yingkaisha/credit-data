{
 "cells": [
  {
   "cell_type": "markdown",
   "id": "304505aa-820b-41ea-af52-57a62b6c8655",
   "metadata": {},
   "source": [
    "# Generate qsub scripts to compute mean and std per variable"
   ]
  },
  {
   "cell_type": "code",
   "execution_count": 2,
   "id": "a4e06d0d-df0e-4353-9fc7-dcab383a8d70",
   "metadata": {},
   "outputs": [],
   "source": [
    "import os\n",
    "import sys\n",
    "import yaml\n",
    "import numpy as np\n",
    "import xarray as xr"
   ]
  },
  {
   "cell_type": "code",
   "execution_count": 3,
   "id": "94494a11-1fef-419e-9dfe-4307e9e90634",
   "metadata": {},
   "outputs": [],
   "source": [
    "sys.path.insert(0, os.path.realpath('../libs/'))\n",
    "import preprocess_utils as pu"
   ]
  },
  {
   "cell_type": "markdown",
   "id": "37ecc2bd-f660-4717-8394-5718d1ce51f6",
   "metadata": {},
   "source": [
    "## 6 hourly mean std"
   ]
  },
  {
   "cell_type": "code",
   "execution_count": 4,
   "id": "114b8b39-a02d-4382-8062-55591204e374",
   "metadata": {},
   "outputs": [],
   "source": [
    "config_name = os.path.realpath('data_config_6h.yml')\n",
    "\n",
    "with open(config_name, 'r') as stream:\n",
    "    conf = yaml.safe_load(stream)"
   ]
  },
  {
   "cell_type": "code",
   "execution_count": 5,
   "id": "f7295873-ba86-4211-aa08-4919cb72e148",
   "metadata": {},
   "outputs": [],
   "source": [
    "varnames = list(conf['zscore'].keys())\n",
    "varnames = varnames[:-3] # remove save_loc and others"
   ]
  },
  {
   "cell_type": "code",
   "execution_count": 6,
   "id": "4167f555-1fff-4526-bf87-f954f1e95509",
   "metadata": {},
   "outputs": [
    {
     "data": {
      "text/plain": [
       "['U',\n",
       " 'V',\n",
       " 'T',\n",
       " 'Q',\n",
       " 'SP',\n",
       " 't2m',\n",
       " 'V500',\n",
       " 'U500',\n",
       " 'T500',\n",
       " 'Z500',\n",
       " 'Q500',\n",
       " 'tsi']"
      ]
     },
     "execution_count": 6,
     "metadata": {},
     "output_type": "execute_result"
    }
   ],
   "source": [
    "varnames"
   ]
  },
  {
   "cell_type": "code",
   "execution_count": null,
   "id": "4d798d04-09b8-4d1c-b052-ffaa764e79d5",
   "metadata": {},
   "outputs": [
    {
     "name": "stdout",
     "output_type": "stream",
     "text": [
      "6431975.416946704 - 59504949632630.39\n"
     ]
    }
   ],
   "source": [
    "pu.zscore_var(conf, 'tsi')"
   ]
  },
  {
   "cell_type": "markdown",
   "id": "02e0d002-80b8-4cad-903a-b2b646a754f9",
   "metadata": {},
   "source": [
    "## debug on tsi (solved using `astype('float64')`)"
   ]
  },
  {
   "cell_type": "code",
   "execution_count": 7,
   "id": "9d4a51a8-687c-402c-841f-53328bedf559",
   "metadata": {},
   "outputs": [],
   "source": [
    "import matplotlib.pyplot as plt\n",
    "%matplotlib inline"
   ]
  },
  {
   "cell_type": "code",
   "execution_count": 8,
   "id": "2515027a-234b-4e34-bb2c-360f6c15c157",
   "metadata": {},
   "outputs": [],
   "source": [
    "from glob import glob\n",
    "\n",
    "def get_forward_data(filename) -> xr.DataArray:\n",
    "    '''\n",
    "    Check nc vs. zarr files\n",
    "    open file as xr.Dataset\n",
    "    '''\n",
    "    if filename[-3:] == '.nc' or filename[-4:] == '.nc4':\n",
    "        dataset = xr.open_dataset(filename)\n",
    "    else:\n",
    "        dataset = xr.open_zarr(filename, consolidated=True)\n",
    "    return dataset"
   ]
  },
  {
   "cell_type": "code",
   "execution_count": 9,
   "id": "acf0e302-5ca2-4d14-ba16-b513acebe884",
   "metadata": {},
   "outputs": [],
   "source": [
    "varname = 'tsi'"
   ]
  },
  {
   "cell_type": "code",
   "execution_count": 10,
   "id": "96d24ee8-77a3-49e0-bb3a-c2c777a11972",
   "metadata": {},
   "outputs": [],
   "source": [
    "filenames = sorted(glob(conf['zscore'][varname]))\n",
    "\n",
    "year_range = conf['zscore']['years_range']\n",
    "train_years = [str(year) for year in range(year_range[0], year_range[1])]\n",
    "train_files = [file for file in filenames if any(year in file for year in train_years)]\n",
    "\n",
    "list_ds_train = []\n",
    "\n",
    "for fn in train_files:\n",
    "    list_ds_train.append(get_forward_data(fn))"
   ]
  },
  {
   "cell_type": "code",
   "execution_count": 11,
   "id": "ad1dfdda-0b5c-4f14-9b5d-bfe8f2fc69fb",
   "metadata": {},
   "outputs": [],
   "source": [
    "ds_example = list_ds_train[0][varname]\n",
    "var_shape = ds_example.shape\n",
    "N_grids = var_shape[-1] * var_shape[-2]\n",
    "mean_std_save = np.empty((2,))\n",
    "mean_std_save.fill(np.nan)"
   ]
  },
  {
   "cell_type": "code",
   "execution_count": 12,
   "id": "de761f01-f227-4747-a8de-8bee66ae5064",
   "metadata": {},
   "outputs": [],
   "source": [
    "ds = list_ds_train[0]\n",
    "ds_subset = ds[varname]"
   ]
  },
  {
   "cell_type": "code",
   "execution_count": 13,
   "id": "303a7219-3410-43b0-a2bc-f97aa277679d",
   "metadata": {},
   "outputs": [
    {
     "data": {
      "text/html": [
       "<div><svg style=\"position: absolute; width: 0; height: 0; overflow: hidden\">\n",
       "<defs>\n",
       "<symbol id=\"icon-database\" viewBox=\"0 0 32 32\">\n",
       "<path d=\"M16 0c-8.837 0-16 2.239-16 5v4c0 2.761 7.163 5 16 5s16-2.239 16-5v-4c0-2.761-7.163-5-16-5z\"></path>\n",
       "<path d=\"M16 17c-8.837 0-16-2.239-16-5v6c0 2.761 7.163 5 16 5s16-2.239 16-5v-6c0 2.761-7.163 5-16 5z\"></path>\n",
       "<path d=\"M16 26c-8.837 0-16-2.239-16-5v6c0 2.761 7.163 5 16 5s16-2.239 16-5v-6c0 2.761-7.163 5-16 5z\"></path>\n",
       "</symbol>\n",
       "<symbol id=\"icon-file-text2\" viewBox=\"0 0 32 32\">\n",
       "<path d=\"M28.681 7.159c-0.694-0.947-1.662-2.053-2.724-3.116s-2.169-2.030-3.116-2.724c-1.612-1.182-2.393-1.319-2.841-1.319h-15.5c-1.378 0-2.5 1.121-2.5 2.5v27c0 1.378 1.122 2.5 2.5 2.5h23c1.378 0 2.5-1.122 2.5-2.5v-19.5c0-0.448-0.137-1.23-1.319-2.841zM24.543 5.457c0.959 0.959 1.712 1.825 2.268 2.543h-4.811v-4.811c0.718 0.556 1.584 1.309 2.543 2.268zM28 29.5c0 0.271-0.229 0.5-0.5 0.5h-23c-0.271 0-0.5-0.229-0.5-0.5v-27c0-0.271 0.229-0.5 0.5-0.5 0 0 15.499-0 15.5 0v7c0 0.552 0.448 1 1 1h7v19.5z\"></path>\n",
       "<path d=\"M23 26h-14c-0.552 0-1-0.448-1-1s0.448-1 1-1h14c0.552 0 1 0.448 1 1s-0.448 1-1 1z\"></path>\n",
       "<path d=\"M23 22h-14c-0.552 0-1-0.448-1-1s0.448-1 1-1h14c0.552 0 1 0.448 1 1s-0.448 1-1 1z\"></path>\n",
       "<path d=\"M23 18h-14c-0.552 0-1-0.448-1-1s0.448-1 1-1h14c0.552 0 1 0.448 1 1s-0.448 1-1 1z\"></path>\n",
       "</symbol>\n",
       "</defs>\n",
       "</svg>\n",
       "<style>/* CSS stylesheet for displaying xarray objects in jupyterlab.\n",
       " *\n",
       " */\n",
       "\n",
       ":root {\n",
       "  --xr-font-color0: var(--jp-content-font-color0, rgba(0, 0, 0, 1));\n",
       "  --xr-font-color2: var(--jp-content-font-color2, rgba(0, 0, 0, 0.54));\n",
       "  --xr-font-color3: var(--jp-content-font-color3, rgba(0, 0, 0, 0.38));\n",
       "  --xr-border-color: var(--jp-border-color2, #e0e0e0);\n",
       "  --xr-disabled-color: var(--jp-layout-color3, #bdbdbd);\n",
       "  --xr-background-color: var(--jp-layout-color0, white);\n",
       "  --xr-background-color-row-even: var(--jp-layout-color1, white);\n",
       "  --xr-background-color-row-odd: var(--jp-layout-color2, #eeeeee);\n",
       "}\n",
       "\n",
       "html[theme=dark],\n",
       "html[data-theme=dark],\n",
       "body[data-theme=dark],\n",
       "body.vscode-dark {\n",
       "  --xr-font-color0: rgba(255, 255, 255, 1);\n",
       "  --xr-font-color2: rgba(255, 255, 255, 0.54);\n",
       "  --xr-font-color3: rgba(255, 255, 255, 0.38);\n",
       "  --xr-border-color: #1F1F1F;\n",
       "  --xr-disabled-color: #515151;\n",
       "  --xr-background-color: #111111;\n",
       "  --xr-background-color-row-even: #111111;\n",
       "  --xr-background-color-row-odd: #313131;\n",
       "}\n",
       "\n",
       ".xr-wrap {\n",
       "  display: block !important;\n",
       "  min-width: 300px;\n",
       "  max-width: 700px;\n",
       "}\n",
       "\n",
       ".xr-text-repr-fallback {\n",
       "  /* fallback to plain text repr when CSS is not injected (untrusted notebook) */\n",
       "  display: none;\n",
       "}\n",
       "\n",
       ".xr-header {\n",
       "  padding-top: 6px;\n",
       "  padding-bottom: 6px;\n",
       "  margin-bottom: 4px;\n",
       "  border-bottom: solid 1px var(--xr-border-color);\n",
       "}\n",
       "\n",
       ".xr-header > div,\n",
       ".xr-header > ul {\n",
       "  display: inline;\n",
       "  margin-top: 0;\n",
       "  margin-bottom: 0;\n",
       "}\n",
       "\n",
       ".xr-obj-type,\n",
       ".xr-array-name {\n",
       "  margin-left: 2px;\n",
       "  margin-right: 10px;\n",
       "}\n",
       "\n",
       ".xr-obj-type {\n",
       "  color: var(--xr-font-color2);\n",
       "}\n",
       "\n",
       ".xr-sections {\n",
       "  padding-left: 0 !important;\n",
       "  display: grid;\n",
       "  grid-template-columns: 150px auto auto 1fr 20px 20px;\n",
       "}\n",
       "\n",
       ".xr-section-item {\n",
       "  display: contents;\n",
       "}\n",
       "\n",
       ".xr-section-item input {\n",
       "  display: none;\n",
       "}\n",
       "\n",
       ".xr-section-item input + label {\n",
       "  color: var(--xr-disabled-color);\n",
       "}\n",
       "\n",
       ".xr-section-item input:enabled + label {\n",
       "  cursor: pointer;\n",
       "  color: var(--xr-font-color2);\n",
       "}\n",
       "\n",
       ".xr-section-item input:enabled + label:hover {\n",
       "  color: var(--xr-font-color0);\n",
       "}\n",
       "\n",
       ".xr-section-summary {\n",
       "  grid-column: 1;\n",
       "  color: var(--xr-font-color2);\n",
       "  font-weight: 500;\n",
       "}\n",
       "\n",
       ".xr-section-summary > span {\n",
       "  display: inline-block;\n",
       "  padding-left: 0.5em;\n",
       "}\n",
       "\n",
       ".xr-section-summary-in:disabled + label {\n",
       "  color: var(--xr-font-color2);\n",
       "}\n",
       "\n",
       ".xr-section-summary-in + label:before {\n",
       "  display: inline-block;\n",
       "  content: '►';\n",
       "  font-size: 11px;\n",
       "  width: 15px;\n",
       "  text-align: center;\n",
       "}\n",
       "\n",
       ".xr-section-summary-in:disabled + label:before {\n",
       "  color: var(--xr-disabled-color);\n",
       "}\n",
       "\n",
       ".xr-section-summary-in:checked + label:before {\n",
       "  content: '▼';\n",
       "}\n",
       "\n",
       ".xr-section-summary-in:checked + label > span {\n",
       "  display: none;\n",
       "}\n",
       "\n",
       ".xr-section-summary,\n",
       ".xr-section-inline-details {\n",
       "  padding-top: 4px;\n",
       "  padding-bottom: 4px;\n",
       "}\n",
       "\n",
       ".xr-section-inline-details {\n",
       "  grid-column: 2 / -1;\n",
       "}\n",
       "\n",
       ".xr-section-details {\n",
       "  display: none;\n",
       "  grid-column: 1 / -1;\n",
       "  margin-bottom: 5px;\n",
       "}\n",
       "\n",
       ".xr-section-summary-in:checked ~ .xr-section-details {\n",
       "  display: contents;\n",
       "}\n",
       "\n",
       ".xr-array-wrap {\n",
       "  grid-column: 1 / -1;\n",
       "  display: grid;\n",
       "  grid-template-columns: 20px auto;\n",
       "}\n",
       "\n",
       ".xr-array-wrap > label {\n",
       "  grid-column: 1;\n",
       "  vertical-align: top;\n",
       "}\n",
       "\n",
       ".xr-preview {\n",
       "  color: var(--xr-font-color3);\n",
       "}\n",
       "\n",
       ".xr-array-preview,\n",
       ".xr-array-data {\n",
       "  padding: 0 5px !important;\n",
       "  grid-column: 2;\n",
       "}\n",
       "\n",
       ".xr-array-data,\n",
       ".xr-array-in:checked ~ .xr-array-preview {\n",
       "  display: none;\n",
       "}\n",
       "\n",
       ".xr-array-in:checked ~ .xr-array-data,\n",
       ".xr-array-preview {\n",
       "  display: inline-block;\n",
       "}\n",
       "\n",
       ".xr-dim-list {\n",
       "  display: inline-block !important;\n",
       "  list-style: none;\n",
       "  padding: 0 !important;\n",
       "  margin: 0;\n",
       "}\n",
       "\n",
       ".xr-dim-list li {\n",
       "  display: inline-block;\n",
       "  padding: 0;\n",
       "  margin: 0;\n",
       "}\n",
       "\n",
       ".xr-dim-list:before {\n",
       "  content: '(';\n",
       "}\n",
       "\n",
       ".xr-dim-list:after {\n",
       "  content: ')';\n",
       "}\n",
       "\n",
       ".xr-dim-list li:not(:last-child):after {\n",
       "  content: ',';\n",
       "  padding-right: 5px;\n",
       "}\n",
       "\n",
       ".xr-has-index {\n",
       "  font-weight: bold;\n",
       "}\n",
       "\n",
       ".xr-var-list,\n",
       ".xr-var-item {\n",
       "  display: contents;\n",
       "}\n",
       "\n",
       ".xr-var-item > div,\n",
       ".xr-var-item label,\n",
       ".xr-var-item > .xr-var-name span {\n",
       "  background-color: var(--xr-background-color-row-even);\n",
       "  margin-bottom: 0;\n",
       "}\n",
       "\n",
       ".xr-var-item > .xr-var-name:hover span {\n",
       "  padding-right: 5px;\n",
       "}\n",
       "\n",
       ".xr-var-list > li:nth-child(odd) > div,\n",
       ".xr-var-list > li:nth-child(odd) > label,\n",
       ".xr-var-list > li:nth-child(odd) > .xr-var-name span {\n",
       "  background-color: var(--xr-background-color-row-odd);\n",
       "}\n",
       "\n",
       ".xr-var-name {\n",
       "  grid-column: 1;\n",
       "}\n",
       "\n",
       ".xr-var-dims {\n",
       "  grid-column: 2;\n",
       "}\n",
       "\n",
       ".xr-var-dtype {\n",
       "  grid-column: 3;\n",
       "  text-align: right;\n",
       "  color: var(--xr-font-color2);\n",
       "}\n",
       "\n",
       ".xr-var-preview {\n",
       "  grid-column: 4;\n",
       "}\n",
       "\n",
       ".xr-index-preview {\n",
       "  grid-column: 2 / 5;\n",
       "  color: var(--xr-font-color2);\n",
       "}\n",
       "\n",
       ".xr-var-name,\n",
       ".xr-var-dims,\n",
       ".xr-var-dtype,\n",
       ".xr-preview,\n",
       ".xr-attrs dt {\n",
       "  white-space: nowrap;\n",
       "  overflow: hidden;\n",
       "  text-overflow: ellipsis;\n",
       "  padding-right: 10px;\n",
       "}\n",
       "\n",
       ".xr-var-name:hover,\n",
       ".xr-var-dims:hover,\n",
       ".xr-var-dtype:hover,\n",
       ".xr-attrs dt:hover {\n",
       "  overflow: visible;\n",
       "  width: auto;\n",
       "  z-index: 1;\n",
       "}\n",
       "\n",
       ".xr-var-attrs,\n",
       ".xr-var-data,\n",
       ".xr-index-data {\n",
       "  display: none;\n",
       "  background-color: var(--xr-background-color) !important;\n",
       "  padding-bottom: 5px !important;\n",
       "}\n",
       "\n",
       ".xr-var-attrs-in:checked ~ .xr-var-attrs,\n",
       ".xr-var-data-in:checked ~ .xr-var-data,\n",
       ".xr-index-data-in:checked ~ .xr-index-data {\n",
       "  display: block;\n",
       "}\n",
       "\n",
       ".xr-var-data > table {\n",
       "  float: right;\n",
       "}\n",
       "\n",
       ".xr-var-name span,\n",
       ".xr-var-data,\n",
       ".xr-index-name div,\n",
       ".xr-index-data,\n",
       ".xr-attrs {\n",
       "  padding-left: 25px !important;\n",
       "}\n",
       "\n",
       ".xr-attrs,\n",
       ".xr-var-attrs,\n",
       ".xr-var-data,\n",
       ".xr-index-data {\n",
       "  grid-column: 1 / -1;\n",
       "}\n",
       "\n",
       "dl.xr-attrs {\n",
       "  padding: 0;\n",
       "  margin: 0;\n",
       "  display: grid;\n",
       "  grid-template-columns: 125px auto;\n",
       "}\n",
       "\n",
       ".xr-attrs dt,\n",
       ".xr-attrs dd {\n",
       "  padding: 0;\n",
       "  margin: 0;\n",
       "  float: left;\n",
       "  padding-right: 10px;\n",
       "  width: auto;\n",
       "}\n",
       "\n",
       ".xr-attrs dt {\n",
       "  font-weight: normal;\n",
       "  grid-column: 1;\n",
       "}\n",
       "\n",
       ".xr-attrs dt:hover span {\n",
       "  display: inline-block;\n",
       "  background: var(--xr-background-color);\n",
       "  padding-right: 10px;\n",
       "}\n",
       "\n",
       ".xr-attrs dd {\n",
       "  grid-column: 2;\n",
       "  white-space: pre-wrap;\n",
       "  word-break: break-all;\n",
       "}\n",
       "\n",
       ".xr-icon-database,\n",
       ".xr-icon-file-text2,\n",
       ".xr-no-icon {\n",
       "  display: inline-block;\n",
       "  vertical-align: middle;\n",
       "  width: 1em;\n",
       "  height: 1.5em !important;\n",
       "  stroke-width: 0;\n",
       "  stroke: currentColor;\n",
       "  fill: currentColor;\n",
       "}\n",
       "</style><pre class='xr-text-repr-fallback'>&lt;xarray.Dataset&gt; Size: 5GB\n",
       "Dimensions:    (time: 1460, longitude: 1280, latitude: 640)\n",
       "Coordinates:\n",
       "  * time       (time) datetime64[ns] 12kB 1979-01-01 ... 1979-12-31T18:00:00\n",
       "  * longitude  (longitude) float64 10kB 0.0 0.2812 0.5625 ... 359.2 359.4 359.7\n",
       "  * latitude   (latitude) float64 5kB 89.78 89.51 89.23 ... -89.23 -89.51 -89.78\n",
       "Data variables:\n",
       "    tsi        (time, latitude, longitude) float32 5GB ...</pre><div class='xr-wrap' style='display:none'><div class='xr-header'><div class='xr-obj-type'>xarray.Dataset</div></div><ul class='xr-sections'><li class='xr-section-item'><input id='section-a4e0ab00-723a-462b-9b34-bf315837e9c2' class='xr-section-summary-in' type='checkbox' disabled ><label for='section-a4e0ab00-723a-462b-9b34-bf315837e9c2' class='xr-section-summary'  title='Expand/collapse section'>Dimensions:</label><div class='xr-section-inline-details'><ul class='xr-dim-list'><li><span class='xr-has-index'>time</span>: 1460</li><li><span class='xr-has-index'>longitude</span>: 1280</li><li><span class='xr-has-index'>latitude</span>: 640</li></ul></div><div class='xr-section-details'></div></li><li class='xr-section-item'><input id='section-12080547-9d87-4c78-a094-17783322973d' class='xr-section-summary-in' type='checkbox'  checked><label for='section-12080547-9d87-4c78-a094-17783322973d' class='xr-section-summary' >Coordinates: <span>(3)</span></label><div class='xr-section-inline-details'></div><div class='xr-section-details'><ul class='xr-var-list'><li class='xr-var-item'><div class='xr-var-name'><span class='xr-has-index'>time</span></div><div class='xr-var-dims'>(time)</div><div class='xr-var-dtype'>datetime64[ns]</div><div class='xr-var-preview xr-preview'>1979-01-01 ... 1979-12-31T18:00:00</div><input id='attrs-2bcab527-e3cb-498e-9ce5-86df11d2d5c3' class='xr-var-attrs-in' type='checkbox' disabled><label for='attrs-2bcab527-e3cb-498e-9ce5-86df11d2d5c3' title='Show/Hide attributes'><svg class='icon xr-icon-file-text2'><use xlink:href='#icon-file-text2'></use></svg></label><input id='data-0d2c74ae-3b02-4711-a067-dcf49b08827c' class='xr-var-data-in' type='checkbox'><label for='data-0d2c74ae-3b02-4711-a067-dcf49b08827c' title='Show/Hide data repr'><svg class='icon xr-icon-database'><use xlink:href='#icon-database'></use></svg></label><div class='xr-var-attrs'><dl class='xr-attrs'></dl></div><div class='xr-var-data'><pre>array([&#x27;1979-01-01T00:00:00.000000000&#x27;, &#x27;1979-01-01T06:00:00.000000000&#x27;,\n",
       "       &#x27;1979-01-01T12:00:00.000000000&#x27;, ..., &#x27;1979-12-31T06:00:00.000000000&#x27;,\n",
       "       &#x27;1979-12-31T12:00:00.000000000&#x27;, &#x27;1979-12-31T18:00:00.000000000&#x27;],\n",
       "      dtype=&#x27;datetime64[ns]&#x27;)</pre></div></li><li class='xr-var-item'><div class='xr-var-name'><span class='xr-has-index'>longitude</span></div><div class='xr-var-dims'>(longitude)</div><div class='xr-var-dtype'>float64</div><div class='xr-var-preview xr-preview'>0.0 0.2812 0.5625 ... 359.4 359.7</div><input id='attrs-041fc3b4-8f77-4417-bddf-0fa15c92a82d' class='xr-var-attrs-in' type='checkbox' disabled><label for='attrs-041fc3b4-8f77-4417-bddf-0fa15c92a82d' title='Show/Hide attributes'><svg class='icon xr-icon-file-text2'><use xlink:href='#icon-file-text2'></use></svg></label><input id='data-a11bff82-02d5-4b8e-aad1-e4d6f9285027' class='xr-var-data-in' type='checkbox'><label for='data-a11bff82-02d5-4b8e-aad1-e4d6f9285027' title='Show/Hide data repr'><svg class='icon xr-icon-database'><use xlink:href='#icon-database'></use></svg></label><div class='xr-var-attrs'><dl class='xr-attrs'></dl></div><div class='xr-var-data'><pre>array([0.000000e+00, 2.812500e-01, 5.625000e-01, ..., 3.591562e+02,\n",
       "       3.594375e+02, 3.597188e+02])</pre></div></li><li class='xr-var-item'><div class='xr-var-name'><span class='xr-has-index'>latitude</span></div><div class='xr-var-dims'>(latitude)</div><div class='xr-var-dtype'>float64</div><div class='xr-var-preview xr-preview'>89.78 89.51 89.23 ... -89.51 -89.78</div><input id='attrs-a3396c54-d1aa-4d40-a0de-d5be05873cfb' class='xr-var-attrs-in' type='checkbox' disabled><label for='attrs-a3396c54-d1aa-4d40-a0de-d5be05873cfb' title='Show/Hide attributes'><svg class='icon xr-icon-file-text2'><use xlink:href='#icon-file-text2'></use></svg></label><input id='data-49afb520-d1cb-45ac-841b-01871e506854' class='xr-var-data-in' type='checkbox'><label for='data-49afb520-d1cb-45ac-841b-01871e506854' title='Show/Hide data repr'><svg class='icon xr-icon-database'><use xlink:href='#icon-database'></use></svg></label><div class='xr-var-attrs'><dl class='xr-attrs'></dl></div><div class='xr-var-data'><pre>array([ 89.784877,  89.506203,  89.225883, ..., -89.225883, -89.506203,\n",
       "       -89.784877])</pre></div></li></ul></div></li><li class='xr-section-item'><input id='section-0ac6620c-0f09-427d-8d36-e0084d3e2f5c' class='xr-section-summary-in' type='checkbox'  checked><label for='section-0ac6620c-0f09-427d-8d36-e0084d3e2f5c' class='xr-section-summary' >Data variables: <span>(1)</span></label><div class='xr-section-inline-details'></div><div class='xr-section-details'><ul class='xr-var-list'><li class='xr-var-item'><div class='xr-var-name'><span>tsi</span></div><div class='xr-var-dims'>(time, latitude, longitude)</div><div class='xr-var-dtype'>float32</div><div class='xr-var-preview xr-preview'>...</div><input id='attrs-fe98979a-21f1-4223-b161-47c2e1908786' class='xr-var-attrs-in' type='checkbox' ><label for='attrs-fe98979a-21f1-4223-b161-47c2e1908786' title='Show/Hide attributes'><svg class='icon xr-icon-file-text2'><use xlink:href='#icon-file-text2'></use></svg></label><input id='data-2963da8f-00f2-4361-a5de-7aac5c3d82d9' class='xr-var-data-in' type='checkbox'><label for='data-2963da8f-00f2-4361-a5de-7aac5c3d82d9' title='Show/Hide data repr'><svg class='icon xr-icon-database'><use xlink:href='#icon-database'></use></svg></label><div class='xr-var-attrs'><dl class='xr-attrs'><dt><span>long_name :</span></dt><dd>total solar irradiance</dd><dt><span>units :</span></dt><dd>J m-2</dd></dl></div><div class='xr-var-data'><pre>[1196032000 values with dtype=float32]</pre></div></li></ul></div></li><li class='xr-section-item'><input id='section-68958ec5-73b0-4b13-9403-fdba73daa3c3' class='xr-section-summary-in' type='checkbox'  ><label for='section-68958ec5-73b0-4b13-9403-fdba73daa3c3' class='xr-section-summary' >Indexes: <span>(3)</span></label><div class='xr-section-inline-details'></div><div class='xr-section-details'><ul class='xr-var-list'><li class='xr-var-item'><div class='xr-index-name'><div>time</div></div><div class='xr-index-preview'>PandasIndex</div><div></div><input id='index-ce674ace-4720-4179-a044-e976f2f07f35' class='xr-index-data-in' type='checkbox'/><label for='index-ce674ace-4720-4179-a044-e976f2f07f35' title='Show/Hide index repr'><svg class='icon xr-icon-database'><use xlink:href='#icon-database'></use></svg></label><div class='xr-index-data'><pre>PandasIndex(DatetimeIndex([&#x27;1979-01-01 00:00:00&#x27;, &#x27;1979-01-01 06:00:00&#x27;,\n",
       "               &#x27;1979-01-01 12:00:00&#x27;, &#x27;1979-01-01 18:00:00&#x27;,\n",
       "               &#x27;1979-01-02 00:00:00&#x27;, &#x27;1979-01-02 06:00:00&#x27;,\n",
       "               &#x27;1979-01-02 12:00:00&#x27;, &#x27;1979-01-02 18:00:00&#x27;,\n",
       "               &#x27;1979-01-03 00:00:00&#x27;, &#x27;1979-01-03 06:00:00&#x27;,\n",
       "               ...\n",
       "               &#x27;1979-12-29 12:00:00&#x27;, &#x27;1979-12-29 18:00:00&#x27;,\n",
       "               &#x27;1979-12-30 00:00:00&#x27;, &#x27;1979-12-30 06:00:00&#x27;,\n",
       "               &#x27;1979-12-30 12:00:00&#x27;, &#x27;1979-12-30 18:00:00&#x27;,\n",
       "               &#x27;1979-12-31 00:00:00&#x27;, &#x27;1979-12-31 06:00:00&#x27;,\n",
       "               &#x27;1979-12-31 12:00:00&#x27;, &#x27;1979-12-31 18:00:00&#x27;],\n",
       "              dtype=&#x27;datetime64[ns]&#x27;, name=&#x27;time&#x27;, length=1460, freq=None))</pre></div></li><li class='xr-var-item'><div class='xr-index-name'><div>longitude</div></div><div class='xr-index-preview'>PandasIndex</div><div></div><input id='index-460e585a-4afb-4cee-a5ac-a08e0e8291b1' class='xr-index-data-in' type='checkbox'/><label for='index-460e585a-4afb-4cee-a5ac-a08e0e8291b1' title='Show/Hide index repr'><svg class='icon xr-icon-database'><use xlink:href='#icon-database'></use></svg></label><div class='xr-index-data'><pre>PandasIndex(Index([      0.0,   0.28125,    0.5625,   0.84375,     1.125,   1.40625,\n",
       "          1.6875,   1.96875,      2.25,   2.53125,\n",
       "       ...\n",
       "        357.1875, 357.46875,    357.75, 358.03125,  358.3125, 358.59375,\n",
       "         358.875, 359.15625,  359.4375, 359.71875],\n",
       "      dtype=&#x27;float64&#x27;, name=&#x27;longitude&#x27;, length=1280))</pre></div></li><li class='xr-var-item'><div class='xr-index-name'><div>latitude</div></div><div class='xr-index-preview'>PandasIndex</div><div></div><input id='index-3b9c0f44-fb3c-4c68-818d-241239492c2b' class='xr-index-data-in' type='checkbox'/><label for='index-3b9c0f44-fb3c-4c68-818d-241239492c2b' title='Show/Hide index repr'><svg class='icon xr-icon-database'><use xlink:href='#icon-database'></use></svg></label><div class='xr-index-data'><pre>PandasIndex(Index([ 89.7848769072,  89.5062027382,  89.2258828476,  88.9451911183,\n",
       "        88.6643583418,  88.3834573122,  88.1025181389,  87.8215555071,\n",
       "        87.5405774264,  87.2595886348,\n",
       "       ...\n",
       "       -87.2595886348, -87.5405774264, -87.8215555071, -88.1025181389,\n",
       "       -88.3834573122, -88.6643583418, -88.9451911183, -89.2258828476,\n",
       "       -89.5062027382, -89.7848769072],\n",
       "      dtype=&#x27;float64&#x27;, name=&#x27;latitude&#x27;, length=640))</pre></div></li></ul></div></li><li class='xr-section-item'><input id='section-d5961b59-be0a-417f-82e9-a51947f42c5a' class='xr-section-summary-in' type='checkbox' disabled ><label for='section-d5961b59-be0a-417f-82e9-a51947f42c5a' class='xr-section-summary'  title='Expand/collapse section'>Attributes: <span>(0)</span></label><div class='xr-section-inline-details'></div><div class='xr-section-details'><dl class='xr-attrs'></dl></div></li></ul></div></div>"
      ],
      "text/plain": [
       "<xarray.Dataset> Size: 5GB\n",
       "Dimensions:    (time: 1460, longitude: 1280, latitude: 640)\n",
       "Coordinates:\n",
       "  * time       (time) datetime64[ns] 12kB 1979-01-01 ... 1979-12-31T18:00:00\n",
       "  * longitude  (longitude) float64 10kB 0.0 0.2812 0.5625 ... 359.2 359.4 359.7\n",
       "  * latitude   (latitude) float64 5kB 89.78 89.51 89.23 ... -89.23 -89.51 -89.78\n",
       "Data variables:\n",
       "    tsi        (time, latitude, longitude) float32 5GB ..."
      ]
     },
     "execution_count": 13,
     "metadata": {},
     "output_type": "execute_result"
    }
   ],
   "source": [
    "ds # < --- tsi is float32"
   ]
  },
  {
   "cell_type": "code",
   "execution_count": 88,
   "id": "6bdd6833-0b8c-4a47-98b9-b97da439b59c",
   "metadata": {},
   "outputs": [],
   "source": [
    "ds_subset = ds_subset.astype('float64') # <--- solution"
   ]
  },
  {
   "cell_type": "markdown",
   "id": "da4de061-3d72-4e6c-b2e3-98518abf9144",
   "metadata": {},
   "source": [
    "`xarray.mean` and `std` with `skipna=False` is correct"
   ]
  },
  {
   "cell_type": "code",
   "execution_count": 89,
   "id": "23818221-afbd-4b1e-8285-ddd7bc775ee9",
   "metadata": {},
   "outputs": [
    {
     "data": {
      "text/plain": [
       "59504949632630.39"
      ]
     },
     "execution_count": 89,
     "metadata": {},
     "output_type": "execute_result"
    }
   ],
   "source": [
    "float(ds_subset.var(skipna=False))"
   ]
  },
  {
   "cell_type": "markdown",
   "id": "5710e95c-ab76-45ce-8984-abb5638a0660",
   "metadata": {},
   "source": [
    "`xarray.mean` and `std` with `skipna=True` has problems if not using `float64`"
   ]
  },
  {
   "cell_type": "code",
   "execution_count": 90,
   "id": "3340a2fc-1945-41b0-8a65-70e0dc9f25db",
   "metadata": {},
   "outputs": [
    {
     "data": {
      "text/plain": [
       "59504949639829.88"
      ]
     },
     "execution_count": 90,
     "metadata": {},
     "output_type": "execute_result"
    }
   ],
   "source": [
    "float(ds_subset.var(skipna=True))"
   ]
  },
  {
   "cell_type": "markdown",
   "id": "1b84c2ca-0468-49b5-9b2a-3838be0d6413",
   "metadata": {},
   "source": [
    "What `numpy` would give"
   ]
  },
  {
   "cell_type": "code",
   "execution_count": 91,
   "id": "ccf0bca5-5945-4ffc-bd09-ba92c42d4746",
   "metadata": {},
   "outputs": [
    {
     "data": {
      "text/plain": [
       "59504949632630.39"
      ]
     },
     "execution_count": 91,
     "metadata": {},
     "output_type": "execute_result"
    }
   ],
   "source": [
    "test_tsi = np.array(ds_subset)\n",
    "np.var(test_tsi)"
   ]
  },
  {
   "cell_type": "code",
   "execution_count": null,
   "id": "b38c6ffb-3104-4683-9ac6-e68197ccd8bc",
   "metadata": {},
   "outputs": [],
   "source": []
  }
 ],
 "metadata": {
  "kernelspec": {
   "display_name": "Python 3 (ipykernel)",
   "language": "python",
   "name": "python3"
  },
  "language_info": {
   "codemirror_mode": {
    "name": "ipython",
    "version": 3
   },
   "file_extension": ".py",
   "mimetype": "text/x-python",
   "name": "python",
   "nbconvert_exporter": "python",
   "pygments_lexer": "ipython3",
   "version": "3.11.9"
  }
 },
 "nbformat": 4,
 "nbformat_minor": 5
}
