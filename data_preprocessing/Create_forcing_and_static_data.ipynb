{
 "cells": [
  {
   "cell_type": "markdown",
   "id": "2dea8ffb-171a-4dce-b70b-7ce6ce9d1ed3",
   "metadata": {},
   "source": [
    "# Create forcing and static data for CREDIT models "
   ]
  },
  {
   "cell_type": "code",
   "execution_count": null,
   "id": "8a961357-9d85-4b5d-a725-315d3001129a",
   "metadata": {},
   "outputs": [],
   "source": [
    "import os\n",
    "import sys\n",
    "import glob\n",
    "import numpy as np\n",
    "from datetime import datetime, timedelta \n",
    "\n",
    "import zarr\n",
    "import xarray as xr\n",
    "import netCDF4 as nc"
   ]
  },
  {
   "cell_type": "markdown",
   "id": "deb5819f-73ad-423d-b041-5a7b3e806344",
   "metadata": {},
   "source": [
    "## Forcing dataset"
   ]
  },
  {
   "cell_type": "markdown",
   "id": "7569ea9d-fc43-47a0-a283-a590ec87d11e",
   "metadata": {},
   "source": [
    "### Import TSI from source"
   ]
  },
  {
   "cell_type": "code",
   "execution_count": null,
   "id": "0364c3af-287d-4067-9e51-ffab8bcaa4b1",
   "metadata": {},
   "outputs": [],
   "source": [
    "TOA_forcing_path = '/glade/derecho/scratch/dgagne/credit_scalers/solar_radiation_2024-03-29_0204.nc' \n",
    "\n",
    "with nc.Dataset(TOA_forcing_path, 'r') as ncio:\n",
    "    TSI = ncio['tsi'][...]\n",
    "    TSI_time = ncio['time'][...]\n",
    "    latitude = ncio['latitude'][...]\n",
    "    longitude = ncio['longitude'][...]\n",
    "\n",
    "TSI = TSI/2540585.74 # normalization"
   ]
  },
  {
   "cell_type": "markdown",
   "id": "c1fb2cd2-8782-4a8d-af61-976c4845960b",
   "metadata": {},
   "source": [
    "### Create datetime reference and xaray.Dataset"
   ]
  },
  {
   "cell_type": "code",
   "execution_count": null,
   "id": "475bd73f-d576-490f-bce5-bc9b3bd8064b",
   "metadata": {},
   "outputs": [],
   "source": [
    "# hourly version\n",
    "base = datetime(2000, 1, 1, 0) # using the year 2000 as base values\n",
    "date_list = [base + timedelta(hours=h) for h in range(len(TSI_time))]\n",
    "time = np.array(date_list, dtype='datetime64').astype(dtype='datetime64[ns]')\n",
    "\n",
    "data_forcing = xr.Dataset(\n",
    "    {\n",
    "    'TSI': xr.DataArray(data=TSI,\n",
    "                        dims=['time', 'latitude', 'longitude'],\n",
    "                        coords = {'time':time, 'latitude': latitude, 'longitude':longitude, },\n",
    "                        attrs  = {'units': 'J m-2'}\n",
    "                       ),\n",
    "    },\n",
    "    attrs = {'variables': 'Total Solar Irradiance (TSI)'}\n",
    "    )"
   ]
  },
  {
   "cell_type": "code",
   "execution_count": null,
   "id": "1ce6724c-16cf-4db2-af1f-9cb4458f0944",
   "metadata": {},
   "outputs": [],
   "source": [
    "# save_name = '/glade/campaign/cisl/aiml/ksha/CREDIT/forcing_norm.nc'\n",
    "# data_forcing.to_netcdf(save_name, engine='netcdf4')"
   ]
  },
  {
   "cell_type": "code",
   "execution_count": null,
   "id": "b410c0be-fa62-425b-a94b-13ea1a19e6fa",
   "metadata": {},
   "outputs": [],
   "source": [
    "# 6 hourly version\n",
    "base = datetime(2000, 1, 1, 0) # using the year 2000 as base values\n",
    "date_list_6h = [base + timedelta(hours=6*h) for h in range(int(len(TSI_time)/6))]\n",
    "time_6h = np.array(date_list_6h, dtype='datetime64').astype(dtype='datetime64[ns]')\n",
    "data_forcing_6h = data_forcing.sel(time=time_6h)"
   ]
  },
  {
   "cell_type": "code",
   "execution_count": null,
   "id": "ee909e43-4c16-4d27-a15a-df88ff6ccb60",
   "metadata": {},
   "outputs": [],
   "source": [
    "save_name = '/glade/campaign/cisl/aiml/ksha/CREDIT/forcing_norm_6h.nc'\n",
    "data_forcing_6h.to_netcdf(save_name, engine='netcdf4')"
   ]
  },
  {
   "cell_type": "markdown",
   "id": "575b2214-5580-40dd-b7a6-949ad6ce2a91",
   "metadata": {},
   "source": [
    "## Static variables"
   ]
  },
  {
   "cell_type": "markdown",
   "id": "c1211a03-cf3c-49fa-8944-4248b22050a3",
   "metadata": {},
   "source": [
    "### Import LSM and Z_GDS4_SFC from source"
   ]
  },
  {
   "cell_type": "code",
   "execution_count": null,
   "id": "5edb0f26-c11b-49aa-810c-3252d62bd9a1",
   "metadata": {},
   "outputs": [],
   "source": [
    "# static from ksha\n",
    "\n",
    "latitude_weights = '/glade/u/home/wchapman/MLWPS/DataLoader/LSM_static_variables_ERA5_zhght.nc'\n",
    "\n",
    "with nc.Dataset(latitude_weights, 'r') as ncio:\n",
    "    LSM = ncio['LSM'][...]\n",
    "    Z_GDS4_SFC = ncio['Z_GDS4_SFC'][...]\n",
    "    latitude = ncio['latitude'][...]\n",
    "    longitude = ncio['longitude'][...]\n",
    "\n",
    "# # Z_GDS4_SFC[Z_GDS4_SFC<0] = 0\n",
    "# # Z_GDS4_SFC[LSM[0, ...]==0] = 0.0\n",
    "\n",
    "Z_GDS4_SFC = 2 * (Z_GDS4_SFC - np.min(Z_GDS4_SFC)) / (np.max(Z_GDS4_SFC) - np.min(Z_GDS4_SFC))\n",
    "\n",
    "# # get from somewhere else\n",
    "# ds_full = xr.open_zarr(\n",
    "#     '/glade/campaign/cisl/aiml/wchapman/MLWPS/STAGING/STD_SixHourly_TOTAL_2020-01-01_2020-12-31_staged.zarr')"
   ]
  },
  {
   "cell_type": "markdown",
   "id": "1be5c585-ad09-482a-8aa2-6b5b5e9999e4",
   "metadata": {},
   "source": [
    "### Create and save the dataset"
   ]
  },
  {
   "cell_type": "code",
   "execution_count": null,
   "id": "1cdfcb8b-cd02-4026-a80f-59852fdd7714",
   "metadata": {},
   "outputs": [],
   "source": [
    "data_static = xr.Dataset(\n",
    "    {\n",
    "    'Z_GDS4_SFC': xr.DataArray(data=Z_GDS4_SFC,\n",
    "                               dims=['latitude', 'longitude'],\n",
    "                               coords = {'latitude': latitude, 'longitude':longitude},\n",
    "                               attrs  = {'units': 'm**2 s**-2'}\n",
    "                              ),\n",
    "    'LSM': xr.DataArray(data=LSM[0, ...],\n",
    "                        dims=['latitude', 'longitude'],\n",
    "                        coords = {'latitude': latitude, 'longitude':longitude},\n",
    "                        attrs  = {'units': 'none'}\n",
    "                       )\n",
    "    },\n",
    "    attrs = {'variables': 'Geopotential relative to the mean sea level (Z_GDS4_SFC); Land-Sea Mask (LSM)'}\n",
    "    )"
   ]
  },
  {
   "cell_type": "code",
   "execution_count": null,
   "id": "57ada0c8-e95a-4147-8f06-7bbc9b5339a1",
   "metadata": {},
   "outputs": [],
   "source": [
    "# save_name = '/glade/campaign/cisl/aiml/ksha/CREDIT/static.nc'\n",
    "# data_static.to_netcdf(save_name, engine='netcdf4')"
   ]
  },
  {
   "cell_type": "code",
   "execution_count": null,
   "id": "f7254c46-d546-48f4-8333-e6c01df0692a",
   "metadata": {},
   "outputs": [],
   "source": [
    "save_name = '/glade/campaign/cisl/aiml/ksha/CREDIT/static_norm_old.nc'\n",
    "data_static.to_netcdf(save_name, engine='netcdf4')"
   ]
  },
  {
   "cell_type": "code",
   "execution_count": null,
   "id": "06080df7-1106-4b16-8899-00216cdd2b5b",
   "metadata": {},
   "outputs": [],
   "source": []
  }
 ],
 "metadata": {
  "kernelspec": {
   "display_name": "Python 3 (ipykernel)",
   "language": "python",
   "name": "python3"
  },
  "language_info": {
   "codemirror_mode": {
    "name": "ipython",
    "version": 3
   },
   "file_extension": ".py",
   "mimetype": "text/x-python",
   "name": "python",
   "nbconvert_exporter": "python",
   "pygments_lexer": "ipython3",
   "version": "3.10.13"
  }
 },
 "nbformat": 4,
 "nbformat_minor": 5
}
