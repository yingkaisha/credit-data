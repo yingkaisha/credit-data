{
 "cells": [
  {
   "cell_type": "markdown",
   "id": "0aeec804-225e-4be1-8153-e8abf2f144af",
   "metadata": {},
   "source": [
    "# CREDIT catched dataset"
   ]
  },
  {
   "cell_type": "code",
   "execution_count": 1,
   "id": "6f5efb83-3c91-4684-9ba3-fce0c1060fdb",
   "metadata": {},
   "outputs": [],
   "source": [
    "import os\n",
    "import sys\n",
    "import zarr\n",
    "import yaml\n",
    "import time\n",
    "import numpy as np\n",
    "import xarray as xr\n",
    "from glob import glob"
   ]
  },
  {
   "cell_type": "code",
   "execution_count": 2,
   "id": "435f6c55-31d0-42a6-9a12-33fda80872cb",
   "metadata": {},
   "outputs": [],
   "source": [
    "sys.path.insert(0, os.path.realpath('../libs/'))\n",
    "import preprocess_utils as pu"
   ]
  },
  {
   "cell_type": "markdown",
   "id": "889d3a8a-af00-49dd-932e-7f113ba532f2",
   "metadata": {},
   "source": [
    "## compression and chunking settings"
   ]
  },
  {
   "cell_type": "code",
   "execution_count": 6,
   "id": "38cdca41-16c5-4c8c-bd43-6012a0bfb23b",
   "metadata": {},
   "outputs": [],
   "source": [
    "config_name = os.path.realpath('data_config_6h.yml')\n",
    "\n",
    "with open(config_name, 'r') as stream:\n",
    "    conf = yaml.safe_load(stream)\n",
    "\n",
    "# Get zscore values\n",
    "zscore_mean = xr.open_dataset(conf['cache']['mean_loc'])\n",
    "zscore_std = xr.open_dataset(conf['cache']['std_loc'])\n",
    "\n",
    "# Get variable names\n",
    "varnames = list(conf['cache'].keys())\n",
    "varnames = varnames[:-5] # remove save_loc and others\n",
    "varname_surf = list(set(varnames) - set(['U', 'V', 'T', 'Q']))\n",
    "\n",
    "years_range = conf['cache']['years_range']\n",
    "years = np.arange(years_range[0], years_range[1])\n",
    "year = years[0]"
   ]
  },
  {
   "cell_type": "code",
   "execution_count": 13,
   "id": "bd963236-ffdc-40f9-9afc-b2290e973d80",
   "metadata": {},
   "outputs": [],
   "source": [
    "compress = zarr.Blosc(cname='zstd', clevel=1, shuffle=zarr.Blosc.SHUFFLE, blocksize=0)\n",
    "\n",
    "chunk_size_3d = dict(chunks=(conf['zarr_opt']['chunk_size_3d']['time'],\n",
    "                                 conf['zarr_opt']['chunk_size_3d']['latitude'],\n",
    "                                 conf['zarr_opt']['chunk_size_3d']['longitude']))\n",
    "\n",
    "chunk_size_4d = dict(chunks=(conf['zarr_opt']['chunk_size_4d']['time'],\n",
    "                                 conf['zarr_opt']['chunk_size_4d']['level'],\n",
    "                                 conf['zarr_opt']['chunk_size_4d']['latitude'],\n",
    "                                 conf['zarr_opt']['chunk_size_4d']['longitude']))\n",
    "\n",
    "dict_encoding = {}\n",
    "\n",
    "for i_var, var in enumerate(varnames):\n",
    "    if var in varname_surf:\n",
    "        dict_encoding[var] = {'compressor': compress, **chunk_size_3d}\n",
    "    else:\n",
    "        dict_encoding[var] = {'compressor': compress, **chunk_size_4d}"
   ]
  },
  {
   "cell_type": "code",
   "execution_count": 14,
   "id": "0f8afe20-716c-4d04-8bf7-c50ea22c4a56",
   "metadata": {},
   "outputs": [
    {
     "data": {
      "text/plain": [
       "{'U': {'compressor': Blosc(cname='zstd', clevel=1, shuffle=SHUFFLE, blocksize=0),\n",
       "  'chunks': (10, 2, 640, 1280)},\n",
       " 'V': {'compressor': Blosc(cname='zstd', clevel=1, shuffle=SHUFFLE, blocksize=0),\n",
       "  'chunks': (10, 2, 640, 1280)},\n",
       " 'T': {'compressor': Blosc(cname='zstd', clevel=1, shuffle=SHUFFLE, blocksize=0),\n",
       "  'chunks': (10, 2, 640, 1280)},\n",
       " 'Q': {'compressor': Blosc(cname='zstd', clevel=1, shuffle=SHUFFLE, blocksize=0),\n",
       "  'chunks': (10, 2, 640, 1280)},\n",
       " 'SP': {'compressor': Blosc(cname='zstd', clevel=1, shuffle=SHUFFLE, blocksize=0),\n",
       "  'chunks': (10, 640, 1280)},\n",
       " 't2m': {'compressor': Blosc(cname='zstd', clevel=1, shuffle=SHUFFLE, blocksize=0),\n",
       "  'chunks': (10, 640, 1280)},\n",
       " 'V500': {'compressor': Blosc(cname='zstd', clevel=1, shuffle=SHUFFLE, blocksize=0),\n",
       "  'chunks': (10, 640, 1280)},\n",
       " 'U500': {'compressor': Blosc(cname='zstd', clevel=1, shuffle=SHUFFLE, blocksize=0),\n",
       "  'chunks': (10, 640, 1280)},\n",
       " 'T500': {'compressor': Blosc(cname='zstd', clevel=1, shuffle=SHUFFLE, blocksize=0),\n",
       "  'chunks': (10, 640, 1280)},\n",
       " 'Z500': {'compressor': Blosc(cname='zstd', clevel=1, shuffle=SHUFFLE, blocksize=0),\n",
       "  'chunks': (10, 640, 1280)},\n",
       " 'Q500': {'compressor': Blosc(cname='zstd', clevel=1, shuffle=SHUFFLE, blocksize=0),\n",
       "  'chunks': (10, 640, 1280)},\n",
       " 'tsi': {'compressor': Blosc(cname='zstd', clevel=1, shuffle=SHUFFLE, blocksize=0),\n",
       "  'chunks': (10, 640, 1280)}}"
      ]
     },
     "execution_count": 14,
     "metadata": {},
     "output_type": "execute_result"
    }
   ],
   "source": [
    "dict_encoding"
   ]
  },
  {
   "cell_type": "markdown",
   "id": "19c4eef4-f503-420e-992a-0b3c76c1ba3d",
   "metadata": {},
   "source": [
    "## Cached files in zarr format"
   ]
  },
  {
   "cell_type": "code",
   "execution_count": 8,
   "id": "e9c3989d-abde-4301-92a8-31b19e2900f2",
   "metadata": {},
   "outputs": [],
   "source": [
    "for i_var, var in enumerate(varnames):\n",
    "    \n",
    "    filenames = glob(conf['cache'][var])\n",
    "    fn = [fn for fn in filenames if str(year) in fn][0]\n",
    "\n",
    "    ds_original = pu.get_forward_data(fn)\n",
    "    ds_var = ds_original[var]\n",
    "\n",
    "    ds_zscore_var = (ds_var - zscore_mean[var])/zscore_std[var]\n",
    "    ds_zscore_var = ds_zscore_var.to_dataset()\n",
    "    \n",
    "    if i_var == 0:\n",
    "        ds_base = ds_zscore_var\n",
    "    else:\n",
    "        ds_base = ds_base.merge(ds_zscore_var)\n",
    "\n",
    "    # chunk data\n",
    "    if var in varname_surf:\n",
    "        ds_base[var] = ds_base[var].chunk(conf['zarr_opt']['chunk_size_3d'])\n",
    "    else:\n",
    "        ds_base[var] = ds_base[var].chunk(conf['zarr_opt']['chunk_size_4d'])\n",
    "\n",
    "# save_name = xxxx\n",
    "# ds_base.to_zarr(save_name, mode=\"w\", consolidated=True, compute=True, encoding=dict_encoding)"
   ]
  },
  {
   "cell_type": "markdown",
   "id": "a258e985-562d-4201-809d-7028939eeb44",
   "metadata": {},
   "source": [
    "## Cached files in netCDF4 format"
   ]
  },
  {
   "cell_type": "code",
   "execution_count": 11,
   "id": "0ad21482-95ee-40f3-a5fa-42bcc30f46e2",
   "metadata": {},
   "outputs": [],
   "source": [
    "compress = dict(zlib=True, complevel=1) # shuffle=True \n",
    "\n",
    "chunk_size_3d = dict(chunksizes=(conf['zarr_opt']['chunk_size_3d']['time'],\n",
    "                                 conf['zarr_opt']['chunk_size_3d']['latitude'],\n",
    "                                 conf['zarr_opt']['chunk_size_3d']['longitude']))\n",
    "\n",
    "chunk_size_4d = dict(chunksizes=(conf['zarr_opt']['chunk_size_4d']['time'],\n",
    "                                 conf['zarr_opt']['chunk_size_4d']['level'],\n",
    "                                 conf['zarr_opt']['chunk_size_4d']['latitude'],\n",
    "                                 conf['zarr_opt']['chunk_size_4d']['longitude']))\n",
    "\n",
    "dict_encoding = {}\n",
    "\n",
    "for i_var, var in enumerate(varnames):\n",
    "    if var in varname_surf:\n",
    "        dict_encoding[var] = {**compress, **chunk_size_3d}\n",
    "    else:\n",
    "        dict_encoding[var] = {**compress, **chunk_size_4d}"
   ]
  },
  {
   "cell_type": "code",
   "execution_count": 12,
   "id": "5eaac6be-c628-4ec4-8f89-9641ebd0b7b0",
   "metadata": {},
   "outputs": [
    {
     "data": {
      "text/plain": [
       "{'U': {'zlib': True, 'complevel': 1, 'chunksizes': (10, 2, 640, 1280)},\n",
       " 'V': {'zlib': True, 'complevel': 1, 'chunksizes': (10, 2, 640, 1280)},\n",
       " 'T': {'zlib': True, 'complevel': 1, 'chunksizes': (10, 2, 640, 1280)},\n",
       " 'Q': {'zlib': True, 'complevel': 1, 'chunksizes': (10, 2, 640, 1280)},\n",
       " 'SP': {'zlib': True, 'complevel': 1, 'chunksizes': (10, 640, 1280)},\n",
       " 't2m': {'zlib': True, 'complevel': 1, 'chunksizes': (10, 640, 1280)},\n",
       " 'V500': {'zlib': True, 'complevel': 1, 'chunksizes': (10, 640, 1280)},\n",
       " 'U500': {'zlib': True, 'complevel': 1, 'chunksizes': (10, 640, 1280)},\n",
       " 'T500': {'zlib': True, 'complevel': 1, 'chunksizes': (10, 640, 1280)},\n",
       " 'Z500': {'zlib': True, 'complevel': 1, 'chunksizes': (10, 640, 1280)},\n",
       " 'Q500': {'zlib': True, 'complevel': 1, 'chunksizes': (10, 640, 1280)},\n",
       " 'tsi': {'zlib': True, 'complevel': 1, 'chunksizes': (10, 640, 1280)}}"
      ]
     },
     "execution_count": 12,
     "metadata": {},
     "output_type": "execute_result"
    }
   ],
   "source": [
    "dict_encoding"
   ]
  },
  {
   "cell_type": "code",
   "execution_count": null,
   "id": "499a61f7-3ccd-406f-b6eb-5283c65bad2a",
   "metadata": {},
   "outputs": [],
   "source": [
    "# Get zscore values\n",
    "zscore_mean = xr.open_dataset(conf['cache']['mean_loc'])\n",
    "zscore_std = xr.open_dataset(conf['cache']['std_loc'])\n",
    "\n",
    "# Get variable names\n",
    "varnames = list(conf['cache'].keys())\n",
    "varnames = varnames[:-5] # remove save_loc and others\n",
    "varname_surf = list(set(varnames) - set(['U', 'V', 'T', 'Q']))\n",
    "\n",
    "years_range = conf['cache']['years_range']\n",
    "years = np.arange(years_range[0], years_range[1])\n",
    "year = years[0]\n",
    "\n",
    "for i_var, var in enumerate(varnames):\n",
    "    \n",
    "    filenames = glob(conf['cache'][var])\n",
    "    fn = [fn for fn in filenames if str(year) in fn][0]\n",
    "\n",
    "    ds_original = pu.get_forward_data(fn)\n",
    "    ds_var = ds_original[var]\n",
    "\n",
    "    ds_zscore_var = (ds_var - zscore_mean[var])/zscore_std[var]\n",
    "    ds_zscore_var = ds_zscore_var.to_dataset()\n",
    "    \n",
    "    if i_var == 0:\n",
    "        ds_base = ds_zscore_var\n",
    "    else:\n",
    "        ds_base = ds_base.merge(ds_zscore_var)\n",
    "\n",
    "# save_name = xxxx\n",
    "# ds_base.to_netcdf(save_name, format='NETCDF4', encoding=dict_encoding)"
   ]
  },
  {
   "cell_type": "markdown",
   "id": "9d04551a-1c6f-4d55-9771-26a26c3d0f1d",
   "metadata": {},
   "source": [
    "## check file I/O correctness"
   ]
  },
  {
   "cell_type": "code",
   "execution_count": 14,
   "id": "e63c2676-63de-4935-8f8d-5dcac15027c8",
   "metadata": {},
   "outputs": [
    {
     "data": {
      "text/plain": [
       "0.0"
      ]
     },
     "execution_count": 14,
     "metadata": {},
     "output_type": "execute_result"
    }
   ],
   "source": [
    "test = xr.open_zarr('/glade/derecho/scratch/ksha/CREDIT_data/arXiv_cached/cache_arXiv_6h_1979.zarr')\n",
    "test_tsi = test['tsi'].isel(time=888)\n",
    "real_tsi = ds_base['tsi'].isel(time=888)\n",
    "np.sum(np.abs(np.array(test_tsi) - np.array(real_tsi)))"
   ]
  },
  {
   "cell_type": "markdown",
   "id": "36e0de27-be12-4e9b-ae3a-7bf4aa614c95",
   "metadata": {},
   "source": [
    "## Save using Dask workers "
   ]
  },
  {
   "cell_type": "code",
   "execution_count": null,
   "id": "380da988-3cf1-4ffa-87e7-e81514d76b61",
   "metadata": {},
   "outputs": [],
   "source": [
    "# from dask.distributed import Client"
   ]
  },
  {
   "cell_type": "code",
   "execution_count": null,
   "id": "9e8af7f5-98fb-46d1-b591-318b31af3102",
   "metadata": {},
   "outputs": [],
   "source": [
    "save_name = conf['cache']['save_loc'] + conf['cache']['prefix'] + '_{}.zarr'.format(year)\n",
    "\n",
    "print('Save to {}'.format(save_name))\n",
    "\n",
    "# save to zarr using dask client\n",
    "with Client(n_workers=100, threads_per_worker=2) as client:\n",
    "    ds_base.to_zarr(save_name,\n",
    "                    mode=\"w\",\n",
    "                    consolidated=True,\n",
    "                    compute=True)"
   ]
  },
  {
   "cell_type": "code",
   "execution_count": null,
   "id": "bda24b19-6de7-4047-856e-3c66116ebcc6",
   "metadata": {},
   "outputs": [],
   "source": []
  }
 ],
 "metadata": {
  "kernelspec": {
   "display_name": "Python 3 (ipykernel)",
   "language": "python",
   "name": "python3"
  },
  "language_info": {
   "codemirror_mode": {
    "name": "ipython",
    "version": 3
   },
   "file_extension": ".py",
   "mimetype": "text/x-python",
   "name": "python",
   "nbconvert_exporter": "python",
   "pygments_lexer": "ipython3",
   "version": "3.11.9"
  }
 },
 "nbformat": 4,
 "nbformat_minor": 5
}
