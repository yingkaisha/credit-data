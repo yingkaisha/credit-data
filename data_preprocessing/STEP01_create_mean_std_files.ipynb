{
 "cells": [
  {
   "cell_type": "markdown",
   "id": "d779c3f3-dd5e-4194-8925-95e37d9660ec",
   "metadata": {},
   "source": [
    "# Create z-score files for CREDIT"
   ]
  },
  {
   "cell_type": "code",
   "execution_count": null,
   "id": "3e399085-3c08-46c9-8e07-fa7e3e0b63c7",
   "metadata": {},
   "outputs": [],
   "source": [
    "import os\n",
    "import yaml\n",
    "import numpy as np\n",
    "import xarray as xr"
   ]
  },
  {
   "cell_type": "markdown",
   "id": "2018bd3e-64bd-4953-a58a-06a0cb311c34",
   "metadata": {},
   "source": [
    "## File creation"
   ]
  },
  {
   "cell_type": "markdown",
   "id": "e21cdcff-6ae7-4a36-a68e-9b304dea5a52",
   "metadata": {},
   "source": [
    "### 6 hourly mean std files"
   ]
  },
  {
   "cell_type": "code",
   "execution_count": null,
   "id": "94584383-7a21-4e92-95c4-bfa075634cb4",
   "metadata": {},
   "outputs": [],
   "source": [
    "# get variable information from data_preprocessing/config\n",
    "config_name = os.path.realpath('data_config_6h.yml')\n",
    "\n",
    "with open(config_name, 'r') as stream:\n",
    "    conf = yaml.safe_load(stream)"
   ]
  },
  {
   "cell_type": "code",
   "execution_count": null,
   "id": "4dafceb5-1621-4622-a78d-078dfdd94cef",
   "metadata": {},
   "outputs": [],
   "source": [
    "# get variable names\n",
    "varnames = list(conf['zscore'].keys())\n",
    "varnames = varnames[:-3] # remove save_loc and others\n",
    "\n",
    "# collect computed mean and variance values\n",
    "# See \"qsub_STEP01_compute_mean_std.ipynb\"\n",
    "MEAN_values = {}\n",
    "STD_values = {}\n",
    "for varname in varnames:\n",
    "    save_name = conf['zscore']['save_loc'] + '{}_mean_std_{}.npy'.format(conf['zscore']['prefix'], varname)\n",
    "    mean_std = np.load(save_name)\n",
    "    if len(mean_std.shape) == 2:\n",
    "        MEAN_values[varname] = mean_std[0, :]\n",
    "        STD_values[varname] = mean_std[1, :]\n",
    "    elif len(mean_std.shape) == 1:\n",
    "        MEAN_values[varname] = mean_std[0]\n",
    "        STD_values[varname] = mean_std[1]\n",
    "    else:\n",
    "        raise"
   ]
  },
  {
   "cell_type": "code",
   "execution_count": null,
   "id": "19f419a8-e0b2-4a49-99cb-49cf2fdf8208",
   "metadata": {},
   "outputs": [],
   "source": [
    "# ------------------------------------------------------- #\n",
    "# create xr.DataArray for mean\n",
    "\n",
    "# Initialize level coord\n",
    "level = np.array([ 10,  30,  40,  50,  60,  70,  80,  90,  95, 100, 105, 110, 120, 130, 136])\n",
    "\n",
    "# Initialize dataset\n",
    "ds_mean_6h = xr.Dataset(coords={\"level\": level})\n",
    "\n",
    "for varname, data in MEAN_values.items():\n",
    "    if len(data.shape) == 1:\n",
    "        data_array = xr.DataArray(\n",
    "            data,\n",
    "            dims=[\"level\",],\n",
    "            coords={\"level\": level},\n",
    "            name=varname,\n",
    "        )\n",
    "        ds_mean_6h[varname] = data_array\n",
    "    else:\n",
    "        data_array = xr.DataArray(\n",
    "            data,\n",
    "            name=varname,\n",
    "        )\n",
    "        ds_mean_6h[varname] = data_array"
   ]
  },
  {
   "cell_type": "code",
   "execution_count": null,
   "id": "5bbd9102-6d14-4a4d-a44a-eb5a4e2b9e9c",
   "metadata": {},
   "outputs": [],
   "source": [
    "# ------------------------------------------------------- #\n",
    "# create xr.DataArray for std\n",
    "\n",
    "# use the same level coord as mean\n",
    "ds_std_6h = xr.Dataset(coords={\"level\": level})\n",
    "\n",
    "for varname, data in STD_values.items():\n",
    "    data = np.sqrt(data)\n",
    "    if len(data.shape) == 1:\n",
    "        data_array = xr.DataArray(\n",
    "            data,\n",
    "            dims=[\"level\",],\n",
    "            coords={\"level\": level},\n",
    "            name=varname,\n",
    "        )\n",
    "        ds_std_6h[varname] = data_array\n",
    "    else:\n",
    "        data_array = xr.DataArray(\n",
    "            data,\n",
    "            name=varname,\n",
    "        )\n",
    "        ds_std_6h[varname] = data_array"
   ]
  },
  {
   "cell_type": "code",
   "execution_count": null,
   "id": "1a36a9ce-b476-4b78-a912-b154c8825f50",
   "metadata": {},
   "outputs": [],
   "source": [
    "# ------------------------------------------------------- #\n",
    "# Same to netCDF\n",
    "# ds_mean_6h.to_netcdf('/glade/campaign/cisl/aiml/ksha/CREDIT/mean_6h_0.25deg.nc')\n",
    "# ds_std_6h.to_netcdf('/glade/campaign/cisl/aiml/ksha/CREDIT/std_6h_0.25deg.nc')"
   ]
  },
  {
   "cell_type": "code",
   "execution_count": null,
   "id": "319706f6-067a-43aa-8a70-8ca73182b430",
   "metadata": {},
   "outputs": [],
   "source": [
    "# ------------------------------------------------------- #\n",
    "# Compare with my old ones\n",
    "# TEST_std = xr.open_dataset('/glade/campaign/cisl/aiml/ksha/CREDIT/ERA5_std_6h.nc')\n",
    "# NEW_std = xr.open_dataset('/glade/campaign/cisl/aiml/ksha/CREDIT/std_6h_0.25deg.nc')\n",
    "\n",
    "# for varname in varnames:\n",
    "#     print('=============== {} ================='.format(varname))\n",
    "#     print(np.array(TEST_std[varname]))\n",
    "#     print(np.array(NEW_std[varname]))"
   ]
  },
  {
   "cell_type": "markdown",
   "id": "3862f8bf-3ea7-4042-afbb-74c4210a1ed3",
   "metadata": {},
   "source": [
    "## Add new variables to existing files "
   ]
  },
  {
   "cell_type": "code",
   "execution_count": null,
   "id": "42d27107-c7bd-491a-800c-7f3dbd2ffe9e",
   "metadata": {},
   "outputs": [],
   "source": [
    "# load old files\n",
    "old_mean = '/glade/derecho/scratch/dgagne/credit_scalers/All_1979-2014_staged.mean.Lev.SLO.nc'\n",
    "old_std = '/glade/derecho/scratch/dgagne/credit_scalers/All_1979-2014_staged.std.Lev.SLO.nc'\n",
    "\n",
    "# open old files\n",
    "xr_old_mean = xr.open_dataset(old_mean)\n",
    "xr_old_std = xr.open_dataset(old_std)\n",
    "\n",
    "# create new files from old + assign varialbe\n",
    "xr_new_mean = xr_old_mean.assign(tsi=6430203.22586827)\n",
    "xr_new_std = xr_old_std.assign(tsi=3972698.08699589)\n",
    "\n",
    "try:\n",
    "    xr_new_mean = xr_new_mean.rename({'levels': 'level'})\n",
    "    xr_new_std = xr_new_std.rename({'levels': 'level'})\n",
    "except:\n",
    "    print('Coordinate name good')\n",
    "\n",
    "# save\n",
    "# xr_new_mean.to_netcdf('/glade/campaign/cisl/aiml/ksha/CREDIT/mean_6h_0.25deg.nc')\n",
    "# xr_new_std.to_netcdf('/glade/campaign/cisl/aiml/ksha/CREDIT/std_6h_0.25deg.nc')"
   ]
  },
  {
   "cell_type": "markdown",
   "id": "8851b990-9fcc-4d82-9f82-693b0811d2ee",
   "metadata": {},
   "source": [
    "## Change values for existing variables"
   ]
  },
  {
   "cell_type": "code",
   "execution_count": null,
   "id": "788ead35-960d-4c97-bf40-8228dde36c81",
   "metadata": {},
   "outputs": [],
   "source": [
    "old_mean = '/glade/campaign/cisl/aiml/ksha/CREDIT/EXTEND/All_2010_staged.mean.Lev.SLO.nc'\n",
    "old_std = '/glade/campaign/cisl/aiml/ksha/CREDIT/EXTEND/All_2010_staged.std.Lev.SLO.nc'\n",
    "\n",
    "xr_old_mean = xr.open_dataset(old_mean)\n",
    "xr_old_std = xr.open_dataset(old_std)"
   ]
  },
  {
   "cell_type": "code",
   "execution_count": null,
   "id": "b41e1d37-04fd-41b0-9a90-8d01d78d0347",
   "metadata": {},
   "outputs": [],
   "source": [
    "# copy old to new\n",
    "xr_new_mean = xr_old_mean.copy()\n",
    "xr_new_std = xr_old_std.copy()"
   ]
  },
  {
   "cell_type": "code",
   "execution_count": null,
   "id": "62894fed-a1c2-42c6-b7fe-1a4e45717def",
   "metadata": {},
   "outputs": [],
   "source": [
    "varnames = list(xr_old_mean.keys())\n",
    "\n",
    "for var in varnames:\n",
    "    xr_new_mean[var] = xr_old_mean[var] - xr_old_mean[var]\n",
    "    xr_new_std[var] = xr_old_std[var] / xr_old_std[var]"
   ]
  },
  {
   "cell_type": "code",
   "execution_count": null,
   "id": "6c85f2ad-8ab5-4d96-b2b9-ee84c3369b16",
   "metadata": {},
   "outputs": [],
   "source": [
    "xr_new_mean.to_netcdf('/glade/campaign/cisl/aiml/ksha/CREDIT/mean_zero.nc')\n",
    "xr_new_std.to_netcdf('/glade/campaign/cisl/aiml/ksha/CREDIT/std_one.nc')"
   ]
  },
  {
   "cell_type": "code",
   "execution_count": null,
   "id": "772652bc-f21c-453f-adcf-996305856ba6",
   "metadata": {},
   "outputs": [],
   "source": []
  }
 ],
 "metadata": {
  "kernelspec": {
   "display_name": "Python 3 (ipykernel)",
   "language": "python",
   "name": "python3"
  },
  "language_info": {
   "codemirror_mode": {
    "name": "ipython",
    "version": 3
   },
   "file_extension": ".py",
   "mimetype": "text/x-python",
   "name": "python",
   "nbconvert_exporter": "python",
   "pygments_lexer": "ipython3",
   "version": "3.11.9"
  }
 },
 "nbformat": 4,
 "nbformat_minor": 5
}
