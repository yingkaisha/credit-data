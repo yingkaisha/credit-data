{
 "cells": [
  {
   "cell_type": "markdown",
   "id": "efa08066-4289-4781-902c-7e83e244857d",
   "metadata": {},
   "source": [
    "# Pre-process ERA5 pressure level data for CREDIT"
   ]
  },
  {
   "cell_type": "code",
   "execution_count": 1,
   "id": "70332162-6c47-4172-a003-326059f10045",
   "metadata": {},
   "outputs": [],
   "source": [
    "import os\n",
    "import sys\n",
    "import numpy as np\n",
    "import xarray as xr"
   ]
  },
  {
   "cell_type": "code",
   "execution_count": 2,
   "id": "aa740e32-0024-4dec-b2c9-ce7c7f92f925",
   "metadata": {},
   "outputs": [],
   "source": [
    "import matplotlib.pyplot as plt\n",
    "%matplotlib inline"
   ]
  },
  {
   "cell_type": "code",
   "execution_count": 3,
   "id": "c060b962-c05f-42ea-b988-c0fca623f7b5",
   "metadata": {},
   "outputs": [],
   "source": [
    "sys.path.insert(0, os.path.realpath('../libs/'))\n",
    "import verif_utils as vu"
   ]
  },
  {
   "cell_type": "markdown",
   "id": "0068fbd7-18c4-496a-a1f7-c63f26c59544",
   "metadata": {},
   "source": [
    "## Get data from Google Cloud ARCO-ERA5"
   ]
  },
  {
   "cell_type": "markdown",
   "id": "9b81af18-faac-450b-9979-683e4ffb1dec",
   "metadata": {},
   "source": [
    "* Source: https://console.cloud.google.com/storage/browser/gcp-public-data-arco-era5\n",
    "* GitHub: https://github.com/google-research/arco-era5\n",
    "* Latest hourly: gs://gcp-public-data-arco-era5/ar/full_37-1h-0p25deg-chunk-1.zarr-v3"
   ]
  },
  {
   "cell_type": "code",
   "execution_count": 4,
   "id": "afe36c4d-711a-4fe3-bbf6-02bee5f64ae8",
   "metadata": {},
   "outputs": [],
   "source": [
    "# Data begins at 1900 will NaNs\n",
    "# subset to 1940-01-01 or later to get actual values\n",
    "ERA5_1h = xr.open_zarr(\n",
    "    \"gs://gcp-public-data-arco-era5/ar/full_37-1h-0p25deg-chunk-1.zarr-v3\",\n",
    "    chunks=None,\n",
    "    storage_options=dict(token='anon'),)"
   ]
  },
  {
   "cell_type": "code",
   "execution_count": 5,
   "id": "5bc929e6-4709-4d69-832f-a32d3926c4b5",
   "metadata": {},
   "outputs": [],
   "source": [
    "time_start = '1979-01-01T00'\n",
    "time_end = '1979-01-01T12'\n",
    "\n",
    "ERA5_1h_yearly = ERA5_1h.sel(time=slice(time_start, time_end))"
   ]
  },
  {
   "cell_type": "code",
   "execution_count": 6,
   "id": "afcaad22-196e-4a0c-ac7f-fd43519e290b",
   "metadata": {},
   "outputs": [],
   "source": [
    "variables_levels = {}\n",
    "variables_levels['geopotential'] = None\n",
    "variables_levels['u_component_of_wind'] = None\n",
    "variables_levels['v_component_of_wind'] = None\n",
    "variables_levels['temperature'] = None\n",
    "variables_levels['specific_humidity'] = None\n",
    "variables_levels['specific_cloud_ice_water_content'] = None\n",
    "variables_levels['specific_cloud_liquid_water_content'] = None"
   ]
  },
  {
   "cell_type": "code",
   "execution_count": 7,
   "id": "d5db3d91-4095-4439-b3f0-1cc5773c94d6",
   "metadata": {},
   "outputs": [],
   "source": [
    "ERA5_1h_var = vu.ds_subset_everything(ERA5_1h_yearly, variables_levels)"
   ]
  },
  {
   "cell_type": "code",
   "execution_count": 10,
   "id": "3d3c3243-c4d1-4eb4-9780-e6789feb1f52",
   "metadata": {},
   "outputs": [
    {
     "data": {
      "text/plain": [
       "<xarray.backends.zarr.ZarrStore at 0x14fd185a3cc0>"
      ]
     },
     "execution_count": 10,
     "metadata": {},
     "output_type": "execute_result"
    }
   ],
   "source": [
    "ERA5_1h_var.to_zarr('/glade/derecho/scratch/ksha/CREDIT_data/ERA5_pressure_lev/upper_air_test.zarr')"
   ]
  },
  {
   "cell_type": "code",
   "execution_count": 10,
   "id": "5418966b-0026-48d5-8826-14a31d747238",
   "metadata": {
    "scrolled": true
   },
   "outputs": [
    {
     "data": {
      "text/plain": [
       "['100m_u_component_of_wind',\n",
       " '100m_v_component_of_wind',\n",
       " '10m_u_component_of_neutral_wind',\n",
       " '10m_u_component_of_wind',\n",
       " '10m_v_component_of_neutral_wind',\n",
       " '10m_v_component_of_wind',\n",
       " '10m_wind_gust_since_previous_post_processing',\n",
       " '2m_dewpoint_temperature',\n",
       " '2m_temperature',\n",
       " 'air_density_over_the_oceans',\n",
       " 'angle_of_sub_gridscale_orography',\n",
       " 'anisotropy_of_sub_gridscale_orography',\n",
       " 'benjamin_feir_index',\n",
       " 'boundary_layer_dissipation',\n",
       " 'boundary_layer_height',\n",
       " 'charnock',\n",
       " 'clear_sky_direct_solar_radiation_at_surface',\n",
       " 'cloud_base_height',\n",
       " 'coefficient_of_drag_with_waves',\n",
       " 'convective_available_potential_energy',\n",
       " 'convective_inhibition',\n",
       " 'convective_precipitation',\n",
       " 'convective_rain_rate',\n",
       " 'convective_snowfall',\n",
       " 'convective_snowfall_rate_water_equivalent',\n",
       " 'downward_uv_radiation_at_the_surface',\n",
       " 'duct_base_height',\n",
       " 'eastward_gravity_wave_surface_stress',\n",
       " 'eastward_turbulent_surface_stress',\n",
       " 'evaporation',\n",
       " 'forecast_albedo',\n",
       " 'forecast_logarithm_of_surface_roughness_for_heat',\n",
       " 'forecast_surface_roughness',\n",
       " 'fraction_of_cloud_cover',\n",
       " 'free_convective_velocity_over_the_oceans',\n",
       " 'friction_velocity',\n",
       " 'geopotential',\n",
       " 'geopotential_at_surface',\n",
       " 'gravity_wave_dissipation',\n",
       " 'high_cloud_cover',\n",
       " 'high_vegetation_cover',\n",
       " 'ice_temperature_layer_1',\n",
       " 'ice_temperature_layer_2',\n",
       " 'ice_temperature_layer_3',\n",
       " 'ice_temperature_layer_4',\n",
       " 'instantaneous_10m_wind_gust',\n",
       " 'instantaneous_eastward_turbulent_surface_stress',\n",
       " 'instantaneous_large_scale_surface_precipitation_fraction',\n",
       " 'instantaneous_moisture_flux',\n",
       " 'instantaneous_northward_turbulent_surface_stress',\n",
       " 'instantaneous_surface_sensible_heat_flux',\n",
       " 'k_index',\n",
       " 'lake_bottom_temperature',\n",
       " 'lake_cover',\n",
       " 'lake_depth',\n",
       " 'lake_ice_depth',\n",
       " 'lake_ice_temperature',\n",
       " 'lake_mix_layer_depth',\n",
       " 'lake_mix_layer_temperature',\n",
       " 'lake_shape_factor',\n",
       " 'lake_total_layer_temperature',\n",
       " 'land_sea_mask',\n",
       " 'large_scale_precipitation',\n",
       " 'large_scale_precipitation_fraction',\n",
       " 'large_scale_rain_rate',\n",
       " 'large_scale_snowfall',\n",
       " 'large_scale_snowfall_rate_water_equivalent',\n",
       " 'leaf_area_index_high_vegetation',\n",
       " 'leaf_area_index_low_vegetation',\n",
       " 'low_cloud_cover',\n",
       " 'low_vegetation_cover',\n",
       " 'maximum_2m_temperature_since_previous_post_processing',\n",
       " 'maximum_individual_wave_height',\n",
       " 'maximum_total_precipitation_rate_since_previous_post_processing',\n",
       " 'mean_boundary_layer_dissipation',\n",
       " 'mean_convective_precipitation_rate',\n",
       " 'mean_convective_snowfall_rate',\n",
       " 'mean_direction_of_total_swell',\n",
       " 'mean_direction_of_wind_waves',\n",
       " 'mean_eastward_gravity_wave_surface_stress',\n",
       " 'mean_eastward_turbulent_surface_stress',\n",
       " 'mean_evaporation_rate',\n",
       " 'mean_gravity_wave_dissipation',\n",
       " 'mean_large_scale_precipitation_fraction',\n",
       " 'mean_large_scale_precipitation_rate',\n",
       " 'mean_large_scale_snowfall_rate',\n",
       " 'mean_northward_gravity_wave_surface_stress',\n",
       " 'mean_northward_turbulent_surface_stress',\n",
       " 'mean_period_of_total_swell',\n",
       " 'mean_period_of_wind_waves',\n",
       " 'mean_potential_evaporation_rate',\n",
       " 'mean_runoff_rate',\n",
       " 'mean_sea_level_pressure',\n",
       " 'mean_snow_evaporation_rate',\n",
       " 'mean_snowfall_rate',\n",
       " 'mean_snowmelt_rate',\n",
       " 'mean_square_slope_of_waves',\n",
       " 'mean_sub_surface_runoff_rate',\n",
       " 'mean_surface_direct_short_wave_radiation_flux',\n",
       " 'mean_surface_direct_short_wave_radiation_flux_clear_sky',\n",
       " 'mean_surface_downward_long_wave_radiation_flux',\n",
       " 'mean_surface_downward_long_wave_radiation_flux_clear_sky',\n",
       " 'mean_surface_downward_short_wave_radiation_flux',\n",
       " 'mean_surface_downward_short_wave_radiation_flux_clear_sky',\n",
       " 'mean_surface_downward_uv_radiation_flux',\n",
       " 'mean_surface_latent_heat_flux',\n",
       " 'mean_surface_net_long_wave_radiation_flux',\n",
       " 'mean_surface_net_long_wave_radiation_flux_clear_sky',\n",
       " 'mean_surface_net_short_wave_radiation_flux',\n",
       " 'mean_surface_net_short_wave_radiation_flux_clear_sky',\n",
       " 'mean_surface_runoff_rate',\n",
       " 'mean_surface_sensible_heat_flux',\n",
       " 'mean_top_downward_short_wave_radiation_flux',\n",
       " 'mean_top_net_long_wave_radiation_flux',\n",
       " 'mean_top_net_long_wave_radiation_flux_clear_sky',\n",
       " 'mean_top_net_short_wave_radiation_flux',\n",
       " 'mean_top_net_short_wave_radiation_flux_clear_sky',\n",
       " 'mean_total_precipitation_rate',\n",
       " 'mean_vertical_gradient_of_refractivity_inside_trapping_layer',\n",
       " 'mean_vertically_integrated_moisture_divergence',\n",
       " 'mean_wave_direction',\n",
       " 'mean_wave_direction_of_first_swell_partition',\n",
       " 'mean_wave_direction_of_second_swell_partition',\n",
       " 'mean_wave_direction_of_third_swell_partition',\n",
       " 'mean_wave_period',\n",
       " 'mean_wave_period_based_on_first_moment',\n",
       " 'mean_wave_period_based_on_first_moment_for_swell',\n",
       " 'mean_wave_period_based_on_first_moment_for_wind_waves',\n",
       " 'mean_wave_period_based_on_second_moment_for_swell',\n",
       " 'mean_wave_period_based_on_second_moment_for_wind_waves',\n",
       " 'mean_wave_period_of_first_swell_partition',\n",
       " 'mean_wave_period_of_second_swell_partition',\n",
       " 'mean_wave_period_of_third_swell_partition',\n",
       " 'mean_zero_crossing_wave_period',\n",
       " 'medium_cloud_cover',\n",
       " 'minimum_2m_temperature_since_previous_post_processing',\n",
       " 'minimum_total_precipitation_rate_since_previous_post_processing',\n",
       " 'minimum_vertical_gradient_of_refractivity_inside_trapping_layer',\n",
       " 'model_bathymetry',\n",
       " 'near_ir_albedo_for_diffuse_radiation',\n",
       " 'near_ir_albedo_for_direct_radiation',\n",
       " 'normalized_energy_flux_into_ocean',\n",
       " 'normalized_energy_flux_into_waves',\n",
       " 'normalized_stress_into_ocean',\n",
       " 'northward_gravity_wave_surface_stress',\n",
       " 'northward_turbulent_surface_stress',\n",
       " 'ocean_surface_stress_equivalent_10m_neutral_wind_direction',\n",
       " 'ocean_surface_stress_equivalent_10m_neutral_wind_speed',\n",
       " 'ozone_mass_mixing_ratio',\n",
       " 'peak_wave_period',\n",
       " 'period_corresponding_to_maximum_individual_wave_height',\n",
       " 'potential_evaporation',\n",
       " 'potential_vorticity',\n",
       " 'precipitation_type',\n",
       " 'runoff',\n",
       " 'sea_ice_cover',\n",
       " 'sea_surface_temperature',\n",
       " 'significant_height_of_combined_wind_waves_and_swell',\n",
       " 'significant_height_of_total_swell',\n",
       " 'significant_height_of_wind_waves',\n",
       " 'significant_wave_height_of_first_swell_partition',\n",
       " 'significant_wave_height_of_second_swell_partition',\n",
       " 'significant_wave_height_of_third_swell_partition',\n",
       " 'skin_reservoir_content',\n",
       " 'skin_temperature',\n",
       " 'slope_of_sub_gridscale_orography',\n",
       " 'snow_albedo',\n",
       " 'snow_density',\n",
       " 'snow_depth',\n",
       " 'snow_evaporation',\n",
       " 'snowfall',\n",
       " 'snowmelt',\n",
       " 'soil_temperature_level_1',\n",
       " 'soil_temperature_level_2',\n",
       " 'soil_temperature_level_3',\n",
       " 'soil_temperature_level_4',\n",
       " 'soil_type',\n",
       " 'specific_cloud_ice_water_content',\n",
       " 'specific_cloud_liquid_water_content',\n",
       " 'specific_humidity',\n",
       " 'standard_deviation_of_filtered_subgrid_orography',\n",
       " 'standard_deviation_of_orography',\n",
       " 'sub_surface_runoff',\n",
       " 'surface_latent_heat_flux',\n",
       " 'surface_net_solar_radiation',\n",
       " 'surface_net_solar_radiation_clear_sky',\n",
       " 'surface_net_thermal_radiation',\n",
       " 'surface_net_thermal_radiation_clear_sky',\n",
       " 'surface_pressure',\n",
       " 'surface_runoff',\n",
       " 'surface_sensible_heat_flux',\n",
       " 'surface_solar_radiation_downward_clear_sky',\n",
       " 'surface_solar_radiation_downwards',\n",
       " 'surface_thermal_radiation_downward_clear_sky',\n",
       " 'surface_thermal_radiation_downwards',\n",
       " 'temperature',\n",
       " 'temperature_of_snow_layer',\n",
       " 'toa_incident_solar_radiation',\n",
       " 'top_net_solar_radiation',\n",
       " 'top_net_solar_radiation_clear_sky',\n",
       " 'top_net_thermal_radiation',\n",
       " 'top_net_thermal_radiation_clear_sky',\n",
       " 'total_cloud_cover',\n",
       " 'total_column_cloud_ice_water',\n",
       " 'total_column_cloud_liquid_water',\n",
       " 'total_column_ozone',\n",
       " 'total_column_rain_water',\n",
       " 'total_column_snow_water',\n",
       " 'total_column_supercooled_liquid_water',\n",
       " 'total_column_water',\n",
       " 'total_column_water_vapour',\n",
       " 'total_precipitation',\n",
       " 'total_sky_direct_solar_radiation_at_surface',\n",
       " 'total_totals_index',\n",
       " 'trapping_layer_base_height',\n",
       " 'trapping_layer_top_height',\n",
       " 'type_of_high_vegetation',\n",
       " 'type_of_low_vegetation',\n",
       " 'u_component_of_wind',\n",
       " 'u_component_stokes_drift',\n",
       " 'uv_visible_albedo_for_diffuse_radiation',\n",
       " 'uv_visible_albedo_for_direct_radiation',\n",
       " 'v_component_of_wind',\n",
       " 'v_component_stokes_drift',\n",
       " 'vertical_integral_of_divergence_of_cloud_frozen_water_flux',\n",
       " 'vertical_integral_of_divergence_of_cloud_liquid_water_flux',\n",
       " 'vertical_integral_of_divergence_of_geopotential_flux',\n",
       " 'vertical_integral_of_divergence_of_kinetic_energy_flux',\n",
       " 'vertical_integral_of_divergence_of_mass_flux',\n",
       " 'vertical_integral_of_divergence_of_moisture_flux',\n",
       " 'vertical_integral_of_divergence_of_ozone_flux',\n",
       " 'vertical_integral_of_divergence_of_thermal_energy_flux',\n",
       " 'vertical_integral_of_divergence_of_total_energy_flux',\n",
       " 'vertical_integral_of_eastward_cloud_frozen_water_flux',\n",
       " 'vertical_integral_of_eastward_cloud_liquid_water_flux',\n",
       " 'vertical_integral_of_eastward_geopotential_flux',\n",
       " 'vertical_integral_of_eastward_heat_flux',\n",
       " 'vertical_integral_of_eastward_kinetic_energy_flux',\n",
       " 'vertical_integral_of_eastward_mass_flux',\n",
       " 'vertical_integral_of_eastward_ozone_flux',\n",
       " 'vertical_integral_of_eastward_total_energy_flux',\n",
       " 'vertical_integral_of_eastward_water_vapour_flux',\n",
       " 'vertical_integral_of_energy_conversion',\n",
       " 'vertical_integral_of_kinetic_energy',\n",
       " 'vertical_integral_of_mass_of_atmosphere',\n",
       " 'vertical_integral_of_mass_tendency',\n",
       " 'vertical_integral_of_northward_cloud_frozen_water_flux',\n",
       " 'vertical_integral_of_northward_cloud_liquid_water_flux',\n",
       " 'vertical_integral_of_northward_geopotential_flux',\n",
       " 'vertical_integral_of_northward_heat_flux',\n",
       " 'vertical_integral_of_northward_kinetic_energy_flux',\n",
       " 'vertical_integral_of_northward_mass_flux',\n",
       " 'vertical_integral_of_northward_ozone_flux',\n",
       " 'vertical_integral_of_northward_total_energy_flux',\n",
       " 'vertical_integral_of_northward_water_vapour_flux',\n",
       " 'vertical_integral_of_potential_and_internal_energy',\n",
       " 'vertical_integral_of_potential_internal_and_latent_energy',\n",
       " 'vertical_integral_of_temperature',\n",
       " 'vertical_integral_of_thermal_energy',\n",
       " 'vertical_integral_of_total_energy',\n",
       " 'vertical_velocity',\n",
       " 'vertically_integrated_moisture_divergence',\n",
       " 'volumetric_soil_water_layer_1',\n",
       " 'volumetric_soil_water_layer_2',\n",
       " 'volumetric_soil_water_layer_3',\n",
       " 'volumetric_soil_water_layer_4',\n",
       " 'wave_spectral_directional_width',\n",
       " 'wave_spectral_directional_width_for_swell',\n",
       " 'wave_spectral_directional_width_for_wind_waves',\n",
       " 'wave_spectral_kurtosis',\n",
       " 'wave_spectral_peakedness',\n",
       " 'wave_spectral_skewness',\n",
       " 'zero_degree_level']"
      ]
     },
     "execution_count": 10,
     "metadata": {},
     "output_type": "execute_result"
    }
   ],
   "source": [
    "list(ERA5_1h_yearly.keys())"
   ]
  },
  {
   "cell_type": "code",
   "execution_count": 14,
   "id": "a5844b68-4a61-4b22-a6c5-46a5b7473ecd",
   "metadata": {},
   "outputs": [],
   "source": [
    "variables_levels = {}\n",
    "variables_levels['total_precipitation'] = None\n",
    "variables_levels['total_column_water'] = None\n",
    "variables_levels['total_column_water_vapour'] = None\n",
    "variables_levels['mean_surface_latent_heat_flux'] = None\n",
    "variables_levels['evaporation'] = None\n",
    "variables_levels['surface_pressure'] = None"
   ]
  },
  {
   "cell_type": "code",
   "execution_count": 15,
   "id": "b2f1219b-5e19-4374-908b-7c6294ca8b09",
   "metadata": {},
   "outputs": [],
   "source": [
    "ERA5_1h_var_surf = vu.ds_subset_everything(ERA5_1h_yearly, variables_levels)"
   ]
  },
  {
   "cell_type": "code",
   "execution_count": 17,
   "id": "12a06185-1bb9-4b67-a024-4b041bf5e4fd",
   "metadata": {},
   "outputs": [
    {
     "data": {
      "text/plain": [
       "<xarray.backends.zarr.ZarrStore at 0x14b8d8729140>"
      ]
     },
     "execution_count": 17,
     "metadata": {},
     "output_type": "execute_result"
    }
   ],
   "source": [
    "ERA5_1h_var_surf.to_zarr('/glade/derecho/scratch/ksha/CREDIT_data/ERA5_pressure_lev/surf_test.zarr')"
   ]
  },
  {
   "cell_type": "code",
   "execution_count": null,
   "id": "76e23f47-f2d6-4fa9-92de-7f08cdcdb93e",
   "metadata": {},
   "outputs": [],
   "source": []
  },
  {
   "cell_type": "code",
   "execution_count": null,
   "id": "495eaa39-c79a-4218-ad15-1d3809adcab6",
   "metadata": {},
   "outputs": [],
   "source": [
    "level_p = np.array(ERA5_1h['level'])\n",
    "ind_select = [0, 8, 10, 12, 14, 16, 17, 19, 21, 23, 25, 26, 28, 30, 32, 33, 34, 35, 36]"
   ]
  },
  {
   "cell_type": "code",
   "execution_count": 42,
   "id": "193c327e-d4a7-41d1-86ba-3027b061ae34",
   "metadata": {},
   "outputs": [],
   "source": [
    "# original version\n",
    "def integral_conserved_subset_1d(x_column, level_p, ind_select):\n",
    "    '''\n",
    "    Given selected indices, subset a single-column of pressure level data.\n",
    "    The subsetted version has conserved vertical integral\n",
    "    \n",
    "    Args:\n",
    "        x_column: a single-column of data\n",
    "        level_p: pressure (low to high) as vertical coordiantes\n",
    "        ind_select: np.array int values that subsets x_column\n",
    "    Returns:\n",
    "        out_column_a: subsetted copy of x_column\n",
    "    \n",
    "    '''\n",
    "    # allocate the output array\n",
    "    out_column_a = np.empty(len(ind_select)-1); out_column_a.fill(np.nan)\n",
    "\n",
    "    # compute the level difference\n",
    "    diff_level_p = np.diff(level_p)\n",
    "    \n",
    "    # compute the area of each level using trapz rule\n",
    "    x_column_midpoint = 0.5 * (x_column[1:] + x_column[:-1])\n",
    "    x_column_area = x_column_midpoint * diff_level_p\n",
    "\n",
    "    # subsetting levels through a way that conserves the total integral\n",
    "    for i_ind, ind in enumerate(ind_select[:-1]):\n",
    "        ind_start = ind\n",
    "        ind_end = ind_select[i_ind+1]\n",
    "        out_column_a[i_ind] = np.sum(x_column_area[ind_start:ind_end]) / (level_p[ind_end] - level_p[ind_start])\n",
    "\n",
    "    return out_column_a\n",
    "\n",
    "def wrapper_function(x_column):\n",
    "    level_p = level_p\n",
    "    ind_select = [0, 8, 10, 12, 14, 16, 17, 19, 21, 23, 25, 26, 28, 30, 32, 33, 34, 35, 36]\n",
    "    return integral_conserved_subset_1d(x_column, level_p, ind_select)"
   ]
  },
  {
   "cell_type": "code",
   "execution_count": null,
   "id": "b38735e1-cb31-44d4-8797-c01aecac389c",
   "metadata": {},
   "outputs": [],
   "source": [
    "result = xr.apply_ufunc(\n",
    "    wrapper_function,\n",
    "    ERA5_1h_var,\n",
    "    input_core_dims=[['level']],\n",
    "    vectorize=True,\n",
    "    dask='parallelized',\n",
    "    output_dtypes=[float]\n",
    ")"
   ]
  },
  {
   "cell_type": "code",
   "execution_count": null,
   "id": "6be25aca-309f-40e5-af85-e38c8ae2db05",
   "metadata": {},
   "outputs": [],
   "source": [
    "result"
   ]
  },
  {
   "cell_type": "code",
   "execution_count": null,
   "id": "1a400807-88c6-4a39-92e9-2a31306c1b32",
   "metadata": {},
   "outputs": [],
   "source": []
  },
  {
   "cell_type": "code",
   "execution_count": null,
   "id": "c0a6bc52-3eb5-468a-9148-c6c995d940a9",
   "metadata": {},
   "outputs": [],
   "source": [
    "# Load the dataset\n",
    "ERA5_1h = xr.open_zarr(\n",
    "    \"gs://gcp-public-data-arco-era5/ar/full_37-1h-0p25deg-chunk-1.zarr-v3\",\n",
    "    chunks=None,\n",
    "    storage_options=dict(token='anon'),\n",
    ")\n",
    "\n",
    "# Time slicing to get the relevant data\n",
    "time_start = '1979-01-01T00'\n",
    "time_end = '1979-12-31T23'\n",
    "ERA5_1h_var = ERA5_1h.sel(time=slice(time_start, time_end))\n",
    "\n",
    "# Extract the level dimension as a numpy array\n",
    "level_p = ERA5_1h['level'].values\n",
    "ind_select = np.array([0, 8, 10, 12, 14, 16, 17, 19, 21, 23, 25, 26, 28, 30, 32, 33, 34, 35, 36])\n",
    "\n",
    "# Original function for subsetting and conserving the vertical integral\n",
    "def integral_conserved_subset_1d(x_column, level_p, ind_select):\n",
    "    '''\n",
    "    Given selected indices, subset a single-column of pressure level data.\n",
    "    The subsetted version has conserved vertical integral\n",
    "    \n",
    "    Args:\n",
    "        x_column: a single-column of data\n",
    "        level_p: pressure (low to high) as vertical coordinates\n",
    "        ind_select: np.array int values that subset x_column\n",
    "    Returns:\n",
    "        out_column_a: subsetted copy of x_column\n",
    "    '''\n",
    "    # Allocate the output array\n",
    "    out_column_a = np.empty(len(ind_select) - 1)\n",
    "    out_column_a.fill(np.nan)\n",
    "\n",
    "    # Compute the level difference\n",
    "    diff_level_p = np.diff(level_p)\n",
    "    \n",
    "    # Compute the area of each level using the trapezoidal rule\n",
    "    x_column_midpoint = 0.5 * (x_column[1:] + x_column[:-1])\n",
    "    x_column_area = x_column_midpoint * diff_level_p\n",
    "\n",
    "    # Subset levels while conserving the total integral\n",
    "    for i_ind, ind in enumerate(ind_select[:-1]):\n",
    "        ind_start = ind\n",
    "        ind_end = ind_select[i_ind + 1]\n",
    "        out_column_a[i_ind] = np.sum(x_column_area[ind_start:ind_end]) / (level_p[ind_end] - level_p[ind_start])\n",
    "\n",
    "    return out_column_a\n",
    "\n",
    "# Wrapper function to apply to each grid point\n",
    "def wrapper_function(x_column):\n",
    "    return integral_conserved_subset_1d(x_column, level_p, ind_select)\n",
    "\n",
    "# Apply the function using xarray's apply_ufunc\n",
    "result = xr.apply_ufunc(\n",
    "    wrapper_function,\n",
    "    ERA5_1h_var,\n",
    "    input_core_dims=[['level']],\n",
    "    vectorize=True,\n",
    "    dask='parallelized',\n",
    "    output_dtypes=[float]\n",
    ")"
   ]
  },
  {
   "cell_type": "code",
   "execution_count": null,
   "id": "cbebe24b-7528-49d6-9e57-d99461e5c906",
   "metadata": {},
   "outputs": [],
   "source": []
  },
  {
   "cell_type": "code",
   "execution_count": null,
   "id": "50aceee6-f41b-4f2d-a813-06c4c1bf83e1",
   "metadata": {},
   "outputs": [],
   "source": []
  },
  {
   "cell_type": "code",
   "execution_count": null,
   "id": "ee27c4c4-2c64-4a31-9cb3-5256b23e4fb6",
   "metadata": {},
   "outputs": [],
   "source": []
  },
  {
   "cell_type": "code",
   "execution_count": null,
   "id": "cfe0fb01-0c35-4c48-9062-22ce26fb389f",
   "metadata": {},
   "outputs": [],
   "source": []
  },
  {
   "cell_type": "code",
   "execution_count": null,
   "id": "7ce96c9d-bc71-4a4a-9538-e10b8e0dcc9b",
   "metadata": {},
   "outputs": [],
   "source": []
  },
  {
   "cell_type": "code",
   "execution_count": null,
   "id": "7ff78961-3172-4828-aab3-7a329d956c8a",
   "metadata": {},
   "outputs": [],
   "source": []
  },
  {
   "cell_type": "code",
   "execution_count": 4,
   "id": "efef4b80-5f74-4d67-81be-01120ed05527",
   "metadata": {},
   "outputs": [],
   "source": [
    "# np.array(ERA5_1h['temperature'].isel(time=slice(800000, 800001)))"
   ]
  },
  {
   "cell_type": "code",
   "execution_count": 5,
   "id": "73e7309e-6845-4ebf-b2c5-a9e220b8be26",
   "metadata": {},
   "outputs": [],
   "source": [
    "# variables to save for all years\n",
    "## 'total_column_water' is used to check the effectiveness of (1/g)*\\int(Q) = TWC, so not all years are needed\n",
    "varname_save = ['geopotential', 'u_component_of_wind', 'v_component_of_wind', 'temperature', 'specific_humidity', \n",
    "                'surface_pressure', 'skin_temperature', '2m_temperature', '10m_u_component_of_wind', '10m_v_component_of_wind']\n",
    "\n",
    "varname_water = ['total_precipitation', 'total_column_water', 'mean_surface_latent_heat_flux', 'evaporation']\n",
    "\n",
    "varname_static = ['land_sea_mask', 'geopotential_at_surface']"
   ]
  },
  {
   "cell_type": "code",
   "execution_count": 15,
   "id": "b91aa604-039e-4c37-8921-228c8cb6ea5c",
   "metadata": {},
   "outputs": [],
   "source": [
    "# all variables\n",
    "# list(ERA5_1h.keys())"
   ]
  },
  {
   "cell_type": "markdown",
   "id": "c820b20a-bba9-43a6-8329-51b3f5ebae12",
   "metadata": {},
   "source": [
    "## How to pre-process"
   ]
  },
  {
   "cell_type": "markdown",
   "id": "889988be-5eb8-4224-b98a-2c4222f9091e",
   "metadata": {},
   "source": [
    "### Vertical coordinate subsetting with conserved total column properties"
   ]
  },
  {
   "cell_type": "code",
   "execution_count": 4,
   "id": "fb88f6ba-d01e-4af6-935b-676bd8a56a84",
   "metadata": {},
   "outputs": [],
   "source": [
    "# use a smaller dataset as example\n",
    "ERA5_1h = xr.open_zarr(\n",
    "    \"gs://gcp-public-data-arco-era5/ar/1959-2022-full_37-1h-0p25deg-chunk-1.zarr-v2/\",\n",
    "    chunks=None,\n",
    "    storage_options=dict(token='anon'),)"
   ]
  },
  {
   "cell_type": "code",
   "execution_count": 16,
   "id": "ef950ad1-e81e-4e4d-9db7-7861fc778f7f",
   "metadata": {},
   "outputs": [],
   "source": [
    "# get the full pressure level coordinates\n",
    "level_p = np.array(ERA5_1h['level'])"
   ]
  },
  {
   "cell_type": "code",
   "execution_count": 41,
   "id": "5d0c96e2-f6f9-4666-b338-53bc0b965841",
   "metadata": {},
   "outputs": [
    {
     "data": {
      "text/plain": [
       "array([   1,    2,    3,    5,    7,   10,   20,   30,   50,   70,  100,\n",
       "        125,  150,  175,  200,  225,  250,  300,  350,  400,  450,  500,\n",
       "        550,  600,  650,  700,  750,  775,  800,  825,  850,  875,  900,\n",
       "        925,  950,  975, 1000])"
      ]
     },
     "execution_count": 41,
     "metadata": {},
     "output_type": "execute_result"
    }
   ],
   "source": [
    "level_p"
   ]
  },
  {
   "cell_type": "code",
   "execution_count": 32,
   "id": "1480b029-2e16-4595-b518-414d5e238c65",
   "metadata": {},
   "outputs": [
    {
     "data": {
      "text/plain": [
       "array([   1,    2,    3,    5,    7,   10,   20,   30,   50,   70,  100,\n",
       "        125,  150,  175,  200,  225,  250,  300,  350,  400,  450,  500,\n",
       "        550,  600,  650,  700,  750,  775,  800,  825,  850,  875,  900,\n",
       "        925,  950,  975, 1000])"
      ]
     },
     "execution_count": 32,
     "metadata": {},
     "output_type": "execute_result"
    }
   ],
   "source": [
    "level_p"
   ]
  },
  {
   "cell_type": "code",
   "execution_count": 33,
   "id": "7ad7d9ca-7789-47c3-8e8b-8bb7fe343e33",
   "metadata": {},
   "outputs": [
    {
     "data": {
      "text/plain": [
       "array([   1,   50,  100,  150,  200,  250,  300,  400,  500,  600,  700,\n",
       "        750,  800,  850,  900,  925,  950,  975, 1000])"
      ]
     },
     "execution_count": 33,
     "metadata": {},
     "output_type": "execute_result"
    }
   ],
   "source": [
    "level_p[ind_select]"
   ]
  },
  {
   "cell_type": "code",
   "execution_count": null,
   "id": "24e4b184-428d-4bdb-ba40-26f9e601efbc",
   "metadata": {},
   "outputs": [],
   "source": [
    "1, 50, 100, 150, 200, 250, 300, 400, 500, 600, 700, 750, 800, 850, 900, 925, 950, 975, 1000"
   ]
  },
  {
   "cell_type": "code",
   "execution_count": null,
   "id": "f1575aad-a591-4c59-b9ba-11945338d9f4",
   "metadata": {},
   "outputs": [],
   "source": [
    "ind_select = [0, 8, 10, 12, 14, 16]"
   ]
  },
  {
   "cell_type": "code",
   "execution_count": 7,
   "id": "3d2b03fe-50c4-47a5-8fa6-ec6d5187bba9",
   "metadata": {},
   "outputs": [],
   "source": [
    "# a piece of example data\n",
    "ds_full_level = ERA5_1h['temperature'].isel(time=slice(0, 2))\n",
    "test_data = np.array(ds_full_level)\n",
    "x_column = test_data[1, :, 100, 200]"
   ]
  },
  {
   "cell_type": "code",
   "execution_count": 8,
   "id": "ef12732c-c4ee-422b-87f6-c8a7c49abbc4",
   "metadata": {},
   "outputs": [
    {
     "data": {
      "text/plain": [
       "array([255.67235, 242.60074, 238.53818, 221.50595, 206.83128, 197.17053,\n",
       "       196.06165, 196.99301, 200.18994, 203.85724, 206.67328, 209.04404,\n",
       "       210.58057, 210.52606, 210.01845, 210.13292, 209.95409, 213.27097,\n",
       "       218.48499, 224.57101, 231.41153, 237.77028, 242.69957, 246.7081 ,\n",
       "       250.43092, 253.82133, 257.235  , 258.3148 , 259.16742, 259.84662,\n",
       "       259.82944, 258.4964 , 256.75854, 255.96848, 255.05963, 255.07288,\n",
       "       256.65472], dtype=float32)"
      ]
     },
     "execution_count": 8,
     "metadata": {},
     "output_type": "execute_result"
    }
   ],
   "source": [
    "x_column"
   ]
  },
  {
   "cell_type": "code",
   "execution_count": 9,
   "id": "34e085d6-39b6-4d6b-9640-14b53ed6d8ef",
   "metadata": {},
   "outputs": [
    {
     "name": "stdout",
     "output_type": "stream",
     "text": [
      "vertical integral of the original data: 233575.8140258789\n"
     ]
    }
   ],
   "source": [
    "# compute the vertical intergral that we need to conserve\n",
    "int_original = np.trapz(x_column, level_p)\n",
    "print('vertical integral of the original data: {}'.format(int_original))"
   ]
  },
  {
   "cell_type": "code",
   "execution_count": 10,
   "id": "d524b911-9622-4c1e-81f4-bf5dbf8c7ac9",
   "metadata": {},
   "outputs": [],
   "source": [
    "# select levels\n",
    "# !! the FIRST and the LAST index must be selected\n",
    "ind_select = np.array([0, 1, 2, 3, 5, 17, 25, 32, 36])"
   ]
  },
  {
   "cell_type": "code",
   "execution_count": 37,
   "id": "d3698145-233f-459d-8be2-c61730728c45",
   "metadata": {},
   "outputs": [],
   "source": [
    "\n",
    "\n",
    "# # # oringal version optimized by ChatGPT\n",
    "# def integral_conserved_subset_ChatGPT(x_column, level_p, ind_select):\n",
    "#     # Compute the level difference and the midpoints\n",
    "#     diff_level_p = np.diff(level_p)\n",
    "#     x_column_midpoint = 0.5 * (x_column[1:] + x_column[:-1])\n",
    "    \n",
    "#     # Compute the area of each level using the trapezoidal rule\n",
    "#     x_column_area = x_column_midpoint * diff_level_p\n",
    "    \n",
    "#     # Compute the cumulative sum of the areas and levels\n",
    "#     cumulative_area = np.zeros_like(x_column)\n",
    "#     cumulative_area[1:] = np.cumsum(x_column_area)\n",
    "    \n",
    "#     cumulative_level_p = np.zeros_like(level_p)\n",
    "#     cumulative_level_p[1:] = np.cumsum(diff_level_p)\n",
    "\n",
    "#     # Use advanced indexing to vectorize the selection and summation\n",
    "#     selected_areas = cumulative_area[ind_select[1:]] - cumulative_area[ind_select[:-1]]\n",
    "#     selected_levels = cumulative_level_p[ind_select[1:]] - cumulative_level_p[ind_select[:-1]]\n",
    "    \n",
    "#     # Compute the output array\n",
    "#     out_column_a = selected_areas / selected_levels\n",
    "    \n",
    "#     return out_column_a"
   ]
  },
  {
   "cell_type": "code",
   "execution_count": 12,
   "id": "0b64fdb4-a7bb-4b6d-988e-ec5933c35d07",
   "metadata": {},
   "outputs": [],
   "source": [
    "out_column_a = integral_conserved_subset_1d(x_column, level_p, ind_select)"
   ]
  },
  {
   "cell_type": "code",
   "execution_count": 21,
   "id": "a578560a-f640-4837-ab04-51642979d891",
   "metadata": {},
   "outputs": [
    {
     "data": {
      "text/plain": [
       "array([249.13653564, 240.56945801, 230.02206421, 206.86799316,\n",
       "       207.40590299, 235.70281982, 257.96346664, 255.70190811])"
      ]
     },
     "execution_count": 21,
     "metadata": {},
     "output_type": "execute_result"
    }
   ],
   "source": [
    "out_column_a"
   ]
  },
  {
   "cell_type": "code",
   "execution_count": 13,
   "id": "7ad63d31-4a22-40e2-8cb8-4f7b49c400ae",
   "metadata": {},
   "outputs": [
    {
     "name": "stdout",
     "output_type": "stream",
     "text": [
      "vertical integral after subsetting using conserved area: 233575.8140258789\n"
     ]
    }
   ],
   "source": [
    "level_p_select = level_p[ind_select]\n",
    "int_x = np.sum(out_column_a * np.diff(level_p_select))\n",
    "print('vertical integral after subsetting using conserved area: {}'.format(int_x))"
   ]
  },
  {
   "cell_type": "code",
   "execution_count": 14,
   "id": "cdfdab34-0b18-4ca2-9481-da01ed14dea2",
   "metadata": {},
   "outputs": [
    {
     "name": "stdout",
     "output_type": "stream",
     "text": [
      "vertical integral after subsetting using a simple indexing: 231657.5684967041\n"
     ]
    }
   ],
   "source": [
    "# bad example: what if we indexing\n",
    "x_column_select = x_column[ind_select]\n",
    "int_x_bad = np.trapz(x_column_select, level_p_select)\n",
    "print('vertical integral after subsetting using a simple indexing: {}'.format(int_x_bad))"
   ]
  },
  {
   "cell_type": "markdown",
   "id": "f7219ff3-7006-41b8-83c6-700ac02cfd58",
   "metadata": {},
   "source": [
    "## How to accumulate hourly to 6 hourly\n",
    "\n",
    "* The time coordinate is \"ending-time\". \n",
    "* For accumulating hourly quantities to 6-hourly, add index-0, 1, 2, 3, 4, 5 hourly values will give the accumulated result on index-0 for 6 hourly.\n",
    "* Example: hourly quantities on 1959-01-02T01Z, 02Z, 03Z, 04Z, 05Z, 06Z accumulates to 1959-01-02T06Z"
   ]
  },
  {
   "cell_type": "code",
   "execution_count": 15,
   "id": "42cda1c1-1989-4fb0-9e04-12b37d810ceb",
   "metadata": {},
   "outputs": [],
   "source": [
    "ERA5_1h = xr.open_zarr(\n",
    "    \"gs://gcp-public-data-arco-era5/ar/1959-2022-full_37-1h-0p25deg-chunk-1.zarr-v2/\",\n",
    "    chunks=None,\n",
    "    storage_options=dict(token='anon'),)"
   ]
  },
  {
   "cell_type": "code",
   "execution_count": 16,
   "id": "d2ca480a-cc7b-416d-a060-4b3cf3774b85",
   "metadata": {},
   "outputs": [],
   "source": [
    "tp_1h = ERA5_1h['total_precipitation']\n",
    "tp_1h = tp_1h.isel(time=slice(0, 96))\n",
    "tp_1h_np = np.array(tp_1h)"
   ]
  },
  {
   "cell_type": "code",
   "execution_count": 17,
   "id": "c014649d-4e94-4878-9dce-bd634767fe0a",
   "metadata": {},
   "outputs": [
    {
     "name": "stdout",
     "output_type": "stream",
     "text": [
      "<xarray.DataArray 'time' (time: 6)> Size: 48B\n",
      "array(['1959-01-02T01:00:00.000000000', '1959-01-02T02:00:00.000000000',\n",
      "       '1959-01-02T03:00:00.000000000', '1959-01-02T04:00:00.000000000',\n",
      "       '1959-01-02T05:00:00.000000000', '1959-01-02T06:00:00.000000000'],\n",
      "      dtype='datetime64[ns]')\n",
      "Coordinates:\n",
      "  * time     (time) datetime64[ns] 48B 1959-01-02T01:00:00 ... 1959-01-02T06:...\n"
     ]
    }
   ],
   "source": [
    "tp_6h_accum = np.sum(tp_1h_np[25:31, ...], axis=0)\n",
    "print(tp_1h['time'][25:31])"
   ]
  },
  {
   "cell_type": "code",
   "execution_count": 18,
   "id": "f5bf057a-857d-4df9-82e0-0986d659d531",
   "metadata": {},
   "outputs": [],
   "source": [
    "ERA5_6h = xr.open_zarr(\n",
    "    \"gs://gcp-public-data-arco-era5/ar/1959-2022-6h-1440x721.zarr\",\n",
    "    chunks=None,\n",
    "    storage_options=dict(token='anon'),)"
   ]
  },
  {
   "cell_type": "code",
   "execution_count": 19,
   "id": "5d03ac80-426f-4105-a0d0-b8e24a60529a",
   "metadata": {},
   "outputs": [],
   "source": [
    "tp_6h = ERA5_6h['total_precipitation_6hr']\n",
    "tp_6h = tp_6h.isel(time=slice(0, 16))\n",
    "tp_6h_np = np.array(tp_6h)"
   ]
  },
  {
   "cell_type": "code",
   "execution_count": 20,
   "id": "2aa6de75-5e96-4786-8a86-b3727562c0cb",
   "metadata": {},
   "outputs": [
    {
     "name": "stdout",
     "output_type": "stream",
     "text": [
      "0.0\n",
      "<xarray.DataArray 'time' ()> Size: 8B\n",
      "array('1959-01-02T06:00:00.000000000', dtype='datetime64[ns]')\n",
      "Coordinates:\n",
      "    time     datetime64[ns] 8B 1959-01-02T06:00:00\n"
     ]
    }
   ],
   "source": [
    "print(np.sum(tp_6h_np[5, ...] - tp_6h_accum))\n",
    "print(tp_6h['time'][5])"
   ]
  },
  {
   "cell_type": "markdown",
   "id": "464d2b04-234c-4d54-ac6a-23e750bc12ab",
   "metadata": {},
   "source": [
    "0.0 means accumulated correctly"
   ]
  },
  {
   "cell_type": "code",
   "execution_count": null,
   "id": "2290d23e-621c-4946-95e4-551bf09ad8c9",
   "metadata": {},
   "outputs": [],
   "source": []
  }
 ],
 "metadata": {
  "kernelspec": {
   "display_name": "Python 3 (ipykernel)",
   "language": "python",
   "name": "python3"
  },
  "language_info": {
   "codemirror_mode": {
    "name": "ipython",
    "version": 3
   },
   "file_extension": ".py",
   "mimetype": "text/x-python",
   "name": "python",
   "nbconvert_exporter": "python",
   "pygments_lexer": "ipython3",
   "version": "3.11.9"
  }
 },
 "nbformat": 4,
 "nbformat_minor": 5
}
