{
 "cells": [
  {
   "cell_type": "markdown",
   "id": "efa08066-4289-4781-902c-7e83e244857d",
   "metadata": {},
   "source": [
    "# Pre-process ERA5 pressure level data for CREDIT"
   ]
  },
  {
   "cell_type": "code",
   "execution_count": 1,
   "id": "70332162-6c47-4172-a003-326059f10045",
   "metadata": {},
   "outputs": [],
   "source": [
    "import numpy as np\n",
    "import xarray as xr"
   ]
  },
  {
   "cell_type": "code",
   "execution_count": 2,
   "id": "aa740e32-0024-4dec-b2c9-ce7c7f92f925",
   "metadata": {},
   "outputs": [],
   "source": [
    "import matplotlib.pyplot as plt\n",
    "%matplotlib inline"
   ]
  },
  {
   "cell_type": "markdown",
   "id": "0068fbd7-18c4-496a-a1f7-c63f26c59544",
   "metadata": {},
   "source": [
    "## Get data from Google Cloud ARCO-ERA5"
   ]
  },
  {
   "cell_type": "markdown",
   "id": "9b81af18-faac-450b-9979-683e4ffb1dec",
   "metadata": {},
   "source": [
    "* Source: https://console.cloud.google.com/storage/browser/gcp-public-data-arco-era5\n",
    "* GitHub: https://github.com/google-research/arco-era5\n",
    "* Latest hourly: gs://gcp-public-data-arco-era5/ar/full_37-1h-0p25deg-chunk-1.zarr-v3"
   ]
  },
  {
   "cell_type": "code",
   "execution_count": 3,
   "id": "afe36c4d-711a-4fe3-bbf6-02bee5f64ae8",
   "metadata": {},
   "outputs": [],
   "source": [
    "# Data begins at 1900 will NaNs\n",
    "# subset to 1940-01-01 or later to get actual values\n",
    "ERA5_1h = xr.open_zarr(\n",
    "    \"gs://gcp-public-data-arco-era5/ar/full_37-1h-0p25deg-chunk-1.zarr-v3\",\n",
    "    chunks=None,\n",
    "    storage_options=dict(token='anon'),)"
   ]
  },
  {
   "cell_type": "code",
   "execution_count": 4,
   "id": "efef4b80-5f74-4d67-81be-01120ed05527",
   "metadata": {},
   "outputs": [],
   "source": [
    "# np.array(ERA5_1h['temperature'].isel(time=slice(800000, 800001)))"
   ]
  },
  {
   "cell_type": "code",
   "execution_count": 5,
   "id": "73e7309e-6845-4ebf-b2c5-a9e220b8be26",
   "metadata": {},
   "outputs": [],
   "source": [
    "# variables to save for all years\n",
    "## 'total_column_water' is used to check the effectiveness of (1/g)*\\int(Q) = TWC, so not all years are needed\n",
    "varname_save = ['geopotential', 'u_component_of_wind', 'v_component_of_wind', 'temperature', 'specific_humidity', \n",
    "                'surface_pressure', 'skin_temperature', '2m_temperature', '10m_u_component_of_wind', '10m_v_component_of_wind']\n",
    "\n",
    "varname_water = ['total_precipitation', 'total_column_water', 'mean_surface_latent_heat_flux', 'evaporation']\n",
    "\n",
    "varname_static = ['land_sea_mask', 'geopotential_at_surface']"
   ]
  },
  {
   "cell_type": "code",
   "execution_count": 15,
   "id": "b91aa604-039e-4c37-8921-228c8cb6ea5c",
   "metadata": {},
   "outputs": [],
   "source": [
    "# all variables\n",
    "# list(ERA5_1h.keys())"
   ]
  },
  {
   "cell_type": "markdown",
   "id": "c820b20a-bba9-43a6-8329-51b3f5ebae12",
   "metadata": {},
   "source": [
    "## How to pre-process"
   ]
  },
  {
   "cell_type": "markdown",
   "id": "889988be-5eb8-4224-b98a-2c4222f9091e",
   "metadata": {},
   "source": [
    "### Vertical coordinate subsetting with conserved total column properties"
   ]
  },
  {
   "cell_type": "code",
   "execution_count": 4,
   "id": "fb88f6ba-d01e-4af6-935b-676bd8a56a84",
   "metadata": {},
   "outputs": [],
   "source": [
    "# use a smaller dataset as example\n",
    "ERA5_1h = xr.open_zarr(\n",
    "    \"gs://gcp-public-data-arco-era5/ar/1959-2022-full_37-1h-0p25deg-chunk-1.zarr-v2/\",\n",
    "    chunks=None,\n",
    "    storage_options=dict(token='anon'),)"
   ]
  },
  {
   "cell_type": "code",
   "execution_count": 5,
   "id": "ef950ad1-e81e-4e4d-9db7-7861fc778f7f",
   "metadata": {},
   "outputs": [],
   "source": [
    "# get the full pressure level coordinates\n",
    "level_p = np.array(ERA5_1h['level'])"
   ]
  },
  {
   "cell_type": "code",
   "execution_count": 6,
   "id": "1480b029-2e16-4595-b518-414d5e238c65",
   "metadata": {},
   "outputs": [
    {
     "data": {
      "text/plain": [
       "array([   1,    2,    3,    5,    7,   10,   20,   30,   50,   70,  100,\n",
       "        125,  150,  175,  200,  225,  250,  300,  350,  400,  450,  500,\n",
       "        550,  600,  650,  700,  750,  775,  800,  825,  850,  875,  900,\n",
       "        925,  950,  975, 1000])"
      ]
     },
     "execution_count": 6,
     "metadata": {},
     "output_type": "execute_result"
    }
   ],
   "source": [
    "level_p"
   ]
  },
  {
   "cell_type": "code",
   "execution_count": 7,
   "id": "3d2b03fe-50c4-47a5-8fa6-ec6d5187bba9",
   "metadata": {},
   "outputs": [],
   "source": [
    "# a piece of example data\n",
    "ds_full_level = ERA5_1h['temperature'].isel(time=slice(0, 2))\n",
    "test_data = np.array(ds_full_level)\n",
    "x_column = test_data[1, :, 100, 200]"
   ]
  },
  {
   "cell_type": "code",
   "execution_count": 8,
   "id": "ef12732c-c4ee-422b-87f6-c8a7c49abbc4",
   "metadata": {},
   "outputs": [
    {
     "data": {
      "text/plain": [
       "array([255.67235, 242.60074, 238.53818, 221.50595, 206.83128, 197.17053,\n",
       "       196.06165, 196.99301, 200.18994, 203.85724, 206.67328, 209.04404,\n",
       "       210.58057, 210.52606, 210.01845, 210.13292, 209.95409, 213.27097,\n",
       "       218.48499, 224.57101, 231.41153, 237.77028, 242.69957, 246.7081 ,\n",
       "       250.43092, 253.82133, 257.235  , 258.3148 , 259.16742, 259.84662,\n",
       "       259.82944, 258.4964 , 256.75854, 255.96848, 255.05963, 255.07288,\n",
       "       256.65472], dtype=float32)"
      ]
     },
     "execution_count": 8,
     "metadata": {},
     "output_type": "execute_result"
    }
   ],
   "source": [
    "x_column"
   ]
  },
  {
   "cell_type": "code",
   "execution_count": 9,
   "id": "34e085d6-39b6-4d6b-9640-14b53ed6d8ef",
   "metadata": {},
   "outputs": [
    {
     "name": "stdout",
     "output_type": "stream",
     "text": [
      "vertical integral of the original data: 233575.8140258789\n"
     ]
    }
   ],
   "source": [
    "# compute the vertical intergral that we need to conserve\n",
    "int_original = np.trapz(x_column, level_p)\n",
    "print('vertical integral of the original data: {}'.format(int_original))"
   ]
  },
  {
   "cell_type": "code",
   "execution_count": 10,
   "id": "d524b911-9622-4c1e-81f4-bf5dbf8c7ac9",
   "metadata": {},
   "outputs": [],
   "source": [
    "# select levels\n",
    "# !! the FIRST and the LAST index must be selected\n",
    "ind_select = np.array([0, 1, 2, 3, 5, 17, 25, 32, 36])"
   ]
  },
  {
   "cell_type": "code",
   "execution_count": 11,
   "id": "d3698145-233f-459d-8be2-c61730728c45",
   "metadata": {},
   "outputs": [],
   "source": [
    "# original version\n",
    "def integral_conserved_subset_1d(x_column, level_p, ind_select):\n",
    "    '''\n",
    "    Given selected indices, subset a single-column of pressure level data.\n",
    "    The subsetted version has conserved vertical integral\n",
    "    \n",
    "    Args:\n",
    "        x_column: a single-column of data\n",
    "        level_p: pressure (low to high) as vertical coordiantes\n",
    "        ind_select: np.array int values that subsets x_column\n",
    "    Returns:\n",
    "        out_column_a: subsetted copy of x_column\n",
    "    \n",
    "    '''\n",
    "    # allocate the output array\n",
    "    out_column_a = np.empty(len(ind_select)-1); out_column_a.fill(np.nan)\n",
    "\n",
    "    # compute the level difference\n",
    "    diff_level_p = np.diff(level_p)\n",
    "    \n",
    "    # compute the area of each level using trapz rule\n",
    "    x_column_midpoint = 0.5 * (x_column[1:] + x_column[:-1])\n",
    "    x_column_area = x_column_midpoint * diff_level_p\n",
    "\n",
    "    # subsetting levels through a way that conserves the total integral\n",
    "    for i_ind, ind in enumerate(ind_select[:-1]):\n",
    "        ind_start = ind\n",
    "        ind_end = ind_select[i_ind+1]\n",
    "        out_column_a[i_ind] = np.sum(x_column_area[ind_start:ind_end]) / (level_p[ind_end] - level_p[ind_start])\n",
    "\n",
    "    return out_column_a\n",
    "\n",
    "# # # oringal version optimized by ChatGPT\n",
    "# def integral_conserved_subset_ChatGPT(x_column, level_p, ind_select):\n",
    "#     # Compute the level difference and the midpoints\n",
    "#     diff_level_p = np.diff(level_p)\n",
    "#     x_column_midpoint = 0.5 * (x_column[1:] + x_column[:-1])\n",
    "    \n",
    "#     # Compute the area of each level using the trapezoidal rule\n",
    "#     x_column_area = x_column_midpoint * diff_level_p\n",
    "    \n",
    "#     # Compute the cumulative sum of the areas and levels\n",
    "#     cumulative_area = np.zeros_like(x_column)\n",
    "#     cumulative_area[1:] = np.cumsum(x_column_area)\n",
    "    \n",
    "#     cumulative_level_p = np.zeros_like(level_p)\n",
    "#     cumulative_level_p[1:] = np.cumsum(diff_level_p)\n",
    "\n",
    "#     # Use advanced indexing to vectorize the selection and summation\n",
    "#     selected_areas = cumulative_area[ind_select[1:]] - cumulative_area[ind_select[:-1]]\n",
    "#     selected_levels = cumulative_level_p[ind_select[1:]] - cumulative_level_p[ind_select[:-1]]\n",
    "    \n",
    "#     # Compute the output array\n",
    "#     out_column_a = selected_areas / selected_levels\n",
    "    \n",
    "#     return out_column_a"
   ]
  },
  {
   "cell_type": "code",
   "execution_count": 12,
   "id": "0b64fdb4-a7bb-4b6d-988e-ec5933c35d07",
   "metadata": {},
   "outputs": [],
   "source": [
    "out_column_a = integral_conserved_subset_1d(x_column, level_p, ind_select)"
   ]
  },
  {
   "cell_type": "code",
   "execution_count": 21,
   "id": "a578560a-f640-4837-ab04-51642979d891",
   "metadata": {},
   "outputs": [
    {
     "data": {
      "text/plain": [
       "array([249.13653564, 240.56945801, 230.02206421, 206.86799316,\n",
       "       207.40590299, 235.70281982, 257.96346664, 255.70190811])"
      ]
     },
     "execution_count": 21,
     "metadata": {},
     "output_type": "execute_result"
    }
   ],
   "source": [
    "out_column_a"
   ]
  },
  {
   "cell_type": "code",
   "execution_count": 13,
   "id": "7ad63d31-4a22-40e2-8cb8-4f7b49c400ae",
   "metadata": {},
   "outputs": [
    {
     "name": "stdout",
     "output_type": "stream",
     "text": [
      "vertical integral after subsetting using conserved area: 233575.8140258789\n"
     ]
    }
   ],
   "source": [
    "level_p_select = level_p[ind_select]\n",
    "int_x = np.sum(out_column_a * np.diff(level_p_select))\n",
    "print('vertical integral after subsetting using conserved area: {}'.format(int_x))"
   ]
  },
  {
   "cell_type": "code",
   "execution_count": 14,
   "id": "cdfdab34-0b18-4ca2-9481-da01ed14dea2",
   "metadata": {},
   "outputs": [
    {
     "name": "stdout",
     "output_type": "stream",
     "text": [
      "vertical integral after subsetting using a simple indexing: 231657.5684967041\n"
     ]
    }
   ],
   "source": [
    "# bad example: what if we indexing\n",
    "x_column_select = x_column[ind_select]\n",
    "int_x_bad = np.trapz(x_column_select, level_p_select)\n",
    "print('vertical integral after subsetting using a simple indexing: {}'.format(int_x_bad))"
   ]
  },
  {
   "cell_type": "markdown",
   "id": "f7219ff3-7006-41b8-83c6-700ac02cfd58",
   "metadata": {},
   "source": [
    "## How to accumulate hourly to 6 hourly\n",
    "\n",
    "* The time coordinate is \"ending-time\". \n",
    "* For accumulating hourly quantities to 6-hourly, add index-0, 1, 2, 3, 4, 5 hourly values will give the accumulated result on index-0 for 6 hourly.\n",
    "* Example: hourly quantities on 1959-01-02T01Z, 02Z, 03Z, 04Z, 05Z, 06Z accumulates to 1959-01-02T06Z"
   ]
  },
  {
   "cell_type": "code",
   "execution_count": 15,
   "id": "42cda1c1-1989-4fb0-9e04-12b37d810ceb",
   "metadata": {},
   "outputs": [],
   "source": [
    "ERA5_1h = xr.open_zarr(\n",
    "    \"gs://gcp-public-data-arco-era5/ar/1959-2022-full_37-1h-0p25deg-chunk-1.zarr-v2/\",\n",
    "    chunks=None,\n",
    "    storage_options=dict(token='anon'),)"
   ]
  },
  {
   "cell_type": "code",
   "execution_count": 16,
   "id": "d2ca480a-cc7b-416d-a060-4b3cf3774b85",
   "metadata": {},
   "outputs": [],
   "source": [
    "tp_1h = ERA5_1h['total_precipitation']\n",
    "tp_1h = tp_1h.isel(time=slice(0, 96))\n",
    "tp_1h_np = np.array(tp_1h)"
   ]
  },
  {
   "cell_type": "code",
   "execution_count": 17,
   "id": "c014649d-4e94-4878-9dce-bd634767fe0a",
   "metadata": {},
   "outputs": [
    {
     "name": "stdout",
     "output_type": "stream",
     "text": [
      "<xarray.DataArray 'time' (time: 6)> Size: 48B\n",
      "array(['1959-01-02T01:00:00.000000000', '1959-01-02T02:00:00.000000000',\n",
      "       '1959-01-02T03:00:00.000000000', '1959-01-02T04:00:00.000000000',\n",
      "       '1959-01-02T05:00:00.000000000', '1959-01-02T06:00:00.000000000'],\n",
      "      dtype='datetime64[ns]')\n",
      "Coordinates:\n",
      "  * time     (time) datetime64[ns] 48B 1959-01-02T01:00:00 ... 1959-01-02T06:...\n"
     ]
    }
   ],
   "source": [
    "tp_6h_accum = np.sum(tp_1h_np[25:31, ...], axis=0)\n",
    "print(tp_1h['time'][25:31])"
   ]
  },
  {
   "cell_type": "code",
   "execution_count": 18,
   "id": "f5bf057a-857d-4df9-82e0-0986d659d531",
   "metadata": {},
   "outputs": [],
   "source": [
    "ERA5_6h = xr.open_zarr(\n",
    "    \"gs://gcp-public-data-arco-era5/ar/1959-2022-6h-1440x721.zarr\",\n",
    "    chunks=None,\n",
    "    storage_options=dict(token='anon'),)"
   ]
  },
  {
   "cell_type": "code",
   "execution_count": 19,
   "id": "5d03ac80-426f-4105-a0d0-b8e24a60529a",
   "metadata": {},
   "outputs": [],
   "source": [
    "tp_6h = ERA5_6h['total_precipitation_6hr']\n",
    "tp_6h = tp_6h.isel(time=slice(0, 16))\n",
    "tp_6h_np = np.array(tp_6h)"
   ]
  },
  {
   "cell_type": "code",
   "execution_count": 20,
   "id": "2aa6de75-5e96-4786-8a86-b3727562c0cb",
   "metadata": {},
   "outputs": [
    {
     "name": "stdout",
     "output_type": "stream",
     "text": [
      "0.0\n",
      "<xarray.DataArray 'time' ()> Size: 8B\n",
      "array('1959-01-02T06:00:00.000000000', dtype='datetime64[ns]')\n",
      "Coordinates:\n",
      "    time     datetime64[ns] 8B 1959-01-02T06:00:00\n"
     ]
    }
   ],
   "source": [
    "print(np.sum(tp_6h_np[5, ...] - tp_6h_accum))\n",
    "print(tp_6h['time'][5])"
   ]
  },
  {
   "cell_type": "markdown",
   "id": "464d2b04-234c-4d54-ac6a-23e750bc12ab",
   "metadata": {},
   "source": [
    "0.0 means accumulated correctly"
   ]
  },
  {
   "cell_type": "code",
   "execution_count": null,
   "id": "2290d23e-621c-4946-95e4-551bf09ad8c9",
   "metadata": {},
   "outputs": [],
   "source": []
  }
 ],
 "metadata": {
  "kernelspec": {
   "display_name": "Python 3 (ipykernel)",
   "language": "python",
   "name": "python3"
  },
  "language_info": {
   "codemirror_mode": {
    "name": "ipython",
    "version": 3
   },
   "file_extension": ".py",
   "mimetype": "text/x-python",
   "name": "python",
   "nbconvert_exporter": "python",
   "pygments_lexer": "ipython3",
   "version": "3.11.9"
  }
 },
 "nbformat": 4,
 "nbformat_minor": 5
}
