{
 "cells": [
  {
   "cell_type": "markdown",
   "id": "304505aa-820b-41ea-af52-57a62b6c8655",
   "metadata": {},
   "source": [
    "# Generate qsub scripts to compute mean and std per variable"
   ]
  },
  {
   "cell_type": "code",
   "execution_count": null,
   "id": "a4e06d0d-df0e-4353-9fc7-dcab383a8d70",
   "metadata": {},
   "outputs": [],
   "source": [
    "import os\n",
    "import sys\n",
    "import yaml\n",
    "import numpy as np\n",
    "import xarray as xr"
   ]
  },
  {
   "cell_type": "code",
   "execution_count": null,
   "id": "94494a11-1fef-419e-9dfe-4307e9e90634",
   "metadata": {},
   "outputs": [],
   "source": [
    "sys.path.insert(0, os.path.realpath('../libs/'))\n",
    "import preprocess_utils as pu"
   ]
  },
  {
   "cell_type": "markdown",
   "id": "37ecc2bd-f660-4717-8394-5718d1ce51f6",
   "metadata": {},
   "source": [
    "## 6 hourly mean std"
   ]
  },
  {
   "cell_type": "code",
   "execution_count": null,
   "id": "114b8b39-a02d-4382-8062-55591204e374",
   "metadata": {},
   "outputs": [],
   "source": [
    "config_name = os.path.realpath('data_config_6h.yml')\n",
    "\n",
    "with open(config_name, 'r') as stream:\n",
    "    conf = yaml.safe_load(stream)"
   ]
  },
  {
   "cell_type": "code",
   "execution_count": null,
   "id": "f7295873-ba86-4211-aa08-4919cb72e148",
   "metadata": {},
   "outputs": [],
   "source": [
    "varnames = list(conf['zscore'].keys())\n",
    "varnames = varnames[:-3] # remove save_loc and others"
   ]
  },
  {
   "cell_type": "code",
   "execution_count": null,
   "id": "ee122092-b5c0-46eb-ae95-0f58d31c23f5",
   "metadata": {},
   "outputs": [],
   "source": [
    "for i_var, varname in enumerate(varnames):\n",
    "    \n",
    "    f = open('{}zscore_6h_{}.sh'.format(conf['qsub']['qsub_loc'], varname), 'w') \n",
    "    \n",
    "    heads = '''#!/bin/bash -l\n",
    "\n",
    "#PBS -N {}\n",
    "#PBS -A NAML0001\n",
    "#PBS -l walltime=23:59:59\n",
    "#PBS -l select=1:ncpus=4:mem=64GB\n",
    "#PBS -q casper\n",
    "#PBS -o zscore_{}.log\n",
    "#PBS -e zscore_{}.err\n",
    "\n",
    "conda activate credit\n",
    "cd {}\n",
    "python zscore_var_6h.py {}\n",
    "'''.format(varname, varname, varname, \n",
    "           conf['qsub']['scripts_loc'], \n",
    "           varname)\n",
    "    \n",
    "    print(heads, file=f)    \n",
    "    f.close()\n",
    "\n",
    "f = open('{}preprocess_all_zscore_6h.sh'.format(conf['qsub']['qsub_loc']), 'w')\n",
    "\n",
    "for i_var, varname in enumerate(varnames):\n",
    "    print('qsub zscore_6h_{}.sh'.format(varname), file=f)\n",
    "    \n",
    "f.close()"
   ]
  },
  {
   "cell_type": "markdown",
   "id": "0ab11b11-74ef-4254-a507-3dcdbfc8705f",
   "metadata": {},
   "source": [
    "## hourly mean std"
   ]
  },
  {
   "cell_type": "code",
   "execution_count": null,
   "id": "4a296ae3-174e-4bd6-9313-4f85566f184f",
   "metadata": {},
   "outputs": [],
   "source": [
    "config_name = os.path.realpath('data_config_1h.yml')\n",
    "\n",
    "with open(config_name, 'r') as stream:\n",
    "    conf = yaml.safe_load(stream)"
   ]
  },
  {
   "cell_type": "code",
   "execution_count": null,
   "id": "1c09a636-f90c-4797-9af2-0432088ec141",
   "metadata": {},
   "outputs": [],
   "source": [
    "varnames = list(conf['zscore'].keys())\n",
    "varnames = varnames[:-3] # remove save_loc and others"
   ]
  },
  {
   "cell_type": "code",
   "execution_count": null,
   "id": "8fdb025a-ad7c-4afe-b8ee-a43edbb802e3",
   "metadata": {},
   "outputs": [],
   "source": [
    "for i_var, varname in enumerate(varnames):\n",
    "    \n",
    "    f = open('{}zscore_1h_{}.sh'.format(conf['qsub']['qsub_loc'], varname), 'w') \n",
    "    \n",
    "    heads = '''#!/bin/bash -l\n",
    "\n",
    "#PBS -N {}\n",
    "#PBS -A NAML0001\n",
    "#PBS -l walltime=23:59:59\n",
    "#PBS -l select=1:ncpus=4:mem=64GB\n",
    "#PBS -q casper\n",
    "#PBS -o zscore_{}.log\n",
    "#PBS -e zscore_{}.err\n",
    "\n",
    "conda activate credit\n",
    "cd {}\n",
    "python zscore_var_1h.py {}\n",
    "'''.format(varname, varname, varname, \n",
    "           conf['qsub']['scripts_loc'], \n",
    "           varname)\n",
    "    \n",
    "    print(heads, file=f)    \n",
    "    f.close()\n",
    "\n",
    "f = open('{}preprocess_all_zscore_1h.sh'.format(conf['qsub']['qsub_loc']), 'w')\n",
    "\n",
    "for i_var, varname in enumerate(varnames):\n",
    "    print('qsub zscore_1h_{}.sh'.format(varname), file=f)\n",
    "    \n",
    "f.close()"
   ]
  },
  {
   "cell_type": "markdown",
   "id": "06a55395-6f55-4977-9c1c-05039dc80a05",
   "metadata": {},
   "source": [
    "## Check consistencies between numpy and xarray"
   ]
  },
  {
   "cell_type": "code",
   "execution_count": null,
   "id": "ba96b4f8-723c-4537-8cb6-8dfafc8cff01",
   "metadata": {},
   "outputs": [],
   "source": [
    "np.sqrt(np.load('/glade/campaign/cisl/aiml/ksha/CREDIT/6h_mean_std_tsi.npy')[1])"
   ]
  },
  {
   "cell_type": "code",
   "execution_count": null,
   "id": "7260661e-0669-4b23-a9f5-dc0ccd0cf3ac",
   "metadata": {},
   "outputs": [],
   "source": [
    "NEW_std = xr.open_dataset('/glade/campaign/cisl/aiml/ksha/CREDIT/std_6h_0.25deg.nc')"
   ]
  },
  {
   "cell_type": "code",
   "execution_count": null,
   "id": "a4722343-7479-4651-ab33-c9faf4a74cad",
   "metadata": {},
   "outputs": [],
   "source": [
    "np.array(NEW_std['tsi'])"
   ]
  },
  {
   "cell_type": "code",
   "execution_count": null,
   "id": "47ad31df-37d3-4d3d-9fe2-24023dce27eb",
   "metadata": {},
   "outputs": [],
   "source": []
  }
 ],
 "metadata": {
  "kernelspec": {
   "display_name": "Python 3 (ipykernel)",
   "language": "python",
   "name": "python3"
  },
  "language_info": {
   "codemirror_mode": {
    "name": "ipython",
    "version": 3
   },
   "file_extension": ".py",
   "mimetype": "text/x-python",
   "name": "python",
   "nbconvert_exporter": "python",
   "pygments_lexer": "ipython3",
   "version": "3.11.9"
  }
 },
 "nbformat": 4,
 "nbformat_minor": 5
}
