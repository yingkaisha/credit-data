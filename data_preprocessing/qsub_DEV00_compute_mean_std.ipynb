{
 "cells": [
  {
   "cell_type": "markdown",
   "id": "304505aa-820b-41ea-af52-57a62b6c8655",
   "metadata": {},
   "source": [
    "# Generate qsub scripts to compute mean and std per variable"
   ]
  },
  {
   "cell_type": "code",
   "execution_count": 1,
   "id": "a4e06d0d-df0e-4353-9fc7-dcab383a8d70",
   "metadata": {},
   "outputs": [],
   "source": [
    "import os\n",
    "import sys\n",
    "import yaml\n",
    "import numpy as np\n",
    "import xarray as xr"
   ]
  },
  {
   "cell_type": "code",
   "execution_count": 2,
   "id": "94494a11-1fef-419e-9dfe-4307e9e90634",
   "metadata": {},
   "outputs": [],
   "source": [
    "sys.path.insert(0, os.path.realpath('../libs/'))\n",
    "import preprocess_utils as pu"
   ]
  },
  {
   "cell_type": "markdown",
   "id": "37ecc2bd-f660-4717-8394-5718d1ce51f6",
   "metadata": {},
   "source": [
    "## 6 hourly mean std"
   ]
  },
  {
   "cell_type": "code",
   "execution_count": 3,
   "id": "114b8b39-a02d-4382-8062-55591204e374",
   "metadata": {},
   "outputs": [],
   "source": [
    "config_name = os.path.realpath('data_config_6h.yml')\n",
    "\n",
    "with open(config_name, 'r') as stream:\n",
    "    conf = yaml.safe_load(stream)"
   ]
  },
  {
   "cell_type": "code",
   "execution_count": 4,
   "id": "f7295873-ba86-4211-aa08-4919cb72e148",
   "metadata": {},
   "outputs": [],
   "source": [
    "varnames = list(conf['zscore'].keys())\n",
    "varnames = varnames[:-3] # remove save_loc and others"
   ]
  },
  {
   "cell_type": "code",
   "execution_count": 5,
   "id": "4d41078f-126c-4f05-8c48-0c6d16a5cc3f",
   "metadata": {},
   "outputs": [],
   "source": [
    "varname_surf = list(set(varnames) - set(['U', 'V', 'T', 'Q']))\n",
    "varname_upper = ['U', 'V', 'T', 'Q']"
   ]
  },
  {
   "cell_type": "code",
   "execution_count": 6,
   "id": "45fa9c89-d367-4f63-b22f-43dc2c25f503",
   "metadata": {},
   "outputs": [],
   "source": [
    "N_level = 16"
   ]
  },
  {
   "cell_type": "code",
   "execution_count": 7,
   "id": "ee122092-b5c0-46eb-ae95-0f58d31c23f5",
   "metadata": {},
   "outputs": [],
   "source": [
    "for i_var, varname in enumerate(varname_surf):\n",
    "    \n",
    "    f = open('{}zscore_6h_{}.sh'.format(conf['qsub']['qsub_loc'], varname), 'w') \n",
    "    \n",
    "    heads = '''#!/bin/bash -l\n",
    "\n",
    "#PBS -N {}\n",
    "#PBS -A NAML0001\n",
    "#PBS -l walltime=23:59:59\n",
    "#PBS -l select=1:ncpus=4\n",
    "#PBS -q casper\n",
    "#PBS -o zscore_{}.log\n",
    "#PBS -e zscore_{}.err\n",
    "\n",
    "conda activate credit\n",
    "cd {}\n",
    "python zscore_var_6h.py {} {}\n",
    "'''.format(varname, varname, varname, \n",
    "           conf['qsub']['scripts_loc'], \n",
    "           varname,\n",
    "           'None')\n",
    "    \n",
    "    print(heads, file=f)    \n",
    "    f.close()\n",
    "\n",
    "f = open('{}preprocess_surf_zscore_6h.sh'.format(conf['qsub']['qsub_loc']), 'w')\n",
    "\n",
    "for i_var, varname in enumerate(varname_surf):\n",
    "    print('qsub zscore_6h_{}.sh'.format(varname), file=f)\n",
    "    \n",
    "f.close()"
   ]
  },
  {
   "cell_type": "code",
   "execution_count": 8,
   "id": "064774b3-3abf-4ab1-8d38-0dcc57ede01f",
   "metadata": {},
   "outputs": [],
   "source": [
    "for i_var, varname in enumerate(varname_upper):\n",
    "    for i_level in range(N_level):\n",
    "        \n",
    "        f = open('{}zscore_6h_{}_level{}.sh'.format(conf['qsub']['qsub_loc'], varname, i_level), 'w') \n",
    "        \n",
    "        heads = '''#!/bin/bash -l\n",
    "    \n",
    "#PBS -N {}\n",
    "#PBS -A NAML0001\n",
    "#PBS -l walltime=23:59:59\n",
    "#PBS -l select=1:ncpus=4\n",
    "#PBS -q casper\n",
    "#PBS -o zscore_{}.log\n",
    "#PBS -e zscore_{}.err\n",
    "\n",
    "conda activate credit\n",
    "cd {}\n",
    "python zscore_var_6h.py {} {}\n",
    "'''.format(varname, varname, varname, \n",
    "           conf['qsub']['scripts_loc'], \n",
    "           varname,\n",
    "           i_level)\n",
    "        \n",
    "        print(heads, file=f)    \n",
    "        f.close()\n",
    "\n",
    "f = open('{}preprocess_upper_zscore_6h.sh'.format(conf['qsub']['qsub_loc']), 'w')\n",
    "\n",
    "for i_var, varname in enumerate(varname_upper):\n",
    "    for i_level in range(N_level):\n",
    "        print('qsub zscore_6h_{}_level{}.sh'.format(varname, i_level), file=f)\n",
    "    \n",
    "f.close()"
   ]
  },
  {
   "cell_type": "markdown",
   "id": "8324af2d-b55f-4b13-a113-751256b25ba2",
   "metadata": {},
   "source": [
    "## hourly mean std"
   ]
  },
  {
   "cell_type": "code",
   "execution_count": 3,
   "id": "351bb078-efbd-4ea8-9206-e16d8fc397cb",
   "metadata": {},
   "outputs": [],
   "source": [
    "config_name = os.path.realpath('data_config_1h.yml')\n",
    "\n",
    "with open(config_name, 'r') as stream:\n",
    "    conf = yaml.safe_load(stream)"
   ]
  },
  {
   "cell_type": "code",
   "execution_count": 4,
   "id": "8f5238f9-5203-4000-be12-57b155bb2ae4",
   "metadata": {},
   "outputs": [],
   "source": [
    "varnames = list(conf['zscore'].keys())\n",
    "varnames = varnames[:-3] # remove save_loc and others\n",
    "\n",
    "varname_surf = list(set(varnames) - set(['U', 'V', 'T', 'Q']))\n",
    "varname_upper = ['U', 'V', 'T', 'Q']"
   ]
  },
  {
   "cell_type": "code",
   "execution_count": 5,
   "id": "19064506-d702-4b3f-bbe3-444a5ba41ed9",
   "metadata": {},
   "outputs": [],
   "source": [
    "N_level = 16"
   ]
  },
  {
   "cell_type": "code",
   "execution_count": 6,
   "id": "ad530616-bf8e-4840-a905-8a53e44522d2",
   "metadata": {},
   "outputs": [],
   "source": [
    "for i_var, varname in enumerate(varname_surf):\n",
    "    \n",
    "    f = open('{}zscore_1h_{}.sh'.format(conf['qsub']['qsub_loc'], varname), 'w') \n",
    "    \n",
    "    heads = '''#!/bin/bash -l\n",
    "\n",
    "#PBS -N {}\n",
    "#PBS -A NAML0001\n",
    "#PBS -l walltime=23:59:59\n",
    "#PBS -l select=1:ncpus=4\n",
    "#PBS -q casper\n",
    "#PBS -o zscore_{}.log\n",
    "#PBS -e zscore_{}.err\n",
    "\n",
    "conda activate credit\n",
    "cd {}\n",
    "python zscore_var_1h.py {} {}\n",
    "'''.format(varname, varname, varname, \n",
    "           conf['qsub']['scripts_loc'], \n",
    "           varname,\n",
    "           'None')\n",
    "    \n",
    "    print(heads, file=f)    \n",
    "    f.close()\n",
    "\n",
    "f = open('{}preprocess_surf_zscore_1h.sh'.format(conf['qsub']['qsub_loc']), 'w')\n",
    "\n",
    "for i_var, varname in enumerate(varname_surf):\n",
    "    print('qsub zscore_1h_{}.sh'.format(varname), file=f)\n",
    "    \n",
    "f.close()"
   ]
  },
  {
   "cell_type": "code",
   "execution_count": 7,
   "id": "5f291e1d-34f2-4900-bf11-086c8ff7bd1f",
   "metadata": {},
   "outputs": [],
   "source": [
    "for i_var, varname in enumerate(varname_upper):\n",
    "    for i_level in range(N_level):\n",
    "        \n",
    "        f = open('{}zscore_1h_{}_level{}.sh'.format(conf['qsub']['qsub_loc'], varname, i_level), 'w') \n",
    "        \n",
    "        heads = '''#!/bin/bash -l\n",
    "    \n",
    "#PBS -N {}\n",
    "#PBS -A NAML0001\n",
    "#PBS -l walltime=23:59:59\n",
    "#PBS -l select=1:ncpus=4\n",
    "#PBS -q casper\n",
    "#PBS -o zscore_{}.log\n",
    "#PBS -e zscore_{}.err\n",
    "\n",
    "conda activate credit\n",
    "cd {}\n",
    "python zscore_var_1h.py {} {}\n",
    "'''.format(varname, varname, varname, \n",
    "           conf['qsub']['scripts_loc'], \n",
    "           varname,\n",
    "           i_level)\n",
    "        \n",
    "        print(heads, file=f)    \n",
    "        f.close()\n",
    "\n",
    "f = open('{}preprocess_upper_zscore_1h.sh'.format(conf['qsub']['qsub_loc']), 'w')\n",
    "\n",
    "for i_var, varname in enumerate(varname_upper):\n",
    "    for i_level in range(N_level):\n",
    "        print('qsub zscore_1h_{}_level{}.sh'.format(varname, i_level), file=f)\n",
    "    \n",
    "f.close()"
   ]
  },
  {
   "cell_type": "code",
   "execution_count": null,
   "id": "f94b1c92-73b1-4655-90b7-3adb367b7452",
   "metadata": {},
   "outputs": [],
   "source": []
  }
 ],
 "metadata": {
  "kernelspec": {
   "display_name": "Python 3 (ipykernel)",
   "language": "python",
   "name": "python3"
  },
  "language_info": {
   "codemirror_mode": {
    "name": "ipython",
    "version": 3
   },
   "file_extension": ".py",
   "mimetype": "text/x-python",
   "name": "python",
   "nbconvert_exporter": "python",
   "pygments_lexer": "ipython3",
   "version": "3.11.9"
  }
 },
 "nbformat": 4,
 "nbformat_minor": 5
}
