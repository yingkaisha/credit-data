{
 "cells": [
  {
   "cell_type": "markdown",
   "id": "d779c3f3-dd5e-4194-8925-95e37d9660ec",
   "metadata": {},
   "source": [
    "# Create resaidual norm files for CREDIT"
   ]
  },
  {
   "cell_type": "code",
   "execution_count": 1,
   "id": "3e399085-3c08-46c9-8e07-fa7e3e0b63c7",
   "metadata": {},
   "outputs": [],
   "source": [
    "import os\n",
    "import yaml\n",
    "import copy\n",
    "import numpy as np\n",
    "import xarray as xr"
   ]
  },
  {
   "cell_type": "code",
   "execution_count": 2,
   "id": "7ce73a4a-5b8b-4b22-958f-56a7eaa38881",
   "metadata": {},
   "outputs": [],
   "source": [
    "from scipy.stats import gmean"
   ]
  },
  {
   "cell_type": "code",
   "execution_count": 3,
   "id": "6c58f08d-db2c-4606-a52d-93ef9f13bdd9",
   "metadata": {},
   "outputs": [],
   "source": [
    "import matplotlib.pyplot as plt\n",
    "%matplotlib inline"
   ]
  },
  {
   "cell_type": "markdown",
   "id": "2018bd3e-64bd-4953-a58a-06a0cb311c34",
   "metadata": {},
   "source": [
    "## File creation"
   ]
  },
  {
   "cell_type": "markdown",
   "id": "e21cdcff-6ae7-4a36-a68e-9b304dea5a52",
   "metadata": {},
   "source": [
    "### combining 6 hourly std and residual std values"
   ]
  },
  {
   "cell_type": "code",
   "execution_count": 4,
   "id": "94584383-7a21-4e92-95c4-bfa075634cb4",
   "metadata": {},
   "outputs": [],
   "source": [
    "# get variable information from data_preprocessing/config\n",
    "config_name = os.path.realpath('data_config_6h.yml')\n",
    "\n",
    "with open(config_name, 'r') as stream:\n",
    "    conf = yaml.safe_load(stream)"
   ]
  },
  {
   "cell_type": "code",
   "execution_count": 5,
   "id": "85e56f44-d922-4281-9b19-8c39206c3962",
   "metadata": {},
   "outputs": [],
   "source": [
    "# get variable names\n",
    "varnames = list(conf['residual'].keys())\n",
    "varnames = varnames[:-5] # remove save_loc and others\n",
    "\n",
    "varname_surf = list(set(varnames) - set(['U', 'V', 'T', 'Q']))\n",
    "varname_upper = ['U', 'V', 'T', 'Q']"
   ]
  },
  {
   "cell_type": "code",
   "execution_count": 6,
   "id": "04f18eeb-87da-48c8-85ab-49248d70374d",
   "metadata": {},
   "outputs": [],
   "source": [
    "ds_std = xr.open_dataset('/glade/campaign/cisl/aiml/ksha/CREDIT/std_6h_1979_2018_16lev_0.25deg.nc')\n",
    "ds_residual = xr.open_dataset('/glade/campaign/cisl/aiml/ksha/CREDIT/residual_6h_1979_2018_16lev_0.25deg.nc')"
   ]
  },
  {
   "cell_type": "code",
   "execution_count": 7,
   "id": "4eabef90-177a-4b78-8190-97c89a44070b",
   "metadata": {},
   "outputs": [],
   "source": [
    "ds_residual_norm = ds_std * ds_residual"
   ]
  },
  {
   "cell_type": "code",
   "execution_count": 8,
   "id": "52b440f6-1f28-4508-bf71-98de19bf116e",
   "metadata": {},
   "outputs": [],
   "source": [
    "ds_residual_norm.to_netcdf('/glade/campaign/cisl/aiml/ksha/CREDIT/std_residual_6h_1979_2018_16lev_0.25deg.nc')"
   ]
  },
  {
   "cell_type": "code",
   "execution_count": 9,
   "id": "b5ca5c61-6ea6-4a43-a48f-8f810575b9af",
   "metadata": {},
   "outputs": [
    {
     "name": "stdout",
     "output_type": "stream",
     "text": [
      "=============== U =================\n",
      "[37.50837517 15.65959598 12.12306848 11.06955485 11.40350376 14.06318096\n",
      " 22.18909891 21.02210126 17.4014687  14.49075883 12.99682088 12.65316072\n",
      " 13.48341479 12.89258523 10.27508765  9.15329183]\n",
      "[40.21485329 25.27922629 19.71381648 14.48358737 13.48588523 16.58891951\n",
      " 17.88966184 14.56381561 12.46334059 10.6776952   9.41726967  8.64687776\n",
      "  8.33099297  7.54898916  6.12810154  5.51947415]\n",
      "=============== V =================\n",
      "[40.89408215 17.44097468 13.5643788  12.23344314 12.56653418 15.94179338\n",
      " 26.58940189 25.03475451 20.57126744 16.850789   14.75387393 14.06960273\n",
      " 15.1866086  14.26665256 11.30278361 10.08848941]\n",
      "[14.10785166 10.69972115  8.34700692  6.91838006  7.45253687 10.17627158\n",
      " 13.45741855 11.4414309   9.64035721  8.15036388  7.14415171  6.5955258\n",
      "  6.78472338  6.61929494  5.2975703   4.73462807]\n",
      "=============== T =================\n",
      "[11.92922548  7.86509374  5.8091386   5.20725476  4.56035505  5.08995555\n",
      "  6.00101565  5.37350895  5.70523869  5.54547105  5.32894455  5.53646002\n",
      "  6.00929127  6.95442776  8.4571371   9.21533742]\n",
      "[ 8.28246086 12.54296629 10.73224169 10.51179137 12.60151149  8.16516086\n",
      "  9.08780623 13.56959089 14.35413281 14.74749461 15.27688361 15.80104057\n",
      " 16.96383509 19.17538034 20.68054418 20.958301  ]\n",
      "=============== Q =================\n",
      "[6.21782499e-07 1.83543886e-07 1.88273074e-07 2.06372363e-07\n",
      " 6.82312189e-07 1.07034923e-05 1.66935815e-04 8.56219304e-04\n",
      " 1.61426594e-03 2.55805456e-03 3.55015533e-03 4.53889445e-03\n",
      " 3.93871343e-03 3.04147699e-03 3.03682866e-03 3.03019983e-03]\n",
      "[2.86539110e-07 3.43501184e-07 3.00897636e-07 3.70370665e-07\n",
      " 5.65687055e-07 6.40576319e-06 8.72308306e-05 4.86562781e-04\n",
      " 9.55834282e-04 1.65400575e-03 2.39454699e-03 3.32212385e-03\n",
      " 4.92020484e-03 5.82008968e-03 5.95355206e-03 6.01718454e-03]\n",
      "=============== SP =================\n",
      "1011.1568076053264\n",
      "9564.08828465833\n",
      "=============== t2m =================\n",
      "10.53766995341408\n",
      "21.234846578163697\n",
      "=============== V500 =================\n",
      "19.387385485979774\n",
      "9.180869185138992\n",
      "=============== U500 =================\n",
      "16.24569924629917\n",
      "11.983191089137282\n",
      "=============== T500 =================\n",
      "5.668357689312373\n",
      "13.06274013468683\n",
      "=============== Z500 =================\n",
      "971.2044036261819\n",
      "3354.02515765491\n",
      "=============== Q500 =================\n",
      "0.0017113079668337663\n",
      "0.0010784555247599808\n",
      "=============== tsi =================\n",
      "40420001.45063575\n",
      "7711902.973059106\n"
     ]
    }
   ],
   "source": [
    "# ------------------------------------------------------- #\n",
    "# Compare with my old ones\n",
    "new_residual_std = xr.open_dataset('/glade/campaign/cisl/aiml/ksha/CREDIT/std_residual_6h_1979_2018_16lev_0.25deg.nc')\n",
    "new_std = xr.open_dataset('/glade/campaign/cisl/aiml/ksha/CREDIT/std_6h_1979_2018_16lev_0.25deg.nc')\n",
    "\n",
    "for varname in varnames:\n",
    "    print('=============== {} ================='.format(varname))\n",
    "    print(np.array(new_residual_std[varname]))\n",
    "    print(np.array(new_std[varname]))"
   ]
  },
  {
   "cell_type": "markdown",
   "id": "4353b99c-07e1-4a77-90c6-a72222053669",
   "metadata": {},
   "source": [
    "## combining hourly std and residual std values"
   ]
  },
  {
   "cell_type": "code",
   "execution_count": 4,
   "id": "57d06cb8-f4c9-4fcc-b8c6-96cc8ca29fbc",
   "metadata": {},
   "outputs": [],
   "source": [
    "# get variable information from data_preprocessing/config\n",
    "config_name = os.path.realpath('data_config_6h.yml')\n",
    "\n",
    "with open(config_name, 'r') as stream:\n",
    "    conf = yaml.safe_load(stream)"
   ]
  },
  {
   "cell_type": "code",
   "execution_count": 5,
   "id": "938ae354-7408-4a8d-90a4-bf050df45a93",
   "metadata": {},
   "outputs": [],
   "source": [
    "# get variable names\n",
    "varnames = list(conf['residual'].keys())\n",
    "varnames = varnames[:-5] # remove save_loc and others\n",
    "\n",
    "varname_surf = list(set(varnames) - set(['U', 'V', 'T', 'Q']))\n",
    "varname_upper = ['U', 'V', 'T', 'Q']"
   ]
  },
  {
   "cell_type": "code",
   "execution_count": 6,
   "id": "79bd47f3-e0b1-4c3f-a2f0-9cf120b3b09c",
   "metadata": {},
   "outputs": [],
   "source": [
    "ds_std = xr.open_dataset('/glade/campaign/cisl/aiml/ksha/CREDIT/std_1h_1979_2018_16lev_0.25deg.nc')\n",
    "ds_residual = xr.open_dataset('/glade/campaign/cisl/aiml/ksha/CREDIT/residual_1h_1979_2018_16lev_0.25deg.nc')"
   ]
  },
  {
   "cell_type": "code",
   "execution_count": 7,
   "id": "3a003849-4d71-42d4-9a0d-534e8c71b3df",
   "metadata": {},
   "outputs": [],
   "source": [
    "ds_residual_norm = ds_std * ds_residual"
   ]
  },
  {
   "cell_type": "code",
   "execution_count": 8,
   "id": "53f8301f-41a7-4e1e-a4e1-7148c9091e72",
   "metadata": {},
   "outputs": [],
   "source": [
    "ds_residual_norm.to_netcdf('/glade/campaign/cisl/aiml/ksha/CREDIT/std_residual_1h_1979_2018_16lev_0.25deg.nc')"
   ]
  },
  {
   "cell_type": "code",
   "execution_count": 9,
   "id": "a3f8e023-fd6d-45e5-a4cb-da898f4fc933",
   "metadata": {},
   "outputs": [
    {
     "name": "stdout",
     "output_type": "stream",
     "text": [
      "=============== U =================\n",
      "[37.50837517 15.65959598 12.12306848 11.06955485 11.40350376 14.06318096\n",
      " 22.18909891 21.02210126 17.4014687  14.49075883 12.99682088 12.65316072\n",
      " 13.48341479 12.89258523 10.27508765  9.15329183]\n",
      "[38.46675611 18.00053438 13.53067162 11.78335851 11.92359775 14.27738367\n",
      " 20.64312495 19.88923457 16.84942011 14.36661297 13.03030461 12.56880627\n",
      " 12.93323098 12.64396592 10.20226847  9.09365374]\n",
      "=============== V =================\n",
      "[40.89408215 17.44097468 13.5643788  12.23344314 12.56653418 15.94179338\n",
      " 26.58940189 25.03475451 20.57126744 16.850789   14.75387393 14.06960273\n",
      " 15.1866086  14.26665256 11.30278361 10.08848941]\n",
      "[41.51950322 19.99465392 14.86675661 12.7071234  12.47774927 14.92612197\n",
      " 23.54321802 23.3452015  19.54596499 16.20044928 14.28818384 13.59983221\n",
      " 14.42609997 13.73748826 10.95033868  9.77363289]\n",
      "=============== T =================\n",
      "[11.92922548  7.86509374  5.8091386   5.20725476  4.56035505  5.08995555\n",
      "  6.00101565  5.37350895  5.70523869  5.54547105  5.32894455  5.53646002\n",
      "  6.00929127  6.95442776  8.4571371   9.21533742]\n",
      "[14.46018583 10.1640162   7.27024304  6.13770381  4.98983221  5.0373738\n",
      "  5.3712003   4.79187338  4.97836536  4.89070445  4.77318663  5.17663647\n",
      "  5.5420479   5.98425902  6.97761093  7.52725492]\n",
      "=============== Q =================\n",
      "[6.21782499e-07 1.83543886e-07 1.88273074e-07 2.06372363e-07\n",
      " 6.82312189e-07 1.07034923e-05 1.66935815e-04 8.56219304e-04\n",
      " 1.61426594e-03 2.55805456e-03 3.55015533e-03 4.53889445e-03\n",
      " 3.93871343e-03 3.04147699e-03 3.03682866e-03 3.03019983e-03]\n",
      "[8.79321338e-07 1.79657371e-07 1.86098708e-07 1.84871352e-07\n",
      " 7.69932993e-07 1.36123056e-05 2.06651260e-04 9.75301182e-04\n",
      " 1.79219058e-03 2.75445985e-03 3.78682737e-03 4.85306922e-03\n",
      " 4.58181255e-03 3.08766024e-03 3.04869289e-03 3.12133307e-03]\n",
      "=============== SP =================\n",
      "1011.1568076053264\n",
      "818.7888444723911\n",
      "=============== t2m =================\n",
      "10.53766995341408\n",
      "10.269226907239187\n",
      "=============== V500 =================\n",
      "19.387385485979774\n",
      "18.16827729450031\n",
      "=============== U500 =================\n",
      "16.24569924629917\n",
      "15.481169361303083\n",
      "=============== T500 =================\n",
      "5.668357689312373\n",
      "4.835874874951505\n",
      "=============== Z500 =================\n",
      "971.2044036261819\n",
      "748.6752162027025\n",
      "=============== Q500 =================\n",
      "0.0017113079668337663\n",
      "0.0018030633142698896\n",
      "=============== tsi =================\n",
      "40420001.45063575\n",
      "6145021.747734298\n"
     ]
    }
   ],
   "source": [
    "# ------------------------------------------------------- #\n",
    "# Compare with my old ones\n",
    "old_residual_std = xr.open_dataset('/glade/campaign/cisl/aiml/ksha/CREDIT/std_residual_6h_1979_2018_16lev_0.25deg.nc')\n",
    "new_residual_std = xr.open_dataset('/glade/campaign/cisl/aiml/ksha/CREDIT/std_residual_1h_1979_2018_16lev_0.25deg.nc')\n",
    "\n",
    "for varname in varnames:\n",
    "    print('=============== {} ================='.format(varname))\n",
    "    print(np.array(old_residual_std[varname]))\n",
    "    print(np.array(new_residual_std[varname]))"
   ]
  },
  {
   "cell_type": "code",
   "execution_count": null,
   "id": "d7eca548-fd8e-4b54-87ef-5abd3437aaa2",
   "metadata": {},
   "outputs": [],
   "source": []
  }
 ],
 "metadata": {
  "kernelspec": {
   "display_name": "Python 3 (ipykernel)",
   "language": "python",
   "name": "python3"
  },
  "language_info": {
   "codemirror_mode": {
    "name": "ipython",
    "version": 3
   },
   "file_extension": ".py",
   "mimetype": "text/x-python",
   "name": "python",
   "nbconvert_exporter": "python",
   "pygments_lexer": "ipython3",
   "version": "3.11.9"
  }
 },
 "nbformat": 4,
 "nbformat_minor": 5
}
