{
 "cells": [
  {
   "cell_type": "markdown",
   "id": "d779c3f3-dd5e-4194-8925-95e37d9660ec",
   "metadata": {},
   "source": [
    "# Create resaidual norm files for CREDIT"
   ]
  },
  {
   "cell_type": "code",
   "execution_count": null,
   "id": "3e399085-3c08-46c9-8e07-fa7e3e0b63c7",
   "metadata": {},
   "outputs": [],
   "source": [
    "import os\n",
    "import yaml\n",
    "import copy\n",
    "import numpy as np\n",
    "import xarray as xr"
   ]
  },
  {
   "cell_type": "code",
   "execution_count": null,
   "id": "7ce73a4a-5b8b-4b22-958f-56a7eaa38881",
   "metadata": {},
   "outputs": [],
   "source": [
    "from scipy.stats import gmean"
   ]
  },
  {
   "cell_type": "code",
   "execution_count": null,
   "id": "6c58f08d-db2c-4606-a52d-93ef9f13bdd9",
   "metadata": {},
   "outputs": [],
   "source": [
    "import matplotlib.pyplot as plt\n",
    "%matplotlib inline"
   ]
  },
  {
   "cell_type": "markdown",
   "id": "2018bd3e-64bd-4953-a58a-06a0cb311c34",
   "metadata": {},
   "source": [
    "## File creation"
   ]
  },
  {
   "cell_type": "markdown",
   "id": "e21cdcff-6ae7-4a36-a68e-9b304dea5a52",
   "metadata": {},
   "source": [
    "### 6 hourly mean std files"
   ]
  },
  {
   "cell_type": "code",
   "execution_count": null,
   "id": "94584383-7a21-4e92-95c4-bfa075634cb4",
   "metadata": {},
   "outputs": [],
   "source": [
    "# get variable information from data_preprocessing/config\n",
    "config_name = os.path.realpath('data_config_6h.yml')\n",
    "\n",
    "with open(config_name, 'r') as stream:\n",
    "    conf = yaml.safe_load(stream)"
   ]
  },
  {
   "cell_type": "code",
   "execution_count": null,
   "id": "a4f6a53b-6efe-478e-a35d-2e1479e6d4e2",
   "metadata": {},
   "outputs": [],
   "source": [
    "N_levels = 15"
   ]
  },
  {
   "cell_type": "code",
   "execution_count": null,
   "id": "4dafceb5-1621-4622-a78d-078dfdd94cef",
   "metadata": {},
   "outputs": [],
   "source": [
    "# get variable names\n",
    "varnames = list(conf['residual'].keys())\n",
    "varnames = varnames[:-5] # remove save_loc and others\n",
    "\n",
    "varname_surf = list(set(varnames) - set(['U', 'V', 'T', 'Q']))\n",
    "varname_upper = ['U', 'V', 'T', 'Q']\n",
    "\n",
    "# collect computed mean and variance values\n",
    "# See \"qsub_STEP01_compute_mean_std.ipynb\"\n",
    "MEAN_values = {}\n",
    "STD_values = {}\n",
    "\n",
    "for varname in varname_surf:\n",
    "    save_name = conf['residual']['save_loc'] + '{}_mean_std_{}.npy'.format(conf['residual']['prefix'], varname)\n",
    "    mean_std = np.load(save_name)\n",
    "    MEAN_values[varname] = mean_std[0]\n",
    "    STD_values[varname] = mean_std[1]\n",
    "\n",
    "for varname in varname_upper:\n",
    "\n",
    "    # -------------------------------------------- #\n",
    "    # allocate all levels\n",
    "    mean_std_all_levels = np.empty((2, N_levels))\n",
    "    mean_std_all_levels[...] = np.nan\n",
    "    \n",
    "    for i_level in range(15):\n",
    "        save_name = conf['residual']['save_loc'] + '{}_level{}_mean_std_{}.npy'.format(conf['residual']['prefix'], i_level+1, varname)\n",
    "        mean_std = np.load(save_name)\n",
    "        mean_std_all_levels[:, i_level] = mean_std\n",
    "\n",
    "    # -------------------------------------------- #\n",
    "    # save\n",
    "    MEAN_values[varname] = np.copy(mean_std_all_levels[0, :])\n",
    "    STD_values[varname] = np.copy(mean_std_all_levels[1, :])"
   ]
  },
  {
   "cell_type": "code",
   "execution_count": null,
   "id": "6b9660fc-e33e-45e4-a97c-8fb2ef4d31ce",
   "metadata": {},
   "outputs": [],
   "source": [
    "std_val_all = list(STD_values.values())\n",
    "std_val_surf = np.array(std_val_all[:len(varname_surf)])\n",
    "std_val_upper = std_val_all[len(varname_surf):]"
   ]
  },
  {
   "cell_type": "code",
   "execution_count": null,
   "id": "42445e40-5034-442a-a41f-b85aa895b631",
   "metadata": {},
   "outputs": [],
   "source": [
    "std_concat = np.concatenate([std_val_surf]+ std_val_upper)\n",
    "std_g = gmean(np.sqrt(std_concat))"
   ]
  },
  {
   "cell_type": "code",
   "execution_count": null,
   "id": "9bc71d2d-f5f6-4f56-99c4-30f67ffc04d4",
   "metadata": {},
   "outputs": [],
   "source": [
    "# ------------------------------------------------------- #\n",
    "# create xr.DataArray for std\n",
    "# Initialize level coord\n",
    "level = np.array([ 10,  30,  40,  50,  60,  70,  80,  90,  95, 100, 105, 110, 120, 130, 136])\n",
    "\n",
    "ds_std_6h = xr.Dataset(coords={\"level\": level})\n",
    "\n",
    "for varname, data in STD_values.items():\n",
    "    data = np.sqrt(data) / std_g # <--- var to std and divided by std_g\n",
    "    if len(data.shape) == 1:\n",
    "        data_array = xr.DataArray(\n",
    "            data,\n",
    "            dims=[\"level\",],\n",
    "            coords={\"level\": level},\n",
    "            name=varname,\n",
    "        )\n",
    "        ds_std_6h[varname] = data_array\n",
    "    else:\n",
    "        data_array = xr.DataArray(\n",
    "            data,\n",
    "            name=varname,\n",
    "        )\n",
    "        ds_std_6h[varname] = data_array"
   ]
  },
  {
   "cell_type": "code",
   "execution_count": null,
   "id": "52b440f6-1f28-4508-bf71-98de19bf116e",
   "metadata": {},
   "outputs": [],
   "source": [
    "# ds_std_6h.to_netcdf('/glade/campaign/cisl/aiml/ksha/CREDIT/residual_6h_1979_2018_0.25deg.nc')"
   ]
  },
  {
   "cell_type": "code",
   "execution_count": null,
   "id": "3a72a6bd-adb0-4f1d-b1ea-ffd3fcd4004c",
   "metadata": {},
   "outputs": [],
   "source": [
    "# ------------------------------------------------------- #\n",
    "# Compare with my old ones\n",
    "my_std = xr.open_dataset('/glade/campaign/cisl/aiml/ksha/CREDIT/residual_6h_1979_2018_0.25deg.nc')\n",
    "#DJ_std = xr.open_dataset('xxxxx')\n",
    "\n",
    "for varname in varnames:\n",
    "    print('=============== {} ================='.format(varname))\n",
    "    print(np.array(my_std[varname]))\n",
    "    #print(np.array(DJ_std[varname]))"
   ]
  },
  {
   "cell_type": "code",
   "execution_count": null,
   "id": "c91e350b-a802-4cde-93ea-803814a09fb5",
   "metadata": {},
   "outputs": [],
   "source": []
  },
  {
   "cell_type": "code",
   "execution_count": null,
   "id": "94a6e812-eafc-4dc1-bb0b-ee4d2b6c21ad",
   "metadata": {},
   "outputs": [],
   "source": []
  },
  {
   "cell_type": "markdown",
   "id": "244068b2-69f3-49dc-b061-59b30668daf4",
   "metadata": {},
   "source": [
    "## Plot"
   ]
  },
  {
   "cell_type": "code",
   "execution_count": null,
   "id": "9752f1c0-9034-4ef7-aea4-5304422cf245",
   "metadata": {},
   "outputs": [],
   "source": [
    "varname_plot = copy.copy(varname_surf)\n",
    "\n",
    "for varname in varname_upper:\n",
    "    for i_level in range(15):\n",
    "        varname_plot.append('{}_lev{}'.format(varname, i_level))\n",
    "\n",
    "residual_vals = std_concat / std_g"
   ]
  },
  {
   "cell_type": "code",
   "execution_count": null,
   "id": "53905001-a115-4231-88fa-5980642635ef",
   "metadata": {},
   "outputs": [],
   "source": [
    "fig = plt.figure(figsize=(8, 15))\n",
    "ax = fig.gca()\n",
    "ax.grid(linestyle=':')\n",
    "ax.barh(varname_plot[::-1], residual_vals[::-1], color='skyblue', edgecolor='k')\n",
    "plt.autoscale(enable=True, axis='y', tight=True)\n",
    "ax.set_title('Residual norm constants (larger means higher penalty)', fontsize=14)"
   ]
  },
  {
   "cell_type": "code",
   "execution_count": null,
   "id": "772652bc-f21c-453f-adcf-996305856ba6",
   "metadata": {},
   "outputs": [],
   "source": []
  }
 ],
 "metadata": {
  "kernelspec": {
   "display_name": "Python 3 (ipykernel)",
   "language": "python",
   "name": "python3"
  },
  "language_info": {
   "codemirror_mode": {
    "name": "ipython",
    "version": 3
   },
   "file_extension": ".py",
   "mimetype": "text/x-python",
   "name": "python",
   "nbconvert_exporter": "python",
   "pygments_lexer": "ipython3",
   "version": "3.11.9"
  }
 },
 "nbformat": 4,
 "nbformat_minor": 5
}
