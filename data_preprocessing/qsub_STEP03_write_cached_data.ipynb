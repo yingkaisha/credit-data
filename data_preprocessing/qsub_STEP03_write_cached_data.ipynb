{
 "cells": [
  {
   "cell_type": "markdown",
   "id": "304505aa-820b-41ea-af52-57a62b6c8655",
   "metadata": {},
   "source": [
    "# Generate qsub scripts to compute mean and std per variable"
   ]
  },
  {
   "cell_type": "code",
   "execution_count": 1,
   "id": "a4e06d0d-df0e-4353-9fc7-dcab383a8d70",
   "metadata": {},
   "outputs": [],
   "source": [
    "import os\n",
    "import sys\n",
    "import yaml\n",
    "import numpy as np\n",
    "import xarray as xr"
   ]
  },
  {
   "cell_type": "code",
   "execution_count": 2,
   "id": "94494a11-1fef-419e-9dfe-4307e9e90634",
   "metadata": {},
   "outputs": [],
   "source": [
    "sys.path.insert(0, os.path.realpath('../libs/'))\n",
    "import preprocess_utils as pu"
   ]
  },
  {
   "cell_type": "markdown",
   "id": "37ecc2bd-f660-4717-8394-5718d1ce51f6",
   "metadata": {},
   "source": [
    "## 6 hourly residual"
   ]
  },
  {
   "cell_type": "code",
   "execution_count": 3,
   "id": "114b8b39-a02d-4382-8062-55591204e374",
   "metadata": {},
   "outputs": [],
   "source": [
    "config_name = os.path.realpath('data_config_6h.yml')\n",
    "\n",
    "with open(config_name, 'r') as stream:\n",
    "    conf = yaml.safe_load(stream)"
   ]
  },
  {
   "cell_type": "code",
   "execution_count": 4,
   "id": "f7295873-ba86-4211-aa08-4919cb72e148",
   "metadata": {},
   "outputs": [],
   "source": [
    "years_range = conf['cache']['years_range']\n",
    "years = np.arange(years_range[0], years_range[1])"
   ]
  },
  {
   "cell_type": "code",
   "execution_count": 6,
   "id": "ee122092-b5c0-46eb-ae95-0f58d31c23f5",
   "metadata": {},
   "outputs": [],
   "source": [
    "for i_year, year in enumerate(years):\n",
    "    \n",
    "    f = open('{}cache_6h_{}.sh'.format(conf['qsub']['qsub_loc'], year), 'w') \n",
    "    \n",
    "    heads = '''#!/bin/bash -l\n",
    "\n",
    "#PBS -N c{}\n",
    "#PBS -A NAML0001\n",
    "#PBS -l walltime=23:59:59\n",
    "#PBS -l select=1:ncpus=4:mem=364GB\n",
    "#PBS -q casper\n",
    "#PBS -o cache_{}.log\n",
    "#PBS -e cache_{}.err\n",
    "\n",
    "conda activate credit\n",
    "cd {}\n",
    "python write_cache_dataset_6h.py {}\n",
    "'''.format(year, year, year, \n",
    "           conf['qsub']['scripts_loc'], \n",
    "           year)\n",
    "    \n",
    "    print(heads, file=f)    \n",
    "    f.close()\n",
    "\n",
    "f = open('{}batch_write_cache_6h.sh'.format(conf['qsub']['qsub_loc']), 'w')\n",
    "\n",
    "for i_year, year in enumerate(years):\n",
    "    print('qsub cache_6h_{}.sh'.format(year), file=f)\n",
    "    \n",
    "f.close()"
   ]
  },
  {
   "cell_type": "code",
   "execution_count": null,
   "id": "1613ea6b-76fc-47a0-b77b-9616fcfb5cbb",
   "metadata": {},
   "outputs": [],
   "source": []
  }
 ],
 "metadata": {
  "kernelspec": {
   "display_name": "Python 3 (ipykernel)",
   "language": "python",
   "name": "python3"
  },
  "language_info": {
   "codemirror_mode": {
    "name": "ipython",
    "version": 3
   },
   "file_extension": ".py",
   "mimetype": "text/x-python",
   "name": "python",
   "nbconvert_exporter": "python",
   "pygments_lexer": "ipython3",
   "version": "3.11.9"
  }
 },
 "nbformat": 4,
 "nbformat_minor": 5
}
