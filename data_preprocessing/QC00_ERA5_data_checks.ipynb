{
 "cells": [
  {
   "cell_type": "markdown",
   "id": "94225d6f-7da6-4128-b75f-f7a84ea9f0d4",
   "metadata": {},
   "source": [
    "# Basic checks of CREDIT ERA5 inputs"
   ]
  },
  {
   "cell_type": "code",
   "execution_count": 1,
   "id": "e5c4a10e-85df-4af3-b85a-8c8350e4f512",
   "metadata": {},
   "outputs": [],
   "source": [
    "import numpy as np\n",
    "import xarray as xr\n",
    "from glob import glob"
   ]
  },
  {
   "cell_type": "code",
   "execution_count": 2,
   "id": "54775fef-a06a-41e3-b8f7-69e70e6a9eb5",
   "metadata": {},
   "outputs": [],
   "source": [
    "import matplotlib.pyplot as plt\n",
    "%matplotlib inline"
   ]
  },
  {
   "cell_type": "markdown",
   "id": "ca26e361-e852-4683-a516-fbb14d9ce025",
   "metadata": {},
   "source": [
    "## Variable name and file size consistency checks"
   ]
  },
  {
   "cell_type": "code",
   "execution_count": 3,
   "id": "fb6d782f-95e0-4c95-92a7-37b008e0e3f1",
   "metadata": {},
   "outputs": [],
   "source": [
    "# filenames = sorted(glob('/glade/derecho/scratch/ksha/CREDIT_data/ERA5_plevel_base/upper_air/*.zarr'))\n",
    "\n",
    "# for i_fn, fn in enumerate(filenames):\n",
    "#     try:\n",
    "#         ds_temp = xr.open_zarr(fn)\n",
    "#         # print(list(ds_temp.keys()))\n",
    "#         variable_sizes = [var.size for var_name, var in ds_temp.data_vars.items()]\n",
    "#         print(variable_sizes)\n",
    "#     except:\n",
    "#         print(fn)"
   ]
  },
  {
   "cell_type": "code",
   "execution_count": 4,
   "id": "40cd9ae5-d60b-4caa-94ef-324fe2135c00",
   "metadata": {},
   "outputs": [],
   "source": [
    "# filenames = sorted(glob('/glade/derecho/scratch/ksha/CREDIT_data/ERA5_plevel_base/accum/*.zarr'))\n",
    "\n",
    "# for i_fn, fn in enumerate(filenames):\n",
    "#     try:\n",
    "#         ds_temp = xr.open_zarr(fn)\n",
    "#         # print(list(ds_temp.keys()))\n",
    "#         variable_sizes = [var.size for var_name, var in ds_temp.data_vars.items()]\n",
    "#         print(variable_sizes)\n",
    "#     except:\n",
    "#         print(fn)"
   ]
  },
  {
   "cell_type": "code",
   "execution_count": 5,
   "id": "1cf01514-a8ec-49c3-b85b-2fd87963213b",
   "metadata": {},
   "outputs": [],
   "source": [
    "# filenames = sorted(glob('/glade/derecho/scratch/ksha/CREDIT_data/ERA5_plevel_base/surf/*.zarr'))\n",
    "\n",
    "# for i_fn, fn in enumerate(filenames):\n",
    "#     try:\n",
    "#         ds_temp = xr.open_zarr(fn)\n",
    "#         # print(list(ds_temp.keys()))\n",
    "#         variable_sizes = [var.size for var_name, var in ds_temp.data_vars.items()]\n",
    "#         print(variable_sizes)\n",
    "#     except:\n",
    "#         print(fn)"
   ]
  },
  {
   "cell_type": "markdown",
   "id": "111db59a-a733-4bb3-aeb4-c5460ff9c4a7",
   "metadata": {},
   "source": [
    "## NaN checks"
   ]
  },
  {
   "cell_type": "code",
   "execution_count": 6,
   "id": "5afeec8d-074c-430e-9db2-99e3d26889b5",
   "metadata": {},
   "outputs": [],
   "source": [
    "# def check_nans_ds(ds):\n",
    "#     return ds.to_array().isnull().any().compute().item()\n",
    "#     # return bool(ds.to_array().isnull().any().compute())\n",
    "\n",
    "def check_nans_ds(ds):\n",
    "    nan_vars = []\n",
    "    for var in ds.data_vars:\n",
    "        # Check if there are any NaNs in the variable\n",
    "        if ds[var].isnull().any():\n",
    "            nan_vars.append(var)\n",
    "    return nan_vars"
   ]
  },
  {
   "cell_type": "code",
   "execution_count": 7,
   "id": "6aa49550-4cfa-49e2-809b-22adb23a4d02",
   "metadata": {},
   "outputs": [
    {
     "name": "stdout",
     "output_type": "stream",
     "text": [
      "Dataset does not contain NaNs\n",
      "Dataset does not contain NaNs\n",
      "Dataset does not contain NaNs\n",
      "Dataset does not contain NaNs\n",
      "Dataset does not contain NaNs\n",
      "Dataset does not contain NaNs\n"
     ]
    },
    {
     "name": "stderr",
     "output_type": "stream",
     "text": [
      "\n",
      "KeyboardInterrupt\n",
      "\n"
     ]
    }
   ],
   "source": [
    "filenames = sorted(\n",
    "    glob('/glade/derecho/scratch/ksha/CREDIT_data/ERA5_plevel_1deg/all_in_one/*.zarr'))\n",
    "#glob('/glade/derecho/scratch/ksha/CREDIT_data/ERA5_plevel_base/all_in_one/*.zarr'))\n",
    "\n",
    "for i_fn, fn in enumerate(filenames):\n",
    "    ds_temp = xr.open_zarr(fn)\n",
    "    nan_vars = check_nans_ds(ds_temp)\n",
    "    \n",
    "    if nan_vars:\n",
    "        print('Dataset contains NaNs in the following variables:')\n",
    "        for var in nan_vars:\n",
    "            print(f\"- {nan_vars}\")\n",
    "        print(f\"File: {fn}\")\n",
    "    else:\n",
    "        print('Dataset does not contain NaNs')"
   ]
  },
  {
   "cell_type": "code",
   "execution_count": 7,
   "id": "07d2c007-f702-4e6a-b6c6-633678f92c62",
   "metadata": {},
   "outputs": [
    {
     "data": {
      "text/plain": [
       "'/glade/derecho/scratch/ksha/CREDIT_data/ERA5_plevel_1deg/all_in_one/ERA5_plevel_1deg_6h_1979_bilinear.zarr'"
      ]
     },
     "execution_count": 7,
     "metadata": {},
     "output_type": "execute_result"
    }
   ],
   "source": [
    "filenames[0]"
   ]
  },
  {
   "cell_type": "markdown",
   "id": "adbc0fbf-4535-4bda-8541-d68832ee0b96",
   "metadata": {},
   "source": [
    "## Check training_log"
   ]
  },
  {
   "cell_type": "code",
   "execution_count": 3,
   "id": "c747527f-3428-49c7-ac6f-bf1c038113b7",
   "metadata": {},
   "outputs": [],
   "source": [
    "ds = xr.open_zarr('/glade/derecho/scratch/ksha/CREDIT_data/ERA5_plevel_1deg/all_in_one/ERA5_plevel_1deg_6h_1979_bilinear.zarr')"
   ]
  },
  {
   "cell_type": "code",
   "execution_count": 12,
   "id": "07a2aff9-76dc-4441-acad-c5ad9d39cdc6",
   "metadata": {},
   "outputs": [],
   "source": [
    "mask = np.array(ds['land_sea_CI_mask'].isel(time=999))"
   ]
  },
  {
   "cell_type": "code",
   "execution_count": 14,
   "id": "ac01c1bb-86c1-4941-b3c6-186966d72153",
   "metadata": {},
   "outputs": [
    {
     "data": {
      "text/plain": [
       "0.614922"
      ]
     },
     "execution_count": 14,
     "metadata": {},
     "output_type": "execute_result"
    }
   ],
   "source": [
    "np.std(mask)"
   ]
  },
  {
   "cell_type": "code",
   "execution_count": 13,
   "id": "f071ef33-4e79-4beb-ab55-7991be0b050c",
   "metadata": {},
   "outputs": [
    {
     "data": {
      "text/plain": [
       "<matplotlib.collections.QuadMesh at 0x15454c2173d0>"
      ]
     },
     "execution_count": 13,
     "metadata": {},
     "output_type": "execute_result"
    },
    {
     "data": {
      "image/png": "[encoded data removed]",
      "text/plain": [
       "<Figure size 640x480 with 1 Axes>"
      ]
     },
     "metadata": {},
     "output_type": "display_data"
    }
   ],
   "source": [
    "plt.pcolormesh(mask)"
   ]
  },
  {
   "cell_type": "code",
   "execution_count": 5,
   "id": "b54b1e81-6bff-4880-ad75-dbb446b0e482",
   "metadata": {},
   "outputs": [
    {
     "data": {
      "text/html": [
       "<div><svg style=\"position: absolute; width: 0; height: 0; overflow: hidden\">\n",
       "<defs>\n",
       "<symbol id=\"icon-database\" viewBox=\"0 0 32 32\">\n",
       "<path d=\"M16 0c-8.837 0-16 2.239-16 5v4c0 2.761 7.163 5 16 5s16-2.239 16-5v-4c0-2.761-7.163-5-16-5z\"></path>\n",
       "<path d=\"M16 17c-8.837 0-16-2.239-16-5v6c0 2.761 7.163 5 16 5s16-2.239 16-5v-6c0 2.761-7.163 5-16 5z\"></path>\n",
       "<path d=\"M16 26c-8.837 0-16-2.239-16-5v6c0 2.761 7.163 5 16 5s16-2.239 16-5v-6c0 2.761-7.163 5-16 5z\"></path>\n",
       "</symbol>\n",
       "<symbol id=\"icon-file-text2\" viewBox=\"0 0 32 32\">\n",
       "<path d=\"M28.681 7.159c-0.694-0.947-1.662-2.053-2.724-3.116s-2.169-2.030-3.116-2.724c-1.612-1.182-2.393-1.319-2.841-1.319h-15.5c-1.378 0-2.5 1.121-2.5 2.5v27c0 1.378 1.122 2.5 2.5 2.5h23c1.378 0 2.5-1.122 2.5-2.5v-19.5c0-0.448-0.137-1.23-1.319-2.841zM24.543 5.457c0.959 0.959 1.712 1.825 2.268 2.543h-4.811v-4.811c0.718 0.556 1.584 1.309 2.543 2.268zM28 29.5c0 0.271-0.229 0.5-0.5 0.5h-23c-0.271 0-0.5-0.229-0.5-0.5v-27c0-0.271 0.229-0.5 0.5-0.5 0 0 15.499-0 15.5 0v7c0 0.552 0.448 1 1 1h7v19.5z\"></path>\n",
       "<path d=\"M23 26h-14c-0.552 0-1-0.448-1-1s0.448-1 1-1h14c0.552 0 1 0.448 1 1s-0.448 1-1 1z\"></path>\n",
       "<path d=\"M23 22h-14c-0.552 0-1-0.448-1-1s0.448-1 1-1h14c0.552 0 1 0.448 1 1s-0.448 1-1 1z\"></path>\n",
       "<path d=\"M23 18h-14c-0.552 0-1-0.448-1-1s0.448-1 1-1h14c0.552 0 1 0.448 1 1s-0.448 1-1 1z\"></path>\n",
       "</symbol>\n",
       "</defs>\n",
       "</svg>\n",
       "<style>/* CSS stylesheet for displaying xarray objects in jupyterlab.\n",
       " *\n",
       " */\n",
       "\n",
       ":root {\n",
       "  --xr-font-color0: var(--jp-content-font-color0, rgba(0, 0, 0, 1));\n",
       "  --xr-font-color2: var(--jp-content-font-color2, rgba(0, 0, 0, 0.54));\n",
       "  --xr-font-color3: var(--jp-content-font-color3, rgba(0, 0, 0, 0.38));\n",
       "  --xr-border-color: var(--jp-border-color2, #e0e0e0);\n",
       "  --xr-disabled-color: var(--jp-layout-color3, #bdbdbd);\n",
       "  --xr-background-color: var(--jp-layout-color0, white);\n",
       "  --xr-background-color-row-even: var(--jp-layout-color1, white);\n",
       "  --xr-background-color-row-odd: var(--jp-layout-color2, #eeeeee);\n",
       "}\n",
       "\n",
       "html[theme=dark],\n",
       "body[data-theme=dark],\n",
       "body.vscode-dark {\n",
       "  --xr-font-color0: rgba(255, 255, 255, 1);\n",
       "  --xr-font-color2: rgba(255, 255, 255, 0.54);\n",
       "  --xr-font-color3: rgba(255, 255, 255, 0.38);\n",
       "  --xr-border-color: #1F1F1F;\n",
       "  --xr-disabled-color: #515151;\n",
       "  --xr-background-color: #111111;\n",
       "  --xr-background-color-row-even: #111111;\n",
       "  --xr-background-color-row-odd: #313131;\n",
       "}\n",
       "\n",
       ".xr-wrap {\n",
       "  display: block !important;\n",
       "  min-width: 300px;\n",
       "  max-width: 700px;\n",
       "}\n",
       "\n",
       ".xr-text-repr-fallback {\n",
       "  /* fallback to plain text repr when CSS is not injected (untrusted notebook) */\n",
       "  display: none;\n",
       "}\n",
       "\n",
       ".xr-header {\n",
       "  padding-top: 6px;\n",
       "  padding-bottom: 6px;\n",
       "  margin-bottom: 4px;\n",
       "  border-bottom: solid 1px var(--xr-border-color);\n",
       "}\n",
       "\n",
       ".xr-header > div,\n",
       ".xr-header > ul {\n",
       "  display: inline;\n",
       "  margin-top: 0;\n",
       "  margin-bottom: 0;\n",
       "}\n",
       "\n",
       ".xr-obj-type,\n",
       ".xr-array-name {\n",
       "  margin-left: 2px;\n",
       "  margin-right: 10px;\n",
       "}\n",
       "\n",
       ".xr-obj-type {\n",
       "  color: var(--xr-font-color2);\n",
       "}\n",
       "\n",
       ".xr-sections {\n",
       "  padding-left: 0 !important;\n",
       "  display: grid;\n",
       "  grid-template-columns: 150px auto auto 1fr 20px 20px;\n",
       "}\n",
       "\n",
       ".xr-section-item {\n",
       "  display: contents;\n",
       "}\n",
       "\n",
       ".xr-section-item input {\n",
       "  display: none;\n",
       "}\n",
       "\n",
       ".xr-section-item input + label {\n",
       "  color: var(--xr-disabled-color);\n",
       "}\n",
       "\n",
       ".xr-section-item input:enabled + label {\n",
       "  cursor: pointer;\n",
       "  color: var(--xr-font-color2);\n",
       "}\n",
       "\n",
       ".xr-section-item input:enabled + label:hover {\n",
       "  color: var(--xr-font-color0);\n",
       "}\n",
       "\n",
       ".xr-section-summary {\n",
       "  grid-column: 1;\n",
       "  color: var(--xr-font-color2);\n",
       "  font-weight: 500;\n",
       "}\n",
       "\n",
       ".xr-section-summary > span {\n",
       "  display: inline-block;\n",
       "  padding-left: 0.5em;\n",
       "}\n",
       "\n",
       ".xr-section-summary-in:disabled + label {\n",
       "  color: var(--xr-font-color2);\n",
       "}\n",
       "\n",
       ".xr-section-summary-in + label:before {\n",
       "  display: inline-block;\n",
       "  content: '►';\n",
       "  font-size: 11px;\n",
       "  width: 15px;\n",
       "  text-align: center;\n",
       "}\n",
       "\n",
       ".xr-section-summary-in:disabled + label:before {\n",
       "  color: var(--xr-disabled-color);\n",
       "}\n",
       "\n",
       ".xr-section-summary-in:checked + label:before {\n",
       "  content: '▼';\n",
       "}\n",
       "\n",
       ".xr-section-summary-in:checked + label > span {\n",
       "  display: none;\n",
       "}\n",
       "\n",
       ".xr-section-summary,\n",
       ".xr-section-inline-details {\n",
       "  padding-top: 4px;\n",
       "  padding-bottom: 4px;\n",
       "}\n",
       "\n",
       ".xr-section-inline-details {\n",
       "  grid-column: 2 / -1;\n",
       "}\n",
       "\n",
       ".xr-section-details {\n",
       "  display: none;\n",
       "  grid-column: 1 / -1;\n",
       "  margin-bottom: 5px;\n",
       "}\n",
       "\n",
       ".xr-section-summary-in:checked ~ .xr-section-details {\n",
       "  display: contents;\n",
       "}\n",
       "\n",
       ".xr-array-wrap {\n",
       "  grid-column: 1 / -1;\n",
       "  display: grid;\n",
       "  grid-template-columns: 20px auto;\n",
       "}\n",
       "\n",
       ".xr-array-wrap > label {\n",
       "  grid-column: 1;\n",
       "  vertical-align: top;\n",
       "}\n",
       "\n",
       ".xr-preview {\n",
       "  color: var(--xr-font-color3);\n",
       "}\n",
       "\n",
       ".xr-array-preview,\n",
       ".xr-array-data {\n",
       "  padding: 0 5px !important;\n",
       "  grid-column: 2;\n",
       "}\n",
       "\n",
       ".xr-array-data,\n",
       ".xr-array-in:checked ~ .xr-array-preview {\n",
       "  display: none;\n",
       "}\n",
       "\n",
       ".xr-array-in:checked ~ .xr-array-data,\n",
       ".xr-array-preview {\n",
       "  display: inline-block;\n",
       "}\n",
       "\n",
       ".xr-dim-list {\n",
       "  display: inline-block !important;\n",
       "  list-style: none;\n",
       "  padding: 0 !important;\n",
       "  margin: 0;\n",
       "}\n",
       "\n",
       ".xr-dim-list li {\n",
       "  display: inline-block;\n",
       "  padding: 0;\n",
       "  margin: 0;\n",
       "}\n",
       "\n",
       ".xr-dim-list:before {\n",
       "  content: '(';\n",
       "}\n",
       "\n",
       ".xr-dim-list:after {\n",
       "  content: ')';\n",
       "}\n",
       "\n",
       ".xr-dim-list li:not(:last-child):after {\n",
       "  content: ',';\n",
       "  padding-right: 5px;\n",
       "}\n",
       "\n",
       ".xr-has-index {\n",
       "  font-weight: bold;\n",
       "}\n",
       "\n",
       ".xr-var-list,\n",
       ".xr-var-item {\n",
       "  display: contents;\n",
       "}\n",
       "\n",
       ".xr-var-item > div,\n",
       ".xr-var-item label,\n",
       ".xr-var-item > .xr-var-name span {\n",
       "  background-color: var(--xr-background-color-row-even);\n",
       "  margin-bottom: 0;\n",
       "}\n",
       "\n",
       ".xr-var-item > .xr-var-name:hover span {\n",
       "  padding-right: 5px;\n",
       "}\n",
       "\n",
       ".xr-var-list > li:nth-child(odd) > div,\n",
       ".xr-var-list > li:nth-child(odd) > label,\n",
       ".xr-var-list > li:nth-child(odd) > .xr-var-name span {\n",
       "  background-color: var(--xr-background-color-row-odd);\n",
       "}\n",
       "\n",
       ".xr-var-name {\n",
       "  grid-column: 1;\n",
       "}\n",
       "\n",
       ".xr-var-dims {\n",
       "  grid-column: 2;\n",
       "}\n",
       "\n",
       ".xr-var-dtype {\n",
       "  grid-column: 3;\n",
       "  text-align: right;\n",
       "  color: var(--xr-font-color2);\n",
       "}\n",
       "\n",
       ".xr-var-preview {\n",
       "  grid-column: 4;\n",
       "}\n",
       "\n",
       ".xr-index-preview {\n",
       "  grid-column: 2 / 5;\n",
       "  color: var(--xr-font-color2);\n",
       "}\n",
       "\n",
       ".xr-var-name,\n",
       ".xr-var-dims,\n",
       ".xr-var-dtype,\n",
       ".xr-preview,\n",
       ".xr-attrs dt {\n",
       "  white-space: nowrap;\n",
       "  overflow: hidden;\n",
       "  text-overflow: ellipsis;\n",
       "  padding-right: 10px;\n",
       "}\n",
       "\n",
       ".xr-var-name:hover,\n",
       ".xr-var-dims:hover,\n",
       ".xr-var-dtype:hover,\n",
       ".xr-attrs dt:hover {\n",
       "  overflow: visible;\n",
       "  width: auto;\n",
       "  z-index: 1;\n",
       "}\n",
       "\n",
       ".xr-var-attrs,\n",
       ".xr-var-data,\n",
       ".xr-index-data {\n",
       "  display: none;\n",
       "  background-color: var(--xr-background-color) !important;\n",
       "  padding-bottom: 5px !important;\n",
       "}\n",
       "\n",
       ".xr-var-attrs-in:checked ~ .xr-var-attrs,\n",
       ".xr-var-data-in:checked ~ .xr-var-data,\n",
       ".xr-index-data-in:checked ~ .xr-index-data {\n",
       "  display: block;\n",
       "}\n",
       "\n",
       ".xr-var-data > table {\n",
       "  float: right;\n",
       "}\n",
       "\n",
       ".xr-var-name span,\n",
       ".xr-var-data,\n",
       ".xr-index-name div,\n",
       ".xr-index-data,\n",
       ".xr-attrs {\n",
       "  padding-left: 25px !important;\n",
       "}\n",
       "\n",
       ".xr-attrs,\n",
       ".xr-var-attrs,\n",
       ".xr-var-data,\n",
       ".xr-index-data {\n",
       "  grid-column: 1 / -1;\n",
       "}\n",
       "\n",
       "dl.xr-attrs {\n",
       "  padding: 0;\n",
       "  margin: 0;\n",
       "  display: grid;\n",
       "  grid-template-columns: 125px auto;\n",
       "}\n",
       "\n",
       ".xr-attrs dt,\n",
       ".xr-attrs dd {\n",
       "  padding: 0;\n",
       "  margin: 0;\n",
       "  float: left;\n",
       "  padding-right: 10px;\n",
       "  width: auto;\n",
       "}\n",
       "\n",
       ".xr-attrs dt {\n",
       "  font-weight: normal;\n",
       "  grid-column: 1;\n",
       "}\n",
       "\n",
       ".xr-attrs dt:hover span {\n",
       "  display: inline-block;\n",
       "  background: var(--xr-background-color);\n",
       "  padding-right: 10px;\n",
       "}\n",
       "\n",
       ".xr-attrs dd {\n",
       "  grid-column: 2;\n",
       "  white-space: pre-wrap;\n",
       "  word-break: break-all;\n",
       "}\n",
       "\n",
       ".xr-icon-database,\n",
       ".xr-icon-file-text2,\n",
       ".xr-no-icon {\n",
       "  display: inline-block;\n",
       "  vertical-align: middle;\n",
       "  width: 1em;\n",
       "  height: 1.5em !important;\n",
       "  stroke-width: 0;\n",
       "  stroke: currentColor;\n",
       "  fill: currentColor;\n",
       "}\n",
       "</style><pre class='xr-text-repr-fallback'>&lt;xarray.Dataset&gt;\n",
       "Dimensions:                  (latitude: 181, longitude: 360)\n",
       "Coordinates:\n",
       "  * latitude                 (latitude) int64 90 89 88 87 86 ... -87 -88 -89 -90\n",
       "  * longitude                (longitude) int64 0 1 2 3 4 ... 355 356 357 358 359\n",
       "Data variables:\n",
       "    geopotential_at_surface  (latitude, longitude) float32 dask.array&lt;chunksize=(181, 360), meta=np.ndarray&gt;\n",
       "    land_sea_mask            (latitude, longitude) float32 dask.array&lt;chunksize=(181, 360), meta=np.ndarray&gt;\n",
       "    z_norm                   (latitude, longitude) float32 dask.array&lt;chunksize=(181, 360), meta=np.ndarray&gt;\n",
       "Attributes:\n",
       "    regrid_method:  bilinear</pre><div class='xr-wrap' style='display:none'><div class='xr-header'><div class='xr-obj-type'>xarray.Dataset</div></div><ul class='xr-sections'><li class='xr-section-item'><input id='section-15040ef7-f67f-47aa-8311-291ee7cf241c' class='xr-section-summary-in' type='checkbox' disabled ><label for='section-15040ef7-f67f-47aa-8311-291ee7cf241c' class='xr-section-summary'  title='Expand/collapse section'>Dimensions:</label><div class='xr-section-inline-details'><ul class='xr-dim-list'><li><span class='xr-has-index'>latitude</span>: 181</li><li><span class='xr-has-index'>longitude</span>: 360</li></ul></div><div class='xr-section-details'></div></li><li class='xr-section-item'><input id='section-f2d815df-99d8-49c7-943e-5178b2976f95' class='xr-section-summary-in' type='checkbox'  checked><label for='section-f2d815df-99d8-49c7-943e-5178b2976f95' class='xr-section-summary' >Coordinates: <span>(2)</span></label><div class='xr-section-inline-details'></div><div class='xr-section-details'><ul class='xr-var-list'><li class='xr-var-item'><div class='xr-var-name'><span class='xr-has-index'>latitude</span></div><div class='xr-var-dims'>(latitude)</div><div class='xr-var-dtype'>int64</div><div class='xr-var-preview xr-preview'>90 89 88 87 86 ... -87 -88 -89 -90</div><input id='attrs-5843c8c5-03f9-4661-bf72-abcc01a50254' class='xr-var-attrs-in' type='checkbox' disabled><label for='attrs-5843c8c5-03f9-4661-bf72-abcc01a50254' title='Show/Hide attributes'><svg class='icon xr-icon-file-text2'><use xlink:href='#icon-file-text2'></use></svg></label><input id='data-db92e0bc-3e4e-46bb-b632-05e1bdd9be8f' class='xr-var-data-in' type='checkbox'><label for='data-db92e0bc-3e4e-46bb-b632-05e1bdd9be8f' title='Show/Hide data repr'><svg class='icon xr-icon-database'><use xlink:href='#icon-database'></use></svg></label><div class='xr-var-attrs'><dl class='xr-attrs'></dl></div><div class='xr-var-data'><pre>array([ 90,  89,  88,  87,  86,  85,  84,  83,  82,  81,  80,  79,  78,  77,\n",
       "        76,  75,  74,  73,  72,  71,  70,  69,  68,  67,  66,  65,  64,  63,\n",
       "        62,  61,  60,  59,  58,  57,  56,  55,  54,  53,  52,  51,  50,  49,\n",
       "        48,  47,  46,  45,  44,  43,  42,  41,  40,  39,  38,  37,  36,  35,\n",
       "        34,  33,  32,  31,  30,  29,  28,  27,  26,  25,  24,  23,  22,  21,\n",
       "        20,  19,  18,  17,  16,  15,  14,  13,  12,  11,  10,   9,   8,   7,\n",
       "         6,   5,   4,   3,   2,   1,   0,  -1,  -2,  -3,  -4,  -5,  -6,  -7,\n",
       "        -8,  -9, -10, -11, -12, -13, -14, -15, -16, -17, -18, -19, -20, -21,\n",
       "       -22, -23, -24, -25, -26, -27, -28, -29, -30, -31, -32, -33, -34, -35,\n",
       "       -36, -37, -38, -39, -40, -41, -42, -43, -44, -45, -46, -47, -48, -49,\n",
       "       -50, -51, -52, -53, -54, -55, -56, -57, -58, -59, -60, -61, -62, -63,\n",
       "       -64, -65, -66, -67, -68, -69, -70, -71, -72, -73, -74, -75, -76, -77,\n",
       "       -78, -79, -80, -81, -82, -83, -84, -85, -86, -87, -88, -89, -90])</pre></div></li><li class='xr-var-item'><div class='xr-var-name'><span class='xr-has-index'>longitude</span></div><div class='xr-var-dims'>(longitude)</div><div class='xr-var-dtype'>int64</div><div class='xr-var-preview xr-preview'>0 1 2 3 4 5 ... 355 356 357 358 359</div><input id='attrs-a8f5e48b-c2c1-4e21-b601-5ee8a04001de' class='xr-var-attrs-in' type='checkbox' disabled><label for='attrs-a8f5e48b-c2c1-4e21-b601-5ee8a04001de' title='Show/Hide attributes'><svg class='icon xr-icon-file-text2'><use xlink:href='#icon-file-text2'></use></svg></label><input id='data-a2bb58e1-0889-427e-bd60-4e619fff5b63' class='xr-var-data-in' type='checkbox'><label for='data-a2bb58e1-0889-427e-bd60-4e619fff5b63' title='Show/Hide data repr'><svg class='icon xr-icon-database'><use xlink:href='#icon-database'></use></svg></label><div class='xr-var-attrs'><dl class='xr-attrs'></dl></div><div class='xr-var-data'><pre>array([  0,   1,   2, ..., 357, 358, 359])</pre></div></li></ul></div></li><li class='xr-section-item'><input id='section-8098cf85-1d15-4ba8-9195-d75f737e63b1' class='xr-section-summary-in' type='checkbox'  checked><label for='section-8098cf85-1d15-4ba8-9195-d75f737e63b1' class='xr-section-summary' >Data variables: <span>(3)</span></label><div class='xr-section-inline-details'></div><div class='xr-section-details'><ul class='xr-var-list'><li class='xr-var-item'><div class='xr-var-name'><span>geopotential_at_surface</span></div><div class='xr-var-dims'>(latitude, longitude)</div><div class='xr-var-dtype'>float32</div><div class='xr-var-preview xr-preview'>dask.array&lt;chunksize=(181, 360), meta=np.ndarray&gt;</div><input id='attrs-f64314a2-6c94-4084-9f32-f48efa401dbc' class='xr-var-attrs-in' type='checkbox' disabled><label for='attrs-f64314a2-6c94-4084-9f32-f48efa401dbc' title='Show/Hide attributes'><svg class='icon xr-icon-file-text2'><use xlink:href='#icon-file-text2'></use></svg></label><input id='data-cc6a22c7-e0e4-4bb7-9a30-ac25d47f16f6' class='xr-var-data-in' type='checkbox'><label for='data-cc6a22c7-e0e4-4bb7-9a30-ac25d47f16f6' title='Show/Hide data repr'><svg class='icon xr-icon-database'><use xlink:href='#icon-database'></use></svg></label><div class='xr-var-attrs'><dl class='xr-attrs'></dl></div><div class='xr-var-data'><table>\n",
       "    <tr>\n",
       "        <td>\n",
       "            <table style=\"border-collapse: collapse;\">\n",
       "                <thead>\n",
       "                    <tr>\n",
       "                        <td> </td>\n",
       "                        <th> Array </th>\n",
       "                        <th> Chunk </th>\n",
       "                    </tr>\n",
       "                </thead>\n",
       "                <tbody>\n",
       "                    \n",
       "                    <tr>\n",
       "                        <th> Bytes </th>\n",
       "                        <td> 254.53 kiB </td>\n",
       "                        <td> 254.53 kiB </td>\n",
       "                    </tr>\n",
       "                    \n",
       "                    <tr>\n",
       "                        <th> Shape </th>\n",
       "                        <td> (181, 360) </td>\n",
       "                        <td> (181, 360) </td>\n",
       "                    </tr>\n",
       "                    <tr>\n",
       "                        <th> Dask graph </th>\n",
       "                        <td colspan=\"2\"> 1 chunks in 2 graph layers </td>\n",
       "                    </tr>\n",
       "                    <tr>\n",
       "                        <th> Data type </th>\n",
       "                        <td colspan=\"2\"> float32 numpy.ndarray </td>\n",
       "                    </tr>\n",
       "                </tbody>\n",
       "            </table>\n",
       "        </td>\n",
       "        <td>\n",
       "        <svg width=\"170\" height=\"110\" style=\"stroke:rgb(0,0,0);stroke-width:1\" >\n",
       "\n",
       "  <!-- Horizontal lines -->\n",
       "  <line x1=\"0\" y1=\"0\" x2=\"120\" y2=\"0\" style=\"stroke-width:2\" />\n",
       "  <line x1=\"0\" y1=\"60\" x2=\"120\" y2=\"60\" style=\"stroke-width:2\" />\n",
       "\n",
       "  <!-- Vertical lines -->\n",
       "  <line x1=\"0\" y1=\"0\" x2=\"0\" y2=\"60\" style=\"stroke-width:2\" />\n",
       "  <line x1=\"120\" y1=\"0\" x2=\"120\" y2=\"60\" style=\"stroke-width:2\" />\n",
       "\n",
       "  <!-- Colored Rectangle -->\n",
       "  <polygon points=\"0.0,0.0 120.0,0.0 120.0,60.333333333333336 0.0,60.333333333333336\" style=\"fill:#ECB172A0;stroke-width:0\"/>\n",
       "\n",
       "  <!-- Text -->\n",
       "  <text x=\"60.000000\" y=\"80.333333\" font-size=\"1.0rem\" font-weight=\"100\" text-anchor=\"middle\" >360</text>\n",
       "  <text x=\"140.000000\" y=\"30.166667\" font-size=\"1.0rem\" font-weight=\"100\" text-anchor=\"middle\" transform=\"rotate(-90,140.000000,30.166667)\">181</text>\n",
       "</svg>\n",
       "        </td>\n",
       "    </tr>\n",
       "</table></div></li><li class='xr-var-item'><div class='xr-var-name'><span>land_sea_mask</span></div><div class='xr-var-dims'>(latitude, longitude)</div><div class='xr-var-dtype'>float32</div><div class='xr-var-preview xr-preview'>dask.array&lt;chunksize=(181, 360), meta=np.ndarray&gt;</div><input id='attrs-96fbde08-7819-41f4-88c4-abee7ace08a9' class='xr-var-attrs-in' type='checkbox' disabled><label for='attrs-96fbde08-7819-41f4-88c4-abee7ace08a9' title='Show/Hide attributes'><svg class='icon xr-icon-file-text2'><use xlink:href='#icon-file-text2'></use></svg></label><input id='data-41834dda-2454-4631-82c4-b76c696ebea4' class='xr-var-data-in' type='checkbox'><label for='data-41834dda-2454-4631-82c4-b76c696ebea4' title='Show/Hide data repr'><svg class='icon xr-icon-database'><use xlink:href='#icon-database'></use></svg></label><div class='xr-var-attrs'><dl class='xr-attrs'></dl></div><div class='xr-var-data'><table>\n",
       "    <tr>\n",
       "        <td>\n",
       "            <table style=\"border-collapse: collapse;\">\n",
       "                <thead>\n",
       "                    <tr>\n",
       "                        <td> </td>\n",
       "                        <th> Array </th>\n",
       "                        <th> Chunk </th>\n",
       "                    </tr>\n",
       "                </thead>\n",
       "                <tbody>\n",
       "                    \n",
       "                    <tr>\n",
       "                        <th> Bytes </th>\n",
       "                        <td> 254.53 kiB </td>\n",
       "                        <td> 254.53 kiB </td>\n",
       "                    </tr>\n",
       "                    \n",
       "                    <tr>\n",
       "                        <th> Shape </th>\n",
       "                        <td> (181, 360) </td>\n",
       "                        <td> (181, 360) </td>\n",
       "                    </tr>\n",
       "                    <tr>\n",
       "                        <th> Dask graph </th>\n",
       "                        <td colspan=\"2\"> 1 chunks in 2 graph layers </td>\n",
       "                    </tr>\n",
       "                    <tr>\n",
       "                        <th> Data type </th>\n",
       "                        <td colspan=\"2\"> float32 numpy.ndarray </td>\n",
       "                    </tr>\n",
       "                </tbody>\n",
       "            </table>\n",
       "        </td>\n",
       "        <td>\n",
       "        <svg width=\"170\" height=\"110\" style=\"stroke:rgb(0,0,0);stroke-width:1\" >\n",
       "\n",
       "  <!-- Horizontal lines -->\n",
       "  <line x1=\"0\" y1=\"0\" x2=\"120\" y2=\"0\" style=\"stroke-width:2\" />\n",
       "  <line x1=\"0\" y1=\"60\" x2=\"120\" y2=\"60\" style=\"stroke-width:2\" />\n",
       "\n",
       "  <!-- Vertical lines -->\n",
       "  <line x1=\"0\" y1=\"0\" x2=\"0\" y2=\"60\" style=\"stroke-width:2\" />\n",
       "  <line x1=\"120\" y1=\"0\" x2=\"120\" y2=\"60\" style=\"stroke-width:2\" />\n",
       "\n",
       "  <!-- Colored Rectangle -->\n",
       "  <polygon points=\"0.0,0.0 120.0,0.0 120.0,60.333333333333336 0.0,60.333333333333336\" style=\"fill:#ECB172A0;stroke-width:0\"/>\n",
       "\n",
       "  <!-- Text -->\n",
       "  <text x=\"60.000000\" y=\"80.333333\" font-size=\"1.0rem\" font-weight=\"100\" text-anchor=\"middle\" >360</text>\n",
       "  <text x=\"140.000000\" y=\"30.166667\" font-size=\"1.0rem\" font-weight=\"100\" text-anchor=\"middle\" transform=\"rotate(-90,140.000000,30.166667)\">181</text>\n",
       "</svg>\n",
       "        </td>\n",
       "    </tr>\n",
       "</table></div></li><li class='xr-var-item'><div class='xr-var-name'><span>z_norm</span></div><div class='xr-var-dims'>(latitude, longitude)</div><div class='xr-var-dtype'>float32</div><div class='xr-var-preview xr-preview'>dask.array&lt;chunksize=(181, 360), meta=np.ndarray&gt;</div><input id='attrs-cff49565-5cdb-42ee-ac0c-5e81140600ae' class='xr-var-attrs-in' type='checkbox' disabled><label for='attrs-cff49565-5cdb-42ee-ac0c-5e81140600ae' title='Show/Hide attributes'><svg class='icon xr-icon-file-text2'><use xlink:href='#icon-file-text2'></use></svg></label><input id='data-a876c187-4860-4780-a2ec-f11f66de6a1f' class='xr-var-data-in' type='checkbox'><label for='data-a876c187-4860-4780-a2ec-f11f66de6a1f' title='Show/Hide data repr'><svg class='icon xr-icon-database'><use xlink:href='#icon-database'></use></svg></label><div class='xr-var-attrs'><dl class='xr-attrs'></dl></div><div class='xr-var-data'><table>\n",
       "    <tr>\n",
       "        <td>\n",
       "            <table style=\"border-collapse: collapse;\">\n",
       "                <thead>\n",
       "                    <tr>\n",
       "                        <td> </td>\n",
       "                        <th> Array </th>\n",
       "                        <th> Chunk </th>\n",
       "                    </tr>\n",
       "                </thead>\n",
       "                <tbody>\n",
       "                    \n",
       "                    <tr>\n",
       "                        <th> Bytes </th>\n",
       "                        <td> 254.53 kiB </td>\n",
       "                        <td> 254.53 kiB </td>\n",
       "                    </tr>\n",
       "                    \n",
       "                    <tr>\n",
       "                        <th> Shape </th>\n",
       "                        <td> (181, 360) </td>\n",
       "                        <td> (181, 360) </td>\n",
       "                    </tr>\n",
       "                    <tr>\n",
       "                        <th> Dask graph </th>\n",
       "                        <td colspan=\"2\"> 1 chunks in 2 graph layers </td>\n",
       "                    </tr>\n",
       "                    <tr>\n",
       "                        <th> Data type </th>\n",
       "                        <td colspan=\"2\"> float32 numpy.ndarray </td>\n",
       "                    </tr>\n",
       "                </tbody>\n",
       "            </table>\n",
       "        </td>\n",
       "        <td>\n",
       "        <svg width=\"170\" height=\"110\" style=\"stroke:rgb(0,0,0);stroke-width:1\" >\n",
       "\n",
       "  <!-- Horizontal lines -->\n",
       "  <line x1=\"0\" y1=\"0\" x2=\"120\" y2=\"0\" style=\"stroke-width:2\" />\n",
       "  <line x1=\"0\" y1=\"60\" x2=\"120\" y2=\"60\" style=\"stroke-width:2\" />\n",
       "\n",
       "  <!-- Vertical lines -->\n",
       "  <line x1=\"0\" y1=\"0\" x2=\"0\" y2=\"60\" style=\"stroke-width:2\" />\n",
       "  <line x1=\"120\" y1=\"0\" x2=\"120\" y2=\"60\" style=\"stroke-width:2\" />\n",
       "\n",
       "  <!-- Colored Rectangle -->\n",
       "  <polygon points=\"0.0,0.0 120.0,0.0 120.0,60.333333333333336 0.0,60.333333333333336\" style=\"fill:#ECB172A0;stroke-width:0\"/>\n",
       "\n",
       "  <!-- Text -->\n",
       "  <text x=\"60.000000\" y=\"80.333333\" font-size=\"1.0rem\" font-weight=\"100\" text-anchor=\"middle\" >360</text>\n",
       "  <text x=\"140.000000\" y=\"30.166667\" font-size=\"1.0rem\" font-weight=\"100\" text-anchor=\"middle\" transform=\"rotate(-90,140.000000,30.166667)\">181</text>\n",
       "</svg>\n",
       "        </td>\n",
       "    </tr>\n",
       "</table></div></li></ul></div></li><li class='xr-section-item'><input id='section-9a95718e-8c4e-4e93-b829-16fe5ef3e672' class='xr-section-summary-in' type='checkbox'  ><label for='section-9a95718e-8c4e-4e93-b829-16fe5ef3e672' class='xr-section-summary' >Indexes: <span>(2)</span></label><div class='xr-section-inline-details'></div><div class='xr-section-details'><ul class='xr-var-list'><li class='xr-var-item'><div class='xr-index-name'><div>latitude</div></div><div class='xr-index-preview'>PandasIndex</div><div></div><input id='index-924d38d5-d24b-40f6-bad6-4c8e7d3c8c58' class='xr-index-data-in' type='checkbox'/><label for='index-924d38d5-d24b-40f6-bad6-4c8e7d3c8c58' title='Show/Hide index repr'><svg class='icon xr-icon-database'><use xlink:href='#icon-database'></use></svg></label><div class='xr-index-data'><pre>PandasIndex(Index([ 90,  89,  88,  87,  86,  85,  84,  83,  82,  81,\n",
       "       ...\n",
       "       -81, -82, -83, -84, -85, -86, -87, -88, -89, -90],\n",
       "      dtype=&#x27;int64&#x27;, name=&#x27;latitude&#x27;, length=181))</pre></div></li><li class='xr-var-item'><div class='xr-index-name'><div>longitude</div></div><div class='xr-index-preview'>PandasIndex</div><div></div><input id='index-09252af2-f8aa-4c17-9a9d-a3ea8c5baa58' class='xr-index-data-in' type='checkbox'/><label for='index-09252af2-f8aa-4c17-9a9d-a3ea8c5baa58' title='Show/Hide index repr'><svg class='icon xr-icon-database'><use xlink:href='#icon-database'></use></svg></label><div class='xr-index-data'><pre>PandasIndex(Index([  0,   1,   2,   3,   4,   5,   6,   7,   8,   9,\n",
       "       ...\n",
       "       350, 351, 352, 353, 354, 355, 356, 357, 358, 359],\n",
       "      dtype=&#x27;int64&#x27;, name=&#x27;longitude&#x27;, length=360))</pre></div></li></ul></div></li><li class='xr-section-item'><input id='section-1a61ec0c-3085-4a08-8656-05eb4e9877cc' class='xr-section-summary-in' type='checkbox'  checked><label for='section-1a61ec0c-3085-4a08-8656-05eb4e9877cc' class='xr-section-summary' >Attributes: <span>(1)</span></label><div class='xr-section-inline-details'></div><div class='xr-section-details'><dl class='xr-attrs'><dt><span>regrid_method :</span></dt><dd>bilinear</dd></dl></div></li></ul></div></div>"
      ],
      "text/plain": [
       "<xarray.Dataset>\n",
       "Dimensions:                  (latitude: 181, longitude: 360)\n",
       "Coordinates:\n",
       "  * latitude                 (latitude) int64 90 89 88 87 86 ... -87 -88 -89 -90\n",
       "  * longitude                (longitude) int64 0 1 2 3 4 ... 355 356 357 358 359\n",
       "Data variables:\n",
       "    geopotential_at_surface  (latitude, longitude) float32 dask.array<chunksize=(181, 360), meta=np.ndarray>\n",
       "    land_sea_mask            (latitude, longitude) float32 dask.array<chunksize=(181, 360), meta=np.ndarray>\n",
       "    z_norm                   (latitude, longitude) float32 dask.array<chunksize=(181, 360), meta=np.ndarray>\n",
       "Attributes:\n",
       "    regrid_method:  bilinear"
      ]
     },
     "execution_count": 5,
     "metadata": {},
     "output_type": "execute_result"
    }
   ],
   "source": [
    "xr.open_zarr('/glade/derecho/scratch/ksha/CREDIT_data/ERA5_plevel_1deg/static/ERA5_plevel_1deg_6h_static.zarr')"
   ]
  },
  {
   "cell_type": "code",
   "execution_count": null,
   "id": "12e1e44a-f0fd-42d7-9490-460e25b9cd3c",
   "metadata": {},
   "outputs": [],
   "source": []
  },
  {
   "cell_type": "code",
   "execution_count": 7,
   "id": "27a5fd57-00d5-4281-bccb-971ce9028c4e",
   "metadata": {},
   "outputs": [],
   "source": [
    "import pandas as pd"
   ]
  },
  {
   "cell_type": "code",
   "execution_count": 18,
   "id": "bb7d45ad-e966-4f20-a422-676f955c0b2c",
   "metadata": {},
   "outputs": [],
   "source": [
    "train_log = pd.read_csv('/glade/work/ksha/CREDIT_runs/fuxi_physics_base/training_log.csv')"
   ]
  },
  {
   "cell_type": "code",
   "execution_count": null,
   "id": "d2bffa70-92ff-48ba-ae03-8b2d46567a18",
   "metadata": {},
   "outputs": [],
   "source": []
  },
  {
   "cell_type": "code",
   "execution_count": 14,
   "id": "c98e92f4-fe0f-4831-a7b9-eb2e44eba2d9",
   "metadata": {},
   "outputs": [],
   "source": [
    "list_vars = list(train_log.keys())"
   ]
  },
  {
   "cell_type": "code",
   "execution_count": 15,
   "id": "82a26092-d25a-4bb6-b797-f7f4bcbae1de",
   "metadata": {},
   "outputs": [
    {
     "name": "stdout",
     "output_type": "stream",
     "text": [
      "train_mae_Z_21\n",
      "valid_mae_Z_21\n",
      "train_rmse_Z_21\n",
      "valid_rmse_Z_21\n",
      "train_acc_Z_21\n",
      "valid_acc_Z_21\n",
      "train_mse_Z_21\n",
      "valid_mse_Z_21\n"
     ]
    }
   ],
   "source": [
    "for var in list_vars:\n",
    "    if 'Z' in var:\n",
    "        print(var)"
   ]
  },
  {
   "cell_type": "code",
   "execution_count": 17,
   "id": "21f14019-b222-4f78-b9f3-a803be820a9f",
   "metadata": {},
   "outputs": [
    {
     "data": {
      "text/plain": [
       "0     0.224577\n",
       "1     0.208080\n",
       "2     0.199396\n",
       "3     0.193013\n",
       "4     0.187896\n",
       "5     0.184364\n",
       "6     0.182825\n",
       "7     0.179738\n",
       "8     0.177430\n",
       "9     0.175434\n",
       "10    0.173303\n",
       "11         NaN\n",
       "12    0.172757\n",
       "13    0.171024\n",
       "14    0.169977\n",
       "15    0.169221\n",
       "16    0.167740\n",
       "17    0.167280\n",
       "18    0.166214\n",
       "19    0.165525\n",
       "20    0.164552\n",
       "Name: valid_rmse_total_precipitation, dtype: float64"
      ]
     },
     "execution_count": 17,
     "metadata": {},
     "output_type": "execute_result"
    }
   ],
   "source": [
    "train_log['valid_rmse_total_precipitation']"
   ]
  },
  {
   "cell_type": "code",
   "execution_count": null,
   "id": "00d767cc-e517-4ea3-a42b-d488710001b9",
   "metadata": {},
   "outputs": [],
   "source": []
  },
  {
   "cell_type": "code",
   "execution_count": null,
   "id": "2dd0c272-c2e5-4233-ae95-2b164e6aa300",
   "metadata": {},
   "outputs": [],
   "source": []
  },
  {
   "cell_type": "code",
   "execution_count": 19,
   "id": "9495a8bb-5ba8-4f6f-be72-6476e3505445",
   "metadata": {},
   "outputs": [
    {
     "data": {
      "text/plain": [
       "0     0.220398\n",
       "1     0.205920\n",
       "2     0.197221\n",
       "3     0.191002\n",
       "4     0.186305\n",
       "5     0.182666\n",
       "6          NaN\n",
       "7     0.182169\n",
       "8     0.177756\n",
       "9     0.175492\n",
       "10    0.173323\n",
       "11    0.171431\n",
       "12    0.170522\n",
       "13    0.168965\n",
       "14    0.167701\n",
       "15    0.166467\n",
       "16    0.165390\n",
       "17    0.165108\n",
       "18    0.163856\n",
       "19    0.162901\n",
       "20    0.161952\n",
       "21    0.161341\n",
       "22    0.161288\n",
       "23    0.160306\n",
       "Name: valid_rmse_total_precipitation, dtype: float64"
      ]
     },
     "execution_count": 19,
     "metadata": {},
     "output_type": "execute_result"
    }
   ],
   "source": [
    "train_log['valid_rmse_total_precipitation']"
   ]
  },
  {
   "cell_type": "code",
   "execution_count": null,
   "id": "c11efc4a-d89b-47ae-9b7d-7292f2ea2f71",
   "metadata": {},
   "outputs": [],
   "source": []
  },
  {
   "cell_type": "markdown",
   "id": "ac2f231e-2e44-43ef-a96d-56eb6500a4b9",
   "metadata": {},
   "source": [
    "## Mass-conserved integral check"
   ]
  },
  {
   "cell_type": "code",
   "execution_count": 7,
   "id": "f14a0a71-dd69-456c-b12a-884e8af92e2e",
   "metadata": {},
   "outputs": [],
   "source": [
    "path_subset = '/glade/derecho/scratch/ksha/CREDIT_data/ERA5_plevel_base/upper_subset/'\n",
    "path_original = '/glade/derecho/scratch/ksha/CREDIT_data/ERA5_plevel_base/upper_air/'\n",
    "subset_level = np.array([1, 250, 450, 550, 650, 750, 850, 950, 1000])"
   ]
  },
  {
   "cell_type": "code",
   "execution_count": 8,
   "id": "9f91558f-bef1-4716-a7a3-6738715481bb",
   "metadata": {},
   "outputs": [],
   "source": [
    "ds_subset = xr.open_zarr(path_subset+'ERA5_subset_6h_upper_L8_1980.zarr')\n",
    "ds_original = xr.open_zarr(path_original+'ERA5_plevel_6h_upper_air_1980.zarr')"
   ]
  },
  {
   "cell_type": "code",
   "execution_count": 9,
   "id": "d31147a2-58b0-4220-ad1e-1a73f85c635b",
   "metadata": {},
   "outputs": [
    {
     "name": "stderr",
     "output_type": "stream",
     "text": [
      "Exception ignored in: <bound method IPythonKernel._clean_thread_parent_frames of <ipykernel.ipkernel.IPythonKernel object at 0x14f9002d4110>>\n",
      "Traceback (most recent call last):\n",
      "  File \"/glade/work/ksha/miniconda3/envs/credit/lib/python3.11/site-packages/ipykernel/ipkernel.py\", line 775, in _clean_thread_parent_frames\n",
      "    def _clean_thread_parent_frames(\n",
      "\n",
      "KeyboardInterrupt: \n",
      "\n",
      "KeyboardInterrupt\n",
      "\n"
     ]
    }
   ],
   "source": [
    "for i in range(721):\n",
    "    for j in range(1440):\n",
    "        \n",
    "        T_subset = np.array(ds_subset['Q'].isel(time=999, latitude=i, longitude=j))\n",
    "        int_subset = np.sum(T_subset*np.diff(subset_level))\n",
    "        \n",
    "        T_original = np.array(ds_original['Q'].isel(time=999, latitude=i, longitude=j))\n",
    "        int_original = np.trapz(T_original, np.array(ds_original['level']))\n",
    "\n",
    "        int_diff = np.abs(int_subset - int_original)\n",
    "        \n",
    "        if int_diff > 1e-7 or np.isnan(int_diff): \n",
    "            print('diff: {}, ix: {}, iy: {}'.format(i, j))\n",
    "        \n",
    "print('... done ...')"
   ]
  },
  {
   "cell_type": "code",
   "execution_count": 3,
   "id": "6bc3771c-7945-4a54-95ae-b2762db11ea1",
   "metadata": {},
   "outputs": [],
   "source": [
    "ds_subset = xr.open_zarr(path_subset+'ERA5_subset_6h_Q_1984.zarr')\n",
    "ds_original = xr.open_zarr(path_original+'ERA5_plevel_6h_Q_1984.zarr')"
   ]
  },
  {
   "cell_type": "code",
   "execution_count": 4,
   "id": "ade85635-6f78-47c6-98c5-e4259f669402",
   "metadata": {},
   "outputs": [
    {
     "name": "stderr",
     "output_type": "stream",
     "text": [
      "\n",
      "KeyboardInterrupt\n",
      "\n"
     ]
    }
   ],
   "source": [
    "for i in range(721):\n",
    "    for j in range(1440):\n",
    "\n",
    "        T_subset = np.array(ds_subset['specific_total_water'].isel(time=999, latitude=i, longitude=j))\n",
    "        int_subset = np.sum(T_subset*np.diff(subset_level))\n",
    "        \n",
    "        T_original = np.array(ds_original['specific_total_water'].isel(time=999, latitude=i, longitude=j))\n",
    "        int_original = np.trapz(T_original, np.array(ds_original['level']))\n",
    "\n",
    "        int_diff = np.abs(int_subset - int_original)\n",
    "        \n",
    "        if int_diff > 1e-7: \n",
    "            print('diff: {}, ix: {}, iy: {}'.format(i, j))\n",
    "\n",
    "print('... done ...')"
   ]
  },
  {
   "cell_type": "markdown",
   "id": "62ee6555-5386-461f-8ec1-c7e783a49ca0",
   "metadata": {},
   "source": [
    "### Check specific total water"
   ]
  },
  {
   "cell_type": "code",
   "execution_count": null,
   "id": "df38aa5a-e3ac-4142-b923-707d1a0bf6bb",
   "metadata": {},
   "outputs": [],
   "source": [
    "year = 1980\n",
    "\n",
    "test_upper_sub = xr.open_zarr(\n",
    "    f'/glade/derecho/scratch/ksha/CREDIT_data/ERA5_plevel_base/upper_subset/ERA5_subset_6h_upper_air_{year}.zarr')\n",
    "\n",
    "test_upper_full = xr.open_zarr(\n",
    "    f'/glade/derecho/scratch/ksha/CREDIT_data/ERA5_plevel_base/upper_air/ERA5_plevel_6h_upper_air_{year}.zarr')\n",
    "\n",
    "test_q_sub = xr.open_zarr(\n",
    "    f'/glade/derecho/scratch/ksha/CREDIT_data/ERA5_plevel_base/upper_subset/ERA5_subset_6h_Q_{year}.zarr')\n",
    "\n",
    "test_q_full = xr.open_zarr(\n",
    "    f'/glade/derecho/scratch/ksha/CREDIT_data/ERA5_plevel_base/upper_air/ERA5_plevel_6h_Q_{year}.zarr')\n",
    "\n",
    "test_cloud = xr.open_zarr(\n",
    "    f'/glade/derecho/scratch/ksha/CREDIT_data/ERA5_plevel_base/cloud/ERA5_plevel_6h_cloud_{year}.zarr')\n",
    "\n",
    "data_q_sub = np.array(test_upper_sub['Q'].isel(time=999))\n",
    "data_q_full = np.array(test_upper_full['Q'].isel(time=999))\n",
    "data_sw_sub = np.array(test_q_sub['specific_total_water'].isel(time=999))\n",
    "data_sw_full = np.array(test_q_full['specific_total_water'].isel(time=999))\n",
    "\n",
    "data_cloud_c1 = np.array(test_cloud['CIWC'].isel(time=999))\n",
    "data_cloud_c2 = np.array(test_cloud['CLWC'].isel(time=999))\n",
    "data_cloud_c3 = np.array(test_cloud['CRWC'].isel(time=999))\n",
    "data_cloud_c4 = np.array(test_cloud['CSWC'].isel(time=999))"
   ]
  },
  {
   "cell_type": "code",
   "execution_count": null,
   "id": "bfda1ae6-6b7b-4ffe-9c37-bc487bdaa10d",
   "metadata": {},
   "outputs": [],
   "source": [
    "check = data_sw_full - data_q_full - data_cloud_c1 - data_cloud_c2 - data_cloud_c3 - data_cloud_c4"
   ]
  },
  {
   "cell_type": "code",
   "execution_count": null,
   "id": "3a330e49-6c12-4a54-bd7f-b7a343d7fd9c",
   "metadata": {},
   "outputs": [],
   "source": []
  },
  {
   "cell_type": "code",
   "execution_count": null,
   "id": "857e9e26-bc64-44bf-bd5f-ac2af0989dd4",
   "metadata": {},
   "outputs": [],
   "source": []
  },
  {
   "cell_type": "code",
   "execution_count": 2,
   "id": "6cd4e094-30a6-4b37-acfd-46e7c8c9a336",
   "metadata": {},
   "outputs": [],
   "source": [
    "test_q = xr.open_zarr(\n",
    "    '/glade/derecho/scratch/ksha/CREDIT_data/ERA5_plevel_base/upper_air/ERA5_plevel_6h_Q_1979.zarr')\n",
    "test_upper = xr.open_zarr(\n",
    "    '/glade/derecho/scratch/ksha/CREDIT_data/ERA5_plevel_base/upper_air/ERA5_plevel_6h_upper_air_1979.zarr')\n",
    "test_cloud = xr.open_zarr(\n",
    "    '/glade/derecho/scratch/ksha/CREDIT_data/ERA5_plevel_base/cloud/ERA5_plevel_6h_cloud_1979.zarr')"
   ]
  },
  {
   "cell_type": "code",
   "execution_count": 4,
   "id": "983af40f-27ee-4e2a-bccc-f813ed80fa9b",
   "metadata": {},
   "outputs": [],
   "source": []
  },
  {
   "cell_type": "code",
   "execution_count": 5,
   "id": "e6b16de8-ea37-4b36-8191-e40cc2eec930",
   "metadata": {},
   "outputs": [],
   "source": [
    "check_np = np.array(check.isel(time=888))"
   ]
  },
  {
   "cell_type": "code",
   "execution_count": 6,
   "id": "2b9fc10e-08b6-4622-b3ae-0b806aa9c9c8",
   "metadata": {},
   "outputs": [],
   "source": [
    "chheck_val = np.array(test_q['specific_total_water'].isel(time=888))"
   ]
  },
  {
   "cell_type": "code",
   "execution_count": 16,
   "id": "d9be2a05-2010-48c5-80da-3d35f268e8ab",
   "metadata": {},
   "outputs": [
    {
     "data": {
      "text/plain": [
       "3.3143442e-07"
      ]
     },
     "execution_count": 16,
     "metadata": {},
     "output_type": "execute_result"
    }
   ],
   "source": [
    "np.sum(check_np[-1, ...])"
   ]
  },
  {
   "cell_type": "code",
   "execution_count": 17,
   "id": "3b372082-f2e0-46fa-959d-b5b87c6cac32",
   "metadata": {},
   "outputs": [
    {
     "data": {
      "text/plain": [
       "3.2872508e-06"
      ]
     },
     "execution_count": 17,
     "metadata": {},
     "output_type": "execute_result"
    }
   ],
   "source": [
    "np.sum(check_np)"
   ]
  },
  {
   "cell_type": "code",
   "execution_count": 18,
   "id": "a5927bee-07fb-4401-9d5e-38a55b709936",
   "metadata": {},
   "outputs": [
    {
     "data": {
      "text/plain": [
       "76509.586"
      ]
     },
     "execution_count": 18,
     "metadata": {},
     "output_type": "execute_result"
    }
   ],
   "source": [
    "np.sum(chheck_val)"
   ]
  },
  {
   "cell_type": "markdown",
   "id": "d29d048f-f515-42ae-ac4a-2c82d9d9141c",
   "metadata": {},
   "source": [
    "76509.586 vs. error=3.2872508e-06"
   ]
  },
  {
   "cell_type": "code",
   "execution_count": null,
   "id": "3286bdc0-28a0-45ad-9b69-2c808e2be568",
   "metadata": {},
   "outputs": [],
   "source": []
  },
  {
   "cell_type": "code",
   "execution_count": 14,
   "id": "6bf371f1-b9e2-4ba6-9d09-97decb7fd971",
   "metadata": {},
   "outputs": [],
   "source": [
    "test_q = xr.open_zarr(\n",
    "    '/glade/derecho/scratch/ksha/CREDIT_data/ERA5_plevel_base/upper_subset/ERA5_subset_6h_Q_1982.zarr')\n",
    "test_upper = xr.open_zarr(\n",
    "    '/glade/derecho/scratch/ksha/CREDIT_data/ERA5_plevel_base/upper_subset/ERA5_subset_6h_upper_air_1982.zarr')"
   ]
  },
  {
   "cell_type": "code",
   "execution_count": 15,
   "id": "b373ece4-0615-4712-ba7b-6a451814f7f5",
   "metadata": {},
   "outputs": [],
   "source": [
    "subset_level = np.array([1, 50, 100, 150, 200, 250, 300, 400, 500, 600, 700, 850, 925, 1000])"
   ]
  },
  {
   "cell_type": "code",
   "execution_count": null,
   "id": "a311d1cb-4995-4896-a7c1-bdf1efec0e76",
   "metadata": {},
   "outputs": [],
   "source": []
  },
  {
   "cell_type": "code",
   "execution_count": null,
   "id": "1efa50be-ed46-4cbd-a555-3d4410d1ea2c",
   "metadata": {},
   "outputs": [],
   "source": []
  },
  {
   "cell_type": "code",
   "execution_count": 16,
   "id": "5bec2444-af2c-4bae-a599-603c26bf7056",
   "metadata": {},
   "outputs": [],
   "source": [
    "Q = np.array(test_q['specific_total_water'].isel(time=999, latitude=200, longitude=300))"
   ]
  },
  {
   "cell_type": "code",
   "execution_count": 17,
   "id": "84a15de0-5d40-40db-a14f-9d09cb0513e5",
   "metadata": {},
   "outputs": [
    {
     "data": {
      "text/plain": [
       "2.986603171292245"
      ]
     },
     "execution_count": 17,
     "metadata": {},
     "output_type": "execute_result"
    }
   ],
   "source": [
    "np.sum(Q*np.diff(subset_level))"
   ]
  },
  {
   "cell_type": "code",
   "execution_count": 18,
   "id": "04590099-d50f-44c1-bbd8-d6448f8aec97",
   "metadata": {},
   "outputs": [],
   "source": [
    "Q2 = np.array(test_upper['Q'].isel(time=999, latitude=200, longitude=300))"
   ]
  },
  {
   "cell_type": "code",
   "execution_count": 19,
   "id": "f91b6c2e-e3d8-436e-aeb4-ae3c7cd020c1",
   "metadata": {},
   "outputs": [
    {
     "data": {
      "text/plain": [
       "2.9611165977153178"
      ]
     },
     "execution_count": 19,
     "metadata": {},
     "output_type": "execute_result"
    }
   ],
   "source": [
    "np.sum(Q2*np.diff(subset_level))"
   ]
  },
  {
   "cell_type": "code",
   "execution_count": 20,
   "id": "d81b38b2-1cc1-42b3-9f19-df30b66f5205",
   "metadata": {},
   "outputs": [
    {
     "data": {
      "text/plain": [
       "array([3.09241291e-06, 3.17549366e-06, 4.06696586e-06, 5.52862934e-06,\n",
       "       2.34801792e-05, 1.51609769e-04, 6.28170528e-04, 1.49570080e-03,\n",
       "       3.88235948e-03, 5.48442174e-03, 5.99472597e-03, 6.02198578e-03,\n",
       "       6.02198578e-03])"
      ]
     },
     "execution_count": 20,
     "metadata": {},
     "output_type": "execute_result"
    }
   ],
   "source": [
    "Q2"
   ]
  },
  {
   "cell_type": "code",
   "execution_count": null,
   "id": "6cb07838-5008-457f-8eb6-d94ff241b7ec",
   "metadata": {},
   "outputs": [],
   "source": []
  },
  {
   "cell_type": "code",
   "execution_count": null,
   "id": "c9391863-3204-4bc0-91b0-917d6be27815",
   "metadata": {},
   "outputs": [],
   "source": []
  },
  {
   "cell_type": "code",
   "execution_count": null,
   "id": "5c2bb00c-875f-4132-b4a0-607fc716caeb",
   "metadata": {},
   "outputs": [],
   "source": []
  }
 ],
 "metadata": {
  "kernelspec": {
   "display_name": "Python 3 (ipykernel)",
   "language": "python",
   "name": "python3"
  },
  "language_info": {
   "codemirror_mode": {
    "name": "ipython",
    "version": 3
   },
   "file_extension": ".py",
   "mimetype": "text/x-python",
   "name": "python",
   "nbconvert_exporter": "python",
   "pygments_lexer": "ipython3",
   "version": "3.11.9"
  }
 },
 "nbformat": 4,
 "nbformat_minor": 5
}
