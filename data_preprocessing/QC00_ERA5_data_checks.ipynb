{
 "cells": [
  {
   "cell_type": "markdown",
   "id": "94225d6f-7da6-4128-b75f-f7a84ea9f0d4",
   "metadata": {},
   "source": [
    "# Basic checks of CREDIT ERA5 inputs"
   ]
  },
  {
   "cell_type": "code",
   "execution_count": 1,
   "id": "e5c4a10e-85df-4af3-b85a-8c8350e4f512",
   "metadata": {},
   "outputs": [],
   "source": [
    "import numpy as np\n",
    "import xarray as xr\n",
    "\n",
    "from glob import glob"
   ]
  },
  {
   "cell_type": "markdown",
   "id": "ca26e361-e852-4683-a516-fbb14d9ce025",
   "metadata": {},
   "source": [
    "## variable names"
   ]
  },
  {
   "cell_type": "code",
   "execution_count": 2,
   "id": "40cd9ae5-d60b-4caa-94ef-324fe2135c00",
   "metadata": {},
   "outputs": [],
   "source": [
    "filenames = sorted(glob('/glade/derecho/scratch/wchapman/SixHourly_y_TOTAL*'))"
   ]
  },
  {
   "cell_type": "code",
   "execution_count": 3,
   "id": "1cf01514-a8ec-49c3-b85b-2fd87963213b",
   "metadata": {},
   "outputs": [
    {
     "name": "stdout",
     "output_type": "stream",
     "text": [
      "['LSM', 'Q', 'Q500', 'SP', 'T', 'T500', 'U', 'U500', 'V', 'V500', 'Z500', 'Z_GDS4_SFC', 't2m', 'tsi']\n",
      "['Q', 'Q500', 'SP', 'T', 'T500', 'U', 'U500', 'V', 'V500', 'Z500', 't2m']\n",
      "['Q', 'Q500', 'SP', 'T', 'T500', 'U', 'U500', 'V', 'V500', 'Z500', 't2m']\n",
      "['Q', 'Q500', 'SP', 'T', 'T500', 'U', 'U500', 'V', 'V500', 'Z500', 't2m']\n",
      "['Q', 'Q500', 'SP', 'T', 'T500', 'U', 'U500', 'V', 'V500', 'Z500', 't2m']\n",
      "['Q', 'Q500', 'SP', 'T', 'T500', 'U', 'U500', 'V', 'V500', 'Z500', 't2m']\n",
      "['Q', 'Q500', 'SP', 'T', 'T500', 'U', 'U500', 'V', 'V500', 'Z500', 't2m']\n",
      "['Q', 'Q500', 'SP', 'T', 'T500', 'U', 'U500', 'V', 'V500', 'Z500', 't2m']\n",
      "['Q', 'Q500', 'SP', 'T', 'T500', 'U', 'U500', 'V', 'V500', 'Z500', 't2m']\n",
      "['Q', 'Q500', 'SP', 'T', 'T500', 'U', 'U500', 'V', 'V500', 'Z500', 't2m']\n",
      "['Q', 'Q500', 'SP', 'T', 'T500', 'U', 'U500', 'V', 'V500', 'Z500', 't2m']\n",
      "['Q', 'Q500', 'SP', 'T', 'T500', 'U', 'U500', 'V', 'V500', 'Z500', 't2m']\n",
      "['Q', 'Q500', 'SP', 'T', 'T500', 'U', 'U500', 'V', 'V500', 'Z500', 't2m']\n",
      "['Q', 'Q500', 'SP', 'T', 'T500', 'U', 'U500', 'V', 'V500', 'Z500', 't2m']\n",
      "['Q', 'Q500', 'SP', 'T', 'T500', 'U', 'U500', 'V', 'V500', 'Z500', 't2m']\n",
      "['Q', 'Q500', 'SP', 'T', 'T500', 'U', 'U500', 'V', 'V500', 'Z500', 't2m']\n",
      "['Q', 'Q500', 'SP', 'T', 'T500', 'U', 'U500', 'V', 'V500', 'Z500', 't2m']\n",
      "['Q', 'Q500', 'SP', 'T', 'T500', 'U', 'U500', 'V', 'V500', 'Z500', 't2m']\n",
      "['Q', 'Q500', 'SP', 'T', 'T500', 'U', 'U500', 'V', 'V500', 'Z500', 't2m']\n",
      "['Q', 'Q500', 'SP', 'T', 'T500', 'U', 'U500', 'V', 'V500', 'Z500', 't2m']\n",
      "['Q', 'Q500', 'SP', 'T', 'T500', 'U', 'U500', 'V', 'V500', 'Z500', 't2m']\n",
      "['Q', 'Q500', 'SP', 'T', 'T500', 'U', 'U500', 'V', 'V500', 'Z500', 't2m']\n",
      "['Q', 'Q500', 'SP', 'T', 'T500', 'U', 'U500', 'V', 'V500', 'Z500', 't2m']\n",
      "['Q', 'Q500', 'SP', 'T', 'T500', 'U', 'U500', 'V', 'V500', 'Z500', 't2m']\n",
      "['Q', 'Q500', 'SP', 'T', 'T500', 'U', 'U500', 'V', 'V500', 'Z500', 't2m']\n",
      "['Q', 'Q500', 'SP', 'T', 'T500', 'U', 'U500', 'V', 'V500', 'Z500', 't2m']\n",
      "['Q', 'Q500', 'SP', 'T', 'T500', 'U', 'U500', 'V', 'V500', 'Z500', 't2m']\n",
      "['Q', 'Q500', 'SP', 'T', 'T500', 'U', 'U500', 'V', 'V500', 'Z500', 't2m']\n",
      "['Q', 'Q500', 'SP', 'T', 'T500', 'U', 'U500', 'V', 'V500', 'Z500', 't2m']\n",
      "['Q', 'Q500', 'SP', 'T', 'T500', 'U', 'U500', 'V', 'V500', 'Z500', 't2m']\n",
      "['Q', 'Q500', 'SP', 'T', 'T500', 'U', 'U500', 'V', 'V500', 'Z500', 't2m']\n",
      "['Q', 'Q500', 'SP', 'T', 'T500', 'U', 'U500', 'V', 'V500', 'Z500', 't2m']\n",
      "['Q', 'Q500', 'SP', 'T', 'T500', 'U', 'U500', 'V', 'V500', 'Z500', 't2m']\n",
      "['Q', 'Q500', 'SP', 'T', 'T500', 'U', 'U500', 'V', 'V500', 'Z500', 't2m']\n",
      "['Q', 'Q500', 'SP', 'T', 'T500', 'U', 'U500', 'V', 'V500', 'Z500', 't2m']\n",
      "['Q', 'Q500', 'SP', 'T', 'T500', 'U', 'U500', 'V', 'V500', 'Z500', 't2m']\n",
      "['Q', 'Q500', 'SP', 'T', 'T500', 'U', 'U500', 'V', 'V500', 'Z500', 't2m']\n",
      "['Q', 'Q500', 'SP', 'T', 'T500', 'U', 'U500', 'V', 'V500', 'Z500', 't2m']\n",
      "['Q', 'Q500', 'SP', 'T', 'T500', 'U', 'U500', 'V', 'V500', 'Z500', 't2m']\n",
      "['Q', 'Q500', 'SP', 'T', 'T500', 'U', 'U500', 'V', 'V500', 'Z500', 't2m']\n",
      "['Q', 'Q500', 'SP', 'T', 'T500', 'U', 'U500', 'V', 'V500', 'Z500', 't2m']\n",
      "['Q', 'Q500', 'SP', 'T', 'T500', 'U', 'U500', 'V', 'V500', 'Z500', 't2m']\n",
      "['Q', 'Q500', 'SP', 'T', 'T500', 'U', 'U500', 'V', 'V500', 'Z500', 't2m']\n",
      "['Q', 'Q500', 'SP', 'T', 'T500', 'U', 'U500', 'V', 'V500', 'Z500', 't2m']\n"
     ]
    }
   ],
   "source": [
    "for i_fn, fn in enumerate(filenames):\n",
    "    try:\n",
    "        ds_temp = xr.open_zarr(fn)\n",
    "        print(list(ds_temp.keys()))\n",
    "    except:\n",
    "        print(fn)"
   ]
  },
  {
   "cell_type": "markdown",
   "id": "111db59a-a733-4bb3-aeb4-c5460ff9c4a7",
   "metadata": {},
   "source": [
    "## check NaNs"
   ]
  },
  {
   "cell_type": "code",
   "execution_count": 6,
   "id": "5afeec8d-074c-430e-9db2-99e3d26889b5",
   "metadata": {},
   "outputs": [],
   "source": [
    "def check_nans_ds(ds):\n",
    "    for varname in ds.data_vars:\n",
    "        if ds[varname].isnull().any().compute():\n",
    "            return True\n",
    "    return False"
   ]
  },
  {
   "cell_type": "code",
   "execution_count": 7,
   "id": "f655baae-7215-4457-ba81-a3b8811569c4",
   "metadata": {},
   "outputs": [
    {
     "name": "stdout",
     "output_type": "stream",
     "text": [
      "Dataset contains NaNs: False\n",
      "Dataset contains NaNs: False\n",
      "Dataset contains NaNs: False\n",
      "Dataset contains NaNs: False\n",
      "Dataset contains NaNs: False\n",
      "Dataset contains NaNs: False\n",
      "Dataset contains NaNs: False\n",
      "Dataset contains NaNs: False\n",
      "Dataset contains NaNs: False\n",
      "Dataset contains NaNs: False\n",
      "Dataset contains NaNs: False\n",
      "Dataset contains NaNs: False\n",
      "Dataset contains NaNs: False\n",
      "Dataset contains NaNs: False\n",
      "Dataset contains NaNs: False\n",
      "Dataset contains NaNs: False\n",
      "Dataset contains NaNs: False\n",
      "Dataset contains NaNs: False\n",
      "Dataset contains NaNs: False\n",
      "Dataset contains NaNs: False\n",
      "Dataset contains NaNs: False\n",
      "Dataset contains NaNs: False\n",
      "Dataset contains NaNs: False\n",
      "Dataset contains NaNs: False\n",
      "Dataset contains NaNs: True\n",
      "/glade/derecho/scratch/wchapman/SixHourly_y_TOTAL_1998-01-01_1998-12-31_staged.zarr\n",
      "Dataset contains NaNs: False\n",
      "Dataset contains NaNs: False\n",
      "Dataset contains NaNs: False\n",
      "Dataset contains NaNs: False\n",
      "Dataset contains NaNs: False\n",
      "Dataset contains NaNs: False\n",
      "Dataset contains NaNs: False\n",
      "Dataset contains NaNs: False\n",
      "Dataset contains NaNs: False\n",
      "Dataset contains NaNs: False\n",
      "Dataset contains NaNs: False\n",
      "Dataset contains NaNs: False\n",
      "Dataset contains NaNs: False\n",
      "Dataset contains NaNs: False\n",
      "Dataset contains NaNs: False\n",
      "Dataset contains NaNs: False\n",
      "Dataset contains NaNs: False\n",
      "Dataset contains NaNs: False\n",
      "Dataset contains NaNs: False\n"
     ]
    }
   ],
   "source": [
    "filenames = sorted(glob('/glade/derecho/scratch/wchapman/SixHourly_y_TOTAL*'))\n",
    "\n",
    "for i_fn, fn in enumerate(filenames[::-1]):\n",
    "    ds_temp = xr.open_zarr(fn)\n",
    "    has_nans = check_nans_ds(ds_temp)\n",
    "    print('Dataset contains NaNs: {}'.format(has_nans))\n",
    "    if has_nans:\n",
    "        print(fn)"
   ]
  },
  {
   "cell_type": "code",
   "execution_count": null,
   "id": "1ce2f7da-e19a-4ba7-ad0e-caa971ad1cf7",
   "metadata": {},
   "outputs": [],
   "source": []
  }
 ],
 "metadata": {
  "kernelspec": {
   "display_name": "Python 3 (ipykernel)",
   "language": "python",
   "name": "python3"
  },
  "language_info": {
   "codemirror_mode": {
    "name": "ipython",
    "version": 3
   },
   "file_extension": ".py",
   "mimetype": "text/x-python",
   "name": "python",
   "nbconvert_exporter": "python",
   "pygments_lexer": "ipython3",
   "version": "3.11.9"
  }
 },
 "nbformat": 4,
 "nbformat_minor": 5
}
