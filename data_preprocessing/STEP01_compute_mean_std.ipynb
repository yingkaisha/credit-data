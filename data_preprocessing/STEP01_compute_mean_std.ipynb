{
 "cells": [
  {
   "cell_type": "markdown",
   "id": "304505aa-820b-41ea-af52-57a62b6c8655",
   "metadata": {},
   "source": [
    "# Generate qsub scripts to compute mean and std per variable"
   ]
  },
  {
   "cell_type": "code",
   "execution_count": null,
   "id": "a4e06d0d-df0e-4353-9fc7-dcab383a8d70",
   "metadata": {},
   "outputs": [],
   "source": [
    "import os\n",
    "import sys\n",
    "import yaml\n",
    "import numpy as np\n",
    "import xarray as xr"
   ]
  },
  {
   "cell_type": "code",
   "execution_count": null,
   "id": "94494a11-1fef-419e-9dfe-4307e9e90634",
   "metadata": {},
   "outputs": [],
   "source": [
    "sys.path.insert(0, os.path.realpath('../libs/'))\n",
    "import preprocess_utils as pu"
   ]
  },
  {
   "cell_type": "markdown",
   "id": "37ecc2bd-f660-4717-8394-5718d1ce51f6",
   "metadata": {},
   "source": [
    "## 6 hourly mean std"
   ]
  },
  {
   "cell_type": "code",
   "execution_count": null,
   "id": "114b8b39-a02d-4382-8062-55591204e374",
   "metadata": {},
   "outputs": [],
   "source": [
    "config_name = os.path.realpath('data_config_6h.yml')\n",
    "\n",
    "with open(config_name, 'r') as stream:\n",
    "    conf = yaml.safe_load(stream)"
   ]
  },
  {
   "cell_type": "code",
   "execution_count": null,
   "id": "f7295873-ba86-4211-aa08-4919cb72e148",
   "metadata": {},
   "outputs": [],
   "source": [
    "varnames = list(conf['zscore'].keys())\n",
    "varnames = varnames[:-3] # remove save_loc and others"
   ]
  },
  {
   "cell_type": "code",
   "execution_count": null,
   "id": "4167f555-1fff-4526-bf87-f954f1e95509",
   "metadata": {},
   "outputs": [],
   "source": [
    "varnames"
   ]
  },
  {
   "cell_type": "code",
   "execution_count": null,
   "id": "4d798d04-09b8-4d1c-b052-ffaa764e79d5",
   "metadata": {},
   "outputs": [],
   "source": [
    "pu.zscore_by_var(conf, 'U')"
   ]
  },
  {
   "cell_type": "code",
   "execution_count": null,
   "id": "2243a92f-068a-4083-891b-ff9f50df4943",
   "metadata": {},
   "outputs": [],
   "source": []
  },
  {
   "cell_type": "markdown",
   "id": "67302c00-7f79-410a-9855-278121a5742c",
   "metadata": {},
   "source": [
    "## zscore by variable name (moved to libs)"
   ]
  },
  {
   "cell_type": "code",
   "execution_count": null,
   "id": "24bb5cff-c449-46c1-937c-908ec82d63ab",
   "metadata": {},
   "outputs": [],
   "source": [
    "def get_forward_data(filename) -> xr.DataArray:\n",
    "    '''\n",
    "    Check nc vs. zarr files\n",
    "    open file as xr.Dataset\n",
    "    '''\n",
    "    if filename[-3:] == '.nc' or filename[-4:] == '.nc4':\n",
    "        dataset = xr.open_dataset(filename)\n",
    "    else:\n",
    "        dataset = xr.open_zarr(filename, consolidated=True)\n",
    "    return dataset\n",
    "\n",
    "def zscore_by_var(conf, varname):\n",
    "    # ------------------------------------------------------------------------------------ #\n",
    "    # lists yearly files and open as xr.Dataset\n",
    "    filenames = sorted(glob(conf['zscore'][varname]))\n",
    "    \n",
    "    year_range = conf['zscore']['years_range']\n",
    "    train_years = [str(year) for year in range(year_range[0], year_range[1])]\n",
    "    train_files = [file for file in filenames if any(year in file for year in train_years)]\n",
    "    \n",
    "    list_ds_train = []\n",
    "    \n",
    "    for fn in train_files:\n",
    "        list_ds_train.append(get_forward_data(fn))\n",
    "        \n",
    "    # ------------------------------------------------------------------------------------ #\n",
    "    # determine if the var has levels\n",
    "    ds_example = list_ds_train[0][varname]\n",
    "    \n",
    "    var_shape = ds_example.shape\n",
    "    \n",
    "    if len(var_shape) == 4:\n",
    "        flag_has_level = True\n",
    "    elif len(var_shape) == 3:\n",
    "        flag_has_level = False\n",
    "    else:\n",
    "        print('data shape {} is not accepted, need to have at least (time, lat, lon)'.format(var_shape))\n",
    "        raise\n",
    "    \n",
    "    N_grids = var_shape[-1] * var_shape[-2]\n",
    "    \n",
    "    if flag_has_level:\n",
    "        N_levels = var_shape[1]\n",
    "        mean_std_save = np.empty((2, N_levels))\n",
    "        mean_std_save.fill(np.nan)\n",
    "        N_samples = np.empty((N_levels,))\n",
    "        N_samples.fill(np.nan)\n",
    "    \n",
    "    else:\n",
    "        mean_std_save = np.empty((2,))\n",
    "        mean_std_save.fill(np.nan)\n",
    "\n",
    "    # ------------------------------------------------------------------------------------ #\n",
    "    # if has level:\n",
    "    if flag_has_level:\n",
    "        \n",
    "        # loop thorugh files and compute mean and std \n",
    "        for i_fn, ds in enumerate(list_ds_train):\n",
    "            \n",
    "            # loop through levels\n",
    "            for i_level in range(N_levels):\n",
    "                \n",
    "                # get the xr.Dataset per var per level\n",
    "                ds_subset = ds[varname].isel(level=i_level)\n",
    "                \n",
    "                # get mean and var for the current year\n",
    "                mean_current_yr = float(ds_subset.mean())\n",
    "                var_current_yr = float(ds_subset.var())\n",
    "                L = len(ds_subset) * N_grids\n",
    "                \n",
    "                print('level {} current {} - {}'.format(i_level, mean_current_yr, var_current_yr))\n",
    "                    \n",
    "                if i_fn == 0:\n",
    "                    # if it is the first year, pass current year to the combined \n",
    "                    mean_std_save[0, i_level] = mean_current_yr\n",
    "                    mean_std_save[1, i_level] = var_current_yr\n",
    "                    N_samples[i_level] = L\n",
    "                    \n",
    "                else:\n",
    "                    # https://math.stackexchange.com/questions/2971315/how-do-i-combine-standard-deviations-of-two-groups\n",
    "                    mean_new = (L * mean_current_yr + N_samples[i_level] * mean_std_save[0, i_level]) / (L + N_samples[i_level])\n",
    "                    var_new = ((L - 1) * var_current_yr + (N_samples[i_level] - 1) * mean_std_save[1, i_level]) / (L + N_samples[i_level] - 1)\n",
    "                    var_new_adjust = (L * N_samples[i_level] * (mean_current_yr - mean_std_save[0, i_level])**2) / (L + N_samples[i_level]) / (L + N_samples[i_level] - 1)\n",
    "                    \n",
    "                    mean_std_save[0, i_level] = mean_new\n",
    "                    mean_std_save[1, i_level] = var_new + var_new_adjust\n",
    "                    N_samples[i_level] = N_samples[i_level] + L\n",
    "                    \n",
    "                    print('level {} combine {} - {}'.format(i_level, mean_std_save[0, i_level], mean_std_save[1, i_level]))\n",
    "                        \n",
    "    # ------------------------------------------------------------------------------------ #\n",
    "    # if no level\n",
    "    else:\n",
    "        # loop thorugh files and compute mean and std \n",
    "        for i_fn, ds in enumerate(list_ds_train):\n",
    "            \n",
    "            # get the xr.Dataset per var per level\n",
    "            ds_subset = ds[varname]\n",
    "            \n",
    "            # get mean and var for the current year\n",
    "            mean_current_yr = float(ds_subset.mean())\n",
    "            var_current_yr = float(ds_subset.var())\n",
    "            L = len(ds_subset) * N_grids\n",
    "            \n",
    "            print('{} - {}'.format(mean_current_yr, var_current_yr))\n",
    "                \n",
    "            if i_fn == 0:\n",
    "                # if it is the first year, pass current year to the combined \n",
    "                mean_std_save[0] = mean_current_yr\n",
    "                mean_std_save[1] = var_current_yr\n",
    "                N_samples = L\n",
    "                \n",
    "            else:\n",
    "                # https://math.stackexchange.com/questions/2971315/how-do-i-combine-standard-deviations-of-two-groups\n",
    "                mean_new = (L * mean_current_yr + N_samples * mean_std_save[0]) / (L + N_samples)\n",
    "                var_new = ((L - 1) * var_current_yr + (N_samples - 1) * mean_std_save[1]) / (L + N_samples - 1)\n",
    "                var_new_adjust = (L * N_samples * (mean_current_yr - mean_std_save[0])**2) / (L + N_samples) / (L + N_samples -1)\n",
    "                \n",
    "                mean_std_save[0] = mean_new\n",
    "                mean_std_save[1] = var_new + var_new_adjust\n",
    "                N_samples = N_samples + L\n",
    "                \n",
    "                print('{} - {}'.format(mean_std_save[0], mean_std_save[1]))\n",
    "\n",
    "    save_name = conf['zscore']['save_loc'] + '{}_mean_std_{}.npy'.format(conf['zscore']['prefix'], varname)\n",
    "    print('Save to {}'.format(save_name))\n",
    "    np.save(save_name, mean_std_save)"
   ]
  },
  {
   "cell_type": "code",
   "execution_count": null,
   "id": "ae04d3df-89db-4662-ae60-42a82bd415f9",
   "metadata": {},
   "outputs": [],
   "source": []
  },
  {
   "cell_type": "code",
   "execution_count": null,
   "id": "73c61cff-1613-44fe-8803-762d66e6641d",
   "metadata": {},
   "outputs": [],
   "source": []
  }
 ],
 "metadata": {
  "kernelspec": {
   "display_name": "Python 3 (ipykernel)",
   "language": "python",
   "name": "python3"
  },
  "language_info": {
   "codemirror_mode": {
    "name": "ipython",
    "version": 3
   },
   "file_extension": ".py",
   "mimetype": "text/x-python",
   "name": "python",
   "nbconvert_exporter": "python",
   "pygments_lexer": "ipython3",
   "version": "3.11.9"
  }
 },
 "nbformat": 4,
 "nbformat_minor": 5
}
