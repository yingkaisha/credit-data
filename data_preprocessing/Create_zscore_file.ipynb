{
 "cells": [
  {
   "cell_type": "markdown",
   "id": "d779c3f3-dd5e-4194-8925-95e37d9660ec",
   "metadata": {},
   "source": [
    "# Create z-score files for CREDIT"
   ]
  },
  {
   "cell_type": "code",
   "execution_count": null,
   "id": "3e399085-3c08-46c9-8e07-fa7e3e0b63c7",
   "metadata": {},
   "outputs": [],
   "source": [
    "import numpy as np\n",
    "import xarray as xr"
   ]
  },
  {
   "cell_type": "markdown",
   "id": "2018bd3e-64bd-4953-a58a-06a0cb311c34",
   "metadata": {},
   "source": [
    "## File creation"
   ]
  },
  {
   "cell_type": "code",
   "execution_count": null,
   "id": "19f419a8-e0b2-4a49-99cb-49cf2fdf8208",
   "metadata": {},
   "outputs": [],
   "source": [
    "# in-coming"
   ]
  },
  {
   "cell_type": "markdown",
   "id": "3862f8bf-3ea7-4042-afbb-74c4210a1ed3",
   "metadata": {},
   "source": [
    "## Add new variables"
   ]
  },
  {
   "cell_type": "code",
   "execution_count": null,
   "id": "42d27107-c7bd-491a-800c-7f3dbd2ffe9e",
   "metadata": {},
   "outputs": [],
   "source": [
    "old_mean = '/glade/derecho/scratch/schreck/STAGING/All_2010_staged.mean.Lev.SLO.nc'\n",
    "old_std = '/glade/derecho/scratch/schreck/STAGING/All_2010_staged.std.Lev.SLO.nc'"
   ]
  },
  {
   "cell_type": "code",
   "execution_count": null,
   "id": "5d221ef4-3953-4e1d-bcd6-cb7340ca2b54",
   "metadata": {},
   "outputs": [],
   "source": [
    "xr_old_mean = xr.open_dataset(old_mean)\n",
    "xr_new_mean = xr_old_mean.assign(tp=0.00)\n",
    "xr_new_mean = xr_new_mean.assign(tcw=0.00)\n",
    "\n",
    "xr_old_std = xr.open_dataset(old_std)\n",
    "xr_new_std = xr_old_std.assign(tp=1.00)\n",
    "xr_new_std = xr_new_std.assign(tcw=1.00)"
   ]
  },
  {
   "cell_type": "code",
   "execution_count": null,
   "id": "80773223-5610-4d58-a60b-9f7054f7ff5b",
   "metadata": {},
   "outputs": [],
   "source": [
    "xr_new_mean.to_netcdf('/glade/campaign/cisl/aiml/ksha/CREDIT/EXTEND/All_2010_staged.mean.Lev.SLO.nc')\n",
    "xr_new_std.to_netcdf('/glade/campaign/cisl/aiml/ksha/CREDIT/EXTEND/All_2010_staged.std.Lev.SLO.nc')"
   ]
  },
  {
   "cell_type": "markdown",
   "id": "8851b990-9fcc-4d82-9f82-693b0811d2ee",
   "metadata": {},
   "source": [
    "## Change values for existing variables"
   ]
  },
  {
   "cell_type": "code",
   "execution_count": null,
   "id": "788ead35-960d-4c97-bf40-8228dde36c81",
   "metadata": {},
   "outputs": [],
   "source": [
    "old_mean = '/glade/derecho/scratch/schreck/STAGING/All_2010_staged.mean.Lev.SLO.nc'\n",
    "old_std = '/glade/derecho/scratch/schreck/STAGING/All_2010_staged.std.Lev.SLO.nc'\n",
    "\n",
    "xr_old_mean = xr.open_dataset(old_mean)\n",
    "xr_old_std = xr.open_dataset(old_std)"
   ]
  },
  {
   "cell_type": "code",
   "execution_count": null,
   "id": "b41e1d37-04fd-41b0-9a90-8d01d78d0347",
   "metadata": {},
   "outputs": [],
   "source": [
    "# copy old to new\n",
    "xr_new_mean = xr_old_mean.copy()\n",
    "xr_new_std = xr_old_std.copy()"
   ]
  },
  {
   "cell_type": "code",
   "execution_count": null,
   "id": "62894fed-a1c2-42c6-b7fe-1a4e45717def",
   "metadata": {},
   "outputs": [],
   "source": [
    "varnames = list(xr_old_mean.keys())\n",
    "\n",
    "for var in varnames:\n",
    "    xr_new_mean[var] = xr_old_mean[var] - xr_old_mean[var]\n",
    "    xr_new_std[var] = xr_old_std[var] / xr_old_std[var]"
   ]
  },
  {
   "cell_type": "code",
   "execution_count": null,
   "id": "6c85f2ad-8ab5-4d96-b2b9-ee84c3369b16",
   "metadata": {},
   "outputs": [],
   "source": [
    "xr_new_mean.to_netcdf('/glade/campaign/cisl/aiml/ksha/CREDIT/EXTEND/mean_zero.nc')\n",
    "xr_new_std.to_netcdf('/glade/campaign/cisl/aiml/ksha/CREDIT/EXTEND/std_one.nc')"
   ]
  },
  {
   "cell_type": "markdown",
   "id": "8113ec88-3d15-4d33-a4a1-a5b4fcc79fb3",
   "metadata": {},
   "source": [
    "### Open to check"
   ]
  },
  {
   "cell_type": "code",
   "execution_count": null,
   "id": "068e4a51-50e8-424f-ad9a-52c7c0cd7f65",
   "metadata": {},
   "outputs": [],
   "source": [
    "test_mean = xr.open_dataset('/glade/campaign/cisl/aiml/ksha/CREDIT/EXTEND/All_2010_staged.mean.Lev.SLO.nc')"
   ]
  },
  {
   "cell_type": "code",
   "execution_count": null,
   "id": "772652bc-f21c-453f-adcf-996305856ba6",
   "metadata": {},
   "outputs": [],
   "source": []
  }
 ],
 "metadata": {
  "kernelspec": {
   "display_name": "Python 3 (ipykernel)",
   "language": "python",
   "name": "python3"
  },
  "language_info": {
   "codemirror_mode": {
    "name": "ipython",
    "version": 3
   },
   "file_extension": ".py",
   "mimetype": "text/x-python",
   "name": "python",
   "nbconvert_exporter": "python",
   "pygments_lexer": "ipython3",
   "version": "3.10.13"
  }
 },
 "nbformat": 4,
 "nbformat_minor": 5
}
