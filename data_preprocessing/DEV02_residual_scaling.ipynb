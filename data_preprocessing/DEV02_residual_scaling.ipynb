{
 "cells": [
  {
   "cell_type": "markdown",
   "id": "3f90f1d6-3ad1-4420-ade9-8670ac2d049a",
   "metadata": {},
   "source": [
    "# Compute residual normalization constant"
   ]
  },
  {
   "cell_type": "code",
   "execution_count": 1,
   "id": "c97dd4b6-069c-42ca-9231-e3edd65ea615",
   "metadata": {},
   "outputs": [],
   "source": [
    "import os\n",
    "import sys\n",
    "import yaml\n",
    "import time\n",
    "import numpy as np\n",
    "import xarray as xr\n",
    "from glob import glob"
   ]
  },
  {
   "cell_type": "code",
   "execution_count": 2,
   "id": "1740fae7-f9bc-4bad-bf72-0556d7def51a",
   "metadata": {},
   "outputs": [],
   "source": [
    "from credit.data import get_forward_data"
   ]
  },
  {
   "cell_type": "code",
   "execution_count": 3,
   "id": "85a67729-565a-43ae-b5ea-4ae445283e44",
   "metadata": {},
   "outputs": [],
   "source": [
    "sys.path.insert(0, os.path.realpath('../libs/'))\n",
    "import preprocess_utils as pu"
   ]
  },
  {
   "cell_type": "code",
   "execution_count": 4,
   "id": "d7b57302-f80b-4314-9db5-cb29dd44f801",
   "metadata": {},
   "outputs": [],
   "source": [
    "config_name = os.path.realpath('data_config_1h.yml')\n",
    "\n",
    "with open(config_name, 'r') as stream:\n",
    "    conf = yaml.safe_load(stream)"
   ]
  },
  {
   "cell_type": "code",
   "execution_count": 4,
   "id": "42b15a2c-6c07-469a-9f59-85886da81f89",
   "metadata": {},
   "outputs": [],
   "source": [
    "varname = 'U'\n",
    "ind_level = 14"
   ]
  },
  {
   "cell_type": "code",
   "execution_count": 13,
   "id": "d02d339c-020f-49bf-80d7-41276c03cd30",
   "metadata": {},
   "outputs": [],
   "source": [
    "pu.residual_zscore_var(conf, varname, ind_level=ind_level)"
   ]
  },
  {
   "cell_type": "code",
   "execution_count": 13,
   "id": "dae8ddd2-fa8a-4696-b3ea-5480928ba8de",
   "metadata": {},
   "outputs": [],
   "source": [
    "varname = 'U500'\n",
    "ind_level = None"
   ]
  },
  {
   "cell_type": "code",
   "execution_count": 14,
   "id": "93afe60e-afdc-4c21-ad64-00ff3d19bafc",
   "metadata": {},
   "outputs": [],
   "source": [
    "pu.residual_zscore_var(conf, varname, ind_level=ind_level)"
   ]
  },
  {
   "cell_type": "markdown",
   "id": "b2ba8309-82ae-4135-9f7f-656224eae09e",
   "metadata": {},
   "source": [
    "## separate results by year"
   ]
  },
  {
   "cell_type": "code",
   "execution_count": 5,
   "id": "b7694ea8-3f17-44d9-ac17-433f197fe95c",
   "metadata": {},
   "outputs": [],
   "source": [
    "config_name = os.path.realpath('data_config_1h.yml')\n",
    "\n",
    "with open(config_name, 'r') as stream:\n",
    "    conf = yaml.safe_load(stream)"
   ]
  },
  {
   "cell_type": "code",
   "execution_count": 6,
   "id": "4e229981-76a4-4e00-ab5a-9e21484c014d",
   "metadata": {},
   "outputs": [],
   "source": [
    "varname = 'tsi'"
   ]
  },
  {
   "cell_type": "code",
   "execution_count": 8,
   "id": "33319a01-ffc9-4bac-8547-f0a51eb37849",
   "metadata": {},
   "outputs": [
    {
     "name": "stdout",
     "output_type": "stream",
     "text": [
      "applying np.diff ...\n",
      "... done\n",
      "3.992981097915965e-08 - 0.08399907090968746\n",
      "Save to /glade/campaign/cisl/aiml/ksha/CREDIT/backup_1h_2018_residual_mean_std_tsi_y1979.npy\n",
      "applying np.diff ...\n",
      "... done\n",
      "-4.717411896698478e-08 - 0.08400552463365456\n",
      "Save to /glade/campaign/cisl/aiml/ksha/CREDIT/backup_1h_2018_residual_mean_std_tsi_y1980.npy\n",
      "applying np.diff ...\n",
      "... done\n",
      "4.007483693310204e-09 - 0.08400406503324591\n",
      "Save to /glade/campaign/cisl/aiml/ksha/CREDIT/backup_1h_2018_residual_mean_std_tsi_y1981.npy\n",
      "applying np.diff ...\n",
      "... done\n",
      "1.0039195639892813e-08 - 0.08396608843809757\n",
      "Save to /glade/campaign/cisl/aiml/ksha/CREDIT/backup_1h_2018_residual_mean_std_tsi_y1982.npy\n",
      "applying np.diff ...\n"
     ]
    },
    {
     "name": "stderr",
     "output_type": "stream",
     "text": [
      "\n",
      "KeyboardInterrupt\n",
      "\n"
     ]
    }
   ],
   "source": [
    "for year in range(1979, 2018):\n",
    "    pu.residual_zscore_var_split_years(conf, varname, year, ind_level=None, flag_float64=True)"
   ]
  },
  {
   "cell_type": "code",
   "execution_count": 27,
   "id": "7b992026-1047-4551-b69e-a84416b48737",
   "metadata": {},
   "outputs": [],
   "source": [
    "data_temp = np.load('/glade/campaign/cisl/aiml/ksha/CREDIT/backup_1h_2018_residual_mean_std_tsi_y1989.npy')"
   ]
  },
  {
   "cell_type": "markdown",
   "id": "fd166001-d698-4660-bac3-c471eaf74eef",
   "metadata": {},
   "source": [
    "### Update from all yearly results"
   ]
  },
  {
   "cell_type": "code",
   "execution_count": 9,
   "id": "43534d6a-7a90-4aa3-90ee-79cd47b6ffb4",
   "metadata": {},
   "outputs": [],
   "source": [
    "config_name = os.path.realpath('data_config_1h.yml')\n",
    "\n",
    "with open(config_name, 'r') as stream:\n",
    "    conf = yaml.safe_load(stream)"
   ]
  },
  {
   "cell_type": "code",
   "execution_count": 10,
   "id": "cd7958c2-d98d-4ed2-b1ba-760d98266b11",
   "metadata": {},
   "outputs": [],
   "source": [
    "varname_surf = ['tsi',]\n",
    "years_range = conf['residual']['years_range']\n",
    "years = np.arange(years_range[0], years_range[1])"
   ]
  },
  {
   "cell_type": "code",
   "execution_count": 12,
   "id": "2d92ea57-0a4c-4fa5-8f66-e8d2f094917d",
   "metadata": {},
   "outputs": [
    {
     "name": "stdout",
     "output_type": "stream",
     "text": [
      "-3.681739398048566e-09 - 0.08400230218064257\n",
      "-1.121003872509177e-09 - 0.08400288925806965\n",
      "1.6671361026513772e-09 - 0.0839936953480684\n",
      "4.2124762988100274e-10 - 0.0839842079475786\n",
      "-7.97641204231631e-09 - 0.08397034943415727\n",
      "-6.248697512438231e-09 - 0.08395794247779552\n",
      "-4.018932301636456e-09 - 0.08394843207070722\n",
      "9.291853702540194e-10 - 0.0839431854243798\n",
      "-8.966570047515398e-10 - 0.08394260497555227\n",
      "1.6553347610759329e-09 - 0.08394719133579581\n",
      "2.8836856894128255e-09 - 0.08395098446441296\n",
      "2.563889562351489e-09 - 0.08395333867575981\n",
      "-1.301898661150006e-09 - 0.08395373321671372\n",
      "-1.2241314613656236e-09 - 0.08395229234957925\n",
      "-1.1108155340644264e-09 - 0.08394929795920945\n",
      "2.6385410821211495e-10 - 0.08394581576643097\n",
      "-2.0955292146369012e-09 - 0.08394220099531254\n",
      "-8.439570221854462e-10 - 0.08393987482282209\n",
      "1.4278654901968038e-09 - 0.08393980856115625\n",
      "2.802577436048392e-09 - 0.08394158511283892\n",
      "1.2870007397053525e-09 - 0.08394436099449792\n",
      "2.111898396374396e-09 - 0.08394694557015414\n",
      "1.8749797516660133e-09 - 0.08394924141711321\n",
      "1.842829314689888e-09 - 0.08394961583421207\n",
      "-2.7116411254334663e-10 - 0.08394888866927502\n",
      "-3.06031857756518e-10 - 0.08394744494578307\n",
      "5.779404480015804e-10 - 0.0839457968998375\n",
      "9.413898238486065e-10 - 0.08394401285155105\n",
      "-7.261747628337532e-10 - 0.08394198833062319\n",
      "-1.1146712038562766e-10 - 0.0839400620383805\n",
      "5.967791880879227e-10 - 0.08393877984821395\n",
      "1.8482882206269634e-09 - 0.08393878295849264\n",
      "1.3315541937839502e-09 - 0.08393982485017272\n",
      "1.634950486530911e-09 - 0.08394169861655529\n",
      "2.2857868987322225e-09 - 0.08394345022500087\n",
      "2.295759575183666e-09 - 0.08394515499096403\n",
      "4.365658995413978e-10 - 0.08394552360013358\n",
      "7.214168158155197e-10 - 0.08394527983269987\n",
      "Save to /glade/campaign/cisl/aiml/ksha/CREDIT/1h_2018_residual_mean_std_tsi.npy\n"
     ]
    }
   ],
   "source": [
    "for varname in varname_surf:\n",
    "    \n",
    "    # allocate result for this variable\n",
    "    mean_std_save = np.empty((2,))\n",
    "    \n",
    "    for i_year, year in enumerate(years):\n",
    "        save_name = conf['residual']['save_loc'] + 'backup_{}_mean_std_{}_y{}.npy'.format(\n",
    "            conf['residual']['prefix'], varname, year)\n",
    "\n",
    "        mean_std_N_save = np.load(save_name)\n",
    "\n",
    "        mean_current_yr = mean_std_N_save[0]\n",
    "        var_current_yr = mean_std_N_save[1]\n",
    "        L = mean_std_N_save[2]\n",
    "\n",
    "        if i_year == 0:\n",
    "            # if it is the first year, pass current year to the combined \n",
    "            mean_std_save[0] = mean_current_yr\n",
    "            mean_std_save[1] = var_current_yr\n",
    "            N_samples = L\n",
    "            \n",
    "        else:\n",
    "            # https://math.stackexchange.com/questions/2971315/how-do-i-combine-standard-deviations-of-two-groups\n",
    "            mean_new = (L * mean_current_yr + N_samples * mean_std_save[0]) / (L + N_samples)\n",
    "            var_new = ((L - 1) * var_current_yr + (N_samples - 1) * mean_std_save[1]) / (L + N_samples - 1)\n",
    "            var_new_adjust = (L * N_samples * (mean_current_yr - mean_std_save[0])**2) / (L + N_samples) / (L + N_samples -1)\n",
    "            \n",
    "            mean_std_save[0] = mean_new\n",
    "            mean_std_save[1] = var_new + var_new_adjust\n",
    "            N_samples = N_samples + L\n",
    "\n",
    "            print('{} - {}'.format(mean_std_save[0], mean_std_save[1]))\n",
    "            \n",
    "    save_name = conf['residual']['save_loc'] + '{}_mean_std_{}.npy'.format(conf['residual']['prefix'], varname)\n",
    "    print('Save to {}'.format(save_name))\n",
    "    # np.save(save_name, mean_std_save)"
   ]
  },
  {
   "cell_type": "markdown",
   "id": "1f3dca2b-deb1-4635-87b4-90600a99cc5f",
   "metadata": {},
   "source": [
    "## `xr.apply_ufunc(np.diff)` vs `np.diff` directly"
   ]
  },
  {
   "cell_type": "code",
   "execution_count": 18,
   "id": "98cac813-8c41-4e39-a87a-94e13c29efcc",
   "metadata": {},
   "outputs": [],
   "source": [
    "ds = list_ds_train[0]\n",
    "if ind_level is not None:\n",
    "    ds = ds.isel(level=ind_level)"
   ]
  },
  {
   "cell_type": "code",
   "execution_count": 19,
   "id": "a18db737-5b0e-4bfe-87f9-217684d7500c",
   "metadata": {},
   "outputs": [],
   "source": [
    "ds = ds.isel(time=slice(100))"
   ]
  },
  {
   "cell_type": "code",
   "execution_count": 20,
   "id": "7d8dc317-852b-46d2-9ab9-e9c46aa5eeec",
   "metadata": {},
   "outputs": [],
   "source": [
    "var_diff = xr.apply_ufunc(\n",
    "    np.diff,\n",
    "    ds[varname],\n",
    "    input_core_dims=[['time']],\n",
    "    output_core_dims=[['time_diff']],  # Change this to a new dimension name\n",
    "    vectorize=True,\n",
    "    dask='allowed',\n",
    "    output_dtypes=[ds[varname].dtype]\n",
    ")\n",
    "\n",
    "ds_out = var_diff.to_dataset(name='{}_diff'.format(varname))\n",
    "\n",
    "ds_out = ds_out.assign_coords(\n",
    "    time_diff=ds_out['time_diff'])\n",
    "\n",
    "ds_out = ds_out.transpose(\"time_diff\", \"latitude\", \"longitude\")"
   ]
  },
  {
   "cell_type": "code",
   "execution_count": 22,
   "id": "591df38e-091d-425f-9faf-5bf5cee1aa31",
   "metadata": {},
   "outputs": [],
   "source": [
    "diff1 = np.array(ds_out['U_diff'])"
   ]
  },
  {
   "cell_type": "code",
   "execution_count": 24,
   "id": "983b0649-e85e-481a-a997-81874731e809",
   "metadata": {},
   "outputs": [],
   "source": [
    "diff2 = np.diff(np.array(ds['U']), axis=0)"
   ]
  },
  {
   "cell_type": "code",
   "execution_count": 26,
   "id": "ae0e97ac-8b88-4e1e-80a6-18606d9d662a",
   "metadata": {},
   "outputs": [
    {
     "data": {
      "text/plain": [
       "0.0"
      ]
     },
     "execution_count": 26,
     "metadata": {},
     "output_type": "execute_result"
    }
   ],
   "source": [
    "np.sum(diff1 - diff2)"
   ]
  },
  {
   "cell_type": "markdown",
   "id": "52f3873f-b8c0-40da-9d89-c89a8db35fbb",
   "metadata": {},
   "source": [
    "## old blocks"
   ]
  },
  {
   "cell_type": "code",
   "execution_count": null,
   "id": "417f6b87-97fb-4030-a779-8dae39048bcb",
   "metadata": {},
   "outputs": [],
   "source": [
    "# filenames = sorted(glob(conf['zscore'][varname]))\n",
    "\n",
    "# year_range = conf['zscore']['years_range']\n",
    "# train_years = [str(year) for year in range(year_range[0], year_range[1])]\n",
    "# train_files = [file for file in filenames if any(year in file for year in train_years)]\n",
    "\n",
    "# list_ds_train = []\n",
    "\n",
    "# for fn in train_files:\n",
    "#     list_ds_train.append(get_forward_data(fn))\n",
    "    \n",
    "# # ------------------------------------------------------------------------------------ #\n",
    "# ds_example = list_ds_train[0][varname]\n",
    "# var_shape = ds_example.shape\n",
    "\n",
    "# N_grids = var_shape[-1] * var_shape[-2]\n",
    "# mean_std_save = np.empty((2,))\n",
    "# mean_std_save.fill(np.nan)\n",
    "\n",
    "# for i_fn, ds in enumerate(list_ds_train):\n",
    "#     # ===================================================================== #\n",
    "#     # apply np.diff\n",
    "#     var_diff = xr.apply_ufunc(\n",
    "#         np.diff,\n",
    "#         ds[varname],\n",
    "#         input_core_dims=[['time']],\n",
    "#         output_core_dims=[['time_diff']],  # Change this to a new dimension name\n",
    "#         vectorize=True,\n",
    "#         dask='allowed',\n",
    "#         output_dtypes=[ds[varname].dtype]\n",
    "#     )\n",
    "    \n",
    "#     ds_out = var_diff.to_dataset(name='{}_diff'.format(varname))\n",
    "    \n",
    "#     ds_out = ds_out.assign_coords(\n",
    "#         time_diff=ds_out['time_diff'])\n",
    "    \n",
    "#     ds_out = ds_out.transpose(\"time_diff\", \"latitude\", \"longitude\")\n",
    "    \n",
    "#     # ===================================================================== #\n",
    "#     # compute the mean and std from the np.diff result\n",
    "    \n",
    "#     ds_subset = ds_out['{}_diff'.format(varname)]\n",
    "    \n",
    "#     # get mean and var for the current year\n",
    "#     mean_current_yr = float(ds_subset.mean())\n",
    "#     var_current_yr = float(ds_subset.var())\n",
    "#     L = len(ds_subset) * N_grids\n",
    "    \n",
    "#     print('{} - {}'.format(mean_current_yr, var_current_yr))\n",
    "        \n",
    "#     if i_fn == 0:\n",
    "#         # if it is the first year, pass current year to the combined \n",
    "#         mean_std_save[0] = mean_current_yr\n",
    "#         mean_std_save[1] = var_current_yr\n",
    "#         N_samples = L\n",
    "        \n",
    "#     else:\n",
    "#         # https://math.stackexchange.com/questions/2971315/how-do-i-combine-standard-deviations-of-two-groups\n",
    "#         mean_new = (L * mean_current_yr + N_samples * mean_std_save[0]) / (L + N_samples)\n",
    "#         var_new = ((L - 1) * var_current_yr + (N_samples - 1) * mean_std_save[1]) / (L + N_samples - 1)\n",
    "#         var_new_adjust = (L * N_samples * (mean_current_yr - mean_std_save[0])**2) / (L + N_samples) / (L + N_samples -1)\n",
    "        \n",
    "#         mean_std_save[0] = mean_new\n",
    "#         mean_std_save[1] = var_new + var_new_adjust\n",
    "#         N_samples = N_samples + L\n",
    "        \n",
    "#         print('{} - {}'.format(mean_std_save[0], mean_std_save[1]))\n",
    "\n",
    "# save_name = conf['zscore']['save_loc'] + '{}_residual_mean_std_{}.npy'.format(conf['zscore']['prefix'], varname)\n",
    "# print('Save to {}'.format(save_name))\n",
    "# # np.save(save_name, mean_std_save)\n",
    "\n",
    "# start_time = time.time()\n",
    "# main()\n",
    "# print(\"--- %s seconds ---\" % (time.time() - start_time))"
   ]
  }
 ],
 "metadata": {
  "kernelspec": {
   "display_name": "Python 3 (ipykernel)",
   "language": "python",
   "name": "python3"
  },
  "language_info": {
   "codemirror_mode": {
    "name": "ipython",
    "version": 3
   },
   "file_extension": ".py",
   "mimetype": "text/x-python",
   "name": "python",
   "nbconvert_exporter": "python",
   "pygments_lexer": "ipython3",
   "version": "3.11.9"
  }
 },
 "nbformat": 4,
 "nbformat_minor": 5
}
