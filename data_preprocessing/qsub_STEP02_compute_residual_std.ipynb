{
 "cells": [
  {
   "cell_type": "markdown",
   "id": "304505aa-820b-41ea-af52-57a62b6c8655",
   "metadata": {},
   "source": [
    "# Generate qsub scripts to compute mean and std per variable"
   ]
  },
  {
   "cell_type": "code",
   "execution_count": 1,
   "id": "a4e06d0d-df0e-4353-9fc7-dcab383a8d70",
   "metadata": {},
   "outputs": [],
   "source": [
    "import os\n",
    "import sys\n",
    "import yaml\n",
    "import numpy as np\n",
    "import xarray as xr"
   ]
  },
  {
   "cell_type": "code",
   "execution_count": 2,
   "id": "94494a11-1fef-419e-9dfe-4307e9e90634",
   "metadata": {},
   "outputs": [],
   "source": [
    "sys.path.insert(0, os.path.realpath('../libs/'))\n",
    "import preprocess_utils as pu"
   ]
  },
  {
   "cell_type": "markdown",
   "id": "37ecc2bd-f660-4717-8394-5718d1ce51f6",
   "metadata": {},
   "source": [
    "## 6 hourly residual"
   ]
  },
  {
   "cell_type": "code",
   "execution_count": 3,
   "id": "114b8b39-a02d-4382-8062-55591204e374",
   "metadata": {},
   "outputs": [],
   "source": [
    "config_name = os.path.realpath('data_config_6h.yml')\n",
    "\n",
    "with open(config_name, 'r') as stream:\n",
    "    conf = yaml.safe_load(stream)"
   ]
  },
  {
   "cell_type": "code",
   "execution_count": 4,
   "id": "f7295873-ba86-4211-aa08-4919cb72e148",
   "metadata": {},
   "outputs": [],
   "source": [
    "varnames = list(conf['residual'].keys())\n",
    "varnames = varnames[:-5] # remove save_loc and others\n",
    "varname_surf = list(set(varnames) - set(['U', 'V', 'T', 'Q']))\n",
    "varname_upper = ['U', 'V', 'T', 'Q']\n",
    "N_level = 16"
   ]
  },
  {
   "cell_type": "code",
   "execution_count": 7,
   "id": "ee122092-b5c0-46eb-ae95-0f58d31c23f5",
   "metadata": {},
   "outputs": [],
   "source": [
    "for i_var, varname in enumerate(varname_surf):\n",
    "    \n",
    "    f = open('{}residual_6h_{}.sh'.format(conf['qsub']['qsub_loc'], varname), 'w') \n",
    "    \n",
    "    heads = '''#!/bin/bash -l\n",
    "\n",
    "#PBS -N {}\n",
    "#PBS -A NAML0001\n",
    "#PBS -l walltime=23:59:59\n",
    "#PBS -l select=1:ncpus=4\n",
    "#PBS -q casper\n",
    "#PBS -o residual_{}.log\n",
    "#PBS -e residual_{}.err\n",
    "\n",
    "conda activate credit\n",
    "cd {}\n",
    "python residual_6h.py {} {}\n",
    "'''.format(varname, varname, varname, \n",
    "           conf['qsub']['scripts_loc'], \n",
    "           varname,\n",
    "           'None')\n",
    "    \n",
    "    print(heads, file=f)    \n",
    "    f.close()\n",
    "\n",
    "f = open('{}preprocess_surf_residual_6h.sh'.format(conf['qsub']['qsub_loc']), 'w')\n",
    "\n",
    "for i_var, varname in enumerate(varname_surf):\n",
    "    print('qsub residual_6h_{}.sh'.format(varname), file=f)\n",
    "    \n",
    "f.close()"
   ]
  },
  {
   "cell_type": "code",
   "execution_count": 8,
   "id": "064774b3-3abf-4ab1-8d38-0dcc57ede01f",
   "metadata": {},
   "outputs": [],
   "source": [
    "for i_var, varname in enumerate(varname_upper):\n",
    "    for i_level in range(N_level):\n",
    "        \n",
    "        f = open('{}residual_6h_{}_level{}.sh'.format(conf['qsub']['qsub_loc'], varname, i_level), 'w') \n",
    "        \n",
    "        heads = '''#!/bin/bash -l\n",
    "    \n",
    "#PBS -N {}\n",
    "#PBS -A NAML0001\n",
    "#PBS -l walltime=23:59:59\n",
    "#PBS -l select=1:ncpus=4\n",
    "#PBS -q casper\n",
    "#PBS -o residual_{}.log\n",
    "#PBS -e residual_{}.err\n",
    "\n",
    "conda activate credit\n",
    "cd {}\n",
    "python residual_6h.py {} {}\n",
    "'''.format(varname, varname, varname, \n",
    "           conf['qsub']['scripts_loc'], \n",
    "           varname,\n",
    "           i_level)\n",
    "        \n",
    "        print(heads, file=f)    \n",
    "        f.close()\n",
    "\n",
    "f = open('{}preprocess_upper_residual_6h.sh'.format(conf['qsub']['qsub_loc']), 'w')\n",
    "\n",
    "for i_var, varname in enumerate(varname_upper):\n",
    "    for i_level in range(N_level):\n",
    "        print('qsub residual_6h_{}_level{}.sh'.format(varname, i_level), file=f)\n",
    "    \n",
    "f.close()"
   ]
  },
  {
   "cell_type": "markdown",
   "id": "ded2aa87-eeaf-482e-bf0d-484d96b10c7b",
   "metadata": {},
   "source": [
    "## hourl residual"
   ]
  },
  {
   "cell_type": "code",
   "execution_count": 3,
   "id": "6840f6a5-e1c7-4cff-af6c-d81c0d706d05",
   "metadata": {},
   "outputs": [],
   "source": [
    "config_name = os.path.realpath('data_config_1h.yml')\n",
    "\n",
    "with open(config_name, 'r') as stream:\n",
    "    conf = yaml.safe_load(stream)"
   ]
  },
  {
   "cell_type": "code",
   "execution_count": 4,
   "id": "2f9f12aa-b5a5-4b8f-809c-325036e7ecf5",
   "metadata": {},
   "outputs": [],
   "source": [
    "varnames = list(conf['residual'].keys())\n",
    "varnames = varnames[:-5] # remove save_loc and others\n",
    "varname_surf = list(set(varnames) - set(['U', 'V', 'T', 'Q']))\n",
    "varname_upper = ['U', 'V', 'T', 'Q']\n",
    "N_level = 16"
   ]
  },
  {
   "cell_type": "code",
   "execution_count": 5,
   "id": "680889df-4f3e-4234-917b-0be136331abb",
   "metadata": {},
   "outputs": [],
   "source": [
    "for i_var, varname in enumerate(varname_surf):\n",
    "    \n",
    "    f = open('{}residual_1h_{}.sh'.format(conf['qsub']['qsub_loc'], varname), 'w') \n",
    "    \n",
    "    heads = '''#!/bin/bash -l\n",
    "\n",
    "#PBS -N {}\n",
    "#PBS -A NAML0001\n",
    "#PBS -l walltime=23:59:59\n",
    "#PBS -l select=1:ncpus=4\n",
    "#PBS -q casper\n",
    "#PBS -o residual_{}.log\n",
    "#PBS -e residual_{}.err\n",
    "\n",
    "conda activate credit\n",
    "cd {}\n",
    "python residual_1h.py {} {}\n",
    "'''.format(varname, varname, varname, \n",
    "           conf['qsub']['scripts_loc'], \n",
    "           varname,\n",
    "           'None')\n",
    "    \n",
    "    print(heads, file=f)    \n",
    "    f.close()\n",
    "\n",
    "f = open('{}preprocess_surf_residual_1h.sh'.format(conf['qsub']['qsub_loc']), 'w')\n",
    "\n",
    "for i_var, varname in enumerate(varname_surf):\n",
    "    print('qsub residual_1h_{}.sh'.format(varname), file=f)\n",
    "    \n",
    "f.close()"
   ]
  },
  {
   "cell_type": "code",
   "execution_count": 6,
   "id": "fbfd095f-c834-4562-95db-7fa8c049a175",
   "metadata": {},
   "outputs": [],
   "source": [
    "for i_var, varname in enumerate(varname_upper):\n",
    "    for i_level in range(N_level):\n",
    "        \n",
    "        f = open('{}residual_1h_{}_level{}.sh'.format(conf['qsub']['qsub_loc'], varname, i_level), 'w') \n",
    "        \n",
    "        heads = '''#!/bin/bash -l\n",
    "    \n",
    "#PBS -N {}\n",
    "#PBS -A NAML0001\n",
    "#PBS -l walltime=23:59:59\n",
    "#PBS -l select=1:ncpus=4\n",
    "#PBS -q casper\n",
    "#PBS -o residual_{}.log\n",
    "#PBS -e residual_{}.err\n",
    "\n",
    "conda activate credit\n",
    "cd {}\n",
    "python residual_1h.py {} {}\n",
    "'''.format(varname, varname, varname, \n",
    "           conf['qsub']['scripts_loc'], \n",
    "           varname,\n",
    "           i_level)\n",
    "        \n",
    "        print(heads, file=f)    \n",
    "        f.close()\n",
    "\n",
    "f = open('{}preprocess_upper_residual_1h.sh'.format(conf['qsub']['qsub_loc']), 'w')\n",
    "\n",
    "for i_var, varname in enumerate(varname_upper):\n",
    "    for i_level in range(N_level):\n",
    "        print('qsub residual_1h_{}_level{}.sh'.format(varname, i_level), file=f)\n",
    "    \n",
    "f.close()"
   ]
  },
  {
   "cell_type": "markdown",
   "id": "c94a6d7f-8e14-4f6a-8fdd-3bdd2b9adde8",
   "metadata": {},
   "source": [
    "## hourly residual with yearly backup results"
   ]
  },
  {
   "cell_type": "code",
   "execution_count": 3,
   "id": "0566852f-f8a6-4a31-b6c4-d169c8908ddd",
   "metadata": {},
   "outputs": [],
   "source": [
    "config_name = os.path.realpath('data_config_1h.yml')\n",
    "\n",
    "with open(config_name, 'r') as stream:\n",
    "    conf = yaml.safe_load(stream)"
   ]
  },
  {
   "cell_type": "code",
   "execution_count": 9,
   "id": "0639e534-f2aa-420d-ada0-af0dd16a8e74",
   "metadata": {},
   "outputs": [],
   "source": [
    "varname_surf = ['tsi',]"
   ]
  },
  {
   "cell_type": "code",
   "execution_count": 7,
   "id": "04f27c3d-f8b7-441a-bf66-4f4fa5025c8b",
   "metadata": {},
   "outputs": [],
   "source": [
    "years_range = conf['residual']['years_range']\n",
    "years = np.arange(years_range[0], years_range[1])"
   ]
  },
  {
   "cell_type": "code",
   "execution_count": 14,
   "id": "61b52a3e-f5c3-47e1-940e-a26912a9397e",
   "metadata": {},
   "outputs": [],
   "source": [
    "for i_var, varname in enumerate(varname_surf):\n",
    "    for year in years:\n",
    "        \n",
    "        f = open('{}backup_residual_1h_{}_year{}.sh'.format(conf['qsub']['qsub_loc'], varname, year), 'w') \n",
    "    \n",
    "        heads = '''#!/bin/bash -l\n",
    "\n",
    "#PBS -N {}\n",
    "#PBS -A NAML0001\n",
    "#PBS -l walltime=23:59:59\n",
    "#PBS -l select=1:ncpus=16\n",
    "#PBS -q casper\n",
    "#PBS -o backup_residual_{}.log\n",
    "#PBS -e backup_residual_{}.err\n",
    "\n",
    "conda activate credit\n",
    "cd {}\n",
    "python residual_1h_backup_yearly.py {} {} {}\n",
    "'''.format(varname, varname, varname, \n",
    "           conf['qsub']['scripts_loc'], \n",
    "           varname,\n",
    "           'None',\n",
    "           year)\n",
    "    \n",
    "        print(heads, file=f)    \n",
    "        f.close()\n",
    "\n",
    "f = open('{}backup_preprocess_surf_residual_1h.sh'.format(conf['qsub']['qsub_loc']), 'w')\n",
    "\n",
    "for i_var, varname in enumerate(varname_surf):\n",
    "    for year in years:\n",
    "        print('qsub backup_residual_1h_{}_year{}.sh'.format(varname, year), file=f)\n",
    "    \n",
    "f.close()"
   ]
  },
  {
   "cell_type": "code",
   "execution_count": null,
   "id": "4bfcf27b-88e8-407d-8b7a-a12eb77ce3db",
   "metadata": {},
   "outputs": [],
   "source": []
  }
 ],
 "metadata": {
  "kernelspec": {
   "display_name": "Python 3 (ipykernel)",
   "language": "python",
   "name": "python3"
  },
  "language_info": {
   "codemirror_mode": {
    "name": "ipython",
    "version": 3
   },
   "file_extension": ".py",
   "mimetype": "text/x-python",
   "name": "python",
   "nbconvert_exporter": "python",
   "pygments_lexer": "ipython3",
   "version": "3.11.9"
  }
 },
 "nbformat": 4,
 "nbformat_minor": 5
}
