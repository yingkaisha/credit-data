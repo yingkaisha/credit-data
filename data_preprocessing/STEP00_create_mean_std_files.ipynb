{
 "cells": [
  {
   "cell_type": "markdown",
   "id": "d779c3f3-dd5e-4194-8925-95e37d9660ec",
   "metadata": {},
   "source": [
    "# Create z-score files for CREDIT"
   ]
  },
  {
   "cell_type": "code",
   "execution_count": 1,
   "id": "3e399085-3c08-46c9-8e07-fa7e3e0b63c7",
   "metadata": {},
   "outputs": [],
   "source": [
    "import os\n",
    "import yaml\n",
    "import numpy as np\n",
    "import xarray as xr"
   ]
  },
  {
   "cell_type": "markdown",
   "id": "2018bd3e-64bd-4953-a58a-06a0cb311c34",
   "metadata": {},
   "source": [
    "## File creation"
   ]
  },
  {
   "cell_type": "markdown",
   "id": "e21cdcff-6ae7-4a36-a68e-9b304dea5a52",
   "metadata": {},
   "source": [
    "### 6 hourly mean std files"
   ]
  },
  {
   "cell_type": "code",
   "execution_count": 2,
   "id": "94584383-7a21-4e92-95c4-bfa075634cb4",
   "metadata": {},
   "outputs": [],
   "source": [
    "# get variable information from data_preprocessing/config\n",
    "config_name = os.path.realpath('data_config_6h.yml')\n",
    "\n",
    "with open(config_name, 'r') as stream:\n",
    "    conf = yaml.safe_load(stream)"
   ]
  },
  {
   "cell_type": "code",
   "execution_count": 3,
   "id": "a4f6a53b-6efe-478e-a35d-2e1479e6d4e2",
   "metadata": {},
   "outputs": [],
   "source": [
    "N_levels = 16"
   ]
  },
  {
   "cell_type": "code",
   "execution_count": 5,
   "id": "4dafceb5-1621-4622-a78d-078dfdd94cef",
   "metadata": {},
   "outputs": [],
   "source": [
    "# get variable names\n",
    "varnames = list(conf['zscore'].keys())\n",
    "varnames = varnames[:-3] # remove save_loc and others\n",
    "\n",
    "varname_surf = list(set(varnames) - set(['U', 'V', 'T', 'Q']))\n",
    "varname_upper = ['U', 'V', 'T', 'Q']\n",
    "\n",
    "# collect computed mean and variance values\n",
    "# See \"qsub_STEP01_compute_mean_std.ipynb\"\n",
    "MEAN_values = {}\n",
    "STD_values = {}\n",
    "\n",
    "for varname in varname_surf:\n",
    "    save_name = conf['zscore']['save_loc'] + '{}_mean_std_{}.npy'.format(conf['zscore']['prefix'], varname)\n",
    "    mean_std = np.load(save_name)\n",
    "    MEAN_values[varname] = mean_std[0]\n",
    "    STD_values[varname] = mean_std[1]\n",
    "\n",
    "for varname in varname_upper:\n",
    "\n",
    "    # -------------------------------------------- #\n",
    "    # allocate all levels\n",
    "    mean_std_all_levels = np.empty((2, N_levels))\n",
    "    mean_std_all_levels[...] = np.nan\n",
    "    \n",
    "    for i_level in range(N_levels):\n",
    "        save_name = conf['zscore']['save_loc'] + '{}_level{}_mean_std_{}.npy'.format(conf['zscore']['prefix'], i_level, varname)\n",
    "        mean_std = np.load(save_name)\n",
    "        mean_std_all_levels[:, i_level] = mean_std\n",
    "\n",
    "    # -------------------------------------------- #\n",
    "    # save\n",
    "    MEAN_values[varname] = np.copy(mean_std_all_levels[0, :])\n",
    "    STD_values[varname] = np.copy(mean_std_all_levels[1, :])"
   ]
  },
  {
   "cell_type": "code",
   "execution_count": 6,
   "id": "19f419a8-e0b2-4a49-99cb-49cf2fdf8208",
   "metadata": {},
   "outputs": [],
   "source": [
    "# ------------------------------------------------------- #\n",
    "# create xr.DataArray for mean\n",
    "\n",
    "# Initialize level coord\n",
    "level = np.array([ 10,  30,  40,  50,  60,  70,  80,  90,  95, 100, 105, 110, 120, 130, 136, 137])\n",
    "\n",
    "# Initialize dataset\n",
    "ds_mean_6h = xr.Dataset(coords={\"level\": level})\n",
    "\n",
    "for varname, data in MEAN_values.items():\n",
    "    if len(data.shape) == 1:\n",
    "        data_array = xr.DataArray(\n",
    "            data,\n",
    "            dims=[\"level\",],\n",
    "            coords={\"level\": level},\n",
    "            name=varname,\n",
    "        )\n",
    "        ds_mean_6h[varname] = data_array\n",
    "    else:\n",
    "        data_array = xr.DataArray(\n",
    "            data,\n",
    "            name=varname,\n",
    "        )\n",
    "        ds_mean_6h[varname] = data_array"
   ]
  },
  {
   "cell_type": "code",
   "execution_count": 7,
   "id": "5bbd9102-6d14-4a4d-a44a-eb5a4e2b9e9c",
   "metadata": {},
   "outputs": [],
   "source": [
    "# ------------------------------------------------------- #\n",
    "# create xr.DataArray for std\n",
    "\n",
    "# use the same level coord as mean\n",
    "ds_std_6h = xr.Dataset(coords={\"level\": level})\n",
    "\n",
    "for varname, data in STD_values.items():\n",
    "    data = np.sqrt(data)\n",
    "    if len(data.shape) == 1:\n",
    "        data_array = xr.DataArray(\n",
    "            data,\n",
    "            dims=[\"level\",],\n",
    "            coords={\"level\": level},\n",
    "            name=varname,\n",
    "        )\n",
    "        ds_std_6h[varname] = data_array\n",
    "    else:\n",
    "        data_array = xr.DataArray(\n",
    "            data,\n",
    "            name=varname,\n",
    "        )\n",
    "        ds_std_6h[varname] = data_array"
   ]
  },
  {
   "cell_type": "code",
   "execution_count": 8,
   "id": "1a36a9ce-b476-4b78-a912-b154c8825f50",
   "metadata": {},
   "outputs": [],
   "source": [
    "# ------------------------------------------------------- #\n",
    "# Same to netCDF\n",
    "ds_mean_6h.to_netcdf('/glade/campaign/cisl/aiml/ksha/CREDIT/mean_6h_1979_2018_16lev_0.25deg.nc')\n",
    "ds_std_6h.to_netcdf('/glade/campaign/cisl/aiml/ksha/CREDIT/std_6h_1979_2018_16lev_0.25deg.nc')"
   ]
  },
  {
   "cell_type": "code",
   "execution_count": 9,
   "id": "f8812082-d348-41eb-96aa-e6e967569665",
   "metadata": {},
   "outputs": [
    {
     "name": "stdout",
     "output_type": "stream",
     "text": [
      "=============== U =================\n",
      "[40.25234767 25.24087972 19.68657544 14.46772809 13.46194334 16.57442082\n",
      " 17.87593007 14.55545107 12.45376369 10.66571396  9.40403755  8.63441766\n",
      "  8.32003227  7.53983843  6.12131051]\n",
      "[40.21485329 25.27922629 19.71381648 14.48358737 13.48588523 16.58891951\n",
      " 17.88966184 14.56381561 12.46334059 10.6776952   9.41726967  8.64687776\n",
      "  8.33099297  7.54898916  6.12810154  5.51947415]\n",
      "=============== V =================\n",
      "[14.0958925  10.58697935  8.26052837  6.86788885  7.4285101  10.16234846\n",
      " 13.44694114 11.43703369  9.63471779  8.14337788  7.13661052  6.58880531\n",
      "  6.7778161   6.61265801  5.29263089]\n",
      "[14.10785166 10.69972115  8.34700692  6.91838006  7.45253687 10.17627158\n",
      " 13.45741855 11.4414309   9.64035721  8.15036388  7.14415171  6.5955258\n",
      "  6.78472338  6.61929494  5.2975703   4.73462807]\n",
      "=============== T =================\n",
      "[ 8.35982194 12.55240563 10.72877453 10.48790508 12.60196446  8.17566597\n",
      "  9.06483897 13.55759473 14.35155307 14.7407884  15.26683939 15.79633956\n",
      " 16.973469   19.19026079 20.6964735 ]\n",
      "[ 8.28246086 12.54296629 10.73224169 10.51179137 12.60151149  8.16516086\n",
      "  9.08780623 13.56959089 14.35413281 14.74749461 15.27688361 15.80104057\n",
      " 16.96383509 19.17538034 20.68054418 20.958301  ]\n",
      "=============== Q =================\n",
      "[2.87237522e-07 3.45230264e-07 3.03420548e-07 3.72516556e-07\n",
      " 5.65152368e-07 6.34269671e-06 8.65169545e-05 4.82410235e-04\n",
      " 9.48407445e-04 1.64726515e-03 2.38271980e-03 3.31070427e-03\n",
      " 4.91302923e-03 5.81648654e-03 5.94955764e-03]\n",
      "[2.86539110e-07 3.43501184e-07 3.00897636e-07 3.70370665e-07\n",
      " 5.65687055e-07 6.40576319e-06 8.72308306e-05 4.86562781e-04\n",
      " 9.55834282e-04 1.65400575e-03 2.39454699e-03 3.32212385e-03\n",
      " 4.92020484e-03 5.82008968e-03 5.95355206e-03 6.01718454e-03]\n",
      "=============== SP =================\n",
      "9561.78654547907\n",
      "9564.08828465833\n",
      "=============== t2m =================\n",
      "21.24497523328396\n",
      "21.234846578163697\n",
      "=============== V500 =================\n",
      "9.174319026696748\n",
      "9.180869185138992\n",
      "=============== U500 =================\n",
      "11.972291377242788\n",
      "11.983191089137282\n",
      "=============== T500 =================\n",
      "13.060946238993036\n",
      "13.06274013468683\n",
      "=============== Z500 =================\n",
      "3347.6837526761474\n",
      "3354.02515765491\n",
      "=============== Q500 =================\n",
      "0.001071120332485457\n",
      "0.0010784555247599808\n",
      "=============== tsi =================\n",
      "3972698.0869958866\n",
      "7711902.973059106\n"
     ]
    }
   ],
   "source": [
    "# ------------------------------------------------------- #\n",
    "# Compare with my old ones\n",
    "TEST_std = xr.open_dataset('/glade/campaign/cisl/aiml/ksha/CREDIT/ERA5_std_6h.nc') # \n",
    "NEW_std = xr.open_dataset('/glade/campaign/cisl/aiml/ksha/CREDIT/std_6h_1979_2018_16lev_0.25deg.nc')\n",
    "\n",
    "for varname in varnames:\n",
    "    print('=============== {} ================='.format(varname))\n",
    "    print(np.array(TEST_std[varname]))\n",
    "    print(np.array(NEW_std[varname]))"
   ]
  },
  {
   "cell_type": "markdown",
   "id": "b384b170-c368-4076-ab04-8bc5df807ed2",
   "metadata": {},
   "source": [
    "### hourly mean std files"
   ]
  },
  {
   "cell_type": "code",
   "execution_count": 2,
   "id": "4a5ddc1a-027f-4382-94cd-c857d1c0279e",
   "metadata": {},
   "outputs": [],
   "source": [
    "# get variable information from data_preprocessing/config\n",
    "config_name = os.path.realpath('data_config_1h.yml')\n",
    "\n",
    "with open(config_name, 'r') as stream:\n",
    "    conf = yaml.safe_load(stream)"
   ]
  },
  {
   "cell_type": "code",
   "execution_count": 3,
   "id": "fbf9005e-0fb6-44da-8c9f-a4045e437622",
   "metadata": {},
   "outputs": [],
   "source": [
    "N_levels = 16"
   ]
  },
  {
   "cell_type": "code",
   "execution_count": 4,
   "id": "c30a7a50-5074-4250-acd0-4ea42c3fd98f",
   "metadata": {},
   "outputs": [],
   "source": [
    "# get variable names\n",
    "varnames = list(conf['zscore'].keys())\n",
    "varnames = varnames[:-3] # remove save_loc and others\n",
    "\n",
    "varname_surf = list(set(varnames) - set(['U', 'V', 'T', 'Q']))\n",
    "varname_upper = ['U', 'V', 'T', 'Q']\n",
    "\n",
    "# collect computed mean and variance values\n",
    "# See \"qsub_STEP01_compute_mean_std.ipynb\"\n",
    "MEAN_values = {}\n",
    "STD_values = {}\n",
    "\n",
    "for varname in varname_surf:\n",
    "    save_name = conf['zscore']['save_loc'] + '{}_mean_std_{}.npy'.format(conf['zscore']['prefix'], varname)\n",
    "    mean_std = np.load(save_name)\n",
    "    MEAN_values[varname] = mean_std[0]\n",
    "    STD_values[varname] = mean_std[1]\n",
    "\n",
    "for varname in varname_upper:\n",
    "\n",
    "    # -------------------------------------------- #\n",
    "    # allocate all levels\n",
    "    mean_std_all_levels = np.empty((2, N_levels))\n",
    "    mean_std_all_levels[...] = np.nan\n",
    "    \n",
    "    for i_level in range(N_levels):\n",
    "        save_name = conf['zscore']['save_loc'] + '{}_level{}_mean_std_{}.npy'.format(conf['zscore']['prefix'], i_level, varname)\n",
    "        mean_std = np.load(save_name)\n",
    "        mean_std_all_levels[:, i_level] = mean_std\n",
    "\n",
    "    # -------------------------------------------- #\n",
    "    # save\n",
    "    MEAN_values[varname] = np.copy(mean_std_all_levels[0, :])\n",
    "    STD_values[varname] = np.copy(mean_std_all_levels[1, :])"
   ]
  },
  {
   "cell_type": "code",
   "execution_count": 5,
   "id": "102d4a20-898c-4f4b-af9e-d1b9d654af63",
   "metadata": {},
   "outputs": [],
   "source": [
    "# ------------------------------------------------------- #\n",
    "# create xr.DataArray for mean\n",
    "\n",
    "# Initialize level coord\n",
    "level = np.array([ 10,  30,  40,  50,  60,  70,  80,  90,  95, 100, 105, 110, 120, 130, 136, 137])\n",
    "\n",
    "# Initialize dataset\n",
    "ds_mean_6h = xr.Dataset(coords={\"level\": level})\n",
    "\n",
    "for varname, data in MEAN_values.items():\n",
    "    if len(data.shape) == 1:\n",
    "        data_array = xr.DataArray(\n",
    "            data,\n",
    "            dims=[\"level\",],\n",
    "            coords={\"level\": level},\n",
    "            name=varname,\n",
    "        )\n",
    "        ds_mean_6h[varname] = data_array\n",
    "    else:\n",
    "        data_array = xr.DataArray(\n",
    "            data,\n",
    "            name=varname,\n",
    "        )\n",
    "        ds_mean_6h[varname] = data_array"
   ]
  },
  {
   "cell_type": "code",
   "execution_count": 6,
   "id": "4c947f68-f1f1-41a5-826c-0f34a4155893",
   "metadata": {},
   "outputs": [],
   "source": [
    "# ------------------------------------------------------- #\n",
    "# create xr.DataArray for std\n",
    "\n",
    "# use the same level coord as mean\n",
    "ds_std_6h = xr.Dataset(coords={\"level\": level})\n",
    "\n",
    "for varname, data in STD_values.items():\n",
    "    data = np.sqrt(data)\n",
    "    if len(data.shape) == 1:\n",
    "        data_array = xr.DataArray(\n",
    "            data,\n",
    "            dims=[\"level\",],\n",
    "            coords={\"level\": level},\n",
    "            name=varname,\n",
    "        )\n",
    "        ds_std_6h[varname] = data_array\n",
    "    else:\n",
    "        data_array = xr.DataArray(\n",
    "            data,\n",
    "            name=varname,\n",
    "        )\n",
    "        ds_std_6h[varname] = data_array"
   ]
  },
  {
   "cell_type": "code",
   "execution_count": 7,
   "id": "052d9297-8ab7-412a-ab70-4701f9d62b34",
   "metadata": {},
   "outputs": [],
   "source": [
    "# ------------------------------------------------------- #\n",
    "# Same to netCDF\n",
    "ds_mean_6h.to_netcdf('/glade/campaign/cisl/aiml/ksha/CREDIT/mean_1h_1979_2018_16lev_0.25deg.nc')\n",
    "ds_std_6h.to_netcdf('/glade/campaign/cisl/aiml/ksha/CREDIT/std_1h_1979_2018_16lev_0.25deg.nc')"
   ]
  },
  {
   "cell_type": "code",
   "execution_count": 8,
   "id": "2e480261-5c0f-407f-9fd4-8bbc79c5c26d",
   "metadata": {},
   "outputs": [
    {
     "name": "stdout",
     "output_type": "stream",
     "text": [
      "=============== U =================\n",
      "[40.2114419  25.30733029 19.72293431 14.46480427 13.46300897 16.57334659\n",
      " 17.87322625 14.55331681 12.45124576 10.66328941  9.40176548  8.63292531\n",
      "  8.32383704  7.54299004  6.12433374]\n",
      "[40.21049709 25.2798485  19.71400057 14.48428308 13.48577109 16.58890918\n",
      " 17.88740389 14.56269018 12.46127708 10.6746157   9.41358712  8.64394196\n",
      "  8.33355144  7.55061439  6.13005239  5.52133267]\n",
      "=============== V =================\n",
      "[14.11541539 10.66165703  8.3133328   6.8962488   7.43961874 10.1677194\n",
      " 13.44958957 11.43840746  9.63494636  8.14215549  7.1344495   6.58715016\n",
      "  6.77985707  6.61466834  5.29455845]\n",
      "[14.10112359 10.69938842  8.34745048  6.919396    7.45394486 10.17814471\n",
      " 13.45693799 11.44162342  9.63946818  8.14773921  7.14047788  6.59255576\n",
      "  6.78514191  6.61942895  5.29818956  4.73515897]\n",
      "=============== T =================\n",
      "[ 8.32816028 12.54452925 10.72980058 10.49247162 12.60096061  8.17539356\n",
      "  9.06981504 13.55772756 14.35015711 14.73956924 15.26662261 15.79610131\n",
      " 16.96981059 19.18755154 20.69553482]\n",
      "[ 8.28036718 12.54196664 10.73134699 10.51129095 12.60088901  8.16483294\n",
      "  9.08736115 13.57045787 14.35538262 14.74762864 15.27651335 15.80087241\n",
      " 16.9617673  19.17379169 20.67999408 20.95763877]\n",
      "=============== Q =================\n",
      "[2.86751328e-07 3.45388869e-07 3.03515351e-07 3.72148879e-07\n",
      " 5.64931659e-07 6.34936080e-06 8.66068030e-05 4.82906491e-04\n",
      " 9.49349037e-04 1.64808532e-03 2.38372072e-03 3.31154297e-03\n",
      " 4.91332635e-03 5.81799171e-03 5.94967976e-03]\n",
      "[2.86582109e-07 3.43499588e-07 3.00903029e-07 3.70374624e-07\n",
      " 5.65701762e-07 6.40450953e-06 8.72185204e-05 4.86364546e-04\n",
      " 9.55493121e-04 1.65371581e-03 2.39345863e-03 3.32145633e-03\n",
      " 4.92035716e-03 5.82254420e-03 5.95451738e-03 6.01838656e-03]\n",
      "=============== SP =================\n",
      "9561.88804590918\n",
      "9564.059940122615\n",
      "=============== t2m =================\n",
      "21.24354651316075\n",
      "21.2318536870793\n",
      "=============== V500 =================\n",
      "9.17401997811893\n",
      "9.17940912989599\n",
      "=============== U500 =================\n",
      "11.969815686880652\n",
      "11.980853997287259\n",
      "=============== T500 =================\n",
      "13.059081084913124\n",
      "13.06364967067449\n",
      "=============== Z500 =================\n",
      "3347.9098339907346\n",
      "3353.867778445869\n",
      "=============== Q500 =================\n",
      "0.0010720896584545244\n",
      "0.0010781486661234586\n",
      "=============== tsi =================\n",
      "1415848.5217282432\n",
      "1416275.1176250172\n"
     ]
    }
   ],
   "source": [
    "# ------------------------------------------------------- #\n",
    "# Compare with my old ones\n",
    "TEST_std = xr.open_dataset('/glade/campaign/cisl/aiml/ksha/CREDIT/ERA5_std_1h.nc')\n",
    "NEW_std = xr.open_dataset('/glade/campaign/cisl/aiml/ksha/CREDIT/std_1h_1979_2018_16lev_0.25deg.nc')\n",
    "\n",
    "for varname in varnames:\n",
    "    print('=============== {} ================='.format(varname))\n",
    "    print(np.array(TEST_std[varname]))\n",
    "    print(np.array(NEW_std[varname]))"
   ]
  },
  {
   "cell_type": "markdown",
   "id": "d85d1b4c-306a-4c7e-a71d-4fc1e9ebf056",
   "metadata": {},
   "source": [
    "## Old blocks"
   ]
  },
  {
   "cell_type": "markdown",
   "id": "3862f8bf-3ea7-4042-afbb-74c4210a1ed3",
   "metadata": {},
   "source": [
    "### Add new variables to existing files "
   ]
  },
  {
   "cell_type": "code",
   "execution_count": 60,
   "id": "42d27107-c7bd-491a-800c-7f3dbd2ffe9e",
   "metadata": {},
   "outputs": [],
   "source": [
    "# load old files\n",
    "old_mean = '/glade/derecho/scratch/dgagne/credit_scalers/All_1979-2014_staged.mean.Lev.SLO.nc'\n",
    "old_std = '/glade/derecho/scratch/dgagne/credit_scalers/All_1979-2014_staged.std.Lev.SLO.nc'\n",
    "\n",
    "# open old files\n",
    "xr_old_mean = xr.open_dataset(old_mean)\n",
    "xr_old_std = xr.open_dataset(old_std)\n",
    "\n",
    "# create new files from old + assign varialbe\n",
    "xr_new_mean = xr_old_mean.assign(tsi=6430203.22586827)\n",
    "xr_new_std = xr_old_std.assign(tsi=3972698.08699589)\n",
    "\n",
    "try:\n",
    "    xr_new_mean = xr_new_mean.rename({'levels': 'level'})\n",
    "    xr_new_std = xr_new_std.rename({'levels': 'level'})\n",
    "except:\n",
    "    print('Coordinate name good')\n",
    "\n",
    "# save\n",
    "# xr_new_mean.to_netcdf('/glade/campaign/cisl/aiml/ksha/CREDIT/mean_6h_0.25deg.nc')\n",
    "# xr_new_std.to_netcdf('/glade/campaign/cisl/aiml/ksha/CREDIT/std_6h_0.25deg.nc')"
   ]
  },
  {
   "cell_type": "markdown",
   "id": "8851b990-9fcc-4d82-9f82-693b0811d2ee",
   "metadata": {},
   "source": [
    "### Change values for existing variables"
   ]
  },
  {
   "cell_type": "code",
   "execution_count": 8,
   "id": "788ead35-960d-4c97-bf40-8228dde36c81",
   "metadata": {},
   "outputs": [],
   "source": [
    "old_mean = '/glade/campaign/cisl/aiml/ksha/CREDIT/EXTEND/All_2010_staged.mean.Lev.SLO.nc'\n",
    "old_std = '/glade/campaign/cisl/aiml/ksha/CREDIT/EXTEND/All_2010_staged.std.Lev.SLO.nc'\n",
    "\n",
    "xr_old_mean = xr.open_dataset(old_mean)\n",
    "xr_old_std = xr.open_dataset(old_std)"
   ]
  },
  {
   "cell_type": "code",
   "execution_count": 9,
   "id": "b41e1d37-04fd-41b0-9a90-8d01d78d0347",
   "metadata": {},
   "outputs": [],
   "source": [
    "# copy old to new\n",
    "xr_new_mean = xr_old_mean.copy()\n",
    "xr_new_std = xr_old_std.copy()"
   ]
  },
  {
   "cell_type": "code",
   "execution_count": 10,
   "id": "62894fed-a1c2-42c6-b7fe-1a4e45717def",
   "metadata": {},
   "outputs": [],
   "source": [
    "varnames = list(xr_old_mean.keys())\n",
    "\n",
    "for var in varnames:\n",
    "    xr_new_mean[var] = xr_old_mean[var] - xr_old_mean[var]\n",
    "    xr_new_std[var] = xr_old_std[var] / xr_old_std[var]"
   ]
  },
  {
   "cell_type": "code",
   "execution_count": 13,
   "id": "6c85f2ad-8ab5-4d96-b2b9-ee84c3369b16",
   "metadata": {},
   "outputs": [],
   "source": [
    "xr_new_mean.to_netcdf('/glade/campaign/cisl/aiml/ksha/CREDIT/mean_zero.nc')\n",
    "xr_new_std.to_netcdf('/glade/campaign/cisl/aiml/ksha/CREDIT/std_one.nc')"
   ]
  },
  {
   "cell_type": "code",
   "execution_count": null,
   "id": "7e10ecef-f0d4-42f6-b081-aaf443f81a6c",
   "metadata": {},
   "outputs": [],
   "source": []
  }
 ],
 "metadata": {
  "kernelspec": {
   "display_name": "Python 3 (ipykernel)",
   "language": "python",
   "name": "python3"
  },
  "language_info": {
   "codemirror_mode": {
    "name": "ipython",
    "version": 3
   },
   "file_extension": ".py",
   "mimetype": "text/x-python",
   "name": "python",
   "nbconvert_exporter": "python",
   "pygments_lexer": "ipython3",
   "version": "3.11.9"
  }
 },
 "nbformat": 4,
 "nbformat_minor": 5
}
