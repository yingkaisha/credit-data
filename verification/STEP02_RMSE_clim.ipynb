{
 "cells": [
  {
   "cell_type": "markdown",
   "id": "ac814c7e-dee1-4b45-9239-8d9cd98b9ada",
   "metadata": {},
   "source": [
    "# RMSE ERA5 vs. ERA5 climatology"
   ]
  },
  {
   "cell_type": "code",
   "execution_count": 1,
   "id": "8deb4be5-9191-4fb6-afb1-9b6c2351f719",
   "metadata": {},
   "outputs": [],
   "source": [
    "import os\n",
    "import sys\n",
    "import yaml\n",
    "from glob import glob\n",
    "from datetime import datetime, timedelta\n",
    "\n",
    "import numpy as np\n",
    "import xarray as xr"
   ]
  },
  {
   "cell_type": "code",
   "execution_count": 2,
   "id": "4f276d5d-e0b9-4639-911f-44566f18e248",
   "metadata": {},
   "outputs": [],
   "source": [
    "sys.path.insert(0, os.path.realpath('../libs/'))\n",
    "import verif_utils as vu"
   ]
  },
  {
   "cell_type": "code",
   "execution_count": 3,
   "id": "04614252-cb60-44ef-afa4-3732f1a34dae",
   "metadata": {},
   "outputs": [],
   "source": [
    "config_name = os.path.realpath('verif_config_6h.yml')\n",
    "\n",
    "with open(config_name, 'r') as stream:\n",
    "    conf = yaml.safe_load(stream)"
   ]
  },
  {
   "cell_type": "code",
   "execution_count": 4,
   "id": "78708828-93ce-4ac9-80dd-5f9b40cd80a4",
   "metadata": {},
   "outputs": [],
   "source": [
    "path_verif = conf['ERA5_weatherbench']['save_loc_clim']+'combined_rmse_clim_2020_2022.nc'"
   ]
  },
  {
   "cell_type": "markdown",
   "id": "cd3a9691-a381-4dd2-8447-df5f21b200b5",
   "metadata": {},
   "source": [
    "### Get ERA5 analyzed states"
   ]
  },
  {
   "cell_type": "code",
   "execution_count": 5,
   "id": "5d9d3246-64ea-497c-aeb2-9702b62fe591",
   "metadata": {},
   "outputs": [],
   "source": [
    "# ---------------------------------------------------------------------------------------- #\n",
    "# ERA5 verif target\n",
    "filename_ERA5 = sorted(glob(conf['ERA5_ours']['save_loc']))\n",
    "\n",
    "# pick years\n",
    "year_range = conf['ERA5_ours']['year_range']\n",
    "years_pick = np.arange(year_range[0], year_range[1]+1, 1).astype(str)\n",
    "filename_ERA5 = [fn for fn in filename_ERA5 if any(year in fn for year in years_pick)]\n",
    "\n",
    "# merge yearly ERA5 as one\n",
    "ds_ERA5 = [vu.get_forward_data(fn) for fn in filename_ERA5]\n",
    "ds_ERA5_merge = xr.concat(ds_ERA5, dim='time')\n",
    "    \n",
    "# Select the specified variables and their levels\n",
    "variables_levels = conf['ERA5_ours']['verif_variables']\n",
    "\n",
    "# subset merged ERA5 and unify coord names\n",
    "ds_ERA5_merge = vu.ds_subset_everything(ds_ERA5_merge, variables_levels)\n",
    "ds_ERA5_merge = ds_ERA5_merge.rename({'latitude':'lat','longitude':'lon'})"
   ]
  },
  {
   "cell_type": "markdown",
   "id": "d017f11c-b977-4920-ba35-991c9d0a6d64",
   "metadata": {},
   "source": [
    "### Get ERA5 climatology"
   ]
  },
  {
   "cell_type": "code",
   "execution_count": 6,
   "id": "430ec55e-3b87-40a4-be46-af15554a16ad",
   "metadata": {},
   "outputs": [],
   "source": [
    "ERA5_clim = xr.open_dataset(conf['ERA5_weatherbench']['save_loc_clim']+'ERA5_clim_1990_2019_6h_interp.nc')"
   ]
  },
  {
   "cell_type": "markdown",
   "id": "a7f2de6a-ce7b-48bf-ab97-c6e100223b2f",
   "metadata": {},
   "source": [
    "**Latitude weights**"
   ]
  },
  {
   "cell_type": "code",
   "execution_count": 19,
   "id": "cb6cb740-308e-41d0-aaa0-15c7e875260d",
   "metadata": {},
   "outputs": [],
   "source": [
    "# latitude weighting\n",
    "lat = ERA5_clim[\"lat\"]\n",
    "w_lat = np.cos(np.deg2rad(lat))\n",
    "w_lat = w_lat / w_lat.mean()"
   ]
  },
  {
   "cell_type": "markdown",
   "id": "41b50f08-2449-4b4b-985e-4b06e21ac0cb",
   "metadata": {},
   "source": [
    "### Compute RMSE"
   ]
  },
  {
   "cell_type": "code",
   "execution_count": null,
   "id": "697490c6-4923-43ec-b0f2-e1430a84768c",
   "metadata": {},
   "outputs": [],
   "source": [
    "def map_hour_to_clim_hour(clim_hours, hour):\n",
    "    if hour in clim_hours:\n",
    "        ind = np.where(clim_hours == hour)[0][0]\n",
    "        return ind\n",
    "    else:\n",
    "        print('Verification target and climatology reference have different time resolutions')\n",
    "        raise;\n",
    "        return -1"
   ]
  },
  {
   "cell_type": "code",
   "execution_count": 15,
   "id": "6eefd582-a265-4ebc-a911-18a4cdcdd545",
   "metadata": {},
   "outputs": [],
   "source": [
    "chunk_size_clim = {'dayofyear': 1, 'hour': 1, 'lat': 640, 'lon': 1280}\n",
    "chunk_size_ERA5 = {'time': 1, 'lat': 640, 'lon': 1280}\n",
    "\n",
    "# get data in chunked version\n",
    "ds_actual = ds_ERA5_merge.chunk(chunk_size_ERA5)\n",
    "ds_clim = ERA5_clim.chunk(chunk_size_clim)\n",
    "\n",
    "# ======================================================================================== #\n",
    "# for ds_actual, convert its 'time' dimension to 'dayofyear' and 'hour'\n",
    "\n",
    "# extract 'dayofyear' and 'hour' from actual data\n",
    "dayofyear_da = ds_actual['time'].dt.dayofyear\n",
    "hour_da = ds_actual['time'].dt.hour\n",
    "\n",
    "# map actual hours to the corresponding climatology hour\n",
    "clim_hours = ds_clim['hour'].values\n",
    "mapped_hours = np.array([map_hour_to_clim_hour(clim_hours, h) for h in hour_da.values])\n",
    "\n",
    "# create xr.DataArrays to hold dayofyear and mapped hours\n",
    "dayofyear_da = xr.DataArray(dayofyear_da.values, dims='time', coords={'time': ds_actual['time']})\n",
    "mapped_hours_da = xr.DataArray(mapped_hours, dims='time', coords={'time': ds_actual['time']})\n",
    "\n",
    "# ======================================================================================== #\n",
    "# for ds_clim, identify its indices that matches with ds_actual on 'dayofyear' and 'hour'\n",
    "\n",
    "# get indices of ds_actual from climatology data\n",
    "clim_dayofyear_index = ds_clim.get_index('dayofyear')\n",
    "clim_hour_index = ds_clim.get_index('hour')\n",
    "\n",
    "dayofyear_indices = clim_dayofyear_index.get_indexer(dayofyear_da.values)\n",
    "hour_indices = clim_hour_index.get_indexer(mapped_hours_da.values)\n",
    "\n",
    "# check for unmatched indices\n",
    "if np.any(dayofyear_indices == -1):\n",
    "    raise ValueError(\"Some 'dayofyear' values not found in climatology data\")\n",
    "if np.any(hour_indices == -1):\n",
    "    raise ValueError(\"Some 'hour' values not found in climatology data\")\n",
    "\n",
    "# create xr.DataArrays for indices from ds_actual to ds_clim\n",
    "dayofyear_indices_da = xr.DataArray(dayofyear_indices, dims='time', coords={'time': ds_actual['time']})\n",
    "hour_indices_da = xr.DataArray(hour_indices, dims='time', coords={'time': ds_actual['time']})\n",
    "\n",
    "# ======================================================================================== #\n",
    "# boradcast ds_clim to the size of ds_actual with matched 'dayofyear' and 'hour'\n",
    "clim_matched = ds_clim.isel(dayofyear=dayofyear_indices_da, hour=hour_indices_da)\n",
    "\n",
    "# ======================================================================================== #\n",
    "# RMSE computation\n",
    "rmse_dict = {}\n",
    "\n",
    "for varname in list(variables_levels.keys()):\n",
    "    var_analysis = ds_ERA5_merge[varname]\n",
    "    var_clim = clim_matched[varname]\n",
    "    var_rmse = np.sqrt((w_lat* (var_clim - var_analysis)**2).mean(['lat', 'lon']))\n",
    "    rmse_dict[varname] = var_rmse\n",
    "\n",
    "rmse_dataset = xr.Dataset(rmse_dict)"
   ]
  },
  {
   "cell_type": "code",
   "execution_count": 30,
   "id": "4d7ad2e2-36c7-468a-800d-45f0cb850a8e",
   "metadata": {},
   "outputs": [],
   "source": [
    "# rmse_dataset.to_netcdf(path_verif, compute=True, format='NETCDF4')"
   ]
  },
  {
   "cell_type": "code",
   "execution_count": null,
   "id": "31291fce-b5ff-4db3-a39f-5977a2843cc2",
   "metadata": {},
   "outputs": [],
   "source": []
  },
  {
   "cell_type": "code",
   "execution_count": null,
   "id": "45498583-e504-45ed-9c70-b9e9278c7f6a",
   "metadata": {},
   "outputs": [],
   "source": []
  }
 ],
 "metadata": {
  "kernelspec": {
   "display_name": "Python 3 (ipykernel)",
   "language": "python",
   "name": "python3"
  },
  "language_info": {
   "codemirror_mode": {
    "name": "ipython",
    "version": 3
   },
   "file_extension": ".py",
   "mimetype": "text/x-python",
   "name": "python",
   "nbconvert_exporter": "python",
   "pygments_lexer": "ipython3",
   "version": "3.11.9"
  }
 },
 "nbformat": 4,
 "nbformat_minor": 5
}
