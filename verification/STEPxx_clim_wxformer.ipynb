{
 "cells": [
  {
   "cell_type": "markdown",
   "id": "cacdaad1-16d4-49ed-ba68-313d1da6c483",
   "metadata": {},
   "source": [
    "# Calculate forecast climatology using shifted windows"
   ]
  },
  {
   "cell_type": "code",
   "execution_count": null,
   "id": "3d311983-bdec-4e91-b225-8e28e75b0490",
   "metadata": {},
   "outputs": [],
   "source": [
    "import os\n",
    "import sys\n",
    "import yaml\n",
    "from glob import glob\n",
    "from datetime import datetime, timedelta\n",
    "\n",
    "import numpy as np\n",
    "import xarray as xr"
   ]
  },
  {
   "cell_type": "code",
   "execution_count": null,
   "id": "802a3a26-c1cf-4545-8211-25cd9537274c",
   "metadata": {},
   "outputs": [],
   "source": [
    "sys.path.insert(0, os.path.realpath('../libs/'))\n",
    "import verif_utils as vu"
   ]
  },
  {
   "cell_type": "code",
   "execution_count": null,
   "id": "ecdf8423-5284-423a-878f-9475f20b629f",
   "metadata": {},
   "outputs": [],
   "source": [
    "config_name = os.path.realpath('verif_config.yml')\n",
    "\n",
    "with open(config_name, 'r') as stream:\n",
    "    conf = yaml.safe_load(stream)"
   ]
  },
  {
   "cell_type": "code",
   "execution_count": null,
   "id": "e73fc81c-4868-46a5-8dbf-d6a99c503258",
   "metadata": {},
   "outputs": [],
   "source": [
    "model_name = 'wxformer'\n",
    "verif_hour = conf[model_name]['verif_hour']\n",
    "longest_hour = conf[model_name]['longest_hour']\n",
    "leads_do = np.arange(verif_hour, longest_hour+verif_hour, verif_hour)\n",
    "leads_do = leads_do - 1 # -1 for Python indexing\n",
    "print('Verifying lead times: {}'.format(leads_do))"
   ]
  },
  {
   "cell_type": "markdown",
   "id": "84fc24ef-f1a3-450e-aaa2-114fcbceb2be",
   "metadata": {},
   "source": [
    "## Climatology calculation setup\n",
    "\n",
    "For a given (centered) forecast:\n",
    "\n",
    "(1) We select its neighouring forecasts with -15 and +15 days\n",
    "\n",
    "(2) The selected forecasts are weighted with Gaussian values (closer to the center has higher weights)\n",
    "\n",
    "(3) The weighted sums are computed and averges to the climatology"
   ]
  },
  {
   "cell_type": "code",
   "execution_count": null,
   "id": "6d3bde31-1866-46b5-b2d3-c3ce3c61fba1",
   "metadata": {},
   "outputs": [],
   "source": [
    "# radius of days to compute climatology\n",
    "day_minus = -15; day_plus = 15\n",
    "\n",
    "# Define the date format\n",
    "filename_prefix = \"-%m-%dT%HZ\"\n",
    "\n",
    "# path and file info\n",
    "filename_OURS = sorted(glob(conf[model_name]['save_loc_gather']+'*.nc'))\n",
    "path_campaign = conf[model_name]['save_loc_clim']\n",
    "                     \n",
    "# Variable names\n",
    "var_names = ['U500', 'Z500', 'Q500', 'T500', 'V500', 'SP', 't2m']\n",
    "#var_names = ['U500', 'Z500', 'Q500', 'T500', 'V500', 'U', 'V', 'T', 'Q', 'SP', 't2m']"
   ]
  },
  {
   "cell_type": "markdown",
   "id": "5f4b6b20-5893-45e7-bd52-bb3f84b74d98",
   "metadata": {},
   "source": [
    "## Scenario: run everything"
   ]
  },
  {
   "cell_type": "code",
   "execution_count": null,
   "id": "9039b5e6-8989-4766-b612-b85b7658d68a",
   "metadata": {},
   "outputs": [],
   "source": [
    "# Batch processing by day of year and lead time\n",
    "for day_of_year in range(1, 367):\n",
    "\n",
    "    prefix_pick = vu.get_filename_prefix_by_radius(day_of_year, day_minus, day_plus, filename_prefix, 0.5)\n",
    "    \n",
    "    filtered_files = [fn for fn in filename_OURS if any(date in fn for date in prefix_pick)]\n",
    "    \n",
    "    for lead_time in leads_do:\n",
    "        \n",
    "        # Adjusting center hour for lead time\n",
    "        lead_hour_of_day = (lead_time) % 24  \n",
    "        day_add_lead = day_of_year + int(lead_time/24)\n",
    "        \n",
    "        output_path = '{}medium_boy_DOY{:03}_LEAD{:03}.nc'.format(path_campaign, day_add_lead, lead_time+1)\n",
    "        #flag_exist = os.path.exists(output_path)\n",
    "        \n",
    "        print('Missing: {}'.format(output_path))\n",
    "        print('Processing day {}, lead time {}'.format(day_add_lead, lead_time+1))\n",
    "        \n",
    "        ds = vu.open_datasets_with_preprocessing(filtered_files, vu.dataset_time_slice, lead_time)\n",
    "        \n",
    "        width = 10\n",
    "        weighted_mean = vu. weighted_temporal_sum(ds, day_add_lead, lead_hour_of_day, width, var_names)\n",
    "        weighted_mean = weighted_mean.compute()\n",
    "        \n",
    "        weighted_mean.to_netcdf(output_path)\n",
    "        print('Save to {}'.format(output_path))\n",
    "        print('Finished processing day {}, lead time {}'.format(day_add_lead, lead_time))"
   ]
  },
  {
   "cell_type": "code",
   "execution_count": null,
   "id": "e07e9a77-4d46-4e57-a142-0418b78655b0",
   "metadata": {},
   "outputs": [],
   "source": []
  },
  {
   "cell_type": "markdown",
   "id": "6acc05bd-8df5-49d3-a9e3-41ba228d5c80",
   "metadata": {},
   "source": [
    "## Scenario: run & skip existing ones"
   ]
  },
  {
   "cell_type": "code",
   "execution_count": null,
   "id": "8b008832-e231-4fb4-8362-92a2e2f7d542",
   "metadata": {},
   "outputs": [],
   "source": [
    "# Batch processing by day of year and lead time\n",
    "for day_of_year in range(1, 367):\n",
    "\n",
    "    prefix_pick = vu.get_filename_prefix_by_radius(day_of_year, day_minus, day_plus, filename_prefix, 0.5)\n",
    "    \n",
    "    filtered_files = [fn for fn in filename_OURS if any(date in fn for date in prefix_pick)]\n",
    "    \n",
    "    for lead_time in leads_do:\n",
    "        \n",
    "        # Adjusting center hour for lead time\n",
    "        lead_hour_of_day = (lead_time) % 24  \n",
    "        day_add_lead = day_of_year + int(lead_time/24)\n",
    "        \n",
    "        output_path = '{}medium_boy_DOY{:03}_LEAD{:03}.nc'.format(path_campaign, day_add_lead, lead_time+1)\n",
    "        flag_exist = os.path.exists(output_path)\n",
    "        \n",
    "        if (flag_exist is False):\n",
    "            print('Missing: {}'.format(output_path))\n",
    "            print('Processing day {}, lead time {}'.format(day_add_lead, lead_time+1))\n",
    "            \n",
    "            ds = vu.open_datasets_with_preprocessing(filtered_files, vu.dataset_time_slice, lead_time)\n",
    "            \n",
    "            width = 10\n",
    "            weighted_mean = vu. weighted_temporal_sum(ds, day_add_lead, lead_hour_of_day, width, var_names)\n",
    "            weighted_mean = weighted_mean.compute()\n",
    "            \n",
    "            weighted_mean.to_netcdf(output_path)\n",
    "            print('Save to {}'.format(output_path))\n",
    "            print('Finished processing day {}, lead time {}'.format(day_add_lead, lead_time))"
   ]
  },
  {
   "cell_type": "markdown",
   "id": "3bed3a5a-8c71-4b3b-9351-8d080c98dd5e",
   "metadata": {},
   "source": [
    "## Scenario: re-run in-case we found incorrectly pre-processed files"
   ]
  },
  {
   "cell_type": "code",
   "execution_count": null,
   "id": "3b8a29b9-4a7a-4fd5-90db-18da1fdc7a27",
   "metadata": {},
   "outputs": [],
   "source": [
    "# manual input bad files in '/glade/campaign/cisl/aiml/gathered/'\n",
    "# provide replacements in '/glade/campaign/cisl/aiml/ksha/CREDIT/gathered/'\n",
    "# correct file info and rerun climo days/leads that touchs the bad files\n",
    "filename_OURS_backup = sorted(glob('/glade/campaign/cisl/aiml/ksha/CREDIT/gathered/*.nc'))\n",
    "\n",
    "ind_bad = [206, 209, 211, 215, 360, 390, 400]\n",
    "filename_bad = []\n",
    "\n",
    "for i, i_bad in enumerate(ind_bad):\n",
    "    file_old = filename_OURS[i_bad]\n",
    "    file_new = filename_OURS_backup[i]\n",
    "\n",
    "    if os.path.basename(file_old) == os.path.basename(file_new):\n",
    "        filename_bad.append(file_new)\n",
    "        filename_OURS[i_bad] = filename_OURS_backup[i]\n",
    "    else:\n",
    "        print('Replacement of bad file {} not found'.format(file_old))\n",
    "        raise"
   ]
  },
  {
   "cell_type": "code",
   "execution_count": null,
   "id": "87905868-9e48-4d16-bc94-e33c8b65a6d8",
   "metadata": {},
   "outputs": [],
   "source": [
    "# Batch processing by day of year and lead time\n",
    "for day_of_year in range(1, 367):\n",
    "\n",
    "    prefix_pick = vu.get_filename_prefix_by_radius(day_of_year, day_minus, day_plus, filename_prefix, 0.5)\n",
    "    \n",
    "    filtered_files = [fn for fn in filename_OURS if any(date in fn for date in prefix_pick)]\n",
    "\n",
    "    flag_rerun = False\n",
    "    for name_bad in filename_bad:\n",
    "        if name_bad in filtered_files:\n",
    "            flag_rerun = True\n",
    "    \n",
    "    #center_doy_gw = day_of_year\n",
    "    \n",
    "    for lead_time in leads_do:\n",
    "        \n",
    "        # Adjusting center hour for lead time\n",
    "        lead_hour_of_day = (lead_time) % 24  \n",
    "        day_add_lead = day_of_year + int(lead_time/24)\n",
    "        \n",
    "        output_path = '{}medium_boy_DOY{:03}_LEAD{:03}.nc'.format(path_campaign, day_add_lead, lead_time+1)\n",
    "        \n",
    "        flag_exist = os.path.exists(output_path)\n",
    "        \n",
    "        if flag_rerun:\n",
    "            print('Missing: {}'.format(output_path))\n",
    "            print('Processing day {}, lead time {}'.format(day_add_lead, lead_time+1))\n",
    "            \n",
    "            ds = vu.open_datasets_with_preprocessing(filtered_files, vu.dataset_time_slice, lead_time)\n",
    "            \n",
    "            width = 10\n",
    "            weighted_mean = vu.weighted_temporal_sum(ds, day_add_lead, lead_hour_of_day, width, var_names)\n",
    "            weighted_mean = weighted_mean.compute()\n",
    "            \n",
    "            weighted_mean.to_netcdf(output_path)\n",
    "            print('Save to {}'.format(output_path))\n",
    "            print('Finished processing day {}, lead time {}'.format(day_add_lead, lead_time))"
   ]
  },
  {
   "cell_type": "code",
   "execution_count": null,
   "id": "2fa3b0c5-8354-4a05-84b3-07efec306797",
   "metadata": {},
   "outputs": [],
   "source": []
  }
 ],
 "metadata": {
  "kernelspec": {
   "display_name": "Python 3 (ipykernel)",
   "language": "python",
   "name": "python3"
  },
  "language_info": {
   "codemirror_mode": {
    "name": "ipython",
    "version": 3
   },
   "file_extension": ".py",
   "mimetype": "text/x-python",
   "name": "python",
   "nbconvert_exporter": "python",
   "pygments_lexer": "ipython3",
   "version": "3.10.13"
  }
 },
 "nbformat": 4,
 "nbformat_minor": 5
}
