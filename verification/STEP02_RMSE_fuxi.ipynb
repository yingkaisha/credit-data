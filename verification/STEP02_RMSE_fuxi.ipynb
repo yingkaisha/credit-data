{
 "cells": [
  {
   "cell_type": "markdown",
   "id": "ac814c7e-dee1-4b45-9239-8d9cd98b9ada",
   "metadata": {},
   "source": [
    "# Calculate RMSE"
   ]
  },
  {
   "cell_type": "code",
   "execution_count": 1,
   "id": "8deb4be5-9191-4fb6-afb1-9b6c2351f719",
   "metadata": {},
   "outputs": [],
   "source": [
    "import os\n",
    "import sys\n",
    "import yaml\n",
    "from glob import glob\n",
    "from datetime import datetime, timedelta\n",
    "\n",
    "import numpy as np\n",
    "import xarray as xr"
   ]
  },
  {
   "cell_type": "code",
   "execution_count": 2,
   "id": "4f276d5d-e0b9-4639-911f-44566f18e248",
   "metadata": {},
   "outputs": [],
   "source": [
    "sys.path.insert(0, os.path.realpath('../libs/'))\n",
    "import verif_utils as vu"
   ]
  },
  {
   "cell_type": "code",
   "execution_count": 3,
   "id": "04614252-cb60-44ef-afa4-3732f1a34dae",
   "metadata": {},
   "outputs": [],
   "source": [
    "config_name = os.path.realpath('verif_config_6h.yml')\n",
    "\n",
    "with open(config_name, 'r') as stream:\n",
    "    conf = yaml.safe_load(stream)"
   ]
  },
  {
   "cell_type": "code",
   "execution_count": 4,
   "id": "9df393c4-af29-4ef1-857c-403bd2342dcb",
   "metadata": {},
   "outputs": [
    {
     "name": "stdout",
     "output_type": "stream",
     "text": [
      "Verifying lead times: [6, 12, 18, 24]\n",
      "Verifying lead indices: [0, 1, 2, 3]\n"
     ]
    }
   ],
   "source": [
    "model_name = 'fuxi'\n",
    "lead_range = conf[model_name]['lead_range']\n",
    "verif_lead_range = conf[model_name]['verif_lead_range']\n",
    "\n",
    "leads_exist = list(np.arange(lead_range[0], lead_range[-1]+lead_range[0], lead_range[0]))\n",
    "leads_verif = list(np.arange(verif_lead_range[0], verif_lead_range[-1]+verif_lead_range[0], verif_lead_range[0]))\n",
    "ind_lead = vu.lead_to_index(leads_exist, leads_verif)\n",
    "\n",
    "print('Verifying lead times: {}'.format(leads_verif))\n",
    "print('Verifying lead indices: {}'.format(ind_lead))"
   ]
  },
  {
   "cell_type": "code",
   "execution_count": 5,
   "id": "78708828-93ce-4ac9-80dd-5f9b40cd80a4",
   "metadata": {},
   "outputs": [],
   "source": [
    "verif_ind_start = 0; verif_ind_end = 366*2\n",
    "path_verif = conf[model_name]['save_loc_verif']+'combined_rmse_{:04d}_{:04d}_{:03d}h_{:03d}h_{}.nc'.format(\n",
    "                                                                                            verif_ind_start, \n",
    "                                                                                            verif_ind_end,\n",
    "                                                                                            verif_lead_range[0],\n",
    "                                                                                            verif_lead_range[-1],\n",
    "                                                                                            model_name)"
   ]
  },
  {
   "cell_type": "markdown",
   "id": "7bbb12c4-f60e-4398-adde-bfb7367c544d",
   "metadata": {},
   "source": [
    "## Verification setup\n",
    "\n",
    "The following inputs are needed:\n",
    "\n",
    "(1) range of indices\n",
    "\n",
    "(2) required lead times to verify\n",
    "\n",
    "(3) save location"
   ]
  },
  {
   "cell_type": "code",
   "execution_count": 6,
   "id": "5d9d3246-64ea-497c-aeb2-9702b62fe591",
   "metadata": {},
   "outputs": [],
   "source": [
    "# ---------------------------------------------------------------------------------------- #\n",
    "# ERA5 verif target\n",
    "filename_ERA5 = sorted(glob(conf['ERA5_ours']['save_loc']))\n",
    "\n",
    "# pick years\n",
    "year_range = conf['ERA5_ours']['year_range']\n",
    "years_pick = np.arange(year_range[0], year_range[1]+1, 1).astype(str)\n",
    "filename_ERA5 = [fn for fn in filename_ERA5 if any(year in fn for year in years_pick)]\n",
    "\n",
    "# merge yearly ERA5 as one\n",
    "ds_ERA5 = [vu.get_forward_data(fn) for fn in filename_ERA5]\n",
    "ds_ERA5_merge = xr.concat(ds_ERA5, dim='time')\n",
    "    \n",
    "# Select the specified variables and their levels\n",
    "variables_levels = conf['ERA5_ours']['verif_variables']\n",
    "\n",
    "# subset merged ERA5 and unify coord names\n",
    "ds_ERA5_merge = vu.ds_subset_everything(ds_ERA5_merge, variables_levels)\n",
    "ds_ERA5_merge = ds_ERA5_merge.rename({'latitude':'lat','longitude':'lon'})\n",
    "\n",
    "# ---------------------------------------------------------------------------------------- #\n",
    "# forecast\n",
    "filename_OURS = sorted(glob(conf[model_name]['save_loc_gather']+'*.nc'))\n",
    "\n",
    "# pick years\n",
    "year_range = conf[model_name]['year_range']\n",
    "years_pick = np.arange(year_range[0], year_range[1]+1, 1).astype(str)\n",
    "filename_OURS = [fn for fn in filename_OURS if any(year in fn for year in years_pick)]\n",
    "# filename_OURS = [fn for fn in filename_OURS if '00Z' in fn]\n",
    "\n",
    "L_max = len(filename_OURS)\n",
    "assert verif_ind_end <= L_max, 'verified indices (days) exceeds the max index available'\n",
    "\n",
    "filename_OURS = filename_OURS[verif_ind_start:verif_ind_end]\n",
    "\n",
    "# latitude weighting\n",
    "lat = xr.open_dataset(filename_OURS[0])[\"lat\"]\n",
    "w_lat = np.cos(np.deg2rad(lat))\n",
    "w_lat = w_lat / w_lat.mean()"
   ]
  },
  {
   "cell_type": "code",
   "execution_count": 7,
   "id": "feb66ae6-eba2-4c16-81aa-8f4dff885745",
   "metadata": {},
   "outputs": [],
   "source": [
    "# some of the forecast files have lat/lon as masked arrays\n",
    "# this may result-in a mismatch between the weatherbench clim (lat/lon arrays) and the fcst (masked arrays)\n",
    "# it only happens to some CREDIT rollouts but will be applied to IFS as well\n",
    "OURS_dataset = xr.open_dataset(conf['geo']['geo_file_nc'])\n",
    "x_OURS = np.array(OURS_dataset['longitude'])\n",
    "y_OURS = np.array(OURS_dataset['latitude'])"
   ]
  },
  {
   "cell_type": "code",
   "execution_count": 8,
   "id": "62b53182-2b2e-40f3-b265-0a250e7d0246",
   "metadata": {},
   "outputs": [
    {
     "name": "stdout",
     "output_type": "stream",
     "text": [
      "Save to /glade/derecho/scratch/ksha/CREDIT/VERIF/verif_6h/fuxi_6h/combined_rmse_0000_0732_006h_024h_fuxi.nc\n"
     ]
    }
   ],
   "source": [
    "# ---------------------------------------------------------------------------------------- #\n",
    "# RMSE compute\n",
    "verif_results = []\n",
    "\n",
    "for fn_ours in filename_OURS:\n",
    "    ds_ours = xr.open_dataset(fn_ours)\n",
    "    ds_ours = vu.ds_subset_everything(ds_ours, variables_levels)\n",
    "    ds_ours = ds_ours.isel(time=ind_lead)\n",
    "\n",
    "    # ============================== #\n",
    "    # resolve the masked array issue\n",
    "    ds_ours['lon'] = x_OURS\n",
    "    ds_ours['lat'] = y_OURS\n",
    "    # ============================== #\n",
    "    ds_ours = ds_ours.compute()\n",
    "    \n",
    "    ds_target = ds_ERA5_merge.sel(time=ds_ours['time']).compute()\n",
    "\n",
    "    # ds_ours = ds_ours.isel(time=slice(1, 4))\n",
    "    # ds_target = ds_target.isel(time=slice(0, 3))\n",
    "    # ds_target['time'] = ds_ours['time']\n",
    "    \n",
    "    # RMSE with latitude-based cosine weighting (check w_lat)\n",
    "    RMSE = np.sqrt(\n",
    "        (w_lat * (ds_ours - ds_target)**2).mean(['lat', 'lon'])\n",
    "    )\n",
    "    \n",
    "    verif_results.append(RMSE.drop_vars('time'))\n",
    "\n",
    "    #print('Completedd: {}'.format(fn_ours))\n",
    "    \n",
    "# Combine verif results\n",
    "ds_verif = xr.concat(verif_results, dim='days')\n",
    "\n",
    "# Save the combined dataset\n",
    "print('Save to {}'.format(path_verif))\n",
    "#ds_verif.to_netcdf(path_verif)"
   ]
  },
  {
   "cell_type": "code",
   "execution_count": null,
   "id": "f824cb4a-68f5-41b4-b0fa-50a9c1e6bc0e",
   "metadata": {},
   "outputs": [],
   "source": []
  },
  {
   "cell_type": "code",
   "execution_count": null,
   "id": "eec2d7fb-37df-4a04-b6b2-f5fc3c6bfb8d",
   "metadata": {},
   "outputs": [],
   "source": []
  },
  {
   "cell_type": "code",
   "execution_count": null,
   "id": "95242780-cf82-4dd9-8b45-db0b66bbdfd2",
   "metadata": {},
   "outputs": [],
   "source": []
  },
  {
   "cell_type": "code",
   "execution_count": null,
   "id": "83bd9239-4b1f-4d89-8b9b-83e12768b6d1",
   "metadata": {},
   "outputs": [],
   "source": []
  },
  {
   "cell_type": "markdown",
   "id": "42cb5fe3-e66f-40b1-a91e-c8312407331c",
   "metadata": {},
   "source": [
    "## Old verification results (single-step, residual norm)"
   ]
  },
  {
   "cell_type": "code",
   "execution_count": 9,
   "id": "64951cab-41c7-40f2-856c-48203119cd74",
   "metadata": {},
   "outputs": [
    {
     "name": "stdout",
     "output_type": "stream",
     "text": [
      "44.89194647235368,124.12228642976429,167.88251456538043,267.6491895646606\n",
      "0.6021144938259202,3.033289150523198,5.52782525655867,5.95657405501232\n",
      "0.8679783348843955,1.386355206606685,1.6430430881838236,2.0499758110055555\n",
      "0.8462169885676298,1.3822952134342896,1.5970537931084605,2.071430997386118\n",
      "0.2617489141229444,0.45643758673410567,0.6895272985499132,0.8724526957762478\n",
      "24.08903710016006,84.98020261516959,90.91937449171202,152.06612912237242\n",
      "0.00014816306476049917,0.0002611510997947689,0.00034045483322229754,0.00044690745538375986\n"
     ]
    }
   ],
   "source": [
    "for varname in ['SP','t2m','V500','U500','T500','Z500','Q500']:\n",
    "    rmse = np.array(ds_verif[varname]).mean(axis=0)\n",
    "    print('{},{},{},{}'.format(rmse[0], rmse[1], rmse[2], rmse[3]))"
   ]
  },
  {
   "cell_type": "code",
   "execution_count": 9,
   "id": "6d6a13d9-62f0-43b1-b354-46d04a6bedcd",
   "metadata": {},
   "outputs": [
    {
     "name": "stdout",
     "output_type": "stream",
     "text": [
      "46.33947626060378,127.01140203726739,170.1665673369648,273.10359272513153\n",
      "0.6037021332255142,3.0321878637458446,5.52590204041381,5.943812610244141\n",
      "0.871669062616841,1.3919048154836826,1.6507573208734623,2.0612509418034977\n",
      "0.8502413675393385,1.3877147086279689,1.6082647749530479,2.086214078449288\n",
      "0.26315508302165713,0.4587248051943241,0.6951465421046444,0.8810033104018331\n",
      "24.892314914048402,87.31859187904014,93.21636212166541,156.0275666504848\n",
      "0.0001484549276142416,0.00026144736374523976,0.00034103279487856505,0.0004475836960581638\n"
     ]
    }
   ],
   "source": [
    "for varname in ['SP','t2m','V500','U500','T500','Z500','Q500']:\n",
    "    rmse = np.array(ds_verif[varname]).mean(axis=0)\n",
    "    print('{},{},{},{}'.format(rmse[0], rmse[1], rmse[2], rmse[3]))"
   ]
  },
  {
   "cell_type": "markdown",
   "id": "11d2842c-d890-436a-989a-1f39112f16cf",
   "metadata": {},
   "source": [
    "## Old verification results (single-step, without residual norm)"
   ]
  },
  {
   "cell_type": "code",
   "execution_count": 10,
   "id": "eeb524b2-c481-4b3f-b86f-2a8e3905c224",
   "metadata": {},
   "outputs": [
    {
     "name": "stdout",
     "output_type": "stream",
     "text": [
      "[184.2498327  271.33226649 347.06797096 567.51448427]\n",
      "[0.7371168  3.15104505 5.50106412 5.67369036]\n",
      "[0.77032073 1.35613833 1.65020844 2.07473593]\n",
      "[0.78886652 1.36594245 1.61001187 2.11477036]\n",
      "[0.28820774 0.47826239 0.70598127 0.87292093]\n",
      "[ 35.47029769 130.63376207 117.17512662 227.15196566]\n",
      "[0.00013844 0.00026169 0.00034507 0.00045379]\n"
     ]
    }
   ],
   "source": [
    "for varname in ['SP','t2m','V500','U500','T500','Z500','Q500']:\n",
    "    print(np.array(ds_verif[varname]).mean(axis=0))"
   ]
  },
  {
   "cell_type": "code",
   "execution_count": null,
   "id": "790a3419-d9b1-4bb3-8a07-9f55ae024fde",
   "metadata": {},
   "outputs": [],
   "source": []
  },
  {
   "cell_type": "code",
   "execution_count": null,
   "id": "1e6badf4-cd69-4d2e-b2f0-e69af17fccb7",
   "metadata": {},
   "outputs": [],
   "source": []
  },
  {
   "cell_type": "code",
   "execution_count": null,
   "id": "8b08487f-4370-41ce-97b0-445942ddc6fb",
   "metadata": {},
   "outputs": [],
   "source": []
  },
  {
   "cell_type": "code",
   "execution_count": null,
   "id": "1ca4564b-9f4b-430a-9911-3c453aec544e",
   "metadata": {},
   "outputs": [],
   "source": []
  },
  {
   "cell_type": "code",
   "execution_count": 10,
   "id": "7939e224-03a5-42ef-9996-cfb912a9ac11",
   "metadata": {},
   "outputs": [
    {
     "data": {
      "text/plain": [
       "array([ 36.00949756, 132.96644512, 120.6203009 , 229.15796213])"
      ]
     },
     "execution_count": 10,
     "metadata": {},
     "output_type": "execute_result"
    }
   ],
   "source": []
  },
  {
   "cell_type": "code",
   "execution_count": 11,
   "id": "231b0bcb-baff-41e1-8c86-907f44eccaeb",
   "metadata": {},
   "outputs": [
    {
     "data": {
      "text/plain": [
       "array([0.00013877, 0.00026235, 0.00034532, 0.00045397])"
      ]
     },
     "execution_count": 11,
     "metadata": {},
     "output_type": "execute_result"
    }
   ],
   "source": [
    "np.array(ds_verif['Q500']).mean(axis=0)"
   ]
  },
  {
   "cell_type": "code",
   "execution_count": 12,
   "id": "c286afbe-85c7-456f-bd51-9d2a076b5b46",
   "metadata": {},
   "outputs": [
    {
     "data": {
      "text/plain": [
       "array([0.73620854, 3.13571614, 5.46001092, 5.61953639])"
      ]
     },
     "execution_count": 12,
     "metadata": {},
     "output_type": "execute_result"
    }
   ],
   "source": [
    "np.array(ds_verif['t2m']).mean(axis=0)"
   ]
  },
  {
   "cell_type": "code",
   "execution_count": null,
   "id": "1833de36-aa0d-4ead-bace-263cb32b03aa",
   "metadata": {},
   "outputs": [],
   "source": []
  }
 ],
 "metadata": {
  "kernelspec": {
   "display_name": "Python 3 (ipykernel)",
   "language": "python",
   "name": "python3"
  },
  "language_info": {
   "codemirror_mode": {
    "name": "ipython",
    "version": 3
   },
   "file_extension": ".py",
   "mimetype": "text/x-python",
   "name": "python",
   "nbconvert_exporter": "python",
   "pygments_lexer": "ipython3",
   "version": "3.11.9"
  }
 },
 "nbformat": 4,
 "nbformat_minor": 5
}
