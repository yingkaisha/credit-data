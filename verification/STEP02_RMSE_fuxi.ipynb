{
 "cells": [
  {
   "cell_type": "markdown",
   "id": "ac814c7e-dee1-4b45-9239-8d9cd98b9ada",
   "metadata": {},
   "source": [
    "# Calculate RMSE"
   ]
  },
  {
   "cell_type": "code",
   "execution_count": 1,
   "id": "8deb4be5-9191-4fb6-afb1-9b6c2351f719",
   "metadata": {},
   "outputs": [],
   "source": [
    "import os\n",
    "import sys\n",
    "import yaml\n",
    "from glob import glob\n",
    "from datetime import datetime, timedelta\n",
    "\n",
    "import numpy as np\n",
    "import xarray as xr"
   ]
  },
  {
   "cell_type": "code",
   "execution_count": 2,
   "id": "4f276d5d-e0b9-4639-911f-44566f18e248",
   "metadata": {},
   "outputs": [],
   "source": [
    "sys.path.insert(0, os.path.realpath('../libs/'))\n",
    "import verif_utils as vu"
   ]
  },
  {
   "cell_type": "code",
   "execution_count": 3,
   "id": "04614252-cb60-44ef-afa4-3732f1a34dae",
   "metadata": {},
   "outputs": [],
   "source": [
    "config_name = os.path.realpath('verif_config_6h.yml')\n",
    "\n",
    "with open(config_name, 'r') as stream:\n",
    "    conf = yaml.safe_load(stream)"
   ]
  },
  {
   "cell_type": "code",
   "execution_count": 4,
   "id": "9df393c4-af29-4ef1-857c-403bd2342dcb",
   "metadata": {},
   "outputs": [
    {
     "name": "stdout",
     "output_type": "stream",
     "text": [
      "Verifying lead times: [6, 12, 18, 24, 30, 36, 42, 48, 54, 60, 66, 72, 78, 84, 90, 96, 102, 108, 114, 120, 126, 132, 138, 144, 150, 156, 162, 168, 174, 180, 186, 192, 198, 204, 210, 216, 222, 228, 234, 240]\n",
      "Verifying lead indices: [0, 1, 2, 3, 4, 5, 6, 7, 8, 9, 10, 11, 12, 13, 14, 15, 16, 17, 18, 19, 20, 21, 22, 23, 24, 25, 26, 27, 28, 29, 30, 31, 32, 33, 34, 35, 36, 37, 38, 39]\n"
     ]
    }
   ],
   "source": [
    "model_name = 'fuxi'\n",
    "lead_range = conf[model_name]['lead_range']\n",
    "verif_lead_range = conf[model_name]['verif_lead_range']\n",
    "\n",
    "leads_exist = list(np.arange(lead_range[0], lead_range[-1]+lead_range[0], lead_range[0]))\n",
    "leads_verif = list(np.arange(verif_lead_range[0], verif_lead_range[-1]+verif_lead_range[0], verif_lead_range[0]))\n",
    "ind_lead = vu.lead_to_index(leads_exist, leads_verif)\n",
    "\n",
    "print('Verifying lead times: {}'.format(leads_verif))\n",
    "print('Verifying lead indices: {}'.format(ind_lead))"
   ]
  },
  {
   "cell_type": "code",
   "execution_count": 5,
   "id": "78708828-93ce-4ac9-80dd-5f9b40cd80a4",
   "metadata": {},
   "outputs": [],
   "source": [
    "verif_ind_start = 0; verif_ind_end = 20\n",
    "path_verif = conf[model_name]['save_loc_verif']+'combined_rmse_{:04d}_{:04d}_{:03d}h_{:03d}h_{}.nc'.format(\n",
    "                                                                                            verif_ind_start, \n",
    "                                                                                            verif_ind_end,\n",
    "                                                                                            verif_lead_range[0],\n",
    "                                                                                            verif_lead_range[-1],\n",
    "                                                                                            model_name)"
   ]
  },
  {
   "cell_type": "markdown",
   "id": "7bbb12c4-f60e-4398-adde-bfb7367c544d",
   "metadata": {},
   "source": [
    "## Verification setup\n",
    "\n",
    "The following inputs are needed:\n",
    "\n",
    "(1) range of indices\n",
    "\n",
    "(2) required lead times to verify\n",
    "\n",
    "(3) save location"
   ]
  },
  {
   "cell_type": "code",
   "execution_count": 6,
   "id": "5d9d3246-64ea-497c-aeb2-9702b62fe591",
   "metadata": {},
   "outputs": [],
   "source": [
    "# ---------------------------------------------------------------------------------------- #\n",
    "# ERA5 verif target\n",
    "filename_ERA5 = sorted(glob(conf['ERA5_ours']['save_loc']))\n",
    "\n",
    "# pick years\n",
    "year_range = conf['ERA5_ours']['year_range']\n",
    "years_pick = np.arange(year_range[0], year_range[1]+1, 1).astype(str)\n",
    "filename_ERA5 = [fn for fn in filename_ERA5 if any(year in fn for year in years_pick)]\n",
    "\n",
    "# merge yearly ERA5 as one\n",
    "ds_ERA5 = [vu.get_forward_data(fn) for fn in filename_ERA5]\n",
    "ds_ERA5_merge = xr.concat(ds_ERA5, dim='time')\n",
    "    \n",
    "# Select the specified variables and their levels\n",
    "variables_levels = conf['ERA5_ours']['verif_variables']\n",
    "\n",
    "# subset merged ERA5 and unify coord names\n",
    "ds_ERA5_merge = vu.ds_subset_everything(ds_ERA5_merge, variables_levels)\n",
    "ds_ERA5_merge = ds_ERA5_merge.rename({'latitude':'lat','longitude':'lon'})\n",
    "\n",
    "# ---------------------------------------------------------------------------------------- #\n",
    "# forecast\n",
    "filename_OURS = sorted(glob(conf[model_name]['save_loc_gather']+'*.nc'))\n",
    "\n",
    "# pick years\n",
    "year_range = conf[model_name]['year_range']\n",
    "years_pick = np.arange(year_range[0], year_range[1]+1, 1).astype(str)\n",
    "filename_OURS = [fn for fn in filename_OURS if any(year in fn for year in years_pick)]\n",
    "# filename_OURS = [fn for fn in filename_OURS if '00Z' in fn]\n",
    "\n",
    "L_max = len(filename_OURS)\n",
    "assert verif_ind_end <= L_max, 'verified indices (days) exceeds the max index available'\n",
    "\n",
    "filename_OURS = filename_OURS[verif_ind_start:verif_ind_end]\n",
    "\n",
    "# latitude weighting\n",
    "lat = xr.open_dataset(filename_OURS[0])[\"lat\"]\n",
    "w_lat = np.cos(np.deg2rad(lat))\n",
    "w_lat = w_lat / w_lat.mean()"
   ]
  },
  {
   "cell_type": "code",
   "execution_count": 7,
   "id": "feb66ae6-eba2-4c16-81aa-8f4dff885745",
   "metadata": {},
   "outputs": [],
   "source": [
    "# some of the forecast files have lat/lon as masked arrays\n",
    "# this may result-in a mismatch between the weatherbench clim (lat/lon arrays) and the fcst (masked arrays)\n",
    "# it only happens to some CREDIT rollouts but will be applied to IFS as well\n",
    "OURS_dataset = xr.open_dataset(conf['geo']['geo_file_nc'])\n",
    "x_OURS = np.array(OURS_dataset['longitude'])\n",
    "y_OURS = np.array(OURS_dataset['latitude'])"
   ]
  },
  {
   "cell_type": "code",
   "execution_count": 8,
   "id": "62b53182-2b2e-40f3-b265-0a250e7d0246",
   "metadata": {},
   "outputs": [],
   "source": [
    "# ---------------------------------------------------------------------------------------- #\n",
    "# RMSE compute\n",
    "verif_results = []\n",
    "\n",
    "for fn_ours in filename_OURS:\n",
    "    ds_ours = xr.open_dataset(fn_ours)\n",
    "    ds_ours = vu.ds_subset_everything(ds_ours, variables_levels)\n",
    "    ds_ours = ds_ours.isel(time=ind_lead)\n",
    "\n",
    "    # ============================== #\n",
    "    # resolve the masked array issue\n",
    "    ds_ours['lon'] = x_OURS\n",
    "    ds_ours['lat'] = y_OURS\n",
    "    # ============================== #\n",
    "    ds_ours = ds_ours.compute()\n",
    "    \n",
    "    ds_target = ds_ERA5_merge.sel(time=ds_ours['time']).compute()\n",
    "    \n",
    "    # RMSE with latitude-based cosine weighting (check w_lat)\n",
    "    RMSE = np.sqrt(\n",
    "        (w_lat * (ds_ours - ds_target)**2).mean(['lat', 'lon'])\n",
    "    )\n",
    "    \n",
    "    verif_results.append(RMSE.drop_vars('time'))\n",
    "\n",
    "    #print('Completedd: {}'.format(fn_ours))\n",
    "    \n",
    "# Combine verif results\n",
    "ds_verif = xr.concat(verif_results, dim='days')\n",
    "\n",
    "# # Save the combined dataset\n",
    "# print('Save to {}'.format(path_verif))\n",
    "# #ds_verif.to_netcdf(path_verif)"
   ]
  },
  {
   "cell_type": "markdown",
   "id": "895592dc-7d0d-4bb5-ac5a-22375ae6e259",
   "metadata": {},
   "source": [
    "### Print out some metrics"
   ]
  },
  {
   "cell_type": "code",
   "execution_count": 1,
   "id": "eec2d7fb-37df-4a04-b6b2-f5fc3c6bfb8d",
   "metadata": {},
   "outputs": [],
   "source": [
    "# for varname in ['SP','t2m','V500','U500','T500','Z500','Q500']:\n",
    "#     rmse = np.array(ds_verif[varname]).mean(axis=0)\n",
    "#     print(','.join(map(str, rmse)))"
   ]
  },
  {
   "cell_type": "code",
   "execution_count": null,
   "id": "1833de36-aa0d-4ead-bace-263cb32b03aa",
   "metadata": {},
   "outputs": [],
   "source": []
  }
 ],
 "metadata": {
  "kernelspec": {
   "display_name": "Python 3 (ipykernel)",
   "language": "python",
   "name": "python3"
  },
  "language_info": {
   "codemirror_mode": {
    "name": "ipython",
    "version": 3
   },
   "file_extension": ".py",
   "mimetype": "text/x-python",
   "name": "python",
   "nbconvert_exporter": "python",
   "pygments_lexer": "ipython3",
   "version": "3.11.9"
  }
 },
 "nbformat": 4,
 "nbformat_minor": 5
}
