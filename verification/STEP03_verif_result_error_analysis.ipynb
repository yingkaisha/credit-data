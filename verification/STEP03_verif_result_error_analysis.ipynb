{
 "cells": [
  {
   "cell_type": "markdown",
   "id": "d56e0d15-21d8-49c0-aed0-0e36b5fefe52",
   "metadata": {},
   "source": [
    "# Combining verification results on individual days to a single file"
   ]
  },
  {
   "cell_type": "code",
   "execution_count": null,
   "id": "92825f32-f2f0-4518-91cf-4b45873b57a8",
   "metadata": {},
   "outputs": [],
   "source": [
    "import os\n",
    "import sys\n",
    "import yaml\n",
    "import argparse\n",
    "from glob import glob\n",
    "from datetime import datetime, timedelta\n",
    "\n",
    "import numpy as np\n",
    "import xarray as xr"
   ]
  },
  {
   "cell_type": "code",
   "execution_count": null,
   "id": "4beacf24-7b1f-4e7b-bdd7-c321003647c4",
   "metadata": {},
   "outputs": [],
   "source": [
    "import matplotlib.pyplot as plt\n",
    "%matplotlib inline"
   ]
  },
  {
   "cell_type": "code",
   "execution_count": null,
   "id": "f37779f5-f1f7-424e-8ef1-74cdbcdf0cbd",
   "metadata": {},
   "outputs": [],
   "source": [
    "sys.path.insert(0, os.path.realpath('../libs/'))\n",
    "import verif_utils as vu"
   ]
  },
  {
   "cell_type": "code",
   "execution_count": null,
   "id": "6104c698-762d-48b2-a92c-c8ed62865fd4",
   "metadata": {},
   "outputs": [],
   "source": [
    "config_name = os.path.realpath('verif_config.yml')\n",
    "\n",
    "with open(config_name, 'r') as stream:\n",
    "    conf = yaml.safe_load(stream)"
   ]
  },
  {
   "cell_type": "markdown",
   "id": "22a98a66-ff79-4867-b4fc-a4f1fea109a7",
   "metadata": {},
   "source": [
    "## Get metrics"
   ]
  },
  {
   "cell_type": "code",
   "execution_count": null,
   "id": "b44a3e66-25ac-431f-9655-1fe673eb6b8e",
   "metadata": {},
   "outputs": [],
   "source": [
    "model_names = ['wxformer', 'IFS']\n",
    "VERIF = {} # the dict that collects all result for this notebook"
   ]
  },
  {
   "cell_type": "code",
   "execution_count": null,
   "id": "c33f7713-65f9-44f1-9f8f-7141a5c962a5",
   "metadata": {},
   "outputs": [],
   "source": [
    "for model_name in model_names:\n",
    "    # file names to load\n",
    "    verif_lead_range = conf[model_name]['verif_lead_range']\n",
    "    path_ACC_save = conf[model_name]['save_loc_verif']+'ACC_{:03d}h_{:03d}h_{}.nc'\n",
    "    path_RMSE_save = conf[model_name]['save_loc_verif']+'RMSE_{:03d}h_{:03d}h_{}.nc'\n",
    "    \n",
    "    # save to one dictionary for some checking\n",
    "    VERIF['{}_ACC'.format(model_name)] = xr.open_dataset(\n",
    "        path_ACC_save.format(verif_lead_range[0], verif_lead_range[-1], model_name))\n",
    "    VERIF['{}_RMSE'.format(model_name)] = xr.open_dataset(\n",
    "        path_RMSE_save.format(verif_lead_range[0], verif_lead_range[-1], model_name))"
   ]
  },
  {
   "cell_type": "markdown",
   "id": "e36de27d-0b08-48b8-8b42-a168d8198ea5",
   "metadata": {},
   "source": [
    "### ERA5 target"
   ]
  },
  {
   "cell_type": "code",
   "execution_count": null,
   "id": "dcc4cbe9-8a2e-4306-b0d3-ba0124ba879b",
   "metadata": {},
   "outputs": [],
   "source": [
    "# ---------------------------------------------------------------------------------------- #\n",
    "# ERA5 verif target\n",
    "filename_ERA5 = sorted(glob(conf['ERA5_ours']['save_loc']))\n",
    "\n",
    "# pick years\n",
    "year_range = conf['ERA5_ours']['year_range']\n",
    "years_pick = np.arange(year_range[0], year_range[1]+1, 1).astype(str)\n",
    "filename_ERA5 = [fn for fn in filename_ERA5 if any(year in fn for year in years_pick)]\n",
    "\n",
    "# merge yearly ERA5 as one\n",
    "ds_ERA5 = [vu.get_forward_data(fn) for fn in filename_ERA5]\n",
    "ds_ERA5_merge = xr.concat(ds_ERA5, dim='time')\n",
    "    \n",
    "# Select the specified variables and their levels\n",
    "variables_levels = conf['ERA5_ours']['verif_variables']\n",
    "\n",
    "# subset merged ERA5 and unify coord names\n",
    "ds_ERA5_merge = vu.ds_subset_everything(ds_ERA5_merge, variables_levels)\n",
    "ds_ERA5_merge = ds_ERA5_merge.rename({'latitude':'lat','longitude':'lon'})\n",
    "\n",
    "OURS_dataset = xr.open_dataset(conf['geo']['geo_file_nc'])\n",
    "x_OURS = np.array(OURS_dataset['longitude'])\n",
    "y_OURS = np.array(OURS_dataset['latitude'])\n",
    "\n",
    "lon_OURS, lat_OURS = np.meshgrid(x_OURS, y_OURS)"
   ]
  },
  {
   "cell_type": "markdown",
   "id": "34a239ab-d6fd-4c0c-b1f2-574da9246d12",
   "metadata": {},
   "source": [
    "## Check abnormal values"
   ]
  },
  {
   "cell_type": "code",
   "execution_count": null,
   "id": "112846a0-07e3-4485-b140-a88d59030422",
   "metadata": {},
   "outputs": [],
   "source": [
    "# if see abnormally large RMSE, find its indices, the file maybe corrupted\n",
    "test = np.max(np.array(VERIF['wxformer_RMSE']['t2m']), axis=1)\n",
    "ind_found = np.argwhere(test>10)\n",
    "print(ind_found)"
   ]
  },
  {
   "cell_type": "code",
   "execution_count": null,
   "id": "23520601-d0a0-4979-ad86-2b4fa99d5d10",
   "metadata": {},
   "outputs": [],
   "source": [
    "# forecast\n",
    "ind_check = ind_found[0][0]\n",
    "model_name = 'wxformer'\n",
    "filename_OURS = sorted(glob(conf[model_name]['save_loc_gather']+'*.nc'))\n",
    "\n",
    "# pick years\n",
    "year_range = conf[model_name]['year_range']\n",
    "years_pick = np.arange(year_range[0], year_range[1]+1, 1).astype(str)\n",
    "filename_OURS = [fn for fn in filename_OURS if any(year in fn for year in years_pick)]\n",
    "print('bad file: {}'.format(filename_OURS[ind_check]))"
   ]
  },
  {
   "cell_type": "code",
   "execution_count": null,
   "id": "f5a61422-8f05-4e63-9b11-b6c99ee43e25",
   "metadata": {},
   "outputs": [],
   "source": [
    "ds_ours = xr.open_dataset(filename_OURS[ind_check])\n",
    "t2m_test = ds_ours['t2m'].isel(time=239)\n",
    "\n",
    "ds_target = ds_ERA5_merge.sel(time=ds_ours['time']).compute()\n",
    "t2m_ref = ds_target['t2m'].isel(time=239)"
   ]
  },
  {
   "cell_type": "code",
   "execution_count": null,
   "id": "29d47425-916d-419c-9933-c5203998ce65",
   "metadata": {},
   "outputs": [],
   "source": [
    "t2m_diff = np.array(t2m_test-t2m_ref)"
   ]
  },
  {
   "cell_type": "code",
   "execution_count": null,
   "id": "65667cb5-d9ea-40cd-8c24-f16a43e27a48",
   "metadata": {},
   "outputs": [],
   "source": [
    "plt.pcolormesh(lon_OURS, lat_OURS, t2m_diff, cmap=plt.cm.nipy_spectral)\n",
    "plt.colorbar()\n",
    "plt.title('Ours minus ERA5\\n{}, day-10'.format(\n",
    "    os.path.basename(filename_OURS[ind_check])), fontsize=14)"
   ]
  },
  {
   "cell_type": "markdown",
   "id": "d8c13a3a-e8ce-49f0-876e-ccf776b6d30e",
   "metadata": {},
   "source": [
    "### RMSE histograms "
   ]
  },
  {
   "cell_type": "code",
   "execution_count": null,
   "id": "44042c99-84e2-4636-aa0b-f0b02c207351",
   "metadata": {},
   "outputs": [],
   "source": [
    "rmse_t2m = np.array(VERIF['wxformer_RMSE']['t2m'])"
   ]
  },
  {
   "cell_type": "code",
   "execution_count": null,
   "id": "51061e4a-094c-4138-8d5b-bb7990635f09",
   "metadata": {},
   "outputs": [],
   "source": [
    "fig, AX = plt.subplots(2, 2)\n",
    "\n",
    "AX[0][0].hist(rmse_t2m[:, 0:8].ravel(), bins=20, density=True);\n",
    "AX[0][0].set_title('t2m, day 0-2')\n",
    "\n",
    "AX[0][1].hist(rmse_t2m[:, 8:16].ravel(), bins=20, density=True);\n",
    "AX[0][1].set_title('t2m, day 2-4')\n",
    "\n",
    "AX[1][0].hist(rmse_t2m[:, 16:24].ravel(), bins=20, density=True);\n",
    "AX[1][0].set_title('t2m, day 4-6')\n",
    "\n",
    "AX[1][1].hist(rmse_t2m[:, 24:32].ravel(), bins=20, density=True);\n",
    "AX[1][1].set_title('t2m, day 6-8')\n",
    "\n",
    "plt.tight_layout()"
   ]
  },
  {
   "cell_type": "markdown",
   "id": "f6784a79-0cf0-4f02-9cec-d9bcc62f5639",
   "metadata": {},
   "source": [
    "## Forecast climatology on different lead times "
   ]
  },
  {
   "cell_type": "code",
   "execution_count": null,
   "id": "59bff826-f08d-493f-9ba8-0a21bb882678",
   "metadata": {},
   "outputs": [],
   "source": [
    "ds_OURS_list = []\n",
    "for i_fn, fn in enumerate(filename_OURS[::2]):\n",
    "    ds_t2m = vu.get_forward_data_netCDF4(filename_OURS[0])['t2m'].isel(time=np.arange(6, 240+6, 6)-1)\n",
    "    ds_t2m = ds_t2m.assign_coords({'ini_time': i_fn})\n",
    "    ds_OURS_list.append(ds_t2m)"
   ]
  },
  {
   "cell_type": "code",
   "execution_count": null,
   "id": "4dbec5b9-baf5-44bb-920a-f286f1915b28",
   "metadata": {},
   "outputs": [],
   "source": [
    "ds_OURS_merge = xr.concat(ds_OURS_list, dim='ini_time')"
   ]
  },
  {
   "cell_type": "code",
   "execution_count": null,
   "id": "e124f1bd-0789-447a-bd74-ddedb5234c0c",
   "metadata": {},
   "outputs": [],
   "source": [
    "ds_OURS_mean = ds_OURS_merge.mean(['ini_time'])\n",
    "#ds_OURS_mean.to_netcdf('/glade/derecho/scratch/ksha/CREDIT/verif/wxformer_clim_lead.nc')"
   ]
  },
  {
   "cell_type": "code",
   "execution_count": null,
   "id": "8e638de8-27f9-4518-8fce-586730894a82",
   "metadata": {},
   "outputs": [],
   "source": [
    "# # ERA5 climatology info\n",
    "# ERA5_path_string = conf['ERA5_weatherbench']['save_loc_clim'] + 'ERA5_clim_1990_2019_6h_interp.nc'\n",
    "# ds_ERA5_clim = xr.open_dataset(ERA5_path_string)\n",
    "# ds_ERA5_t2m_clim = ds_ERA5_clim['t2m'].isel(hour=0).mean(['dayofyear'])"
   ]
  },
  {
   "cell_type": "code",
   "execution_count": null,
   "id": "54073a8d-b5e8-4e38-ac5f-c7fa97c200a3",
   "metadata": {},
   "outputs": [],
   "source": [
    "fig, AX = plt.subplots(2, 2, figsize=(11, 9))\n",
    "\n",
    "AX[0][0].pcolormesh(lon_OURS, lat_OURS, ds_OURS_mean.isel(time=0), \n",
    "                    cmap=plt.cm.nipy_spectral, vmin=220, vmax=320)\n",
    "AX[0][0].set_title('t2m, day 0')\n",
    "\n",
    "\n",
    "AX[0][1].pcolormesh(lon_OURS, lat_OURS, ds_OURS_mean.isel(time=12), \n",
    "                    cmap=plt.cm.nipy_spectral, vmin=220, vmax=320)\n",
    "AX[0][1].set_title('t2m, day 3')\n",
    "\n",
    "\n",
    "AX[1][0].pcolormesh(lon_OURS, lat_OURS, ds_OURS_mean.isel(time=24), \n",
    "                    cmap=plt.cm.nipy_spectral, vmin=220, vmax=320)\n",
    "AX[1][0].set_title('t2m, day 6')\n",
    "\n",
    "\n",
    "AX[1][1].pcolormesh(lon_OURS, lat_OURS, ds_OURS_mean.isel(time=36), \n",
    "                    cmap=plt.cm.nipy_spectral, vmin=220, vmax=320)\n",
    "AX[1][1].set_title('t2m, day 9')\n",
    "\n",
    "plt.tight_layout()"
   ]
  },
  {
   "cell_type": "code",
   "execution_count": null,
   "id": "a4194a15-0a8a-46d4-ac7c-bbfe7fd54bae",
   "metadata": {},
   "outputs": [],
   "source": []
  },
  {
   "cell_type": "code",
   "execution_count": null,
   "id": "258e93eb-ecf8-44cd-859c-eaa2c7d1a798",
   "metadata": {},
   "outputs": [],
   "source": []
  },
  {
   "cell_type": "code",
   "execution_count": null,
   "id": "bc933f89-e7c6-45e4-9872-6c42b1125cd3",
   "metadata": {},
   "outputs": [],
   "source": []
  }
 ],
 "metadata": {
  "kernelspec": {
   "display_name": "Python 3 (ipykernel)",
   "language": "python",
   "name": "python3"
  },
  "language_info": {
   "codemirror_mode": {
    "name": "ipython",
    "version": 3
   },
   "file_extension": ".py",
   "mimetype": "text/x-python",
   "name": "python",
   "nbconvert_exporter": "python",
   "pygments_lexer": "ipython3",
   "version": "3.10.13"
  }
 },
 "nbformat": 4,
 "nbformat_minor": 5
}
