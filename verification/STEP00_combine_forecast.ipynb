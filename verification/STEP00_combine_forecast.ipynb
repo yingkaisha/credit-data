{
 "cells": [
  {
   "cell_type": "markdown",
   "id": "c299464f-36e8-4536-aa51-b421eb7b5fe5",
   "metadata": {},
   "source": [
    "# Combining forecast files on lead time dimension \n",
    "\n",
    "Note:\n",
    "\n",
    "The following files are corrputed, need to rerun:\n",
    "\n",
    "```bash\n",
    "/glade/campaign/cisl/aiml/gathered/2018-04-14T00Z.nc\n",
    "/glade/campaign/cisl/aiml/gathered/2018-04-15T12Z.nc\n",
    "/glade/campaign/cisl/aiml/gathered/2018-04-16T12Z.nc\n",
    "/glade/campaign/cisl/aiml/gathered/2018-04-18T12Z.nc\n",
    "/glade/campaign/cisl/aiml/gathered/2018-06-30T00Z.nc\n",
    "/glade/campaign/cisl/aiml/gathered/2018-07-15T00Z.nc\n",
    "/glade/campaign/cisl/aiml/gathered/2018-07-20T00Z.nc\n",
    "```"
   ]
  },
  {
   "cell_type": "code",
   "execution_count": 1,
   "id": "399abbd9-da47-4728-82a4-2c52c89273f4",
   "metadata": {},
   "outputs": [],
   "source": [
    "import os\n",
    "import sys\n",
    "import yaml\n",
    "from glob import glob\n",
    "from datetime import datetime\n",
    "\n",
    "import numpy as np\n",
    "import xarray as xr\n",
    "\n",
    "from concurrent.futures import ThreadPoolExecutor"
   ]
  },
  {
   "cell_type": "code",
   "execution_count": 2,
   "id": "7634dd59-cec9-4609-826a-a7f3b8463a8b",
   "metadata": {},
   "outputs": [],
   "source": [
    "sys.path.insert(0, os.path.realpath('../libs/'))\n",
    "import verif_utils as vu"
   ]
  },
  {
   "cell_type": "code",
   "execution_count": 3,
   "id": "43fbba18-3576-4618-bd22-2528364427f9",
   "metadata": {},
   "outputs": [],
   "source": [
    "config_name = os.path.realpath('verif_config.yml')\n",
    "\n",
    "with open(config_name, 'r') as stream:\n",
    "    conf = yaml.safe_load(stream)"
   ]
  },
  {
   "cell_type": "code",
   "execution_count": 4,
   "id": "b0307a7a-15eb-49e7-9962-d347fef0a3fd",
   "metadata": {},
   "outputs": [],
   "source": [
    "model_name = 'wxformer'"
   ]
  },
  {
   "cell_type": "code",
   "execution_count": 5,
   "id": "a79b4e9a-03f2-4054-9829-9f98877bb49e",
   "metadata": {},
   "outputs": [],
   "source": [
    "def process_files_concurrently(base_dir, all_files_list, output_dir, variables_levels, time_intervals=None, max_workers=10):\n",
    "    \"\"\"\n",
    "    Process files concurrently using ThreadPoolExecutor.\n",
    "    \"\"\"\n",
    "    # create dir if it does not exist\n",
    "    vu.create_dir(output_dir)\n",
    "    \n",
    "    with ThreadPoolExecutor(max_workers=max_workers) as executor:\n",
    "        futures = [executor.submit(vu.process_file_group, file_list, output_dir, variables_levels, time_intervals) for file_list in all_files_list]\n",
    "        for future in futures:\n",
    "            future.result()  # Wait for all futures to complete"
   ]
  },
  {
   "cell_type": "markdown",
   "id": "97b17bd9-79b4-4112-b97d-1d545825ab05",
   "metadata": {},
   "source": [
    "## Selected variables and levels"
   ]
  },
  {
   "cell_type": "code",
   "execution_count": 7,
   "id": "f2948dec-6ecc-4d78-944f-5ce87adf334d",
   "metadata": {},
   "outputs": [],
   "source": [
    "variables_levels = conf[model_name]['verif_variables']"
   ]
  },
  {
   "cell_type": "code",
   "execution_count": 8,
   "id": "bcfd137f-b0a1-4043-945e-b91602b1fb9c",
   "metadata": {},
   "outputs": [],
   "source": [
    "base_dir = conf[model_name]['save_loc_rollout']\n",
    "output_dir = conf[model_name]['save_loc_gather']\n",
    "time_intervals = None\n",
    "\n",
    "# Get list of NetCDF files\n",
    "all_files_list = vu.get_nc_files(base_dir)"
   ]
  },
  {
   "cell_type": "markdown",
   "id": "dd9917da-0954-4420-ab3d-d30759a53ce4",
   "metadata": {},
   "source": [
    "## Scenario: combine nc files on a single initilization time\n",
    "\n",
    "netCDF time coord encoding warning is not resolved, but it will not impact verification results"
   ]
  },
  {
   "cell_type": "code",
   "execution_count": 9,
   "id": "4608cd44-fd9c-4caf-adb0-1a31816847b0",
   "metadata": {},
   "outputs": [
    {
     "name": "stdout",
     "output_type": "stream",
     "text": [
      "Processing subdirectory: 2018-01-01T00Z\n",
      "Output name: /glade/campaign/cisl/aiml/ksha/CREDIT/gathered/2018-01-01T00Z.nc\n"
     ]
    },
    {
     "name": "stderr",
     "output_type": "stream",
     "text": [
      "/glade/u/home/ksha/credit-data/libs/verif_utils.py:160: UserWarning: Times can't be serialized faithfully to int64 with requested units 'days since 2018-01-01T01:00:00'. Serializing with units 'hours since 2018-01-01T01:00:00' instead. Set encoding['dtype'] to floating point dtype to serialize with units 'days since 2018-01-01T01:00:00'. Set encoding['units'] to 'hours since 2018-01-01T01:00:00' to silence this warning .\n",
      "  ds.to_netcdf(output_file)\n"
     ]
    }
   ],
   "source": [
    "process_files_concurrently(base_dir, [all_files_list[0]], output_dir, variables_levels, time_intervals)"
   ]
  },
  {
   "cell_type": "code",
   "execution_count": 10,
   "id": "79d57690-cff4-4ea4-b25a-8ddfc7ea0e7a",
   "metadata": {},
   "outputs": [],
   "source": [
    "# process_files_concurrently(base_dir, [all_files_list[1]], output_dir, variables_levels, time_intervals)"
   ]
  },
  {
   "cell_type": "code",
   "execution_count": 11,
   "id": "b47186ce-bffd-4d71-a110-89d111f1ecd8",
   "metadata": {},
   "outputs": [],
   "source": [
    "# process_files_concurrently(base_dir, [all_files_list[206]], output_dir, variables_levels, time_intervals)"
   ]
  },
  {
   "cell_type": "code",
   "execution_count": 12,
   "id": "3d2b7e7c-48b5-49b2-838a-eb164edcf039",
   "metadata": {},
   "outputs": [],
   "source": [
    "# process_files_concurrently(base_dir, [all_files_list[209]], output_dir, variables_levels, time_intervals)"
   ]
  },
  {
   "cell_type": "code",
   "execution_count": 13,
   "id": "56e9d9d4-fb32-402d-a1d1-4835b6afd9e6",
   "metadata": {},
   "outputs": [],
   "source": [
    "# process_files_concurrently(base_dir, [all_files_list[211]], output_dir, variables_levels, time_intervals)"
   ]
  },
  {
   "cell_type": "code",
   "execution_count": 14,
   "id": "ee492054-2c23-4f61-8af3-2afea2d1be71",
   "metadata": {},
   "outputs": [],
   "source": [
    "# process_files_concurrently(base_dir, [all_files_list[215]], output_dir, variables_levels, time_intervals)"
   ]
  },
  {
   "cell_type": "code",
   "execution_count": 15,
   "id": "5562fe57-78b0-4557-b41a-1f3c3f5db1f7",
   "metadata": {},
   "outputs": [],
   "source": [
    "# process_files_concurrently(base_dir, [all_files_list[360]], output_dir, variables_levels, time_intervals)"
   ]
  },
  {
   "cell_type": "code",
   "execution_count": 16,
   "id": "33d97c8b-4f81-4233-817e-3534a7c82312",
   "metadata": {},
   "outputs": [],
   "source": [
    "# process_files_concurrently(base_dir, [all_files_list[390]], output_dir, variables_levels, time_intervals)"
   ]
  },
  {
   "cell_type": "code",
   "execution_count": 17,
   "id": "9aa0426d-d9ab-45ca-bac3-af53751997a6",
   "metadata": {},
   "outputs": [],
   "source": [
    "# process_files_concurrently(base_dir, [all_files_list[400]], output_dir, variables_levels, time_intervals)"
   ]
  },
  {
   "cell_type": "markdown",
   "id": "135e13e2-b3ef-4dc3-859f-538b3654f4da",
   "metadata": {},
   "source": [
    "## Scenario: combine on a range of initializations"
   ]
  },
  {
   "cell_type": "code",
   "execution_count": 18,
   "id": "5ac2035b-f326-46d3-9952-dc539f66e484",
   "metadata": {},
   "outputs": [],
   "source": [
    "# ind_start = 0\n",
    "# ind_end = 3\n",
    "\n",
    "# process_files_concurrently(base_dir, all_files_list[ind_start:ind_end], output_dir, variables_levels, time_intervals)"
   ]
  },
  {
   "cell_type": "code",
   "execution_count": null,
   "id": "ac18c282-5b42-4ef6-8474-9d2f645f8a6b",
   "metadata": {},
   "outputs": [],
   "source": []
  }
 ],
 "metadata": {
  "kernelspec": {
   "display_name": "Python 3 (ipykernel)",
   "language": "python",
   "name": "python3"
  },
  "language_info": {
   "codemirror_mode": {
    "name": "ipython",
    "version": 3
   },
   "file_extension": ".py",
   "mimetype": "text/x-python",
   "name": "python",
   "nbconvert_exporter": "python",
   "pygments_lexer": "ipython3",
   "version": "3.10.13"
  }
 },
 "nbformat": 4,
 "nbformat_minor": 5
}
