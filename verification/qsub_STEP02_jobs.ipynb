{
 "cells": [
  {
   "cell_type": "code",
   "execution_count": null,
   "id": "2fd37293-c821-4bd1-9918-5a83a2f0bc88",
   "metadata": {},
   "outputs": [],
   "source": []
  },
  {
   "cell_type": "code",
   "execution_count": 1,
   "id": "5dbcd2b8-5b08-4256-bb8d-ebbc0643a9d7",
   "metadata": {},
   "outputs": [],
   "source": [
    "import numpy as np"
   ]
  },
  {
   "cell_type": "code",
   "execution_count": 5,
   "id": "dfba742e-29be-4543-9de7-476534e42999",
   "metadata": {},
   "outputs": [],
   "source": [
    "IND_max = 2189\n",
    "INDs = np.arange(0, IND_max+40, 40)\n",
    "INDs[-1] = IND_max"
   ]
  },
  {
   "cell_type": "code",
   "execution_count": 8,
   "id": "05cfeb82-6837-44ad-bb8f-c3d7fc6905e3",
   "metadata": {},
   "outputs": [],
   "source": [
    "for i, ind_start in enumerate(INDs[:-1]):\n",
    "    \n",
    "    ind_end = INDs[i+1]\n",
    "    \n",
    "    f = open('/glade/u/home/ksha/CREDIT/qsub/verif_RMSE_{:03d}.sh'.format(i), 'w') \n",
    "    \n",
    "    heads = '''#!/bin/bash -l\n",
    "\n",
    "#PBS -N verif_RMSE\n",
    "#PBS -A NAML0001\n",
    "#PBS -l walltime=23:59:59\n",
    "#PBS -l select=1:ncpus=4:mem=64GB\n",
    "#PBS -q casper\n",
    "#PBS -o verif_RMSE.log\n",
    "#PBS -e verif_RMSE.err\n",
    "\n",
    "conda activate credit\n",
    "cd /glade/u/home/ksha/CREDIT/scripts/\n",
    "python STEP02_RMSE_wxformer.py {} {}\n",
    "'''.format(ind_start, ind_end, ind_start, ind_end)\n",
    "    \n",
    "    print(heads, file=f)    \n",
    "    f.close()\n",
    "\n",
    "f = open('/glade/u/home/ksha/CREDIT/qsub/step02_rmse_all.sh', 'w')\n",
    "\n",
    "for i, ind_start in enumerate(INDs[:-1]):\n",
    "    print('qsub verif_RMSE_{:03d}.sh'.format(i), file=f)\n",
    "    \n",
    "f.close()"
   ]
  },
  {
   "cell_type": "code",
   "execution_count": null,
   "id": "05128342-28fd-439f-be5e-24683e77ecc0",
   "metadata": {},
   "outputs": [],
   "source": []
  },
  {
   "cell_type": "code",
   "execution_count": null,
   "id": "ca42fefd-ed1e-40eb-8d0d-836e64e781dc",
   "metadata": {},
   "outputs": [],
   "source": []
  },
  {
   "cell_type": "code",
   "execution_count": null,
   "id": "943197e0-f12c-418e-b351-f22c5d3b39e7",
   "metadata": {},
   "outputs": [],
   "source": []
  }
 ],
 "metadata": {
  "kernelspec": {
   "display_name": "Python 3 (ipykernel)",
   "language": "python",
   "name": "python3"
  },
  "language_info": {
   "codemirror_mode": {
    "name": "ipython",
    "version": 3
   },
   "file_extension": ".py",
   "mimetype": "text/x-python",
   "name": "python",
   "nbconvert_exporter": "python",
   "pygments_lexer": "ipython3",
   "version": "3.10.13"
  }
 },
 "nbformat": 4,
 "nbformat_minor": 5
}
