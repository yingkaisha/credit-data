{
 "cells": [
  {
   "cell_type": "markdown",
   "id": "3cec30bf-f012-4486-b13a-284f8a87163b",
   "metadata": {},
   "source": [
    "# Generate qsub scripts for STEP02 operations\n",
    "\n",
    "This notebook generates a set of PBS scripts and a bash script that submits all the PBS jobs. It works on the data analysis server of NSF NCAR: `casper.ucar.edu`."
   ]
  },
  {
   "cell_type": "code",
   "execution_count": 1,
   "id": "5dbcd2b8-5b08-4256-bb8d-ebbc0643a9d7",
   "metadata": {},
   "outputs": [],
   "source": [
    "import os\n",
    "import yaml\n",
    "import numpy as np"
   ]
  },
  {
   "cell_type": "code",
   "execution_count": 2,
   "id": "80643553-d821-4ae1-b183-cbeb02010060",
   "metadata": {},
   "outputs": [],
   "source": [
    "config_name = os.path.realpath('verif_config_6h.yml')\n",
    "\n",
    "with open(config_name, 'r') as stream:\n",
    "    conf = yaml.safe_load(stream)"
   ]
  },
  {
   "cell_type": "markdown",
   "id": "91d66d5e-4813-4102-8068-2344dd4cad32",
   "metadata": {},
   "source": [
    "## RMSE (6 hourly)"
   ]
  },
  {
   "cell_type": "code",
   "execution_count": 3,
   "id": "dfba742e-29be-4543-9de7-476534e42999",
   "metadata": {},
   "outputs": [],
   "source": [
    "IND_max = 732\n",
    "INDs = np.arange(0, IND_max+40, 40)\n",
    "INDs[-1] = IND_max"
   ]
  },
  {
   "cell_type": "code",
   "execution_count": 4,
   "id": "20526ae7-70c9-4b49-b7ad-8b1a82b68572",
   "metadata": {},
   "outputs": [
    {
     "data": {
      "text/plain": [
       "array([  0,  40,  80, 120, 160, 200, 240, 280, 320, 360, 400, 440, 480,\n",
       "       520, 560, 600, 640, 680, 720, 732])"
      ]
     },
     "execution_count": 4,
     "metadata": {},
     "output_type": "execute_result"
    }
   ],
   "source": [
    "INDs"
   ]
  },
  {
   "cell_type": "markdown",
   "id": "c26ed2be-99f8-46e9-b393-022c0e8940c5",
   "metadata": {},
   "source": [
    "### Wxformer"
   ]
  },
  {
   "cell_type": "code",
   "execution_count": 6,
   "id": "05cfeb82-6837-44ad-bb8f-c3d7fc6905e3",
   "metadata": {},
   "outputs": [],
   "source": [
    "for i, ind_start in enumerate(INDs[:-1]):\n",
    "    \n",
    "    ind_end = INDs[i+1]\n",
    "    \n",
    "    f = open('{}verif_RMSE_WX_{:03d}.sh'.format(conf['qsub']['qsub_loc'], i), 'w') \n",
    "    \n",
    "    heads = '''#!/bin/bash -l\n",
    "\n",
    "#PBS -N RMSE_WX\n",
    "#PBS -A NAML0001\n",
    "#PBS -l walltime=23:59:59\n",
    "#PBS -l select=1:ncpus=4:mem=64GB\n",
    "#PBS -q casper\n",
    "#PBS -o verif_RMSE_WX.log\n",
    "#PBS -e verif_RMSE_WX.err\n",
    "\n",
    "conda activate credit\n",
    "cd {}\n",
    "python STEP02_RMSE_wxformer_6h.py {} {}\n",
    "'''.format(conf['qsub']['scripts_loc'], ind_start, ind_end, ind_start, ind_end)\n",
    "    \n",
    "    print(heads, file=f)    \n",
    "    f.close()\n",
    "\n",
    "f = open('{}step02_RMSE_WX_all.sh'.format(conf['qsub']['qsub_loc']), 'w')\n",
    "\n",
    "for i, ind_start in enumerate(INDs[:-1]):\n",
    "    print('qsub verif_RMSE_WX_{:03d}.sh'.format(i), file=f)\n",
    "    \n",
    "f.close()"
   ]
  },
  {
   "cell_type": "markdown",
   "id": "cfc860ac-f0f8-420f-ab6f-401acda02fde",
   "metadata": {},
   "source": [
    "### FuXi"
   ]
  },
  {
   "cell_type": "code",
   "execution_count": 7,
   "id": "611ce450-3e6e-43e8-a61b-0c9a3446fb85",
   "metadata": {},
   "outputs": [],
   "source": [
    "for i, ind_start in enumerate(INDs[:-1]):\n",
    "    \n",
    "    ind_end = INDs[i+1]\n",
    "    \n",
    "    f = open('{}verif_RMSE_FuXi_{:03d}.sh'.format(conf['qsub']['qsub_loc'], i), 'w') \n",
    "    \n",
    "    heads = '''#!/bin/bash -l\n",
    "\n",
    "#PBS -N RMSE_FuXi\n",
    "#PBS -A NAML0001\n",
    "#PBS -l walltime=23:59:59\n",
    "#PBS -l select=1:ncpus=4:mem=64GB\n",
    "#PBS -q casper\n",
    "#PBS -o verif_RMSE_FuXi.log\n",
    "#PBS -e verif_RMSE_FuXi.err\n",
    "\n",
    "conda activate credit\n",
    "cd {}\n",
    "python STEP02_RMSE_fuxi_6h.py {} {}\n",
    "'''.format(conf['qsub']['scripts_loc'], ind_start, ind_end, ind_start, ind_end)\n",
    "    \n",
    "    print(heads, file=f)    \n",
    "    f.close()\n",
    "\n",
    "f = open('{}step02_RMSE_FuXi_all.sh'.format(conf['qsub']['qsub_loc']), 'w')\n",
    "\n",
    "for i, ind_start in enumerate(INDs[:-1]):\n",
    "    print('qsub verif_RMSE_FuXi_{:03d}.sh'.format(i), file=f)\n",
    "    \n",
    "f.close()"
   ]
  },
  {
   "cell_type": "markdown",
   "id": "211e634d-782c-4961-887b-7115995ae53d",
   "metadata": {},
   "source": [
    "### IFS"
   ]
  },
  {
   "cell_type": "code",
   "execution_count": 9,
   "id": "fac18900-402a-4d62-b676-54af2df1bf46",
   "metadata": {},
   "outputs": [],
   "source": [
    "for i, ind_start in enumerate(INDs[:-1]):\n",
    "    \n",
    "    ind_end = INDs[i+1]\n",
    "    \n",
    "    f = open('{}verif_RMSE_IFS_{:03d}.sh'.format(conf['qsub']['qsub_loc'], i), 'w') \n",
    "    \n",
    "    heads = '''#!/bin/bash -l\n",
    "\n",
    "#PBS -N RMSE_IFS\n",
    "#PBS -A NAML0001\n",
    "#PBS -l walltime=23:59:59\n",
    "#PBS -l select=1:ncpus=4:mem=64GB\n",
    "#PBS -q casper\n",
    "#PBS -o verif_RMSE_IFS.log\n",
    "#PBS -e verif_RMSE_IFS.err\n",
    "\n",
    "conda activate credit\n",
    "cd {}\n",
    "python STEP02_RMSE_IFS_6h.py {} {}\n",
    "'''.format(conf['qsub']['scripts_loc'], ind_start, ind_end, ind_start, ind_end)\n",
    "    \n",
    "    print(heads, file=f)    \n",
    "    f.close()\n",
    "\n",
    "f = open('{}step02_RMSE_IFS_all.sh'.format(conf['qsub']['qsub_loc']), 'w')\n",
    "\n",
    "for i, ind_start in enumerate(INDs[:-1]):\n",
    "    print('qsub verif_RMSE_IFS_{:03d}.sh'.format(i), file=f)\n",
    "    \n",
    "f.close()"
   ]
  },
  {
   "cell_type": "markdown",
   "id": "ccba9318-82b8-40b5-b4bb-35e7c8e5483c",
   "metadata": {},
   "source": [
    "## ACC"
   ]
  },
  {
   "cell_type": "code",
   "execution_count": 5,
   "id": "ca42fefd-ed1e-40eb-8d0d-836e64e781dc",
   "metadata": {},
   "outputs": [],
   "source": [
    "IND_max = 732\n",
    "INDs = np.arange(0, IND_max+40, 40)\n",
    "INDs[-1] = IND_max"
   ]
  },
  {
   "cell_type": "markdown",
   "id": "2b5872fa-ceec-4980-ae12-f7a19f2db5f6",
   "metadata": {},
   "source": [
    "### Wxformer"
   ]
  },
  {
   "cell_type": "code",
   "execution_count": 9,
   "id": "943197e0-f12c-418e-b351-f22c5d3b39e7",
   "metadata": {},
   "outputs": [],
   "source": [
    "for i, ind_start in enumerate(INDs[:-1]):\n",
    "    \n",
    "    ind_end = INDs[i+1]\n",
    "    \n",
    "    f = open('{}verif_ACC_WX_{:03d}.sh'.format(conf['qsub']['qsub_loc'], i), 'w') \n",
    "    \n",
    "    heads = '''#!/bin/bash -l\n",
    "\n",
    "#PBS -N ACC_WX\n",
    "#PBS -A NAML0001\n",
    "#PBS -l walltime=23:59:59\n",
    "#PBS -l select=1:ncpus=4:mem=64GB\n",
    "#PBS -q casper\n",
    "#PBS -o verif_ACC_WX.log\n",
    "#PBS -e verif_ACC_WX.err\n",
    "\n",
    "conda activate credit\n",
    "cd {}\n",
    "python STEP02_ACC_wxformer_6h.py {} {}\n",
    "'''.format(conf['qsub']['scripts_loc'], ind_start, ind_end, ind_start, ind_end)\n",
    "    \n",
    "    print(heads, file=f)    \n",
    "    f.close()\n",
    "\n",
    "f = open('{}step02_ACC_WX_all.sh'.format(conf['qsub']['qsub_loc']), 'w')\n",
    "\n",
    "for i, ind_start in enumerate(INDs[:-1]):\n",
    "    print('qsub verif_ACC_WX_{:03d}.sh'.format(i), file=f)\n",
    "    \n",
    "f.close()"
   ]
  },
  {
   "cell_type": "markdown",
   "id": "dfd76750-203e-43ae-a402-3805ae6ec67a",
   "metadata": {},
   "source": [
    "### FuXi "
   ]
  },
  {
   "cell_type": "code",
   "execution_count": 10,
   "id": "af4996c5-3d0d-4884-8b07-779ed27a4ba0",
   "metadata": {},
   "outputs": [],
   "source": [
    "for i, ind_start in enumerate(INDs[:-1]):\n",
    "    \n",
    "    ind_end = INDs[i+1]\n",
    "    \n",
    "    f = open('{}verif_ACC_FuXi_{:03d}.sh'.format(conf['qsub']['qsub_loc'], i), 'w') \n",
    "    \n",
    "    heads = '''#!/bin/bash -l\n",
    "\n",
    "#PBS -N ACC_FuXi\n",
    "#PBS -A NAML0001\n",
    "#PBS -l walltime=23:59:59\n",
    "#PBS -l select=1:ncpus=4:mem=64GB\n",
    "#PBS -q casper\n",
    "#PBS -o verif_ACC_FuXi.log\n",
    "#PBS -e verif_ACC_FuXi.err\n",
    "\n",
    "conda activate credit\n",
    "cd {}\n",
    "python STEP02_ACC_fuxi_6h.py {} {}\n",
    "'''.format(conf['qsub']['scripts_loc'], ind_start, ind_end, ind_start, ind_end)\n",
    "    \n",
    "    print(heads, file=f)    \n",
    "    f.close()\n",
    "\n",
    "f = open('{}step02_ACC_FuXi_all.sh'.format(conf['qsub']['qsub_loc']), 'w')\n",
    "\n",
    "for i, ind_start in enumerate(INDs[:-1]):\n",
    "    print('qsub verif_ACC_FuXi_{:03d}.sh'.format(i), file=f)\n",
    "    \n",
    "f.close()"
   ]
  },
  {
   "cell_type": "markdown",
   "id": "9c3fd95d-2de9-43f8-9475-69e4493cfe26",
   "metadata": {},
   "source": [
    "### IFS"
   ]
  },
  {
   "cell_type": "code",
   "execution_count": 11,
   "id": "030f9d7a-e2b7-4c5d-916e-701478a8d43b",
   "metadata": {},
   "outputs": [],
   "source": [
    "for i, ind_start in enumerate(INDs[:-1]):\n",
    "    \n",
    "    ind_end = INDs[i+1]\n",
    "    \n",
    "    f = open('{}verif_ACC_IFS_{:03d}.sh'.format(conf['qsub']['qsub_loc'], i), 'w') \n",
    "    \n",
    "    heads = '''#!/bin/bash -l\n",
    "\n",
    "#PBS -N ACC_IFS\n",
    "#PBS -A NAML0001\n",
    "#PBS -l walltime=23:59:59\n",
    "#PBS -l select=1:ncpus=4:mem=64GB\n",
    "#PBS -q casper\n",
    "#PBS -o verif_ACC_IFS.log\n",
    "#PBS -e verif_ACC_IFS.err\n",
    "\n",
    "conda activate credit\n",
    "cd {}\n",
    "python STEP02_ACC_IFS_6h.py {} {}\n",
    "'''.format(conf['qsub']['scripts_loc'], ind_start, ind_end, ind_start, ind_end)\n",
    "    \n",
    "    print(heads, file=f)    \n",
    "    f.close()\n",
    "\n",
    "f = open('{}step02_ACC_IFS_all.sh'.format(conf['qsub']['qsub_loc']), 'w')\n",
    "\n",
    "for i, ind_start in enumerate(INDs[:-1]):\n",
    "    print('qsub verif_ACC_IFS_{:03d}.sh'.format(i), file=f)\n",
    "    \n",
    "f.close()"
   ]
  },
  {
   "cell_type": "code",
   "execution_count": null,
   "id": "0414f5b6-18ed-43fe-a09e-6dcb9cbcfdec",
   "metadata": {},
   "outputs": [],
   "source": []
  }
 ],
 "metadata": {
  "kernelspec": {
   "display_name": "Python 3 (ipykernel)",
   "language": "python",
   "name": "python3"
  },
  "language_info": {
   "codemirror_mode": {
    "name": "ipython",
    "version": 3
   },
   "file_extension": ".py",
   "mimetype": "text/x-python",
   "name": "python",
   "nbconvert_exporter": "python",
   "pygments_lexer": "ipython3",
   "version": "3.11.9"
  }
 },
 "nbformat": 4,
 "nbformat_minor": 5
}
