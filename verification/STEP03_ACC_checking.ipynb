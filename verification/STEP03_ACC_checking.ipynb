{
 "cells": [
  {
   "cell_type": "code",
   "execution_count": null,
   "id": "0b341314-cfb7-489b-9901-3c072ca462d0",
   "metadata": {},
   "outputs": [],
   "source": []
  },
  {
   "cell_type": "code",
   "execution_count": null,
   "id": "92825f32-f2f0-4518-91cf-4b45873b57a8",
   "metadata": {},
   "outputs": [],
   "source": [
    "import os\n",
    "import sys\n",
    "import yaml\n",
    "import argparse\n",
    "from glob import glob\n",
    "from datetime import datetime, timedelta\n",
    "\n",
    "import numpy as np\n",
    "import xarray as xr"
   ]
  },
  {
   "cell_type": "code",
   "execution_count": null,
   "id": "f37779f5-f1f7-424e-8ef1-74cdbcdf0cbd",
   "metadata": {},
   "outputs": [],
   "source": [
    "sys.path.insert(0, os.path.realpath('../libs/'))\n",
    "import verif_utils as vu"
   ]
  },
  {
   "cell_type": "code",
   "execution_count": null,
   "id": "6104c698-762d-48b2-a92c-c8ed62865fd4",
   "metadata": {},
   "outputs": [],
   "source": [
    "config_name = os.path.realpath('verif_config.yml')\n",
    "\n",
    "with open(config_name, 'r') as stream:\n",
    "    conf = yaml.safe_load(stream)"
   ]
  },
  {
   "cell_type": "code",
   "execution_count": null,
   "id": "b44a3e66-25ac-431f-9655-1fe673eb6b8e",
   "metadata": {},
   "outputs": [],
   "source": [
    "model_names = ['wxformer', 'IFS']\n",
    "VERIF = {}\n",
    "\n",
    "# file name indices\n",
    "IND_max = 2192\n",
    "INDs = np.arange(0, IND_max+40, 40)\n",
    "INDs[-1] = IND_max"
   ]
  },
  {
   "cell_type": "code",
   "execution_count": null,
   "id": "c33f7713-65f9-44f1-9f8f-7141a5c962a5",
   "metadata": {},
   "outputs": [],
   "source": [
    "for model_name in model_names:\n",
    "    # file names to load\n",
    "    verif_lead_range = conf[model_name]['verif_lead_range']\n",
    "    path_ACC_verif = conf[model_name]['save_loc_verif']+'combined_acc_{:04d}_{:04d}_{:03d}h_{:03d}h_{}.nc'\n",
    "    path_RMSE_verif = conf[model_name]['save_loc_verif']+'combined_rmse_{:04d}_{:04d}_{:03d}h_{:03d}h_{}.nc'\n",
    "\n",
    "    # file names to save\n",
    "    path_ACC_save = conf[model_name]['save_loc_verif']+'ACC_{:03d}h_{:03d}h_{}.nc'\n",
    "    path_RMSE_save = conf[model_name]['save_loc_verif']+'RMSE_{:03d}h_{:03d}h_{}.nc'\n",
    "\n",
    "    # load xarray.Dataset and merge all verified days\n",
    "    ACC_verif = []\n",
    "    RMSE_verif = []\n",
    "\n",
    "    for i, ind_start in enumerate(INDs[:-1]):\n",
    "        ind_end = INDs[i+1]\n",
    "        filename = path_ACC_verif.format(ind_start, ind_end, verif_lead_range[0], verif_lead_range[-1], model_name)\n",
    "        ds_verf_temp = xr.open_dataset(filename)\n",
    "        ACC_verif.append(ds_verf_temp)\n",
    "    \n",
    "        filename = path_RMSE_verif.format(ind_start, ind_end, verif_lead_range[0], verif_lead_range[-1], model_name)\n",
    "        ds_verf_temp = xr.open_dataset(filename)\n",
    "        RMSE_verif.append(ds_verf_temp)\n",
    "\n",
    "    # merge by concat\n",
    "    ds_ACC_verif = xr.concat(ACC_verif, dim='days')\n",
    "    ds_RMSE_verif = xr.concat(RMSE_verif, dim='days')\n",
    "\n",
    "    # save to one dictionary for some checking\n",
    "    VERIF['{}_ACC'.format(model_name)] = ds_ACC_verif\n",
    "    VERIF['{}_RMSE'.format(model_name)] = ds_RMSE_verif\n",
    "\n",
    "    # save to nc\n",
    "    save_name_ACC = path_ACC_save.format(verif_lead_range[0], verif_lead_range[-1], model_name)\n",
    "    ds_ACC_verif.to_netcdf(save_name_ACC)\n",
    "    print('Save to {}'.format(save_name_ACC))\n",
    "    \n",
    "    save_name_RMSE = path_RMSE_save.format(verif_lead_range[0], verif_lead_range[-1], model_name)\n",
    "    ds_ACC_verif.to_netcdf(save_name_RMSE)\n",
    "    print('Save to {}'.format(save_name_RMSE))"
   ]
  },
  {
   "cell_type": "code",
   "execution_count": null,
   "id": "f4e5e402-b6e9-40c7-b628-0d0d0f67a12c",
   "metadata": {},
   "outputs": [],
   "source": []
  },
  {
   "cell_type": "code",
   "execution_count": null,
   "id": "48690929-6c1f-41b2-9ff0-7cb48d715190",
   "metadata": {},
   "outputs": [],
   "source": [
    "import matplotlib.pyplot as plt\n",
    "%matplotlib inline"
   ]
  },
  {
   "cell_type": "code",
   "execution_count": null,
   "id": "894bb934-7bf2-41fc-a1d3-de602d225a6b",
   "metadata": {},
   "outputs": [],
   "source": [
    "np.mean(np.array(VERIF['IFS_ACC']['t2m']), axis=0)"
   ]
  },
  {
   "cell_type": "code",
   "execution_count": null,
   "id": "a9749589-fe99-47fb-bc81-56817f938421",
   "metadata": {},
   "outputs": [],
   "source": [
    "VERIF['wxformer_ACC']"
   ]
  },
  {
   "cell_type": "code",
   "execution_count": null,
   "id": "7bc89871-1354-4258-aa18-879f9c2f8473",
   "metadata": {},
   "outputs": [],
   "source": [
    "test = np.mean(np.array(VERIF['wxformer_ACC']['t2m']), axis=1)"
   ]
  },
  {
   "cell_type": "code",
   "execution_count": null,
   "id": "9ed67b9b-9402-429a-8c70-c698df0a65dd",
   "metadata": {},
   "outputs": [],
   "source": [
    "np.argwhere(np.isnan(test))"
   ]
  },
  {
   "cell_type": "code",
   "execution_count": null,
   "id": "2b4b97cb-24c3-48ca-af8e-af4d6c6fcca5",
   "metadata": {},
   "outputs": [],
   "source": [
    "VERIF['wxformer_ACC'].isel(days=640)"
   ]
  },
  {
   "cell_type": "code",
   "execution_count": null,
   "id": "505f72a1-0168-4701-8649-63ed94b47e9b",
   "metadata": {},
   "outputs": [],
   "source": [
    "VERIF['wxformer_ACC'].hour[640]"
   ]
  },
  {
   "cell_type": "code",
   "execution_count": null,
   "id": "21bff9a5-e4bb-4e6e-95c8-5b2521e8bfa0",
   "metadata": {},
   "outputs": [],
   "source": [
    "plt.plot(np.mean(np.array(VERIF['IFS_ACC']['t2m']), axis=0))\n",
    "plt.plot(np.nanmean(np.array(VERIF['wxformer_ACC']['t2m']), axis=0))"
   ]
  },
  {
   "cell_type": "code",
   "execution_count": null,
   "id": "8bb69aae-4f8e-4000-ba04-0f77ce8dd50d",
   "metadata": {},
   "outputs": [],
   "source": [
    "np.array(VERIF['wxformer_ACC']['t2m'])"
   ]
  },
  {
   "cell_type": "code",
   "execution_count": null,
   "id": "c8b077d3-4fa8-4deb-a65f-8d43aae69cd0",
   "metadata": {},
   "outputs": [],
   "source": [
    "np.array(VERIF['IFS_ACC']['t2m'])"
   ]
  },
  {
   "cell_type": "code",
   "execution_count": null,
   "id": "56558399-f991-408e-9bbc-670ad6777f3f",
   "metadata": {},
   "outputs": [],
   "source": []
  }
 ],
 "metadata": {
  "kernelspec": {
   "display_name": "Python 3 (ipykernel)",
   "language": "python",
   "name": "python3"
  },
  "language_info": {
   "codemirror_mode": {
    "name": "ipython",
    "version": 3
   },
   "file_extension": ".py",
   "mimetype": "text/x-python",
   "name": "python",
   "nbconvert_exporter": "python",
   "pygments_lexer": "ipython3",
   "version": "3.10.13"
  }
 },
 "nbformat": 4,
 "nbformat_minor": 5
}
