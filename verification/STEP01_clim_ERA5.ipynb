{
 "cells": [
  {
   "cell_type": "markdown",
   "id": "32027bc7-bde4-49fd-ae10-887a9b1486c6",
   "metadata": {},
   "source": [
    "# Calculate ERA5 climatology using shifted windows"
   ]
  },
  {
   "cell_type": "code",
   "execution_count": null,
   "id": "fc267d17-d84b-4f35-b570-0653caa21f5e",
   "metadata": {},
   "outputs": [],
   "source": [
    "import os\n",
    "import sys\n",
    "import yaml\n",
    "from glob import glob\n",
    "from datetime import datetime\n",
    "\n",
    "import numpy as np\n",
    "import xarray as xr"
   ]
  },
  {
   "cell_type": "code",
   "execution_count": null,
   "id": "3fb326a9-b457-4296-b2c7-3aa6ff47f7a1",
   "metadata": {},
   "outputs": [],
   "source": [
    "sys.path.insert(0, os.path.realpath('../libs/'))\n",
    "import verif_utils as vu"
   ]
  },
  {
   "cell_type": "code",
   "execution_count": null,
   "id": "c649f434-7205-4882-b346-ba27ce300985",
   "metadata": {},
   "outputs": [],
   "source": [
    "config_name = os.path.realpath('verif_config.yml')\n",
    "\n",
    "with open(config_name, 'r') as stream:\n",
    "    conf = yaml.safe_load(stream)"
   ]
  },
  {
   "cell_type": "markdown",
   "id": "d0eb60f9-56fe-4e03-81bd-92041a535332",
   "metadata": {},
   "source": [
    "# Climatology calculation setup\n",
    "\n",
    "For a given (centered) ERA5 day-of-year:\n",
    "\n",
    "(1) We select its neighouring days with -15 and +15 days\n",
    "\n",
    "(2) The selected days are weighted with Gaussian values (closer to the center has higher weights)\n",
    "\n",
    "(3) The weighted sums are computed and averges to the climatology\n",
    "\n",
    "(4) climatology are computed from 2018-2020, same as forecasts"
   ]
  },
  {
   "cell_type": "code",
   "execution_count": null,
   "id": "00dab157-069b-4537-8b37-10480540ad8b",
   "metadata": {},
   "outputs": [],
   "source": [
    "# ---------------------------------------------------------------------------------------- #\n",
    "# ERA5 verif target\n",
    "filenames_ERA5 = sorted(glob(conf['ERA5']['save_loc']))\n",
    "\n",
    "# pick years for clim computation \n",
    "year_range = conf['ERA5']['year_range']\n",
    "years_pick = np.arange(year_range[0], year_range[1]+1, 1).astype(str)\n",
    "filenames_ERA5 = [fn for fn in filenames_ERA5 if any(year in fn for year in years_pick)]\n",
    "\n",
    "# merge yearly ERA5 as one\n",
    "ds_ERA5 = [vu.get_forward_data(fn) for fn in filenames_ERA5]\n",
    "ds_ERA5_merge = xr.concat(ds_ERA5, dim='time')\n",
    "    \n",
    "# Select the specified variables and their levels\n",
    "variables_levels = conf['ERA5']['verif_variables']\n",
    "\n",
    "# subset merged ERA5 and unify coord names\n",
    "ds_ERA5_merge = vu.ds_subset_everything(ds_ERA5_merge, variables_levels)\n",
    "ds_ERA5_merge = ds_ERA5_merge.rename({'latitude':'lat','longitude':'lon'})"
   ]
  },
  {
   "cell_type": "code",
   "execution_count": null,
   "id": "7ea14295-c848-4b7d-849f-0b5b74174203",
   "metadata": {},
   "outputs": [],
   "source": [
    "# window sizes\n",
    "days_before = 15\n",
    "days_after = 15\n",
    "width = 10.0\n",
    "\n",
    "# Compute ERA5 climatology on 12Z each day\n",
    "center_hours = np.array([0, 6, 12, 18]) # 6-hourly climatology only \n",
    "\n",
    "save_name_prefix = conf['ERA5']['save_loc_clim'] + 'ERA5_DOY{:05}_HOD{:02}.nc' # <-- clim file name"
   ]
  },
  {
   "cell_type": "markdown",
   "id": "913e6495-0747-4421-a8b0-eaa3d13b225f",
   "metadata": {},
   "source": [
    "## Scenario: run & skip existing files"
   ]
  },
  {
   "cell_type": "code",
   "execution_count": null,
   "id": "13ce75e0-0554-4fdb-9487-12ad0fd50442",
   "metadata": {},
   "outputs": [],
   "source": [
    "for center_hour in center_hours:\n",
    "    \n",
    "    for doy in range(1, 3):\n",
    "        save_name = save_name_prefix.format(doy, center_hour)\n",
    "    \n",
    "        if os.path.exists(save_name):\n",
    "            print('Skip {}'.format(save_name))\n",
    "        else:\n",
    "            print('Starting on day-of-year: {}; hour-of-day: {}'.format(doy, center_hour))\n",
    "            \n",
    "            doy_range = vu.get_doy_range(doy, days_before, days_after)\n",
    "            ds_ERA5_doy = vu.select_doy_range(ds_ERA5_merge, doy_range)\n",
    "            ds_ERA5_clim = vu.weighted_temporal_sum(ds_ERA5_doy, doy, center_hour, width, variables_levels.keys())\n",
    "            \n",
    "            ds_ERA5_clim.to_netcdf(save_name)\n",
    "            print('Save to {}'.format(save_name))"
   ]
  },
  {
   "cell_type": "code",
   "execution_count": null,
   "id": "05295251-ddf2-4770-8c37-008fb583e254",
   "metadata": {},
   "outputs": [],
   "source": []
  }
 ],
 "metadata": {
  "kernelspec": {
   "display_name": "Python 3 (ipykernel)",
   "language": "python",
   "name": "python3"
  },
  "language_info": {
   "codemirror_mode": {
    "name": "ipython",
    "version": 3
   },
   "file_extension": ".py",
   "mimetype": "text/x-python",
   "name": "python",
   "nbconvert_exporter": "python",
   "pygments_lexer": "ipython3",
   "version": "3.10.13"
  }
 },
 "nbformat": 4,
 "nbformat_minor": 5
}
