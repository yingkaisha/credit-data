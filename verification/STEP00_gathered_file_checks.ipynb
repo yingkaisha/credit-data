{
 "cells": [
  {
   "cell_type": "markdown",
   "id": "6e2ed0f0-b49e-495a-bb91-2e3e92be703c",
   "metadata": {},
   "source": [
    "# Checking all forecast files and make sure that they can be opened"
   ]
  },
  {
   "cell_type": "code",
   "execution_count": null,
   "id": "8067a0f9-2328-4f05-8575-e6556e3ea60d",
   "metadata": {},
   "outputs": [],
   "source": [
    "import os\n",
    "import sys\n",
    "import yaml\n",
    "from glob import glob\n",
    "from datetime import datetime\n",
    "\n",
    "import numpy as np\n",
    "import xarray as xr\n",
    "\n",
    "import warnings\n",
    "warnings.filterwarnings('ignore')"
   ]
  },
  {
   "cell_type": "code",
   "execution_count": null,
   "id": "7ce8ae0f-82f2-40a6-b21a-f763360ae809",
   "metadata": {},
   "outputs": [],
   "source": [
    "sys.path.insert(0, os.path.realpath('../libs/'))\n",
    "import verif_utils as vu"
   ]
  },
  {
   "cell_type": "code",
   "execution_count": null,
   "id": "811aae5d-fdf7-4a5b-976c-c2245b27999c",
   "metadata": {},
   "outputs": [],
   "source": [
    "config_name = os.path.realpath('verif_config.yml')\n",
    "\n",
    "with open(config_name, 'r') as stream:\n",
    "    conf = yaml.safe_load(stream)"
   ]
  },
  {
   "cell_type": "code",
   "execution_count": null,
   "id": "3f45bfda-43e3-413a-a1bd-aba822c28387",
   "metadata": {},
   "outputs": [],
   "source": [
    "model_name = 'wxformer'"
   ]
  },
  {
   "cell_type": "code",
   "execution_count": null,
   "id": "bbaa2f29-2f7f-494b-8e3a-7176a3890823",
   "metadata": {},
   "outputs": [],
   "source": [
    "# ---------------------------------------------------------------------------------------- #\n",
    "# forecast\n",
    "filename_OURS = sorted(glob(conf[model_name]['save_loc_gather']+'*.nc'))\n",
    "\n",
    "# pick years\n",
    "year_range = conf[model_name]['year_range']\n",
    "years_pick = np.arange(year_range[0], year_range[1]+1, 1).astype(str)\n",
    "filename_OURS = [fn for fn in filename_OURS if any(year in fn for year in years_pick)]"
   ]
  },
  {
   "cell_type": "code",
   "execution_count": null,
   "id": "b8aee5df-399b-42ea-8514-62b4b31046ac",
   "metadata": {},
   "outputs": [],
   "source": [
    "print('Total number of files: {}'.format(len(filename_OURS)))"
   ]
  },
  {
   "cell_type": "markdown",
   "id": "3664b8eb-e8e6-45c9-a2c0-0c96254dc5c9",
   "metadata": {},
   "source": [
    "## Check if correct files were gathered"
   ]
  },
  {
   "cell_type": "code",
   "execution_count": null,
   "id": "34b33b6d-7d04-4f93-b25a-56971e59757e",
   "metadata": {},
   "outputs": [],
   "source": [
    "file_gather = xr.open_dataset(filename_OURS[730])\n",
    "Z500_gather = np.array(file_gather['Z500'].isel(time=239))"
   ]
  },
  {
   "cell_type": "code",
   "execution_count": null,
   "id": "c5eacb58-9835-4d56-9ce1-cfb5e1d56c59",
   "metadata": {},
   "outputs": [],
   "source": [
    "file_raw = xr.open_dataset('/glade/derecho/scratch/schreck/credit/large/2019-01-01T00Z/pred_2019-01-01T00Z_240.nc')\n",
    "Z500_raw = np.array(file_raw['Z500'].isel(datetime=0))"
   ]
  },
  {
   "cell_type": "code",
   "execution_count": null,
   "id": "6f954258-1b8d-4295-9979-fbe83a57ebb7",
   "metadata": {},
   "outputs": [],
   "source": [
    "np.sum(Z500_raw  - Z500_gather)"
   ]
  },
  {
   "cell_type": "markdown",
   "id": "ec8a87b8-8af3-42c8-9143-8baaacd178cb",
   "metadata": {},
   "source": [
    "## Check NaNs and if gathered files can be opened"
   ]
  },
  {
   "cell_type": "code",
   "execution_count": null,
   "id": "c9427546-1fa8-4882-aa12-ab5163b0feb6",
   "metadata": {},
   "outputs": [],
   "source": [
    "# varname_requested = ['forecast_hour', 'V500', 'U500', 'T500', 'Q500', 'Z500', 'SP', 't2m']\n",
    "\n",
    "# for fn in filename_OURS:\n",
    "#     try:\n",
    "#         ds = xr.open_dataset(fn)\n",
    "#         varnames = list(ds.keys())\n",
    "#         if varnames != varname_requested:\n",
    "#             print('rm {}'.format(fn))\n",
    "#         else:\n",
    "#             for var in varnames:\n",
    "#                 if int(np.array(np.sum(ds['V500'].isnull()))) == 1:\n",
    "#                     print('rm {}'.format(fn))\n",
    "#                     break\n",
    "#     except:\n",
    "#         print('rm {}'.format(fn))\n",
    "\n",
    "# print('finished')"
   ]
  },
  {
   "cell_type": "code",
   "execution_count": null,
   "id": "1df063ae-1833-4199-8702-61bfff513f6b",
   "metadata": {},
   "outputs": [],
   "source": []
  }
 ],
 "metadata": {
  "kernelspec": {
   "display_name": "Python 3 (ipykernel)",
   "language": "python",
   "name": "python3"
  },
  "language_info": {
   "codemirror_mode": {
    "name": "ipython",
    "version": 3
   },
   "file_extension": ".py",
   "mimetype": "text/x-python",
   "name": "python",
   "nbconvert_exporter": "python",
   "pygments_lexer": "ipython3",
   "version": "3.10.13"
  }
 },
 "nbformat": 4,
 "nbformat_minor": 5
}
