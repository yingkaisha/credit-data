{
 "cells": [
  {
   "cell_type": "markdown",
   "id": "4a7a1317-2641-4bac-838c-a6b6083dea60",
   "metadata": {},
   "source": [
    "# Calculate ACC"
   ]
  },
  {
   "cell_type": "code",
   "execution_count": null,
   "id": "853ef392-9e1d-469e-8e66-e0c5cfafeb6e",
   "metadata": {},
   "outputs": [],
   "source": [
    "import os\n",
    "import sys\n",
    "import yaml\n",
    "import argparse\n",
    "from glob import glob\n",
    "from datetime import datetime, timedelta\n",
    "\n",
    "import numpy as np\n",
    "import xarray as xr"
   ]
  },
  {
   "cell_type": "code",
   "execution_count": null,
   "id": "d7e6fb73-6602-4e3f-8908-0b208c8e6fae",
   "metadata": {},
   "outputs": [],
   "source": [
    "sys.path.insert(0, os.path.realpath('../libs/'))\n",
    "import verif_utils as vu"
   ]
  },
  {
   "cell_type": "code",
   "execution_count": null,
   "id": "e25cdb21-6411-4997-8030-41d256bcca11",
   "metadata": {},
   "outputs": [],
   "source": [
    "config_name = os.path.realpath('verif_config.yml')\n",
    "\n",
    "with open(config_name, 'r') as stream:\n",
    "    conf = yaml.safe_load(stream)"
   ]
  },
  {
   "cell_type": "code",
   "execution_count": null,
   "id": "38229a5f-9533-4df5-b299-dc7441464502",
   "metadata": {},
   "outputs": [],
   "source": [
    "model_name = 'wxformer'\n",
    "\n",
    "verif_hour = conf[model_name]['verif_hour']\n",
    "longest_hour = conf[model_name]['longest_hour']\n",
    "leads_do = np.arange(verif_hour, longest_hour+verif_hour, verif_hour)\n",
    "leads_do = leads_do - 1 # -1 for Python indexing\n",
    "print('Verifying lead times: {}'.format(leads_do))"
   ]
  },
  {
   "cell_type": "code",
   "execution_count": null,
   "id": "2a6a0ec5-cb49-4119-be06-d47652b98934",
   "metadata": {},
   "outputs": [],
   "source": [
    "verif_ind_start = 0; verif_ind_end = 2189\n",
    "path_verif = conf[model_name]['save_loc_verif']+'combined_acc_{}_{}_6h.nc'.format(verif_ind_start, verif_ind_end)"
   ]
  },
  {
   "cell_type": "markdown",
   "id": "0a6faeeb-f6df-4813-a380-3271881da205",
   "metadata": {},
   "source": [
    "## Functions"
   ]
  },
  {
   "cell_type": "code",
   "execution_count": null,
   "id": "3527b032-75d6-4141-bd1d-6eea9534c3ae",
   "metadata": {},
   "outputs": [],
   "source": [
    "def sp_avg(DS, wlat):\n",
    "    return DS.weighted(wlat).mean(['lat', 'lon'], skipna=True)"
   ]
  },
  {
   "cell_type": "markdown",
   "id": "7bbb12c4-f60e-4398-adde-bfb7367c544d",
   "metadata": {},
   "source": [
    "## Verificaition setup\n",
    "\n",
    "The following inputs are needed:\n",
    "\n",
    "(1) range of indices\n",
    "\n",
    "(2) required lead times to verify\n",
    "\n",
    "(3) save location\n",
    "\n",
    "Note: lead time has to be 6 hourly or longer"
   ]
  },
  {
   "cell_type": "code",
   "execution_count": null,
   "id": "35f7d6c5-3a46-44a8-b555-0bdd564557f6",
   "metadata": {},
   "outputs": [],
   "source": [
    "# ERA5 and fcst climatology info\n",
    "ERA5_path_string = conf['ERA5']['save_loc_clim'] + 'ERA5_DOY{:05}_HOD{:02}.nc'\n",
    "OURS_clim_string = conf[model_name]['save_loc_clim'] + 'medium_boy_DOY{:03d}_LEAD{:03d}.nc'"
   ]
  },
  {
   "cell_type": "code",
   "execution_count": null,
   "id": "5d9d3246-64ea-497c-aeb2-9702b62fe591",
   "metadata": {},
   "outputs": [],
   "source": [
    "# ---------------------------------------------------------------------------------------- #\n",
    "# ERA5 verif target\n",
    "filename_ERA5 = sorted(glob(conf['ERA5']['save_loc']))\n",
    "\n",
    "# pick years\n",
    "year_range = conf['ERA5']['year_range']\n",
    "years_pick = np.arange(year_range[0], year_range[1]+1, 1).astype(str)\n",
    "filename_ERA5 = [fn for fn in filename_ERA5 if any(year in fn for year in years_pick)]\n",
    "\n",
    "# merge yearly ERA5 as one\n",
    "ds_ERA5 = [vu.get_forward_data(fn) for fn in filename_ERA5]\n",
    "ds_ERA5_merge = xr.concat(ds_ERA5, dim='time')\n",
    "    \n",
    "# Select the specified variables and their levels\n",
    "variables_levels = conf['ERA5']['verif_variables']\n",
    "\n",
    "# subset merged ERA5 and unify coord names\n",
    "ds_ERA5_merge = vu.ds_subset_everything(ds_ERA5_merge, variables_levels)\n",
    "ds_ERA5_merge = ds_ERA5_merge.rename({'latitude':'lat','longitude':'lon'})\n",
    "\n",
    "# ---------------------------------------------------------------------------------------- #\n",
    "# forecast\n",
    "filename_OURS = sorted(glob(conf[model_name]['save_loc_gather']+'*.nc'))\n",
    "filename_OURS_backup = sorted(glob('/glade/campaign/cisl/aiml/ksha/CREDIT/gathered/*.nc'))\n",
    "\n",
    "# manual input bad files in '/glade/campaign/cisl/aiml/gathered/'\n",
    "# provide replacements in '/glade/campaign/cisl/aiml/ksha/CREDIT/gathered/'\n",
    "# correct file info and rerun climo days/leads that touchs the bad files\n",
    "ind_bad = [206, 209, 211, 215, 360, 390, 400]\n",
    "filename_bad = []\n",
    "\n",
    "for i, i_bad in enumerate(ind_bad):\n",
    "    file_old = filename_OURS[i_bad]\n",
    "    file_new = filename_OURS_backup[i]\n",
    "\n",
    "    if os.path.basename(file_old) == os.path.basename(file_new):\n",
    "        filename_bad.append(file_new)\n",
    "        filename_OURS[i_bad] = filename_OURS_backup[i]\n",
    "    else:\n",
    "        print('Replacement of bad file {} not found'.format(file_old))\n",
    "        raise\n",
    "        \n",
    "# pick years\n",
    "year_range = conf[model_name]['year_range']\n",
    "years_pick = np.arange(year_range[0], year_range[1]+1, 1).astype(str)\n",
    "filename_OURS = [fn for fn in filename_OURS if any(year in fn for year in years_pick)]\n",
    "\n",
    "L_max = len(filename_OURS)\n",
    "assert verif_ind_end <= L_max, 'verified indices (days) exceeds the max index available'\n",
    "\n",
    "filename_OURS = filename_OURS[verif_ind_start:verif_ind_end]\n",
    "\n",
    "# latitude weighting\n",
    "lat = xr.open_dataset(filename_OURS[0])[\"lat\"]\n",
    "w_lat = np.cos(np.deg2rad(lat))\n",
    "w_lat = w_lat / w_lat.mean()"
   ]
  },
  {
   "cell_type": "code",
   "execution_count": null,
   "id": "295886d6-94bd-4f91-9b4f-eeb2126fcc8d",
   "metadata": {},
   "outputs": [],
   "source": [
    "acc_results = []\n",
    "\n",
    "for fn_ours in filename_OURS:\n",
    "    # --------------------------------------------------------------- #\n",
    "    # import and subset forecast\n",
    "    ds_ours = xr.open_dataset(fn_ours)\n",
    "    ds_ours = vu.ds_subset_everything(ds_ours, variables_levels)\n",
    "    ds_ours = ds_ours.isel(time=leads_do)\n",
    "    dayofyear_ours = ds_ours['time.dayofyear']\n",
    "    \n",
    "    # --------------------------------------------------------------- #\n",
    "    # get ERA5 verification target\n",
    "    ds_target = ds_ERA5_merge.sel(time=ds_ours['time']).compute()\n",
    "    \n",
    "    # --------------------------------------------------------------- #\n",
    "    # get ERA5 climatology\n",
    "    # pull day of year for anomaly computation\n",
    "    dayofyear_ERA5 = ds_target['time.dayofyear'].values\n",
    "    hourofday_ERA5 = ds_target['time'].dt.hour\n",
    "    \n",
    "    required_ERA5_clim = [\n",
    "        ERA5_path_string.format(day, hourofday_ERA5[i_day]) for i_day, day in enumerate(dayofyear_ERA5)]\n",
    "    \n",
    "    for fn_required in required_ERA5_clim:\n",
    "        if os.path.exists(fn_required) is False:\n",
    "            print('Missing: {}'.format(fn_required))\n",
    "            raise\n",
    "        \n",
    "    print('ERA5 climatology file requirments fulfilled')\n",
    "    \n",
    "    # open all ERA5 climatology files and merge as one\n",
    "    ds_ERA5_clim = [xr.open_dataset(fn) for fn in required_ERA5_clim]\n",
    "    ds_clim_merge = xr.concat(ds_ERA5_clim, dim='time')\n",
    "    \n",
    "    # unify coord names\n",
    "    #ds_clim_merge = ds_clim_merge.rename({'latitude':'lat','longitude':'lon'})\n",
    "    ds_clim_merge['time'] = ds_target['time']\n",
    "    \n",
    "    # ========================================== #\n",
    "    # ERA5 anomaly\n",
    "    ds_anomaly_ERA5 = ds_target - ds_clim_merge\n",
    "    # ========================================== #\n",
    "    \n",
    "    # --------------------------------------------------------------- #\n",
    "    # get forecast climatology\n",
    "    required_OURS_clim = [\n",
    "        OURS_clim_string.format(day, (leads_do[i_day])+1) for i_day, day in enumerate(dayofyear_ours)]\n",
    "    \n",
    "    for fn_required in required_OURS_clim:\n",
    "        if os.path.exists(fn_required) is False:\n",
    "            print('Missing: {}'.format(fn_required))\n",
    "            raise\n",
    "        \n",
    "    print('OURS climatology file requirments fulfilled')\n",
    "    \n",
    "    # open all fcst climatology files and merge as one\n",
    "    datasets_f = [xr.open_dataset(fn) for fn in required_OURS_clim]\n",
    "\n",
    "    # unify coord names\n",
    "    fcst_clim = xr.concat(datasets_f, dim='time')\n",
    "    fcst_clim = fcst_clim.drop_vars('level')\n",
    "    fcst_clim['time'] = ds_ours['time']\n",
    "\n",
    "    # ========================================== #\n",
    "    # fcst anomaly\n",
    "    ds_anomaly_OURS = ds_ours - fcst_clim\n",
    "    \n",
    "    # ========================================== #\n",
    "    # anmalies --> ACC with latitude-based cosine weights (check sp_avg and w_lat)\n",
    "    top = sp_avg(ds_anomaly_OURS*ds_anomaly_ERA5, w_lat)\n",
    "    \n",
    "    bottom = np.sqrt(\n",
    "        sp_avg(ds_anomaly_OURS**2, w_lat) * sp_avg(ds_anomaly_ERA5**2, w_lat))\n",
    "                \n",
    "    acc_results.append((top/bottom).drop_vars('time'))\n",
    "    \n",
    "    print('ACC completed: {}'.format(fn_ours))\n",
    "    \n",
    "# Combine ACC results\n",
    "ds_acc = xr.concat(acc_results, dim='days')\n",
    "\n",
    "# Save\n",
    "print('Save to {}'.format(path_verif))\n",
    "ds_acc.to_netcdf(path_verif)"
   ]
  },
  {
   "cell_type": "code",
   "execution_count": null,
   "id": "a91fd043-0c06-420c-8390-4fb86586f42d",
   "metadata": {},
   "outputs": [],
   "source": []
  },
  {
   "cell_type": "code",
   "execution_count": null,
   "id": "629693dc-cc6d-4476-bb15-9b7378186e35",
   "metadata": {},
   "outputs": [],
   "source": []
  }
 ],
 "metadata": {
  "kernelspec": {
   "display_name": "Python 3 (ipykernel)",
   "language": "python",
   "name": "python3"
  },
  "language_info": {
   "codemirror_mode": {
    "name": "ipython",
    "version": 3
   },
   "file_extension": ".py",
   "mimetype": "text/x-python",
   "name": "python",
   "nbconvert_exporter": "python",
   "pygments_lexer": "ipython3",
   "version": "3.10.13"
  }
 },
 "nbformat": 4,
 "nbformat_minor": 5
}
