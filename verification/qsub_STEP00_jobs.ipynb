{
 "cells": [
  {
   "cell_type": "markdown",
   "id": "c08f3d0e-0253-4361-bf2f-1256f14a5860",
   "metadata": {},
   "source": [
    "# Generate qsub scripts for STEP00 operations\n",
    "\n",
    "This notebook generates a set of PBS scripts and a bash script that submits all the PBS jobs. It works on the data analysis server of NSF NCAR: `casper.ucar.edu`."
   ]
  },
  {
   "cell_type": "code",
   "execution_count": null,
   "id": "5dbcd2b8-5b08-4256-bb8d-ebbc0643a9d7",
   "metadata": {},
   "outputs": [],
   "source": [
    "import os\n",
    "import yaml\n",
    "import numpy as np"
   ]
  },
  {
   "cell_type": "code",
   "execution_count": null,
   "id": "4c59104c-6148-4077-a334-6cd4e3a91aee",
   "metadata": {},
   "outputs": [],
   "source": [
    "config_name = os.path.realpath('verif_config.yml')\n",
    "\n",
    "with open(config_name, 'r') as stream:\n",
    "    conf = yaml.safe_load(stream)"
   ]
  },
  {
   "cell_type": "markdown",
   "id": "d81d8ac6-a494-4bb7-8b5d-f90fd858687c",
   "metadata": {},
   "source": [
    "## Gather IFS qsub script gen"
   ]
  },
  {
   "cell_type": "code",
   "execution_count": null,
   "id": "919fa539-3d21-4649-bb80-0da40968e4a7",
   "metadata": {},
   "outputs": [],
   "source": [
    "INDs = np.arange(1400, 3700+50, 50)"
   ]
  },
  {
   "cell_type": "code",
   "execution_count": null,
   "id": "8c895444-6de7-438f-a444-a94fca190941",
   "metadata": {},
   "outputs": [],
   "source": [
    "INDs"
   ]
  },
  {
   "cell_type": "code",
   "execution_count": null,
   "id": "05cfeb82-6837-44ad-bb8f-c3d7fc6905e3",
   "metadata": {},
   "outputs": [],
   "source": [
    "for i, ind_start in enumerate(INDs[:-1]):\n",
    "    \n",
    "    ind_end = INDs[i+1]\n",
    "    \n",
    "    f = open('{}gather_IFS_{:03d}.sh'.format(conf['qsub']['qsub_loc'], i), 'w') \n",
    "    \n",
    "    heads = '''#!/bin/bash -l\n",
    "\n",
    "#PBS -N IFS\n",
    "#PBS -A NAML0001\n",
    "#PBS -l walltime=23:59:59\n",
    "#PBS -l select=1:ncpus=4:mem=64GB\n",
    "#PBS -q casper\n",
    "#PBS -o gather_IFS.log\n",
    "#PBS -e gather_IFS.err\n",
    "\n",
    "conda activate credit\n",
    "cd {}\n",
    "python STEP00_gather_IFS.py {} {}\n",
    "'''.format(conf['qsub']['scripts_loc'], ind_start, ind_end, ind_start, ind_end)\n",
    "    \n",
    "    print(heads, file=f)    \n",
    "    f.close()\n",
    "\n",
    "f = open('{}step00_gather_IFS_all.sh'.format(conf['qsub']['qsub_loc']), 'w')\n",
    "\n",
    "for i, ind_start in enumerate(INDs[:-1]):\n",
    "    print('qsub gather_IFS_{:03d}.sh'.format(i), file=f)\n",
    "    \n",
    "f.close()"
   ]
  },
  {
   "cell_type": "code",
   "execution_count": null,
   "id": "943197e0-f12c-418e-b351-f22c5d3b39e7",
   "metadata": {},
   "outputs": [],
   "source": []
  }
 ],
 "metadata": {
  "kernelspec": {
   "display_name": "Python 3 (ipykernel)",
   "language": "python",
   "name": "python3"
  },
  "language_info": {
   "codemirror_mode": {
    "name": "ipython",
    "version": 3
   },
   "file_extension": ".py",
   "mimetype": "text/x-python",
   "name": "python",
   "nbconvert_exporter": "python",
   "pygments_lexer": "ipython3",
   "version": "3.10.13"
  }
 },
 "nbformat": 4,
 "nbformat_minor": 5
}
