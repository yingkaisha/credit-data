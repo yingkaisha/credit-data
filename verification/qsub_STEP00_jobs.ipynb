{
 "cells": [
  {
   "cell_type": "markdown",
   "id": "c08f3d0e-0253-4361-bf2f-1256f14a5860",
   "metadata": {},
   "source": [
    "# Generate qsub scripts for STEP00 operations\n",
    "\n",
    "This notebook generates a set of PBS scripts and a bash script that submits all the PBS jobs. It works on the data analysis server of NSF NCAR: `casper.ucar.edu`."
   ]
  },
  {
   "cell_type": "code",
   "execution_count": 1,
   "id": "5dbcd2b8-5b08-4256-bb8d-ebbc0643a9d7",
   "metadata": {},
   "outputs": [],
   "source": [
    "import os\n",
    "import yaml\n",
    "import numpy as np"
   ]
  },
  {
   "cell_type": "code",
   "execution_count": 2,
   "id": "4c59104c-6148-4077-a334-6cd4e3a91aee",
   "metadata": {},
   "outputs": [],
   "source": [
    "config_name = os.path.realpath('verif_config.yml')\n",
    "\n",
    "with open(config_name, 'r') as stream:\n",
    "    conf = yaml.safe_load(stream)"
   ]
  },
  {
   "cell_type": "markdown",
   "id": "cd61ec2b-dafa-4717-8d94-0d8d2b7b65bd",
   "metadata": {},
   "source": [
    "## Gather wxformer (Large)"
   ]
  },
  {
   "cell_type": "code",
   "execution_count": 3,
   "id": "b36d7850-8768-43f7-bcb3-460bb0cd2b93",
   "metadata": {},
   "outputs": [],
   "source": [
    "INDs = np.arange(1544, 2192+5, 5)\n",
    "INDs[-1] = 2192"
   ]
  },
  {
   "cell_type": "code",
   "execution_count": 5,
   "id": "91eaecdb-fbe1-49c6-973b-6b2a9f730eb6",
   "metadata": {},
   "outputs": [],
   "source": [
    "for i, ind_start in enumerate(INDs[:-1]):\n",
    "    \n",
    "    ind_end = INDs[i+1]\n",
    "    \n",
    "    f = open('{}gather_WX_{:03d}.sh'.format(conf['qsub']['qsub_loc'], i), 'w') \n",
    "    \n",
    "    heads = '''#!/bin/bash -l\n",
    "\n",
    "#PBS -N gather_WX\n",
    "#PBS -A NAML0001\n",
    "#PBS -l walltime=23:59:59\n",
    "#PBS -l select=1:ncpus=4:mem=64GB\n",
    "#PBS -q casper\n",
    "#PBS -o gather_WX.log\n",
    "#PBS -e gather_WX.err\n",
    "\n",
    "conda activate credit\n",
    "cd {}\n",
    "python STEP00_gather_wxformer.py {} {}\n",
    "'''.format(conf['qsub']['scripts_loc'], ind_start, ind_end, ind_start, ind_end)\n",
    "    \n",
    "    print(heads, file=f)    \n",
    "    f.close()\n",
    "\n",
    "f = open('{}step00_gather_WX_all.sh'.format(conf['qsub']['qsub_loc']), 'w')\n",
    "\n",
    "for i, ind_start in enumerate(INDs[:-1]):\n",
    "    print('qsub gather_WX_{:03d}.sh'.format(i), file=f)\n",
    "    \n",
    "f.close()"
   ]
  },
  {
   "cell_type": "markdown",
   "id": "d81d8ac6-a494-4bb7-8b5d-f90fd858687c",
   "metadata": {},
   "source": [
    "## Gather IFS"
   ]
  },
  {
   "cell_type": "code",
   "execution_count": 3,
   "id": "919fa539-3d21-4649-bb80-0da40968e4a7",
   "metadata": {},
   "outputs": [],
   "source": [
    "INDs = np.arange(1400, 3700+20, 20)"
   ]
  },
  {
   "cell_type": "code",
   "execution_count": 4,
   "id": "05cfeb82-6837-44ad-bb8f-c3d7fc6905e3",
   "metadata": {},
   "outputs": [],
   "source": [
    "for i, ind_start in enumerate(INDs[:-1]):\n",
    "    \n",
    "    ind_end = INDs[i+1]\n",
    "    \n",
    "    f = open('{}gather_IFS_{:03d}.sh'.format(conf['qsub']['qsub_loc'], i), 'w') \n",
    "    \n",
    "    heads = '''#!/bin/bash -l\n",
    "\n",
    "#PBS -N IFS\n",
    "#PBS -A NAML0001\n",
    "#PBS -l walltime=23:59:59\n",
    "#PBS -l select=1:ncpus=4:mem=64GB\n",
    "#PBS -q casper\n",
    "#PBS -o gather_IFS.log\n",
    "#PBS -e gather_IFS.err\n",
    "\n",
    "conda activate credit\n",
    "cd {}\n",
    "python STEP00_gather_IFS.py {} {}\n",
    "'''.format(conf['qsub']['scripts_loc'], ind_start, ind_end, ind_start, ind_end)\n",
    "    \n",
    "    print(heads, file=f)    \n",
    "    f.close()\n",
    "\n",
    "f = open('{}step00_gather_IFS_all.sh'.format(conf['qsub']['qsub_loc']), 'w')\n",
    "\n",
    "for i, ind_start in enumerate(INDs[:-1]):\n",
    "    print('qsub gather_IFS_{:03d}.sh'.format(i), file=f)\n",
    "    \n",
    "f.close()"
   ]
  },
  {
   "cell_type": "markdown",
   "id": "53a1f647-606d-412d-9ea3-d0a2cfa22883",
   "metadata": {},
   "source": [
    "## Gather ERA5 (x)"
   ]
  },
  {
   "cell_type": "code",
   "execution_count": 5,
   "id": "44106200-f3b1-41de-bf11-eca088fc48ae",
   "metadata": {},
   "outputs": [],
   "source": [
    "INDs = np.arange(86200, 93544+100, 100)"
   ]
  },
  {
   "cell_type": "code",
   "execution_count": 7,
   "id": "19349b00-368f-4a30-9ff5-91927d7de217",
   "metadata": {},
   "outputs": [],
   "source": [
    "for i, ind_start in enumerate(INDs[:-1]):\n",
    "    \n",
    "    ind_end = INDs[i+1]\n",
    "    \n",
    "    f = open('{}gather_ERA5_{:03d}.sh'.format(conf['qsub']['qsub_loc'], i), 'w') \n",
    "    \n",
    "    heads = '''#!/bin/bash -l\n",
    "\n",
    "#PBS -N ERA5\n",
    "#PBS -A NAML0001\n",
    "#PBS -l walltime=23:59:59\n",
    "#PBS -l select=1:ncpus=4:mem=64GB\n",
    "#PBS -q casper\n",
    "#PBS -o gather_ERA5.log\n",
    "#PBS -e gather_ERA5.err\n",
    "\n",
    "conda activate credit\n",
    "cd {}\n",
    "python STEP00_gather_ERA5.py {} {}\n",
    "'''.format(conf['qsub']['scripts_loc'], ind_start, ind_end, ind_start, ind_end)\n",
    "    \n",
    "    print(heads, file=f)    \n",
    "    f.close()\n",
    "\n",
    "f = open('{}step00_gather_ERA5_all.sh'.format(conf['qsub']['qsub_loc']), 'w')\n",
    "\n",
    "for i, ind_start in enumerate(INDs[:-1]):\n",
    "    print('qsub gather_ERA5_{:03d}.sh'.format(i), file=f)\n",
    "    \n",
    "f.close()"
   ]
  },
  {
   "cell_type": "code",
   "execution_count": null,
   "id": "4e1c3130-235c-414d-8d8b-99f9c6bd3f02",
   "metadata": {},
   "outputs": [],
   "source": []
  }
 ],
 "metadata": {
  "kernelspec": {
   "display_name": "Python 3 (ipykernel)",
   "language": "python",
   "name": "python3"
  },
  "language_info": {
   "codemirror_mode": {
    "name": "ipython",
    "version": 3
   },
   "file_extension": ".py",
   "mimetype": "text/x-python",
   "name": "python",
   "nbconvert_exporter": "python",
   "pygments_lexer": "ipython3",
   "version": "3.11.9"
  }
 },
 "nbformat": 4,
 "nbformat_minor": 5
}
