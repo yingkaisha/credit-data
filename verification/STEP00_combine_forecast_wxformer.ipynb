{
 "cells": [
  {
   "cell_type": "markdown",
   "id": "c299464f-36e8-4536-aa51-b421eb7b5fe5",
   "metadata": {},
   "source": [
    "# Combining forecast files on lead time dimension "
   ]
  },
  {
   "cell_type": "code",
   "execution_count": null,
   "id": "399abbd9-da47-4728-82a4-2c52c89273f4",
   "metadata": {},
   "outputs": [],
   "source": [
    "import os\n",
    "import sys\n",
    "import yaml\n",
    "from glob import glob\n",
    "from datetime import datetime\n",
    "\n",
    "import numpy as np\n",
    "import xarray as xr\n",
    "\n",
    "from concurrent.futures import ThreadPoolExecutor\n",
    "\n",
    "import warnings\n",
    "warnings.filterwarnings('ignore')"
   ]
  },
  {
   "cell_type": "code",
   "execution_count": null,
   "id": "7634dd59-cec9-4609-826a-a7f3b8463a8b",
   "metadata": {},
   "outputs": [],
   "source": [
    "sys.path.insert(0, os.path.realpath('../libs/'))\n",
    "import verif_utils as vu"
   ]
  },
  {
   "cell_type": "code",
   "execution_count": null,
   "id": "43fbba18-3576-4618-bd22-2528364427f9",
   "metadata": {},
   "outputs": [],
   "source": [
    "config_name = os.path.realpath('verif_config.yml')\n",
    "\n",
    "with open(config_name, 'r') as stream:\n",
    "    conf = yaml.safe_load(stream)"
   ]
  },
  {
   "cell_type": "code",
   "execution_count": null,
   "id": "b0307a7a-15eb-49e7-9962-d347fef0a3fd",
   "metadata": {},
   "outputs": [],
   "source": [
    "model_name = 'wxformer'"
   ]
  },
  {
   "cell_type": "code",
   "execution_count": null,
   "id": "a79b4e9a-03f2-4054-9829-9f98877bb49e",
   "metadata": {},
   "outputs": [],
   "source": [
    "def process_files_concurrently(base_dir, all_files_list, output_dir, variables_levels, time_intervals=None, max_workers=10):\n",
    "    \"\"\"\n",
    "    Process files concurrently using ThreadPoolExecutor.\n",
    "    \"\"\"\n",
    "    # create dir if it does not exist\n",
    "    vu.create_dir(output_dir)\n",
    "    \n",
    "    with ThreadPoolExecutor(max_workers=max_workers) as executor:\n",
    "        futures = [executor.submit(vu.process_file_group, file_list, output_dir, \n",
    "                                   variables_levels, time_intervals) for file_list in all_files_list]\n",
    "        for future in futures:\n",
    "            future.result()  # Wait for all futures to complete"
   ]
  },
  {
   "cell_type": "markdown",
   "id": "97b17bd9-79b4-4112-b97d-1d545825ab05",
   "metadata": {},
   "source": [
    "## Selected variables and levels"
   ]
  },
  {
   "cell_type": "code",
   "execution_count": null,
   "id": "f2948dec-6ecc-4d78-944f-5ce87adf334d",
   "metadata": {},
   "outputs": [],
   "source": [
    "variables_levels = conf[model_name]['verif_variables']"
   ]
  },
  {
   "cell_type": "code",
   "execution_count": null,
   "id": "bcfd137f-b0a1-4043-945e-b91602b1fb9c",
   "metadata": {},
   "outputs": [],
   "source": [
    "base_dir = conf[model_name]['save_loc_rollout']\n",
    "output_dir = conf[model_name]['save_loc_gather']\n",
    "time_intervals = None\n",
    "\n",
    "# Get list of NetCDF files\n",
    "all_files_list = vu.get_nc_files(base_dir)"
   ]
  },
  {
   "cell_type": "code",
   "execution_count": null,
   "id": "4e2e28d4-f67c-4563-96ed-757ff4598b78",
   "metadata": {},
   "outputs": [],
   "source": [
    "len(all_files_list) # <-- all files; it goes beyond 2020, may need a year filter"
   ]
  },
  {
   "cell_type": "markdown",
   "id": "dd9917da-0954-4420-ab3d-d30759a53ce4",
   "metadata": {},
   "source": [
    "## Scenario: combine nc files on a single initilization time\n",
    "\n",
    "netCDF time coord encoding warning is not resolved, but it will not impact verification results"
   ]
  },
  {
   "cell_type": "code",
   "execution_count": null,
   "id": "4608cd44-fd9c-4caf-adb0-1a31816847b0",
   "metadata": {},
   "outputs": [],
   "source": [
    "# process_files_concurrently(base_dir, [all_files_list[201]], output_dir, variables_levels, time_intervals)"
   ]
  },
  {
   "cell_type": "markdown",
   "id": "135e13e2-b3ef-4dc3-859f-538b3654f4da",
   "metadata": {},
   "source": [
    "## Scenario: combine on a range of initializations"
   ]
  },
  {
   "cell_type": "code",
   "execution_count": null,
   "id": "5ac2035b-f326-46d3-9952-dc539f66e484",
   "metadata": {},
   "outputs": [],
   "source": [
    "# ind_start = 0\n",
    "# ind_end = 2192\n",
    "\n",
    "# for i in range(ind_start, ind_end):\n",
    "#     i_correct = i + ind_start\n",
    "#     process_files_concurrently(base_dir, [all_files_list[i_correct]], output_dir, variables_levels, time_intervals)"
   ]
  },
  {
   "cell_type": "code",
   "execution_count": null,
   "id": "5fdc930c-2e97-4f48-a372-e269cee57144",
   "metadata": {},
   "outputs": [],
   "source": []
  }
 ],
 "metadata": {
  "kernelspec": {
   "display_name": "Python 3 (ipykernel)",
   "language": "python",
   "name": "python3"
  },
  "language_info": {
   "codemirror_mode": {
    "name": "ipython",
    "version": 3
   },
   "file_extension": ".py",
   "mimetype": "text/x-python",
   "name": "python",
   "nbconvert_exporter": "python",
   "pygments_lexer": "ipython3",
   "version": "3.10.13"
  }
 },
 "nbformat": 4,
 "nbformat_minor": 5
}
