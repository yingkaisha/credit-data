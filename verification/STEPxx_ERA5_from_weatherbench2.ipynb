{
 "cells": [
  {
   "cell_type": "markdown",
   "id": "52b84618-c865-4dbb-b1d4-242202f92250",
   "metadata": {},
   "source": [
    "# Gather ERA5 from WeatherBench 2"
   ]
  },
  {
   "cell_type": "code",
   "execution_count": null,
   "id": "c3b4e425-f305-45bb-bc03-851b7caa2fc7",
   "metadata": {},
   "outputs": [],
   "source": [
    "import os\n",
    "import sys\n",
    "import yaml\n",
    "from glob import glob\n",
    "from datetime import datetime, timedelta\n",
    "\n",
    "import numpy as np\n",
    "import xarray as xr\n",
    "import pandas as pd"
   ]
  },
  {
   "cell_type": "code",
   "execution_count": null,
   "id": "e0e4c2e3-7ae8-42a3-b362-6da791174e17",
   "metadata": {},
   "outputs": [],
   "source": [
    "# ------------------------------------------------- #\n",
    "# interpolation utils\n",
    "# from scipy.interpolate import griddata\n",
    "import scipy.interpolate as spint\n",
    "from scipy.spatial import Delaunay\n",
    "import itertools\n",
    "\n",
    "def interp_weights(xy, uv, d=2):\n",
    "    tri = Delaunay(xy)\n",
    "    simplex = tri.find_simplex(uv)\n",
    "    vertices = np.take(tri.simplices, simplex, axis=0)\n",
    "    temp = np.take(tri.transform, simplex, axis=0)\n",
    "    delta = uv - temp[:, d]\n",
    "    bary = np.einsum('njk,nk->nj', temp[:, :d, :], delta)\n",
    "    return vertices, np.hstack((bary, 1 - bary.sum(axis=1, keepdims=True)))\n",
    "\n",
    "def interpolate(values, vtx, wts):\n",
    "    return np.einsum('nj,nj->n', np.take(values, vtx), wts)"
   ]
  },
  {
   "cell_type": "code",
   "execution_count": null,
   "id": "d1fca720-1059-440c-96c2-22bee6067c87",
   "metadata": {},
   "outputs": [],
   "source": [
    "sys.path.insert(0, os.path.realpath('../libs/'))\n",
    "import verif_utils as vu\n",
    "\n",
    "config_name = os.path.realpath('verif_config.yml')\n",
    "\n",
    "with open(config_name, 'r') as stream:\n",
    "    conf = yaml.safe_load(stream)"
   ]
  },
  {
   "cell_type": "code",
   "execution_count": null,
   "id": "a824b89e-789b-41b4-991c-8fc50d236d76",
   "metadata": {},
   "outputs": [],
   "source": [
    "model_name = 'ERA5_weatherbench'\n",
    "filename_prefix = 'ERA5_%Y-%m-%dT%HZ.nc'\n",
    "save_loc = conf[model_name]['save_loc'] + filename_prefix"
   ]
  },
  {
   "cell_type": "code",
   "execution_count": null,
   "id": "8ebbe9b9-8ef3-4508-b011-b72b26f61cca",
   "metadata": {},
   "outputs": [],
   "source": [
    "verif_ind_start = 90000; verif_ind_end = 90003"
   ]
  },
  {
   "cell_type": "code",
   "execution_count": null,
   "id": "f7fa84f2-28c5-41e8-b1b5-9354de10aa50",
   "metadata": {},
   "outputs": [],
   "source": [
    "# interpolation weights were computed for 90N -> 90S\n",
    "# IFS is 90S -> 90N, should be flipped\n",
    "flip_lat = False"
   ]
  },
  {
   "cell_type": "code",
   "execution_count": null,
   "id": "ade63b3f-2679-452b-931c-7862532862a3",
   "metadata": {},
   "outputs": [],
   "source": [
    "# import the original ERA5 from WeatherBench GS\n",
    "ds_ERA5 = xr.open_zarr(\n",
    "    'gs://weatherbench2/datasets/era5/1959-2023_01_10-wb13-6h-1440x721_with_derived_variables.zarr')\n",
    "\n",
    "# --------------------------------------------------------- #\n",
    "# subset and organize their xr.Dataset\n",
    "\n",
    "variables_levels = conf[model_name]['verif_variables']\n",
    "ds_ERA5 = vu.ds_subset_everything(ds_ERA5, variables_levels)\n",
    "\n",
    "# unify variable and coord names\n",
    "ds_ERA5 = ds_ERA5.rename({'latitude':'lat','longitude':'lon'})\n",
    "ds_ERA5 = ds_ERA5.rename(conf[model_name]['rename_variables'])\n",
    "ds_ERA5 = ds_ERA5.squeeze('level')"
   ]
  },
  {
   "cell_type": "code",
   "execution_count": null,
   "id": "57cfc997-c5d3-4914-838c-8282930c6aac",
   "metadata": {},
   "outputs": [],
   "source": [
    "# --------------------------------------------------------- #\n",
    "# preparing for the regriding and separated *.nc save \n",
    "\n",
    "# ERA5 lat/lons\n",
    "x_ERA5 = np.array(ds_ERA5['lon'])\n",
    "y_ERA5 = np.array(ds_ERA5['lat'])\n",
    "\n",
    "if flip_lat:\n",
    "    y_ERA5 = np.flipud(y_ERA5)\n",
    "    \n",
    "lon_ERA5, lat_ERA5 = np.meshgrid(x_ERA5, y_ERA5)\n",
    "\n",
    "# OUR lat/lons\n",
    "OURS_dataset = xr.open_dataset(conf['geo']['geo_file_nc'])\n",
    "x_OURS = np.array(OURS_dataset['longitude'])\n",
    "y_OURS = np.array(OURS_dataset['latitude'])\n",
    "lon_OURS, lat_OURS = np.meshgrid(x_OURS, y_OURS)\n",
    "shape_OURS = lon_OURS.shape\n",
    "\n",
    "# pick the years we need\n",
    "year_range = conf[model_name]['year_range']\n",
    "years_pick = np.arange(year_range[0], year_range[1]+1, 1)\n",
    "\n",
    "# get initialization time\n",
    "init_time = pd.to_datetime(ds_ERA5['time'])\n",
    "# get variables\n",
    "list_var_names = list(ds_ERA5.keys())\n",
    "\n",
    "# interp weights\n",
    "temp_data = np.load(conf['geo']['regrid_weights_numpy'], allow_pickle=True)[()]\n",
    "vtx = temp_data['vtx']\n",
    "wts = temp_data['wts']"
   ]
  },
  {
   "cell_type": "code",
   "execution_count": null,
   "id": "14f44960-cb17-4a65-8367-467df10e0f5c",
   "metadata": {},
   "outputs": [],
   "source": [
    "for i_dt, dt_index in enumerate(init_time[verif_ind_start:verif_ind_end]):\n",
    "    \n",
    "    i_dt = i_dt + verif_ind_start\n",
    "    # init year is within selection \n",
    "    if dt_index.year in years_pick:\n",
    "\n",
    "        # get file name\n",
    "        save_name = datetime.strftime(dt_index, save_loc)\n",
    "\n",
    "        # save and skip exists\n",
    "        #if os.path.exists(save_name) is False:\n",
    "            \n",
    "        print('Processing {}'.format(os.path.basename(save_name)))\n",
    "        \n",
    "        # allocate regrided dataset\n",
    "        ds_ERA5_regrid = xr.Dataset()\n",
    "        ds_ERA5_regrid = ds_ERA5_regrid.assign_coords({'lon': x_OURS, 'lat': y_OURS})\n",
    "        \n",
    "        # subset on initialization time\n",
    "        ds_ERA5_slice = ds_ERA5.isel(time=slice(i_dt, i_dt+1))\n",
    "\n",
    "        # -------------------------------------------------------------------------- #\n",
    "        # interpolation section\n",
    "\n",
    "        # assign time coord info to the allocated xr.Dataset\n",
    "        ds_ERA5_regrid['time'] = ds_ERA5_slice['time']\n",
    "        \n",
    "        # loop through variables\n",
    "        for var_name in list_var_names:\n",
    "            \n",
    "            print('Interpolate {}'.format(var_name))\n",
    "            \n",
    "            # select the variable on the current time\n",
    "            ERA5_var = ds_ERA5_slice[var_name].isel(time=0)\n",
    "\n",
    "            # ========================================================================== #\n",
    "            if flip_lat:\n",
    "                ERA5_var = np.flipud(ERA5_var)\n",
    "            # scipy.interpolate.griddata(method='linear') with manually inputted weights #\n",
    "            ERA5_var_regrid = interpolate(ERA5_var, vtx, wts)\n",
    "            ERA5_var_regrid = np.reshape(ERA5_var_regrid, shape_OURS)\n",
    "            # ========================================================================== #\n",
    "            \n",
    "            # np.array --> xr.DataArray\n",
    "            ERA5_var_regrid_da = xr.DataArray(\n",
    "                ERA5_var_regrid[None, ...], \n",
    "                coords={\n",
    "                    'time': ds_ERA5_slice['time'],\n",
    "                    'lat': y_OURS, \n",
    "                    'lon': x_OURS,},\n",
    "                dims=['time', 'lat', 'lon'])\n",
    "\n",
    "            # add xr.DataArray to the allocated xr.Dataset\n",
    "            ds_ERA5_regrid[var_name] = ERA5_var_regrid_da\n",
    "\n",
    "        ds_ERA5_regrid = ds_ERA5_regrid.drop_vars('level')\n",
    "        \n",
    "        # Save to netCDF4\n",
    "        #ds_ERA5_regrid.to_netcdf(save_name)\n",
    "        print('Save to {}'.format(save_name))\n",
    "    "
   ]
  },
  {
   "cell_type": "code",
   "execution_count": null,
   "id": "41efa1d3-7e97-47a6-a90b-dea082886dba",
   "metadata": {},
   "outputs": [],
   "source": []
  },
  {
   "cell_type": "code",
   "execution_count": null,
   "id": "a3319452-fae9-4573-84f7-4679060a1c14",
   "metadata": {},
   "outputs": [],
   "source": []
  }
 ],
 "metadata": {
  "kernelspec": {
   "display_name": "Python 3 (ipykernel)",
   "language": "python",
   "name": "python3"
  },
  "language_info": {
   "codemirror_mode": {
    "name": "ipython",
    "version": 3
   },
   "file_extension": ".py",
   "mimetype": "text/x-python",
   "name": "python",
   "nbconvert_exporter": "python",
   "pygments_lexer": "ipython3",
   "version": "3.10.13"
  }
 },
 "nbformat": 4,
 "nbformat_minor": 5
}
