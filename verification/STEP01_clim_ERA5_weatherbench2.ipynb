{
 "cells": [
  {
   "cell_type": "markdown",
   "id": "32027bc7-bde4-49fd-ae10-887a9b1486c6",
   "metadata": {},
   "source": [
    "# Calculate ERA5 climatology using shifted windows"
   ]
  },
  {
   "cell_type": "code",
   "execution_count": null,
   "id": "fc267d17-d84b-4f35-b570-0653caa21f5e",
   "metadata": {},
   "outputs": [],
   "source": [
    "import os\n",
    "import sys\n",
    "import yaml\n",
    "from glob import glob\n",
    "from datetime import datetime\n",
    "\n",
    "import numpy as np\n",
    "import xarray as xr"
   ]
  },
  {
   "cell_type": "code",
   "execution_count": null,
   "id": "71ae5e64-edff-4f4b-81a8-010d479a8f7f",
   "metadata": {},
   "outputs": [],
   "source": [
    "# ------------------------------------------------- #\n",
    "# interpolation utils\n",
    "# from scipy.interpolate import griddata\n",
    "import scipy.interpolate as spint\n",
    "from scipy.spatial import Delaunay\n",
    "import itertools\n",
    "\n",
    "def interp_weights(xy, uv, d=2):\n",
    "    tri = Delaunay(xy)\n",
    "    simplex = tri.find_simplex(uv)\n",
    "    vertices = np.take(tri.simplices, simplex, axis=0)\n",
    "    temp = np.take(tri.transform, simplex, axis=0)\n",
    "    delta = uv - temp[:, d]\n",
    "    bary = np.einsum('njk,nk->nj', temp[:, :d, :], delta)\n",
    "    return vertices, np.hstack((bary, 1 - bary.sum(axis=1, keepdims=True)))\n",
    "\n",
    "def interpolate(values, vtx, wts):\n",
    "    return np.einsum('nj,nj->n', np.take(values, vtx), wts)"
   ]
  },
  {
   "cell_type": "code",
   "execution_count": null,
   "id": "3fb326a9-b457-4296-b2c7-3aa6ff47f7a1",
   "metadata": {},
   "outputs": [],
   "source": [
    "sys.path.insert(0, os.path.realpath('../libs/'))\n",
    "import verif_utils as vu"
   ]
  },
  {
   "cell_type": "code",
   "execution_count": null,
   "id": "c649f434-7205-4882-b346-ba27ce300985",
   "metadata": {},
   "outputs": [],
   "source": [
    "config_name = os.path.realpath('verif_config.yml')\n",
    "\n",
    "with open(config_name, 'r') as stream:\n",
    "    conf = yaml.safe_load(stream)"
   ]
  },
  {
   "cell_type": "markdown",
   "id": "28d74522-b0e4-4526-9785-7e09ee50f6dd",
   "metadata": {},
   "source": [
    "## Import climatology from WeatherBench 2"
   ]
  },
  {
   "cell_type": "code",
   "execution_count": null,
   "id": "9c5477d3-1ef9-4e64-b2a5-aa4e5f1bf114",
   "metadata": {},
   "outputs": [],
   "source": [
    "# import ERA5 climatology from WeatherBench GS\n",
    "ds_ERA5_clim = xr.open_zarr(\n",
    "    'gs://weatherbench2/datasets/era5-hourly-climatology/1990-2019_6h_1440x721.zarr')\n",
    "\n",
    "# subset variables\n",
    "variables_levels = conf['ERA5_weatherbench']['verif_variables']\n",
    "ds_ERA5_clim = vu.ds_subset_everything(ds_ERA5_clim, variables_levels)\n",
    "\n",
    "# unify file name and coords\n",
    "ds_ERA5_clim = ds_ERA5_clim.rename({'latitude':'lat','longitude':'lon'})\n",
    "ds_ERA5_clim = ds_ERA5_clim.rename(conf['ERA5_weatherbench']['rename_variables'])\n",
    "ds_ERA5_clim = ds_ERA5_clim.squeeze('level')\n",
    "ds_ERA5_clim = ds_ERA5_clim.drop_vars('level')"
   ]
  },
  {
   "cell_type": "markdown",
   "id": "43f716ba-cb98-47f0-a0a6-60253316b50b",
   "metadata": {},
   "source": [
    "## Save raw"
   ]
  },
  {
   "cell_type": "code",
   "execution_count": null,
   "id": "4a65a38b-4b51-4053-a73f-faa079f0a701",
   "metadata": {},
   "outputs": [],
   "source": [
    "# # -------------------------------------------------------- #\n",
    "# # Save raw\n",
    "# save_name = conf['ERA5_weatherbench']['save_loc_clim'] + 'ERA5_clim_1990_2019_6h.nc'\n",
    "# print('Save to {}'.format(save_name))\n",
    "# ds_ERA5_clim.to_netcdf(save_name)"
   ]
  },
  {
   "cell_type": "markdown",
   "id": "3509d9c9-682a-4bc1-870a-35d759f3a525",
   "metadata": {},
   "source": [
    "## Interpolation"
   ]
  },
  {
   "cell_type": "code",
   "execution_count": null,
   "id": "5c771edb-b759-48a8-ae40-90a087d07054",
   "metadata": {},
   "outputs": [],
   "source": [
    "# ERA5 IFS lat/lons\n",
    "x_IFS = np.array(ds_ERA5_clim['lon'])\n",
    "y_IFS = np.array(ds_ERA5_clim['lat'])\n",
    "lon_IFS, lat_IFS = np.meshgrid(x_IFS, y_IFS)\n",
    "\n",
    "# OUR lat/lons\n",
    "OURS_dataset = xr.open_dataset(conf['geo']['geo_file_nc'])\n",
    "x_OURS = np.array(OURS_dataset['longitude'])\n",
    "y_OURS = np.array(OURS_dataset['latitude'])\n",
    "lon_OURS, lat_OURS = np.meshgrid(x_OURS, y_OURS)\n",
    "shape_OURS = lon_OURS.shape"
   ]
  },
  {
   "cell_type": "code",
   "execution_count": null,
   "id": "cedbae39-133e-4da6-b4dd-5a6027149c65",
   "metadata": {},
   "outputs": [],
   "source": [
    "# dataset info\n",
    "list_var_names = list(ds_ERA5_clim.keys())\n",
    "L_dayofyear = len(ds_ERA5_clim['dayofyear'])\n",
    "L_hour = len(ds_ERA5_clim['hour'])\n",
    "\n",
    "# interp weights\n",
    "temp_data = np.load(conf['geo']['regrid_weights_numpy'], allow_pickle=True)[()]\n",
    "vtx = temp_data['vtx']\n",
    "wts = temp_data['wts']"
   ]
  },
  {
   "cell_type": "code",
   "execution_count": null,
   "id": "3bec486b-f7e0-455a-aa4d-a922ee759bd3",
   "metadata": {},
   "outputs": [],
   "source": [
    "# allocate xarray.Dataset\n",
    "ds_clim_regrid = xr.Dataset()\n",
    "ds_clim_regrid['dayofyear'] = ds_ERA5_clim['dayofyear']\n",
    "ds_clim_regrid['hour'] = ds_ERA5_clim['hour']\n",
    "ds_clim_regrid = ds_clim_regrid.assign_coords({'lat': y_OURS, 'lon': x_OURS})\n",
    "\n",
    "for var_name in list_var_names:\n",
    "    \n",
    "    # allocate regridded IFS on multi-lead times\n",
    "    allocate_interp = np.empty((L_dayofyear, L_hour)+shape_OURS)\n",
    "\n",
    "    print('Processing var {}'.format(var_name))\n",
    "    \n",
    "    for i_day in range(L_dayofyear):\n",
    "        for i_hour in range(L_hour):\n",
    "            \n",
    "            # select the variable on the current lead time\n",
    "            IFS_var = ds_ERA5_clim[var_name].isel(dayofyear=i_day, hour=i_hour)\n",
    "            # ========================================================================== #\n",
    "            # scipy.interpolate.griddata(method='linear') with manually inputted weights #\n",
    "            IFS_var_regrid = interpolate(IFS_var, vtx, wts)\n",
    "            IFS_var_regrid = np.reshape(IFS_var_regrid, shape_OURS)\n",
    "            allocate_interp[i_day, i_hour, ...] = IFS_var_regrid\n",
    "            # ========================================================================== #\n",
    "    \n",
    "    # np.array --> xr.DataArray\n",
    "    IFS_var_regrid_da = xr.DataArray(\n",
    "        allocate_interp, \n",
    "        coords={\n",
    "            'dayofyear': ds_ERA5_clim['dayofyear'],\n",
    "            'hour': ds_ERA5_clim['hour'], \n",
    "            'lat': y_OURS, \n",
    "            'lon': x_OURS,},\n",
    "        dims=['dayofyear', 'hour', 'lat', 'lon']\n",
    "    )\n",
    "    \n",
    "    # add xr.DataArray to the allocated xr.Dataset\n",
    "    ds_clim_regrid[var_name] = IFS_var_regrid_da\n",
    "    \n",
    "save_name = conf['ERA5_weatherbench']['save_loc_clim'] + 'ERA5_clim_1990_2019_6h_interp.nc'\n",
    "print('Save to {}'.format(save_name))\n",
    "ds_clim_regrid.to_netcdf(save_name)"
   ]
  },
  {
   "cell_type": "code",
   "execution_count": null,
   "id": "57e1cb99-903a-4ba6-94da-f0d7f0aa3710",
   "metadata": {},
   "outputs": [],
   "source": []
  }
 ],
 "metadata": {
  "kernelspec": {
   "display_name": "Python 3 (ipykernel)",
   "language": "python",
   "name": "python3"
  },
  "language_info": {
   "codemirror_mode": {
    "name": "ipython",
    "version": 3
   },
   "file_extension": ".py",
   "mimetype": "text/x-python",
   "name": "python",
   "nbconvert_exporter": "python",
   "pygments_lexer": "ipython3",
   "version": "3.10.13"
  }
 },
 "nbformat": 4,
 "nbformat_minor": 5
}
