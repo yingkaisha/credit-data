{
 "cells": [
  {
   "cell_type": "markdown",
   "id": "ac814c7e-dee1-4b45-9239-8d9cd98b9ada",
   "metadata": {},
   "source": [
    "# Calculate RMSE"
   ]
  },
  {
   "cell_type": "code",
   "execution_count": null,
   "id": "8deb4be5-9191-4fb6-afb1-9b6c2351f719",
   "metadata": {},
   "outputs": [],
   "source": [
    "import os\n",
    "import sys\n",
    "import yaml\n",
    "from glob import glob\n",
    "from datetime import datetime, timedelta\n",
    "\n",
    "import numpy as np\n",
    "import xarray as xr"
   ]
  },
  {
   "cell_type": "code",
   "execution_count": null,
   "id": "4f276d5d-e0b9-4639-911f-44566f18e248",
   "metadata": {},
   "outputs": [],
   "source": [
    "sys.path.insert(0, os.path.realpath('../libs/'))\n",
    "import verif_utils as vu"
   ]
  },
  {
   "cell_type": "code",
   "execution_count": null,
   "id": "04614252-cb60-44ef-afa4-3732f1a34dae",
   "metadata": {},
   "outputs": [],
   "source": [
    "config_name = os.path.realpath('verif_config.yml')\n",
    "\n",
    "with open(config_name, 'r') as stream:\n",
    "    conf = yaml.safe_load(stream)"
   ]
  },
  {
   "cell_type": "code",
   "execution_count": null,
   "id": "9df393c4-af29-4ef1-857c-403bd2342dcb",
   "metadata": {},
   "outputs": [],
   "source": [
    "model_name = 'wxformer'\n",
    "lead_range = conf[model_name]['lead_range']\n",
    "verif_lead_range = conf[model_name]['verif_lead_range']\n",
    "\n",
    "leads_exist = list(np.arange(lead_range[0], lead_range[-1]+lead_range[0], lead_range[0]))\n",
    "leads_verif = list(np.arange(verif_lead_range[0], verif_lead_range[-1]+verif_lead_range[0], verif_lead_range[0]))\n",
    "ind_lead = vu.lead_to_index(leads_exist, leads_verif)\n",
    "\n",
    "print('Verifying lead times: {}'.format(leads_verif))\n",
    "print('Verifying lead indices: {}'.format(ind_lead))"
   ]
  },
  {
   "cell_type": "code",
   "execution_count": null,
   "id": "78708828-93ce-4ac9-80dd-5f9b40cd80a4",
   "metadata": {},
   "outputs": [],
   "source": [
    "verif_ind_start = 2179; verif_ind_end = 2189\n",
    "path_verif = conf[model_name]['save_loc_verif']+'combined_rmse_{}_{}_{}h_{}h_{}.nc'.format(verif_ind_start, \n",
    "                                                                                           verif_ind_end,\n",
    "                                                                                           verif_lead_range[0],\n",
    "                                                                                           verif_lead_range[-1],\n",
    "                                                                                           model_name)"
   ]
  },
  {
   "cell_type": "markdown",
   "id": "7bbb12c4-f60e-4398-adde-bfb7367c544d",
   "metadata": {},
   "source": [
    "## Verification setup\n",
    "\n",
    "The following inputs are needed:\n",
    "\n",
    "(1) range of indices\n",
    "\n",
    "(2) required lead times to verify\n",
    "\n",
    "(3) save location"
   ]
  },
  {
   "cell_type": "code",
   "execution_count": null,
   "id": "5d9d3246-64ea-497c-aeb2-9702b62fe591",
   "metadata": {},
   "outputs": [],
   "source": [
    "# ---------------------------------------------------------------------------------------- #\n",
    "# ERA5 verif target\n",
    "filename_ERA5 = sorted(glob(conf['ERA5']['save_loc']))\n",
    "\n",
    "# pick years\n",
    "year_range = conf['ERA5']['year_range']\n",
    "years_pick = np.arange(year_range[0], year_range[1]+1, 1).astype(str)\n",
    "filename_ERA5 = [fn for fn in filename_ERA5 if any(year in fn for year in years_pick)]\n",
    "\n",
    "# merge yearly ERA5 as one\n",
    "ds_ERA5 = [vu.get_forward_data(fn) for fn in filename_ERA5]\n",
    "ds_ERA5_merge = xr.concat(ds_ERA5, dim='time')\n",
    "\n",
    "# Select the specified variables and their levels\n",
    "variables_levels = conf['ERA5']['verif_variables']\n",
    "\n",
    "# subset merged ERA5 and unify coord names\n",
    "ds_ERA5_merge = vu.ds_subset_everything(ds_ERA5_merge, variables_levels)\n",
    "ds_ERA5_merge = ds_ERA5_merge.rename({'latitude':'lat','longitude':'lon'})\n",
    "\n",
    "# ---------------------------------------------------------------------------------------- #\n",
    "# forecast\n",
    "filename_OURS = sorted(glob(conf[model_name]['save_loc_gather']+'*.nc'))\n",
    "filename_OURS_backup = sorted(glob('/glade/campaign/cisl/aiml/ksha/CREDIT/gathered/*.nc'))\n",
    "\n",
    "# manual input bad files in '/glade/campaign/cisl/aiml/gathered/'\n",
    "# provide replacements in '/glade/campaign/cisl/aiml/ksha/CREDIT/gathered/'\n",
    "# correct file info and rerun climo days/leads that touchs the bad files\n",
    "ind_bad = [206, 209, 211, 215, 360, 390, 400]\n",
    "filename_bad = []\n",
    "\n",
    "for i, i_bad in enumerate(ind_bad):\n",
    "    file_old = filename_OURS[i_bad]\n",
    "    file_new = filename_OURS_backup[i]\n",
    "\n",
    "    if os.path.basename(file_old) == os.path.basename(file_new):\n",
    "        filename_bad.append(file_new)\n",
    "        filename_OURS[i_bad] = filename_OURS_backup[i]\n",
    "    else:\n",
    "        print('Replacement of bad file {} not found'.format(file_old))\n",
    "        raise\n",
    "        \n",
    "# pick years\n",
    "year_range = conf[model_name]['year_range']\n",
    "years_pick = np.arange(year_range[0], year_range[1]+1, 1).astype(str)\n",
    "filename_OURS = [fn for fn in filename_OURS if any(year in fn for year in years_pick)]\n",
    "\n",
    "L_max = len(filename_OURS)\n",
    "assert verif_ind_end <= L_max, 'verified indices (days) exceeds the max index available'\n",
    "\n",
    "filename_OURS = filename_OURS[verif_ind_start:verif_ind_end]\n",
    "\n",
    "# latitude weighting\n",
    "lat = xr.open_dataset(filename_OURS[0])[\"lat\"]\n",
    "w_lat = np.cos(np.deg2rad(lat))\n",
    "w_lat = w_lat / w_lat.mean()"
   ]
  },
  {
   "cell_type": "code",
   "execution_count": null,
   "id": "62b53182-2b2e-40f3-b265-0a250e7d0246",
   "metadata": {},
   "outputs": [],
   "source": [
    "# ---------------------------------------------------------------------------------------- #\n",
    "# RMSE compute\n",
    "verif_results = []\n",
    "\n",
    "for fn_ours in filename_OURS:\n",
    "    ds_ours = xr.open_dataset(fn_ours)\n",
    "    ds_ours = vu.ds_subset_everything(ds_ours, variables_levels)\n",
    "    ds_ours = ds_ours.isel(time=ind_lead)\n",
    "    \n",
    "    ds_target = ds_ERA5_merge.sel(time=ds_ours['time']).compute()\n",
    "\n",
    "    # RMSE with latitude-based cosine weighting (check w_lat)\n",
    "    RMSE = np.sqrt((w_lat* (ds_ours - ds_target)**2).mean(['lat', 'lon']))\n",
    "    \n",
    "    verif_results.append(RMSE.drop_vars('time'))\n",
    "\n",
    "    print('Completedd: {}'.format(fn_ours))\n",
    "    \n",
    "# Combine verif results\n",
    "ds_verif = xr.concat(verif_results, dim='days')\n",
    "\n",
    "# Save the combined dataset\n",
    "print('Save to {}'.format(path_verif))\n",
    "ds_verif.to_netcdf(path_verif)"
   ]
  },
  {
   "cell_type": "code",
   "execution_count": null,
   "id": "4327aa2a-db9b-4016-ab9b-7a192d31e389",
   "metadata": {},
   "outputs": [],
   "source": []
  }
 ],
 "metadata": {
  "kernelspec": {
   "display_name": "Python 3 (ipykernel)",
   "language": "python",
   "name": "python3"
  },
  "language_info": {
   "codemirror_mode": {
    "name": "ipython",
    "version": 3
   },
   "file_extension": ".py",
   "mimetype": "text/x-python",
   "name": "python",
   "nbconvert_exporter": "python",
   "pygments_lexer": "ipython3",
   "version": "3.10.13"
  }
 },
 "nbformat": 4,
 "nbformat_minor": 5
}
