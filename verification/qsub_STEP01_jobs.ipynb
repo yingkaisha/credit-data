{
 "cells": [
  {
   "cell_type": "markdown",
   "id": "c08f3d0e-0253-4361-bf2f-1256f14a5860",
   "metadata": {},
   "source": [
    "# Generate qsub scripts for STEP01 operations"
   ]
  },
  {
   "cell_type": "code",
   "execution_count": 1,
   "id": "5dbcd2b8-5b08-4256-bb8d-ebbc0643a9d7",
   "metadata": {},
   "outputs": [],
   "source": [
    "import numpy as np"
   ]
  },
  {
   "cell_type": "code",
   "execution_count": 2,
   "id": "dfba742e-29be-4543-9de7-476534e42999",
   "metadata": {},
   "outputs": [],
   "source": [
    "IND_max = 367\n",
    "INDs = np.arange(1, IND_max+3, 3)\n",
    "INDs[-1] = IND_max"
   ]
  },
  {
   "cell_type": "markdown",
   "id": "d81d8ac6-a494-4bb7-8b5d-f90fd858687c",
   "metadata": {},
   "source": [
    "## Forecast climatology compute qsub script gen"
   ]
  },
  {
   "cell_type": "code",
   "execution_count": 3,
   "id": "05cfeb82-6837-44ad-bb8f-c3d7fc6905e3",
   "metadata": {},
   "outputs": [],
   "source": [
    "for i, ind_start in enumerate(INDs[:-1]):\n",
    "    \n",
    "    ind_end = INDs[i+1]\n",
    "    \n",
    "    f = open('/glade/u/home/ksha/CREDIT/qsub/verif_fcst_clim_{:03d}.sh'.format(i), 'w') \n",
    "    \n",
    "    heads = '''#!/bin/bash -l\n",
    "\n",
    "#PBS -N verif_clim\n",
    "#PBS -A NAML0001\n",
    "#PBS -l walltime=23:59:59\n",
    "#PBS -l select=1:ncpus=4:mem=64GB\n",
    "#PBS -q casper\n",
    "#PBS -o verif_clim.log\n",
    "#PBS -e verif_clim.err\n",
    "\n",
    "conda activate credit\n",
    "cd /glade/u/home/ksha/CREDIT/scripts/\n",
    "python verif_forecast_clim.py {} {}\n",
    "'''.format(ind_start, ind_end, ind_start, ind_end)\n",
    "    \n",
    "    print(heads, file=f)    \n",
    "    f.close()\n",
    "\n",
    "f = open('/glade/u/home/ksha/CREDIT/qsub/step01_fcst_clim_all.sh', 'w')\n",
    "\n",
    "for i, ind_start in enumerate(INDs[:-1]):\n",
    "    print('qsub verif_fcst_clim_{:03d}.sh'.format(i), file=f)\n",
    "    \n",
    "f.close()"
   ]
  },
  {
   "cell_type": "markdown",
   "id": "ce04942d-5812-4b6c-b3d8-207c2c80e25c",
   "metadata": {},
   "source": [
    "## ERA5 climatology compute qsub script gen"
   ]
  },
  {
   "cell_type": "code",
   "execution_count": 4,
   "id": "ca42fefd-ed1e-40eb-8d0d-836e64e781dc",
   "metadata": {},
   "outputs": [],
   "source": [
    "for i, ind_start in enumerate(INDs[:-1]):\n",
    "    \n",
    "    ind_end = INDs[i+1]\n",
    "    \n",
    "    f = open('/glade/u/home/ksha/CREDIT/qsub/verif_era5_clim_{:03d}.sh'.format(i), 'w') \n",
    "    \n",
    "    heads = '''#!/bin/bash -l\n",
    "\n",
    "#PBS -N era5_clim\n",
    "#PBS -A NAML0001\n",
    "#PBS -l walltime=23:59:59\n",
    "#PBS -l select=1:ncpus=4:mem=64GB\n",
    "#PBS -q casper\n",
    "#PBS -o era5_clim.log\n",
    "#PBS -e era5_clim.err\n",
    "\n",
    "conda activate credit\n",
    "cd /glade/u/home/ksha/CREDIT/scripts/\n",
    "python STEP01_clim_ERA5.py {} {}\n",
    "'''.format(ind_start, ind_end, ind_start, ind_end)\n",
    "    \n",
    "    print(heads, file=f)    \n",
    "    f.close()\n",
    "\n",
    "f = open('/glade/u/home/ksha/CREDIT/qsub/step01_era5_clim_all.sh', 'w')\n",
    "\n",
    "for i, ind_start in enumerate(INDs[:-1]):\n",
    "    print('qsub verif_era5_clim_{:03d}.sh'.format(i), file=f)\n",
    "    \n",
    "f.close()"
   ]
  },
  {
   "cell_type": "code",
   "execution_count": null,
   "id": "943197e0-f12c-418e-b351-f22c5d3b39e7",
   "metadata": {},
   "outputs": [],
   "source": []
  }
 ],
 "metadata": {
  "kernelspec": {
   "display_name": "Python 3 (ipykernel)",
   "language": "python",
   "name": "python3"
  },
  "language_info": {
   "codemirror_mode": {
    "name": "ipython",
    "version": 3
   },
   "file_extension": ".py",
   "mimetype": "text/x-python",
   "name": "python",
   "nbconvert_exporter": "python",
   "pygments_lexer": "ipython3",
   "version": "3.10.13"
  }
 },
 "nbformat": 4,
 "nbformat_minor": 5
}
