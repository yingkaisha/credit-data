{
 "cells": [
  {
   "cell_type": "code",
   "execution_count": null,
   "id": "1f1c775b-8f5f-4dce-ba3d-8826cf89b8a4",
   "metadata": {},
   "outputs": [],
   "source": []
  },
  {
   "cell_type": "code",
   "execution_count": 1,
   "id": "76f9f602-9a88-435a-8e00-3c6421a7d7c0",
   "metadata": {},
   "outputs": [],
   "source": [
    "import pandas as pd"
   ]
  },
  {
   "cell_type": "code",
   "execution_count": 2,
   "id": "0c277ca6-ea83-4038-a2d5-1a4f8af21193",
   "metadata": {},
   "outputs": [],
   "source": [
    "metrics = pd.read_csv('/glade/work/ksha/CREDIT_runs/fuxi_6h/forecasts/metrics/metrics2021-01-01T00Z.csv')"
   ]
  },
  {
   "cell_type": "code",
   "execution_count": 3,
   "id": "0f99527c-5525-4193-9505-2ca2ffad6069",
   "metadata": {},
   "outputs": [
    {
     "data": {
      "text/plain": [
       "0       29.932732\n",
       "1       48.944244\n",
       "2       59.087036\n",
       "3       76.564095\n",
       "4       88.412453\n",
       "          ...    \n",
       "915    692.276794\n",
       "916    712.522705\n",
       "917    728.504578\n",
       "918    736.495117\n",
       "919    748.726807\n",
       "Name: rmse_Z500, Length: 920, dtype: float64"
      ]
     },
     "execution_count": 3,
     "metadata": {},
     "output_type": "execute_result"
    }
   ],
   "source": [
    "metrics['rmse_Z500']"
   ]
  },
  {
   "cell_type": "code",
   "execution_count": null,
   "id": "d6b919fe-7d65-4732-9fc2-ccbb47b86353",
   "metadata": {},
   "outputs": [],
   "source": []
  }
 ],
 "metadata": {
  "kernelspec": {
   "display_name": "Python 3 (ipykernel)",
   "language": "python",
   "name": "python3"
  },
  "language_info": {
   "codemirror_mode": {
    "name": "ipython",
    "version": 3
   },
   "file_extension": ".py",
   "mimetype": "text/x-python",
   "name": "python",
   "nbconvert_exporter": "python",
   "pygments_lexer": "ipython3",
   "version": "3.11.9"
  }
 },
 "nbformat": 4,
 "nbformat_minor": 5
}
