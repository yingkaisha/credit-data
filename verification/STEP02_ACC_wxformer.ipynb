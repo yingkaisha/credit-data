{
 "cells": [
  {
   "cell_type": "markdown",
   "id": "4a7a1317-2641-4bac-838c-a6b6083dea60",
   "metadata": {},
   "source": [
    "# Calculate ACC"
   ]
  },
  {
   "cell_type": "code",
   "execution_count": null,
   "id": "853ef392-9e1d-469e-8e66-e0c5cfafeb6e",
   "metadata": {},
   "outputs": [],
   "source": [
    "import os\n",
    "import sys\n",
    "import yaml\n",
    "import argparse\n",
    "from glob import glob\n",
    "from datetime import datetime, timedelta\n",
    "\n",
    "import numpy as np\n",
    "import xarray as xr"
   ]
  },
  {
   "cell_type": "code",
   "execution_count": null,
   "id": "d7e6fb73-6602-4e3f-8908-0b208c8e6fae",
   "metadata": {},
   "outputs": [],
   "source": [
    "sys.path.insert(0, os.path.realpath('../libs/'))\n",
    "import verif_utils as vu"
   ]
  },
  {
   "cell_type": "code",
   "execution_count": null,
   "id": "e25cdb21-6411-4997-8030-41d256bcca11",
   "metadata": {},
   "outputs": [],
   "source": [
    "config_name = os.path.realpath('verif_config.yml')\n",
    "\n",
    "with open(config_name, 'r') as stream:\n",
    "    conf = yaml.safe_load(stream)"
   ]
  },
  {
   "cell_type": "code",
   "execution_count": null,
   "id": "38229a5f-9533-4df5-b299-dc7441464502",
   "metadata": {},
   "outputs": [],
   "source": [
    "model_name = 'wxformer'\n",
    "lead_range = conf[model_name]['lead_range']\n",
    "verif_lead_range = conf[model_name]['verif_lead_range']\n",
    "\n",
    "leads_exist = list(np.arange(lead_range[0], lead_range[-1]+lead_range[0], lead_range[0]))\n",
    "leads_verif = list(np.arange(verif_lead_range[0], verif_lead_range[-1]+verif_lead_range[0], verif_lead_range[0]))\n",
    "ind_lead = vu.lead_to_index(leads_exist, leads_verif)\n",
    "\n",
    "print('Verifying lead times: {}'.format(leads_verif))\n",
    "print('Verifying lead indices: {}'.format(ind_lead))"
   ]
  },
  {
   "cell_type": "code",
   "execution_count": null,
   "id": "2a6a0ec5-cb49-4119-be06-d47652b98934",
   "metadata": {},
   "outputs": [],
   "source": [
    "verif_ind_start = 2179; verif_ind_end = 2189\n",
    "path_verif = conf[model_name]['save_loc_verif']+'combined_acc_{}_{}_{}h_{}h_{}.nc'.format(verif_ind_start, \n",
    "                                                                                          verif_ind_end,\n",
    "                                                                                          verif_lead_range[0],\n",
    "                                                                                          verif_lead_range[-1],\n",
    "                                                                                          model_name)"
   ]
  },
  {
   "cell_type": "markdown",
   "id": "0a6faeeb-f6df-4813-a380-3271881da205",
   "metadata": {},
   "source": [
    "## Functions"
   ]
  },
  {
   "cell_type": "code",
   "execution_count": null,
   "id": "3527b032-75d6-4141-bd1d-6eea9534c3ae",
   "metadata": {},
   "outputs": [],
   "source": [
    "def sp_avg(DS, wlat):\n",
    "    return DS.weighted(wlat).mean(['lat', 'lon'], skipna=True)"
   ]
  },
  {
   "cell_type": "markdown",
   "id": "7bbb12c4-f60e-4398-adde-bfb7367c544d",
   "metadata": {},
   "source": [
    "## Verificaition setup\n",
    "\n",
    "The following inputs are needed:\n",
    "\n",
    "(1) range of indices\n",
    "\n",
    "(2) required lead times to verify\n",
    "\n",
    "(3) save location\n",
    "\n",
    "Note: lead time has to be 6 hourly or longer"
   ]
  },
  {
   "cell_type": "code",
   "execution_count": null,
   "id": "35f7d6c5-3a46-44a8-b555-0bdd564557f6",
   "metadata": {},
   "outputs": [],
   "source": [
    "# ERA5 climatology info\n",
    "ERA5_path_string = conf['ERA5_weatherbench']['save_loc_clim'] + 'ERA5_clim_1990_2019_6h_interp.nc'\n",
    "ds_ERA5_clim = xr.open_dataset(ERA5_path_string)"
   ]
  },
  {
   "cell_type": "code",
   "execution_count": null,
   "id": "5d9d3246-64ea-497c-aeb2-9702b62fe591",
   "metadata": {},
   "outputs": [],
   "source": [
    "# ---------------------------------------------------------------------------------------- #\n",
    "# ERA5 verif target\n",
    "filename_ERA5 = sorted(glob(conf['ERA5_ours']['save_loc']))\n",
    "\n",
    "# pick years\n",
    "year_range = conf['ERA5_ours']['year_range']\n",
    "years_pick = np.arange(year_range[0], year_range[1]+1, 1).astype(str)\n",
    "filename_ERA5 = [fn for fn in filename_ERA5 if any(year in fn for year in years_pick)]\n",
    "\n",
    "# merge yearly ERA5 as one\n",
    "ds_ERA5 = [vu.get_forward_data(fn) for fn in filename_ERA5]\n",
    "ds_ERA5_merge = xr.concat(ds_ERA5, dim='time')\n",
    "    \n",
    "# Select the specified variables and their levels\n",
    "variables_levels = conf['ERA5_ours']['verif_variables']\n",
    "\n",
    "# subset merged ERA5 and unify coord names\n",
    "ds_ERA5_merge = vu.ds_subset_everything(ds_ERA5_merge, variables_levels)\n",
    "ds_ERA5_merge = ds_ERA5_merge.rename({'latitude':'lat','longitude':'lon'})\n",
    "\n",
    "# ---------------------------------------------------------------------------------------- #\n",
    "# forecast\n",
    "filename_OURS = sorted(glob(conf[model_name]['save_loc_gather']+'*.nc'))\n",
    "\n",
    "# pick years\n",
    "year_range = conf[model_name]['year_range']\n",
    "years_pick = np.arange(year_range[0], year_range[1]+1, 1).astype(str)\n",
    "filename_OURS = [fn for fn in filename_OURS if any(year in fn for year in years_pick)]\n",
    "\n",
    "L_max = len(filename_OURS)\n",
    "assert verif_ind_end <= L_max, 'verified indices (days) exceeds the max index available'\n",
    "\n",
    "filename_OURS = filename_OURS[verif_ind_start:verif_ind_end]\n",
    "\n",
    "# latitude weighting\n",
    "lat = xr.open_dataset(filename_OURS[0])[\"lat\"]\n",
    "w_lat = np.cos(np.deg2rad(lat))\n",
    "w_lat = w_lat / w_lat.mean()"
   ]
  },
  {
   "cell_type": "code",
   "execution_count": null,
   "id": "b7249ea5-34ea-4ff6-bf3e-a4de46e457ae",
   "metadata": {},
   "outputs": [],
   "source": [
    "# some of the forecast files have lat/lon as masked arrays\n",
    "# this may result-in a mismatch between the weatherbench clim (lat/lon arrays) and the fcst (masked arrays)\n",
    "# it only happens to some CREDIT rollouts but will be applied to IFS as well\n",
    "OURS_dataset = xr.open_dataset(conf['geo']['geo_file_nc'])\n",
    "x_OURS = np.array(OURS_dataset['longitude'])\n",
    "y_OURS = np.array(OURS_dataset['latitude'])"
   ]
  },
  {
   "cell_type": "code",
   "execution_count": null,
   "id": "295886d6-94bd-4f91-9b4f-eeb2126fcc8d",
   "metadata": {},
   "outputs": [],
   "source": [
    "acc_results = []\n",
    "\n",
    "for fn_ours in filename_OURS:\n",
    "    # --------------------------------------------------------------- #\n",
    "    # import and subset forecast\n",
    "    ds_ours = xr.open_dataset(fn_ours)\n",
    "    ds_ours = vu.ds_subset_everything(ds_ours, variables_levels)\n",
    "    ds_ours = ds_ours.isel(time=ind_lead)\n",
    "    dayofyear = ds_ours['time.dayofyear']\n",
    "    hourofday = ds_ours['time'].dt.hour\n",
    "\n",
    "    # ============================== #\n",
    "    # resolve the masked array issue\n",
    "    ds_ours['lon'] = x_OURS\n",
    "    ds_ours['lat'] = y_OURS\n",
    "    # ============================== #\n",
    "    ds_ours = ds_ours.compute()\n",
    "    \n",
    "    # --------------------------------------------------------------- #\n",
    "    # get ERA5 verification target\n",
    "    ds_target = ds_ERA5_merge.sel(time=ds_ours['time']).compute()\n",
    "    \n",
    "    # --------------------------------------------------------------- #\n",
    "    # get ERA5 climatology\n",
    "    ds_clim_target = ds_ERA5_clim.sel(dayofyear=dayofyear, hour=hourofday).compute()\n",
    "    \n",
    "    # ========================================== #\n",
    "    # ERA5 anomaly\n",
    "    ds_anomaly_ERA5 = ds_target - ds_clim_target\n",
    "\n",
    "    # fcst anomaly\n",
    "    ds_anomaly_OURS = ds_ours - ds_clim_target\n",
    "    \n",
    "    # ========================================== #\n",
    "    # anmalies --> ACC with latitude-based cosine weights (check sp_avg and w_lat)\n",
    "    top = sp_avg(ds_anomaly_OURS*ds_anomaly_ERA5, w_lat)\n",
    "    \n",
    "    bottom = np.sqrt(\n",
    "        sp_avg(ds_anomaly_OURS**2, w_lat) * sp_avg(ds_anomaly_ERA5**2, w_lat))\n",
    "                \n",
    "    acc_results.append((top/bottom).drop_vars('time'))\n",
    "    \n",
    "    print('ACC completed: {}'.format(fn_ours))\n",
    "    \n",
    "# Combine ACC results\n",
    "ds_acc = xr.concat(acc_results, dim='days')\n",
    "\n",
    "# Save\n",
    "print('Save to {}'.format(path_verif))\n",
    "#ds_acc.to_netcdf(path_verif)"
   ]
  },
  {
   "cell_type": "code",
   "execution_count": null,
   "id": "e5eb894c-bebc-4b6e-a0ca-863d8db89d62",
   "metadata": {},
   "outputs": [],
   "source": []
  }
 ],
 "metadata": {
  "kernelspec": {
   "display_name": "Python 3 (ipykernel)",
   "language": "python",
   "name": "python3"
  },
  "language_info": {
   "codemirror_mode": {
    "name": "ipython",
    "version": 3
   },
   "file_extension": ".py",
   "mimetype": "text/x-python",
   "name": "python",
   "nbconvert_exporter": "python",
   "pygments_lexer": "ipython3",
   "version": "3.10.13"
  }
 },
 "nbformat": 4,
 "nbformat_minor": 5
}
