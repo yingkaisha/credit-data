{
 "cells": [
  {
   "cell_type": "markdown",
   "id": "233753c4-f8c0-42d9-a0c8-a190038f49d3",
   "metadata": {},
   "source": [
    "# Global-scale atmospheric mass and energy conservations on ERA5 pressure level data"
   ]
  },
  {
   "cell_type": "code",
   "execution_count": 1,
   "id": "c88a2547-ee20-4ccb-8395-e5805cefaba4",
   "metadata": {},
   "outputs": [],
   "source": [
    "import torch\n",
    "import numpy as np\n",
    "import xarray as xr"
   ]
  },
  {
   "cell_type": "code",
   "execution_count": 2,
   "id": "8bf50516-904d-415a-ab0d-d4986d2be045",
   "metadata": {},
   "outputs": [],
   "source": [
    "from typing import Dict, Any, Optional"
   ]
  },
  {
   "cell_type": "markdown",
   "id": "9030a384-f996-4a42-8f1f-16ea52d149c2",
   "metadata": {},
   "source": [
    "### Load data"
   ]
  },
  {
   "cell_type": "markdown",
   "id": "473614a7-a1ed-4143-a6b1-faa79f96f8e9",
   "metadata": {},
   "source": [
    "ERA5 pressure level data:\n",
    "\n",
    "* `/glade/derecho/scratch/ksha/CREDIT_data/ERA5_plevel_base/upper_air/*.zarr`\n",
    "* `/glade/derecho/scratch/ksha/CREDIT_data/ERA5_plevel_base/surf/*.zarr`\n",
    "* `/glade/derecho/scratch/ksha/CREDIT_data/ERA5_plevel_base/accum/*.zarr`"
   ]
  },
  {
   "cell_type": "code",
   "execution_count": 3,
   "id": "0ab54e3c-2251-49a8-99ad-93430bba26d6",
   "metadata": {},
   "outputs": [],
   "source": [
    "base_dir = '/glade/derecho/scratch/ksha/CREDIT_data/ERA5_plevel_base/'\n",
    "ds_surf = xr.open_zarr(base_dir + 'surf/ERA5_plevel_6h_surf_1979.zarr')\n",
    "ds_accum = xr.open_zarr(base_dir + 'accum/ERA5_plevel_6h_accum_1979.zarr')\n",
    "ds_upper = xr.open_zarr(base_dir + 'upper_air/ERA5_plevel_6h_upper_air_1979.zarr')\n",
    "ds_static = xr.open_zarr(base_dir + 'static/ERA5_plevel_6h_static.zarr')"
   ]
  },
  {
   "cell_type": "code",
   "execution_count": 4,
   "id": "206c0efa-1c74-4596-b8f2-20727d061559",
   "metadata": {},
   "outputs": [],
   "source": [
    "x = ds_surf['longitude']\n",
    "y = ds_surf['latitude']\n",
    "lon, lat = np.meshgrid(x, y)\n",
    "level_p = 100*np.array(ds_upper['level'])\n",
    "tensor_shape = (len(level_p),) + lon.shape"
   ]
  },
  {
   "cell_type": "markdown",
   "id": "33c6e48e-3712-4f1c-a6e2-b8b963e194a9",
   "metadata": {},
   "source": [
    "### Convert data to `torch.Tensor`"
   ]
  },
  {
   "cell_type": "code",
   "execution_count": 5,
   "id": "86bae29b-857e-43ce-9bf8-3cf1b975aac7",
   "metadata": {},
   "outputs": [],
   "source": [
    "batch_size = 32\n",
    "target_shape_4D = (batch_size, 2,)+tensor_shape\n",
    "target_shape_3D = (batch_size, 2,)+tensor_shape[1:]\n",
    "\n",
    "t_slice = np.arange(batch_size+1)"
   ]
  },
  {
   "cell_type": "code",
   "execution_count": 6,
   "id": "68269878-0537-427c-bb3d-b01bc39acaed",
   "metadata": {},
   "outputs": [],
   "source": [
    "def time_series_to_batch(q, target_shape):\n",
    "    q_batch = torch.as_strided(\n",
    "        q, size=target_shape, \n",
    "        stride=(q.stride(0), q.stride(0), *q.stride()[1:]))\n",
    "    return q_batch"
   ]
  },
  {
   "cell_type": "code",
   "execution_count": 7,
   "id": "b9cf44db-54b5-4139-a5ff-3e4d84f99502",
   "metadata": {},
   "outputs": [],
   "source": [
    "q = torch.from_numpy(np.array(ds_upper['Q'].isel(time=t_slice))) # kg/kg\n",
    "T = torch.from_numpy(np.array(ds_upper['T'].isel(time=t_slice))) # kg/kg\n",
    "u = torch.from_numpy(np.array(ds_upper['U'].isel(time=t_slice))) # m/s\n",
    "v = torch.from_numpy(np.array(ds_upper['V'].isel(time=t_slice)))\n",
    "precip = torch.from_numpy(np.array(ds_accum['total_precipitation'].isel(time=t_slice)))\n",
    "evapor = torch.from_numpy(np.array(ds_accum['evaporation'].isel(time=t_slice)))\n",
    "\n",
    "GPH_surf = torch.from_numpy(np.array(ds_static['geopotential_at_surface'])) # J/m2\n",
    "TOA_net = torch.from_numpy(np.array(ds_accum['top_net_solar_radiation'].isel(time=t_slice))) # J/m2\n",
    "OLR = torch.from_numpy(np.array(ds_accum['top_net_thermal_radiation'].isel(time=t_slice))) # J/m2\n",
    "R_short = torch.from_numpy(np.array(ds_accum['surface_net_solar_radiation'].isel(time=t_slice))) # J/m2\n",
    "R_long = torch.from_numpy(np.array(ds_accum['surface_net_thermal_radiation'].isel(time=t_slice))) # J/m2\n",
    "LH = torch.from_numpy(np.array(ds_accum['surface_latent_heat_flux'].isel(time=t_slice))) # J/m2\n",
    "SH = torch.from_numpy(np.array(ds_accum['surface_sensible_heat_flux'].isel(time=t_slice))) # J/m2"
   ]
  },
  {
   "cell_type": "code",
   "execution_count": 8,
   "id": "c45e7886-df26-465b-8a2e-a532b9d579b7",
   "metadata": {},
   "outputs": [],
   "source": [
    "q_batch = time_series_to_batch(q, target_shape_4D)\n",
    "T_batch = time_series_to_batch(T, target_shape_4D)\n",
    "u_batch = time_series_to_batch(u, target_shape_4D)\n",
    "v_batch = time_series_to_batch(v, target_shape_4D)\n",
    "precip_batch = time_series_to_batch(precip, target_shape_3D)\n",
    "evapor_batch = time_series_to_batch(evapor, target_shape_3D)\n",
    "\n",
    "GPH_surf_batch = GPH_surf.unsqueeze(0).unsqueeze(0).unsqueeze(0)\n",
    "TOA_net_batch = time_series_to_batch(TOA_net, target_shape_3D)\n",
    "OLR_batch = time_series_to_batch(OLR, target_shape_3D)\n",
    "R_short_batch = time_series_to_batch(R_short, target_shape_3D)\n",
    "R_long_batch = time_series_to_batch(R_long, target_shape_3D)\n",
    "LH_batch = time_series_to_batch(LH, target_shape_3D)\n",
    "SH_batch = time_series_to_batch(SH, target_shape_3D)"
   ]
  },
  {
   "cell_type": "code",
   "execution_count": 9,
   "id": "a5aeba04-6c49-4ef5-a6ed-0eaa609dedee",
   "metadata": {},
   "outputs": [],
   "source": [
    "longitude = torch.from_numpy(lon)\n",
    "latitude = torch.from_numpy(lat)\n",
    "upper_air_pressure = torch.from_numpy(level_p)"
   ]
  },
  {
   "cell_type": "markdown",
   "id": "01df5edf-87b8-4746-ba4a-150ca875e0fa",
   "metadata": {},
   "source": [
    "### `credit.physics_core` pressure level class"
   ]
  },
  {
   "cell_type": "code",
   "execution_count": 10,
   "id": "98ecd5a5-c7dc-456c-8be5-5b4e9caf480c",
   "metadata": {},
   "outputs": [],
   "source": [
    "GRAVITY = 9.80665\n",
    "R = 6371000  # m\n",
    "RHO_WATER = 1000.0 # kg/m^3\n",
    "RAD_EARTH = 6371000 # m\n",
    "LH_WATER = 2.26e6  # J/kg\n",
    "CP_DRY = 1005 # J/kg K\n",
    "CP_VAPOR = 1846 # J/kg K\n",
    "\n",
    "\n",
    "class physics_pressure_level:\n",
    "    '''\n",
    "    Pressure level physics\n",
    "\n",
    "    Attributes:\n",
    "        upper_air_pressure (torch.Tensor): pressure levels in Pa.\n",
    "        lon (torch.Tensor): longitude in degrees.\n",
    "        lat (torch.Tensor): latitude in degrees.\n",
    "        pressure_thickness (torch.Tensor): pressure thickness between levels.\n",
    "        dx, dy (torch.Tensor): grid spacings in longitude and latitude.\n",
    "        area (torch.Tensor): area of grid cells.\n",
    "        integral (function): vertical integration method (midpoint or trapezoidal).\n",
    "    '''\n",
    "    \n",
    "    def __init__(self,\n",
    "                 lon: torch.Tensor,\n",
    "                 lat: torch.Tensor,\n",
    "                 upper_air_pressure: torch.Tensor,\n",
    "                 midpoint: bool = False):\n",
    "        '''\n",
    "        Initialize the class with longitude, latitude, and pressure levels.\n",
    "\n",
    "        All inputs must be in the same torch device.\n",
    "\n",
    "        Full order of dimensions:  (batch, time, level, latitude, longitude)\n",
    "        \n",
    "        Args:\n",
    "            lon (torch.Tensor): Longitude in degrees.\n",
    "            lat (torch.Tensor): Latitude in degrees.\n",
    "            upper_air_pressure (torch.Tensor): Pressure levels in Pa.\n",
    "            midpoint (bool): True if vertical level quantities are midpoint values\n",
    "                      otherwise False\n",
    "            \n",
    "        '''\n",
    "        self.lon = lon\n",
    "        self.lat = lat\n",
    "        self.upper_air_pressure = upper_air_pressure\n",
    "        \n",
    "        # ========================================================================= #\n",
    "        # compute pressure level thickness\n",
    "        self.pressure_thickness = self.upper_air_pressure.diff(dim=-1)\n",
    "        \n",
    "        # ========================================================================= #\n",
    "        # compute grid spacings\n",
    "        lat_rad = torch.deg2rad(self.lat)\n",
    "        lon_rad = torch.deg2rad(self.lon)\n",
    "        self.dy = torch.gradient(lat_rad * RAD_EARTH, dim=0)[0]\n",
    "        self.dx = torch.gradient(lon_rad * RAD_EARTH, dim=1)[0] * torch.cos(lat_rad)\n",
    "        self.area = (self.dx * self.dy).abs()\n",
    "\n",
    "        # ========================================================================== #\n",
    "        # vertical integration method\n",
    "        if midpoint:\n",
    "            self.integral = self.pressure_integral_midpoint\n",
    "        else:\n",
    "            self.integral = self.pressure_integral_trapz\n",
    "            \n",
    "    def pressure_integral_midpoint(self, q_mid: torch.Tensor) -> torch.Tensor:\n",
    "        '''\n",
    "        Compute the pressure level integral of a given quantity; assuming its mid point\n",
    "        values are pre-computed\n",
    "        \n",
    "        Args:\n",
    "            q_mid: the quantity with dims of (batch_size, time, level-1, latitude, longitude)\n",
    "    \n",
    "        Returns:\n",
    "            Pressure level integrals of q\n",
    "        '''\n",
    "        num_dims = len(q_mid.shape)\n",
    "        \n",
    "        if num_dims == 5:  # (batch_size, time, level, latitude, longitude)\n",
    "            delta_p = self.pressure_thickness.unsqueeze(0).unsqueeze(0).unsqueeze(-1).unsqueeze(-1)\n",
    "            q_area = q_mid * delta_p\n",
    "            q_trapz = torch.sum(q_area, dim=2)\n",
    "        \n",
    "        elif num_dims == 4:  # (batch_size, level, latitude, longitude) or (time, level, latitude, longitude)\n",
    "            delta_p = self.pressure_thickness.unsqueeze(0).unsqueeze(-1).unsqueeze(-1)\n",
    "            q_area = q_mid * delta_p  # Trapezoidal rule\n",
    "            q_trapz = torch.sum(q_area, dim=1)\n",
    "        \n",
    "        elif num_dims == 3:  # (level, latitude, longitude)\n",
    "            delta_p = self.pressure_thickness.unsqueeze(-1).unsqueeze(-1)  # Expand for broadcasting\n",
    "            q_area = q_mid * delta_p\n",
    "            q_trapz = torch.sum(q_area, dim=0)\n",
    "        \n",
    "        else:\n",
    "            raise ValueError(f\"Unsupported tensor dimensions: {q.shape}\")\n",
    "        \n",
    "        return q_trapz\n",
    "        \n",
    "    def pressure_integral_trapz(self, q: torch.Tensor) -> torch.Tensor:\n",
    "        '''\n",
    "        Compute the pressure level integral of a given quantity using the trapezoidal rule.\n",
    "        \n",
    "        Args:\n",
    "            q: the quantity with dims of (batch_size, time, level, latitude, longitude)\n",
    "    \n",
    "        Returns:\n",
    "            Pressure level integrals of q\n",
    "        '''\n",
    "        num_dims = len(q.shape)\n",
    "        \n",
    "        if num_dims == 5:  # (batch_size, time, level, latitude, longitude)\n",
    "            delta_p = self.pressure_thickness.unsqueeze(0).unsqueeze(0).unsqueeze(-1).unsqueeze(-1)\n",
    "            q_area = 0.5 * (q[:, :, :-1, :, :] + q[:, :, 1:, :, :]) * delta_p\n",
    "            q_trapz = torch.sum(q_area, dim=2)\n",
    "        \n",
    "        elif num_dims == 4:  # (batch_size, level, latitude, longitude) or (time, level, latitude, longitude)\n",
    "            delta_p = self.pressure_thickness.unsqueeze(0).unsqueeze(-1).unsqueeze(-1)\n",
    "            q_area = 0.5 * (q[:, :-1, :, :] + q[:, 1:, :, :]) * delta_p  # Trapezoidal rule\n",
    "            q_trapz = torch.sum(q_area, dim=1)\n",
    "        \n",
    "        elif num_dims == 3:  # (level, latitude, longitude)\n",
    "            delta_p = self.pressure_thickness.unsqueeze(-1).unsqueeze(-1)  # Expand for broadcasting\n",
    "            q_area = 0.5 * (q[:-1, :, :] + q[1:, :, :]) * delta_p\n",
    "            q_trapz = torch.sum(q_area, dim=0)\n",
    "        \n",
    "        else:\n",
    "            raise ValueError(f\"Unsupported tensor dimensions: {q.shape}\")\n",
    "        \n",
    "        return q_trapz\n",
    "\n",
    "    def weighted_sum(self,\n",
    "                     q: torch.Tensor, \n",
    "                     axis: Dict[tuple, None] = None, \n",
    "                     keepdims: bool = False) -> torch.Tensor:\n",
    "        '''\n",
    "        Compute the weighted sum of a given quantity for PyTorch tensors.\n",
    "        \n",
    "        Args:\n",
    "            data: the quantity to be summed (PyTorch tensor)\n",
    "            axis: dims to compute the sum (can be int or tuple of ints)\n",
    "            keepdims: whether to keep the reduced dimensions or not\n",
    "    \n",
    "        Returns:\n",
    "            Weighted sum (PyTorch tensor)\n",
    "        '''\n",
    "        q_w = q * self.area\n",
    "        q_sum = torch.sum(q_w, dim=axis, keepdim=keepdims)\n",
    "        return q_sum\n",
    "\n",
    "    def total_dry_air_mass(self, q: torch.Tensor) -> torch.Tensor:\n",
    "        '''\n",
    "        Compute the total mass of dry air over the entire globe [kg]\n",
    "        '''\n",
    "        mass_dry_per_area = self.integral(1-q) / GRAVITY # kg/m^2\n",
    "        # weighted sum on latitude and longitude dimensions\n",
    "        mass_dry_sum = self.weighted_sum(mass_dry_per_area, axis=(-2, -1)) # kg\n",
    "        \n",
    "        return mass_dry_sum\n",
    "\n",
    "    def total_column_water(self, q: torch.Tensor) -> torch.Tensor:\n",
    "        '''\n",
    "        Compute total column water (TCW) per air column [kg/m2]\n",
    "        '''\n",
    "        TWC = self.integral(q) / GRAVITY # kg/m^2\n",
    "        \n",
    "        return TWC"
   ]
  },
  {
   "cell_type": "code",
   "execution_count": 11,
   "id": "398b3e98-9e6b-4d58-ab99-3bec9dfe44d4",
   "metadata": {},
   "outputs": [],
   "source": [
    "physics_core = physics_pressure_level(longitude, latitude, upper_air_pressure)"
   ]
  },
  {
   "cell_type": "markdown",
   "id": "97a9c20b-f035-4a23-ab66-0056d0529b3e",
   "metadata": {},
   "source": [
    "## Conservation of total dry air mass"
   ]
  },
  {
   "cell_type": "code",
   "execution_count": 12,
   "id": "d90eb120-d7c2-4a7b-85cb-392241105797",
   "metadata": {},
   "outputs": [
    {
     "name": "stdout",
     "output_type": "stream",
     "text": [
      "Residual to conserve the dry air mass [kg]: tensor([ 4.8998e+12,  2.3332e+13,  1.4195e+13,  2.4289e+13,  5.1000e+12,\n",
      "         1.4327e+13, -6.2937e+12,  5.2303e+12, -1.4075e+13, -2.0736e+13,\n",
      "        -3.4998e+12, -9.2598e+12,  3.3425e+11,  7.4894e+12, -6.0463e+12,\n",
      "        -2.4065e+13, -1.9103e+13, -4.1000e+13, -2.3711e+13, -1.7346e+13,\n",
      "        -2.3995e+13, -3.3204e+13, -7.7813e+12,  6.0171e+12,  1.7287e+12,\n",
      "        -1.6342e+13,  1.4258e+13,  9.6297e+12,  1.6811e+13, -4.1555e+12,\n",
      "         9.1050e+12,  2.2959e+13], dtype=torch.float64)\n"
     ]
    }
   ],
   "source": [
    "q_batch_correct = q_batch.clone()\n",
    "\n",
    "correction_cycle_num = 1 # iterative to handle numrical precision\n",
    "\n",
    "for i in range(correction_cycle_num):\n",
    "    mass_dry_sum = physics_core.total_dry_air_mass(q_batch_correct)\n",
    "\n",
    "    # ------------------------------------------------------------------------------ #\n",
    "    # check residual term\n",
    "    mass_dry_res = mass_dry_sum[:, 1] - mass_dry_sum[:, 0]\n",
    "    print('Residual to conserve the dry air mass [kg]: {}'.format(mass_dry_res))\n",
    "    # ------------------------------------------------------------------------------ #\n",
    "    \n",
    "    q_correct_ratio = mass_dry_sum[:, 0] / mass_dry_sum[:, 1]\n",
    "    q_correct_ratio = q_correct_ratio.unsqueeze(-1).unsqueeze(-1).unsqueeze(-1)\n",
    "    q_batch_correct[:, 1, ...] = 1 - (1 - q_batch_correct[:, 1, ...]) * q_correct_ratio"
   ]
  },
  {
   "cell_type": "code",
   "execution_count": 13,
   "id": "4228cf59-840b-45d1-bbbb-58ce86ff1e00",
   "metadata": {},
   "outputs": [
    {
     "name": "stdout",
     "output_type": "stream",
     "text": [
      "Residual to conserve the dry air mass [kg]: tensor([-5.5535e+10,  2.3331e+10, -2.7973e+10, -9.3268e+10,  6.8353e+09,\n",
      "         8.1128e+10, -9.9454e+10, -1.8999e+10,  6.6406e+10,  3.0085e+10,\n",
      "        -1.0031e+11,  3.0784e+10, -2.1513e+10,  5.6420e+10,  7.4013e+10,\n",
      "         2.0000e+10,  2.4711e+10,  4.1241e+10,  5.6080e+10, -4.7367e+09,\n",
      "         5.2450e+10, -7.3481e+10, -1.5247e+10,  1.6357e+11, -1.2895e+11,\n",
      "         3.8222e+10,  1.7374e+10,  2.8830e+10,  8.9226e+10, -1.6810e+11,\n",
      "         1.5477e+11,  5.9000e+10], dtype=torch.float64)\n"
     ]
    }
   ],
   "source": [
    "# ------------------------------------------------------------------------------ #\n",
    "mass_dry_sum = physics_core.total_dry_air_mass(q_batch_correct)\n",
    "mass_dry_res = mass_dry_sum[:, 1] - mass_dry_sum[:, 0]\n",
    "print('Residual to conserve the dry air mass [kg]: {}'.format(mass_dry_res))\n",
    "# ------------------------------------------------------------------------------ #"
   ]
  },
  {
   "cell_type": "markdown",
   "id": "da483aec-5cd7-41ce-8691-9eb30550834c",
   "metadata": {},
   "source": [
    "## Conservation of moisture"
   ]
  },
  {
   "cell_type": "code",
   "execution_count": 14,
   "id": "a1fdf955-3e15-4291-94af-2423865c6778",
   "metadata": {},
   "outputs": [
    {
     "name": "stdout",
     "output_type": "stream",
     "text": [
      "Residual to conserve moisture budge [kg/s]: tensor([-8.4651e+08, -3.4187e+08, -1.8498e+09, -1.6545e+09, -7.3230e+08,\n",
      "         9.6724e+07, -8.0649e+08, -9.7128e+08,  9.2233e+07,  4.4473e+08,\n",
      "        -6.3185e+08, -8.3198e+08, -1.7069e+08,  7.5317e+07, -4.8904e+08,\n",
      "        -1.0326e+08,  6.6847e+08,  9.9884e+08,  3.3981e+08, -1.5201e+08,\n",
      "         9.2791e+08,  1.0165e+09, -4.5664e+08, -1.1849e+09, -6.0900e+08,\n",
      "        -1.8667e+08, -1.5532e+09, -1.6841e+09, -1.1457e+09, -7.0225e+08,\n",
      "        -1.4512e+09, -1.7518e+09], dtype=torch.float64)\n"
     ]
    }
   ],
   "source": [
    "N_seconds = 3600 * 6 # 6 hourly data\n",
    "\n",
    "precip_batch_flux = precip_batch[:, 1, ...] * RHO_WATER / N_seconds # m/hour --> kg/m^2/s, positive\n",
    "evapor_batch_flux = evapor_batch[:, 1, ...] * RHO_WATER / N_seconds # kg/m^2/s, negative\n",
    "\n",
    "precip_batch_correct = precip_batch_flux.clone()\n",
    "\n",
    "# pre-compute TWC\n",
    "TWC = physics_core.total_column_water(q_batch_correct)\n",
    "dTWC_dt = (TWC[:, 1, ...] - TWC[:, 0, ...]) / N_seconds # kg/m^2/s\n",
    "TWC_sum = physics_core.weighted_sum(dTWC_dt, axis=(-2, -1)) # kg/s\n",
    "\n",
    "# pre-compute evaporation\n",
    "E_sum = physics_core.weighted_sum(evapor_batch_flux, axis=(-2, -1)) # kg/s\n",
    "\n",
    "correction_cycle_num = 1\n",
    "\n",
    "for i in range(correction_cycle_num):\n",
    "    P_sum = physics_core.weighted_sum(precip_batch_correct, axis=(-2, -1)) # kg/s\n",
    "    residual = -TWC_sum - E_sum - P_sum # kg/s\n",
    "\n",
    "    # ------------------------------------------------------------------------------ #\n",
    "    print('Residual to conserve moisture budge [kg/s]: {}'.format(residual))\n",
    "    # ------------------------------------------------------------------------------ #\n",
    "    \n",
    "    P_correct = P_sum + residual # kg/s\n",
    "    P_correct_ratio = (P_sum + residual) / P_sum\n",
    "    P_correct_ratio = P_correct_ratio.unsqueeze(-1).unsqueeze(-1)\n",
    "    precip_batch_correct = precip_batch_correct * P_correct_ratio"
   ]
  },
  {
   "cell_type": "code",
   "execution_count": 15,
   "id": "9dd8756f-7859-40ac-83a3-9de902ffec6b",
   "metadata": {},
   "outputs": [
    {
     "name": "stdout",
     "output_type": "stream",
     "text": [
      "Residual to conserve moisture budge [kg/s]: tensor([ 1.9073e-06, -1.9073e-06,  3.8147e-06, -1.9073e-06,  1.9073e-06,\n",
      "         1.9073e-06,  3.8147e-06,  0.0000e+00,  0.0000e+00,  0.0000e+00,\n",
      "         3.8147e-06, -1.9073e-06,  0.0000e+00,  0.0000e+00,  0.0000e+00,\n",
      "         0.0000e+00,  1.9073e-06,  3.8147e-06,  0.0000e+00,  0.0000e+00,\n",
      "         0.0000e+00, -3.8147e-06,  0.0000e+00, -1.9073e-06,  0.0000e+00,\n",
      "         1.9073e-06, -1.9073e-06, -1.9073e-06,  0.0000e+00, -1.9073e-06,\n",
      "         1.9073e-06,  0.0000e+00], dtype=torch.float64)\n"
     ]
    }
   ],
   "source": [
    "# ------------------------------------------------------------------------------ #\n",
    "P_sum = physics_core.weighted_sum(precip_batch_correct, axis=(-2, -1)) # kg/s\n",
    "residual = -TWC_sum - E_sum - P_sum # kg/s\n",
    "print('Residual to conserve moisture budge [kg/s]: {}'.format(residual))\n",
    "# ------------------------------------------------------------------------------ #"
   ]
  },
  {
   "cell_type": "markdown",
   "id": "1849ff22-0561-4550-a69a-4ea522a9a8ff",
   "metadata": {},
   "source": [
    "### Conservation of energy"
   ]
  },
  {
   "cell_type": "code",
   "execution_count": 16,
   "id": "c243538f-f550-47f8-b7a5-a7988850fec9",
   "metadata": {},
   "outputs": [
    {
     "name": "stdout",
     "output_type": "stream",
     "text": [
      "Residual to conserve energy budget [Watts]: tensor([-2.1879e+15, -1.1417e+16, -1.1753e+15, -2.4352e+15, -3.2384e+15,\n",
      "        -9.8366e+15,  9.0865e+14, -5.5544e+15,  5.2073e+14, -8.9519e+15,\n",
      "         2.0783e+15, -5.0938e+15, -1.5662e+14, -5.8486e+15,  2.4310e+15,\n",
      "        -3.4802e+15,  8.4460e+14, -1.1415e+16,  4.7944e+15,  1.1075e+15,\n",
      "         1.1121e+14, -1.2772e+16,  1.1447e+15, -5.1273e+15, -2.2700e+15,\n",
      "        -1.6989e+16,  1.7992e+14, -5.3378e+15, -3.7386e+15, -1.5961e+16,\n",
      "        -2.1321e+14, -4.7991e+15], dtype=torch.float64)\n"
     ]
    }
   ],
   "source": [
    "# C_p (batch, time, level, lat, lon)\n",
    "C_p = (1 - q_batch_correct) * CP_DRY + q_batch_correct * CP_VAPOR\n",
    "# kinetic energy (batch, time, level, lat, lon)\n",
    "ken = 0.5 * (u_batch ** 2 + v_batch ** 2)\n",
    "\n",
    "# initialize T_correct\n",
    "T_batch_correct = T_batch.clone()\n",
    "\n",
    "# layer-wise atmospheric energy, but without thermal energy \n",
    "# (batch, time, level, lat, lon)\n",
    "E_qgk = LH_WATER * q_batch_correct + GPH_surf_batch + ken\n",
    "\n",
    "# TOA net energy flux (batch, time, lat, lon)\n",
    "R_T = (TOA_net_batch + OLR_batch) / N_seconds\n",
    "R_T = R_T[:, 1, :, :]\n",
    "# R_T global sum\n",
    "R_T_sum = physics_core.weighted_sum(R_T, axis=(-2, -1))\n",
    "\n",
    "# surface net energy flux (batch, time, lat, lon)\n",
    "F_S = (R_short_batch + R_long_batch + LH_batch + SH_batch) / N_seconds\n",
    "F_S = F_S[:, 1, :, :]  # Extract time index 1\n",
    "# F_S global sum\n",
    "F_S_sum = physics_core.weighted_sum(F_S, axis=(-2, -1))\n",
    "\n",
    "correction_cycle_num = 1\n",
    "\n",
    "for i in range(correction_cycle_num):\n",
    "\n",
    "    # layer-wise atmospheric energy (sensible heat + others)\n",
    "    #  (batch, time, level, lat, lon)\n",
    "    E_level = C_p * T_batch_correct + E_qgk\n",
    "\n",
    "    # total atmospheric energy (TE) of an air column\n",
    "    # (batch, time, lat, lon)\n",
    "    TE = physics_core.integral(E_level) / GRAVITY\n",
    "\n",
    "    # ---------------------------------------------------------------------------- #\n",
    "    # tendency of TE (batch, lat, lon)\n",
    "    dTE_dt = (TE[:, 1, :, :] - TE[:, 0, :, :]) / N_seconds\n",
    "    # global sum of TE tendency (batch,)\n",
    "    dTE_sum = physics_core.weighted_sum(dTE_dt, axis=(1, 2), keepdims=False)\n",
    "    # compute the residual (batch,)\n",
    "    delta_dTE_sum = (R_T_sum - F_S_sum) - dTE_sum\n",
    "    print('Residual to conserve energy budget [Watts]: {}'.format(delta_dTE_sum))\n",
    "    # ---------------------------------------------------------------------------- #\n",
    "\n",
    "    # TE at t0 and t1 (batch,)\n",
    "    total_weighted_TE_t0 = physics_core.weighted_sum(TE[:, 0, :, :], axis=(-2, -1)) \n",
    "    total_weighted_TE_t1 = physics_core.weighted_sum(TE[:, 1, :, :], axis=(-2, -1))\n",
    "\n",
    "    # calculate the correction ratio for E_t1 (batch,) --> (batch, 1, 1, 1)\n",
    "    E_correct_ratio = (N_seconds * (R_T_sum - F_S_sum) + total_weighted_TE_t0) / total_weighted_TE_t1\n",
    "    E_correct_ratio = E_correct_ratio.view(-1, 1, 1, 1)\n",
    "\n",
    "    # Apply the correction to layer-wise atmospheric energy at t1\n",
    "    # (batch, level, lat, lon)\n",
    "    E_t1_correct = E_level[:, 1, :, :, :] * E_correct_ratio\n",
    "\n",
    "    # barotropic correction of T at t1\n",
    "    T_batch_correct[:, 1, :, :, :] = (E_t1_correct - E_qgk[:, 1, :, :, :]) / C_p[:, 1, :, :, :]"
   ]
  },
  {
   "cell_type": "code",
   "execution_count": 17,
   "id": "b7895dc3-c929-4daf-b744-67b89b2330c7",
   "metadata": {},
   "outputs": [
    {
     "name": "stdout",
     "output_type": "stream",
     "text": [
      "Residual to conserve energy budget [Watts]: tensor([-2.1642e+09, -9.9808e+08, -4.5335e+09,  1.7122e+09,  2.0903e+09,\n",
      "         2.6986e+08, -8.8201e+09, -1.1782e+08, -1.2469e+10, -1.8253e+09,\n",
      "         8.5489e+08, -1.4252e+08,  1.7130e+10, -4.8771e+07, -1.9931e+09,\n",
      "         7.0583e+08, -1.3315e+09, -1.7214e+08, -4.7963e+08,  3.3855e+09,\n",
      "        -1.3779e+10, -1.9998e+07,  5.8746e+09,  4.1342e+08, -2.5294e+09,\n",
      "         9.9548e+08, -1.4509e+10, -2.1733e+09, -2.3611e+08,  6.2275e+08,\n",
      "        -2.3722e+10,  1.4820e+09], dtype=torch.float64)\n"
     ]
    }
   ],
   "source": [
    "# ---------------------------------------------------------------------------- #\n",
    "E_level = C_p * T_batch_correct + E_qgk\n",
    "TE = physics_core.integral(E_level) / GRAVITY\n",
    "dTE_dt = (TE[:, 1, :, :] - TE[:, 0, :, :]) / N_seconds\n",
    "dTE_sum = physics_core.weighted_sum(dTE_dt, axis=(-2, -1), keepdims=False)\n",
    "energy_residual = dTE_sum - (R_T_sum - F_S_sum)\n",
    "print('Residual to conserve energy budget [Watts]: {}'.format(energy_residual))\n",
    "# ---------------------------------------------------------------------------- #"
   ]
  },
  {
   "cell_type": "code",
   "execution_count": null,
   "id": "0aab17d3-8478-43b1-b2ef-fa9f4c3ad153",
   "metadata": {},
   "outputs": [],
   "source": []
  }
 ],
 "metadata": {
  "kernelspec": {
   "display_name": "Python 3 (ipykernel)",
   "language": "python",
   "name": "python3"
  },
  "language_info": {
   "codemirror_mode": {
    "name": "ipython",
    "version": 3
   },
   "file_extension": ".py",
   "mimetype": "text/x-python",
   "name": "python",
   "nbconvert_exporter": "python",
   "pygments_lexer": "ipython3",
   "version": "3.11.9"
  }
 },
 "nbformat": 4,
 "nbformat_minor": 5
}
