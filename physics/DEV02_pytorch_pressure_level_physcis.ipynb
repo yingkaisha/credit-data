{
 "cells": [
  {
   "cell_type": "markdown",
   "id": "233753c4-f8c0-42d9-a0c8-a190038f49d3",
   "metadata": {},
   "source": [
    "# Global-scale atmospheric mass and energy conservations on ERA5 pressure level data"
   ]
  },
  {
   "cell_type": "code",
   "execution_count": 1,
   "id": "c88a2547-ee20-4ccb-8395-e5805cefaba4",
   "metadata": {},
   "outputs": [],
   "source": [
    "import torch\n",
    "import numpy as np\n",
    "import xarray as xr"
   ]
  },
  {
   "cell_type": "code",
   "execution_count": 2,
   "id": "8bf50516-904d-415a-ab0d-d4986d2be045",
   "metadata": {},
   "outputs": [],
   "source": [
    "from typing import Dict, Any, Optional"
   ]
  },
  {
   "cell_type": "markdown",
   "id": "9030a384-f996-4a42-8f1f-16ea52d149c2",
   "metadata": {},
   "source": [
    "### Load data"
   ]
  },
  {
   "cell_type": "markdown",
   "id": "473614a7-a1ed-4143-a6b1-faa79f96f8e9",
   "metadata": {},
   "source": [
    "ERA5 pressure level data:\n",
    "\n",
    "* `/glade/derecho/scratch/ksha/CREDIT_data/ERA5_plevel_base/upper_air/*.zarr`\n",
    "* `/glade/derecho/scratch/ksha/CREDIT_data/ERA5_plevel_base/surf/*.zarr`\n",
    "* `/glade/derecho/scratch/ksha/CREDIT_data/ERA5_plevel_base/accum/*.zarr`"
   ]
  },
  {
   "cell_type": "code",
   "execution_count": 3,
   "id": "0ab54e3c-2251-49a8-99ad-93430bba26d6",
   "metadata": {},
   "outputs": [],
   "source": [
    "base_dir = '/glade/derecho/scratch/ksha/CREDIT_data/ERA5_plevel_1deg/'\n",
    "filename = base_dir + 'all_in_one/ERA5_plevel_1deg_6h_1993_bilinear.zarr'\n",
    "\n",
    "ds_surf = xr.open_zarr(filename)\n",
    "ds_accum = xr.open_zarr(filename)\n",
    "ds_upper = xr.open_zarr(filename)\n",
    "ds_static = xr.open_zarr(base_dir + 'static/ERA5_plevel_1deg_6h_static.zarr')\n",
    "\n",
    "\n",
    "# base_dir = '/glade/derecho/scratch/ksha/CREDIT_data/ERA5_plevel_base/'\n",
    "# ds_surf = xr.open_zarr(base_dir + 'surf/ERA5_plevel_6h_surf_1979.zarr')\n",
    "# ds_accum = xr.open_zarr(base_dir + 'accum/ERA5_plevel_6h_accum_1979.zarr')\n",
    "# # ds_upper = xr.open_zarr(base_dir + 'upper_air/ERA5_plevel_6h_upper_air_1979.zarr')\n",
    "# ds_upper = xr.open_zarr(base_dir + 'upper_subset/ERA5_subset_6h_upper_air_1979.zarr')\n",
    "# ds_static = xr.open_zarr(base_dir + 'static/ERA5_plevel_6h_static.zarr')"
   ]
  },
  {
   "cell_type": "code",
   "execution_count": 4,
   "id": "206c0efa-1c74-4596-b8f2-20727d061559",
   "metadata": {},
   "outputs": [],
   "source": [
    "x = ds_surf['longitude']\n",
    "y = ds_surf['latitude']\n",
    "\n",
    "lon, lat = np.meshgrid(x, y)\n",
    "level_p = 100*np.array(ds_upper['level'])\n",
    "tensor_shape = (len(level_p),) + lon.shape\n",
    "# level_p = 100*np.array([1, 50, 100, 150, 200, 250, 300, 400, 500, 600, 700, 850, 925, 1000])"
   ]
  },
  {
   "cell_type": "markdown",
   "id": "33c6e48e-3712-4f1c-a6e2-b8b963e194a9",
   "metadata": {},
   "source": [
    "### Convert data to `torch.Tensor`"
   ]
  },
  {
   "cell_type": "code",
   "execution_count": 5,
   "id": "86bae29b-857e-43ce-9bf8-3cf1b975aac7",
   "metadata": {},
   "outputs": [],
   "source": [
    "batch_size = 64\n",
    "target_shape_4D = (batch_size, 2)+tensor_shape\n",
    "target_shape_3D = (batch_size, 2,)+tensor_shape[1:]\n",
    "\n",
    "t_slice = np.arange(batch_size+1)"
   ]
  },
  {
   "cell_type": "code",
   "execution_count": 6,
   "id": "537ccbe9-3293-4ea4-a08e-ed7a28bec1fd",
   "metadata": {},
   "outputs": [],
   "source": [
    "# (batch, time, level, lat, lon) version\n",
    "def time_series_to_batch(q, target_shape):\n",
    "    q_batch = torch.as_strided(\n",
    "        q, size=target_shape, \n",
    "        stride=(q.stride(0), q.stride(0), *q.stride()[1:]))\n",
    "    return q_batch"
   ]
  },
  {
   "cell_type": "code",
   "execution_count": 7,
   "id": "b9cf44db-54b5-4139-a5ff-3e4d84f99502",
   "metadata": {},
   "outputs": [],
   "source": [
    "q = torch.from_numpy(np.array(ds_upper['Q'].isel(time=t_slice))) # kg/kg\n",
    "T = torch.from_numpy(np.array(ds_upper['T'].isel(time=t_slice))) # kg/kg\n",
    "u = torch.from_numpy(np.array(ds_upper['U'].isel(time=t_slice))) # m/s\n",
    "v = torch.from_numpy(np.array(ds_upper['V'].isel(time=t_slice)))\n",
    "precip = torch.from_numpy(np.array(ds_accum['total_precipitation'].isel(time=t_slice)))\n",
    "evapor = torch.from_numpy(np.array(ds_accum['evaporation'].isel(time=t_slice)))\n",
    "\n",
    "GPH_surf = torch.from_numpy(np.array(ds_static['geopotential_at_surface'])) # J/m2\n",
    "TOA_net = torch.from_numpy(np.array(ds_accum['top_net_solar_radiation'].isel(time=t_slice))) # J/m2\n",
    "OLR = torch.from_numpy(np.array(ds_accum['top_net_thermal_radiation'].isel(time=t_slice))) # J/m2\n",
    "R_short = torch.from_numpy(np.array(ds_accum['surface_net_solar_radiation'].isel(time=t_slice))) # J/m2\n",
    "R_long = torch.from_numpy(np.array(ds_accum['surface_net_thermal_radiation'].isel(time=t_slice))) # J/m2\n",
    "LH = torch.from_numpy(np.array(ds_accum['surface_latent_heat_flux'].isel(time=t_slice))) # J/m2\n",
    "SH = torch.from_numpy(np.array(ds_accum['surface_sensible_heat_flux'].isel(time=t_slice))) # J/m2"
   ]
  },
  {
   "cell_type": "code",
   "execution_count": 8,
   "id": "c45e7886-df26-465b-8a2e-a532b9d579b7",
   "metadata": {},
   "outputs": [],
   "source": [
    "q_batch = time_series_to_batch(q, target_shape_4D).permute(0, 2, 1, 3, 4)\n",
    "T_batch = time_series_to_batch(T, target_shape_4D).permute(0, 2, 1, 3, 4)\n",
    "u_batch = time_series_to_batch(u, target_shape_4D).permute(0, 2, 1, 3, 4)\n",
    "v_batch = time_series_to_batch(v, target_shape_4D).permute(0, 2, 1, 3, 4)\n",
    "precip_batch = time_series_to_batch(precip, target_shape_3D)\n",
    "evapor_batch = time_series_to_batch(evapor, target_shape_3D)\n",
    "\n",
    "GPH_surf_batch = GPH_surf.unsqueeze(0).unsqueeze(0).unsqueeze(0)\n",
    "TOA_net_batch = time_series_to_batch(TOA_net, target_shape_3D)\n",
    "OLR_batch = time_series_to_batch(OLR, target_shape_3D)\n",
    "R_short_batch = time_series_to_batch(R_short, target_shape_3D)\n",
    "R_long_batch = time_series_to_batch(R_long, target_shape_3D)\n",
    "LH_batch = time_series_to_batch(LH, target_shape_3D)\n",
    "SH_batch = time_series_to_batch(SH, target_shape_3D)"
   ]
  },
  {
   "cell_type": "code",
   "execution_count": 9,
   "id": "a5aeba04-6c49-4ef5-a6ed-0eaa609dedee",
   "metadata": {},
   "outputs": [],
   "source": [
    "longitude = torch.from_numpy(lon)\n",
    "latitude = torch.from_numpy(lat)\n",
    "upper_air_pressure = torch.from_numpy(level_p)"
   ]
  },
  {
   "cell_type": "markdown",
   "id": "01df5edf-87b8-4746-ba4a-150ca875e0fa",
   "metadata": {},
   "source": [
    "### `credit.physics_core` pressure level class"
   ]
  },
  {
   "cell_type": "code",
   "execution_count": 10,
   "id": "98ecd5a5-c7dc-456c-8be5-5b4e9caf480c",
   "metadata": {},
   "outputs": [],
   "source": [
    "GRAVITY = 9.80665\n",
    "RHO_WATER = 1000.0 # kg/m^3\n",
    "RAD_EARTH = 6371000 # m\n",
    "LH_WATER = 2.26e6  # J/kg\n",
    "CP_DRY = 1005 # J/kg K\n",
    "CP_VAPOR = 1846 # J/kg K\n",
    "\n",
    "class physics_pressure_level:\n",
    "    '''\n",
    "    Pressure level physics\n",
    "\n",
    "    Attributes:\n",
    "        upper_air_pressure (torch.Tensor): pressure levels in Pa.\n",
    "        lon (torch.Tensor): longitude in degrees.\n",
    "        lat (torch.Tensor): latitude in degrees.\n",
    "        pressure_thickness (torch.Tensor): pressure thickness between levels.\n",
    "        dx, dy (torch.Tensor): grid spacings in longitude and latitude.\n",
    "        area (torch.Tensor): area of grid cells.\n",
    "        integral (function): vertical integration method (midpoint or trapezoidal).\n",
    "    '''\n",
    "    \n",
    "    def __init__(self,\n",
    "                 lon: torch.Tensor,\n",
    "                 lat: torch.Tensor,\n",
    "                 upper_air_pressure: torch.Tensor,\n",
    "                 midpoint: bool = False):\n",
    "        '''\n",
    "        Initialize the class with longitude, latitude, and pressure levels.\n",
    "\n",
    "        All inputs must be in the same torch device.\n",
    "\n",
    "        Full order of dimensions:  (batch, time, level, latitude, longitude)\n",
    "        \n",
    "        Args:\n",
    "            lon (torch.Tensor): Longitude in degrees.\n",
    "            lat (torch.Tensor): Latitude in degrees.\n",
    "            upper_air_pressure (torch.Tensor): Pressure levels in Pa.\n",
    "            midpoint (bool): True if vertical level quantities are midpoint values\n",
    "                      otherwise False\n",
    "            \n",
    "        '''\n",
    "        self.lon = lon\n",
    "        self.lat = lat\n",
    "        self.upper_air_pressure = upper_air_pressure\n",
    "        \n",
    "        # ========================================================================= #\n",
    "        # compute pressure level thickness\n",
    "        self.pressure_thickness = self.upper_air_pressure.diff(dim=-1)\n",
    "        \n",
    "        # # ========================================================================= #\n",
    "        # # compute grid spacings\n",
    "        # lat_rad = torch.deg2rad(self.lat)\n",
    "        # lon_rad = torch.deg2rad(self.lon)\n",
    "        # self.dy = torch.gradient(lat_rad * RAD_EARTH, dim=0)[0]\n",
    "        # self.dx = torch.gradient(lon_rad * RAD_EARTH, dim=1)[0] * torch.cos(lat_rad)\n",
    "\n",
    "        # ========================================================================= #\n",
    "        # compute gtid area\n",
    "        # area = R^2 * d_sin(lat) * d_lon\n",
    "        lat_rad = torch.deg2rad(self.lat)\n",
    "        lon_rad = torch.deg2rad(self.lon)\n",
    "        sin_lat_rad = torch.sin(lat_rad)\n",
    "        d_phi = torch.gradient(sin_lat_rad, dim=0, edge_order=2)[0]\n",
    "        d_lambda = torch.gradient(lon_rad, dim=1, edge_order=2)[0]\n",
    "        d_lambda = (d_lambda + torch.pi) % (2 * torch.pi) - torch.pi\n",
    "        self.area = torch.abs(RAD_EARTH**2 * d_phi * d_lambda)\n",
    "        \n",
    "        # ========================================================================== #\n",
    "        # vertical integration method\n",
    "        if midpoint:\n",
    "            self.integral = self.pressure_integral_midpoint\n",
    "            self.integral_sliced = self.pressure_integral_midpoint_sliced\n",
    "        else:\n",
    "            self.integral = self.pressure_integral_trapz\n",
    "            self.integral_sliced = self.pressure_integral_trapz_sliced\n",
    "            \n",
    "    def pressure_integral_midpoint(self, q_mid: torch.Tensor) -> torch.Tensor:\n",
    "        '''\n",
    "        Compute the pressure level integral of a given quantity; assuming its mid point\n",
    "        values are pre-computed\n",
    "        \n",
    "        Args:\n",
    "            q_mid: the quantity with dims of (batch_size, time, level-1, latitude, longitude)\n",
    "    \n",
    "        Returns:\n",
    "            Pressure level integrals of q\n",
    "        '''\n",
    "        num_dims = len(q_mid.shape)\n",
    "        \n",
    "        if num_dims == 5:  # (batch_size, level, time, latitude, longitude)\n",
    "            delta_p = self.pressure_thickness.unsqueeze(0).unsqueeze(-1).unsqueeze(-1).unsqueeze(-1)\n",
    "            q_area = q_mid * delta_p\n",
    "            q_trapz = torch.sum(q_area, dim=1)\n",
    "        \n",
    "        elif num_dims == 4:  # (batch_size, level, latitude, longitude) or (time, level, latitude, longitude)\n",
    "            delta_p = self.pressure_thickness.unsqueeze(0).unsqueeze(-1).unsqueeze(-1)\n",
    "            q_area = q_mid * delta_p\n",
    "            q_trapz = torch.sum(q_area, dim=1)\n",
    "        \n",
    "        elif num_dims == 3:  # (level, latitude, longitude)\n",
    "            delta_p = self.pressure_thickness.unsqueeze(-1).unsqueeze(-1)  # Expand for broadcasting\n",
    "            q_area = q_mid * delta_p\n",
    "            q_trapz = torch.sum(q_area, dim=0)\n",
    "        \n",
    "        else:\n",
    "            raise ValueError(f\"Unsupported tensor dimensions: {q.shape}\")\n",
    "        \n",
    "        return q_trapz\n",
    "\n",
    "    def pressure_integral_midpoint_sliced(self, \n",
    "                                          q_mid: torch.Tensor,                                        \n",
    "                                          ind_start: int,\n",
    "                                          ind_end: int) -> torch.Tensor:\n",
    "        '''\n",
    "        As in `pressure_integral_midpoint`, but supports pressure level indexing,\n",
    "        so it can calculate integrals of a subset of levels\n",
    "        '''\n",
    "        num_dims = len(q_mid.shape)\n",
    "\n",
    "        delta_p = self.pressure_thickness[ind_start:ind_end]\n",
    "        \n",
    "        if num_dims == 5:  # (batch_size, time, level, latitude, longitude)\n",
    "            delta_p = delta_p.unsqueeze(0).unsqueeze(-1).unsqueeze(-1).unsqueeze(-1)\n",
    "            q_mid = q_mid[:, ind_start:ind_end, ...]\n",
    "            q_area = q_mid * delta_p\n",
    "            q_trapz = torch.sum(q_area, dim=1)\n",
    "        \n",
    "        elif num_dims == 4:  # (batch_size, level, latitude, longitude) or (time, level, latitude, longitude)\n",
    "            delta_p = delta_p.unsqueeze(0).unsqueeze(-1).unsqueeze(-1)\n",
    "            q_mid = q_mid[:, ind_start:ind_end, ...]\n",
    "            q_area = q_mid * delta_p  # Trapezoidal rule\n",
    "            q_trapz = torch.sum(q_area, dim=1)\n",
    "        \n",
    "        elif num_dims == 3:  # (level, latitude, longitude)\n",
    "            delta_p = delta_p.unsqueeze(-1).unsqueeze(-1)  # Expand for broadcasting\n",
    "            q_mid = q_mid[ind_start:ind_end, ...]\n",
    "            q_area = q_mid * delta_p\n",
    "            q_trapz = torch.sum(q_area, dim=0)\n",
    "        \n",
    "        else:\n",
    "            raise ValueError(f\"Unsupported tensor dimensions: {q.shape}\")\n",
    "        \n",
    "        return q_trapz\n",
    "        \n",
    "    def pressure_integral_trapz(self, q: torch.Tensor) -> torch.Tensor:\n",
    "        '''\n",
    "        Compute the pressure level integral of a given quantity using the trapezoidal rule.\n",
    "        \n",
    "        Args:\n",
    "            q: the quantity with dims of (batch_size, time, level, latitude, longitude)\n",
    "    \n",
    "        Returns:\n",
    "            Pressure level integrals of q\n",
    "        '''\n",
    "        num_dims = len(q.shape)\n",
    "        \n",
    "        if num_dims == 5:  # (batch_size, level, time, latitude, longitude)\n",
    "            delta_p = self.pressure_thickness.unsqueeze(0).unsqueeze(-1).unsqueeze(-1).unsqueeze(-1)\n",
    "            q_area = 0.5 * (q[:, :-1, :, :, :] + q[:, 1:, :, :, :]) * delta_p\n",
    "            q_trapz = torch.sum(q_area, dim=1)\n",
    "        \n",
    "        elif num_dims == 4:  # (batch_size, level, latitude, longitude) or (time, level, latitude, longitude)\n",
    "            delta_p = self.pressure_thickness.unsqueeze(0).unsqueeze(-1).unsqueeze(-1)\n",
    "            q_area = 0.5 * (q[:, :-1, :, :] + q[:, 1:, :, :]) * delta_p  # Trapezoidal rule\n",
    "            q_trapz = torch.sum(q_area, dim=1)\n",
    "        \n",
    "        elif num_dims == 3:  # (level, latitude, longitude)\n",
    "            delta_p = self.pressure_thickness.unsqueeze(-1).unsqueeze(-1)  # Expand for broadcasting\n",
    "            q_area = 0.5 * (q[:-1, :, :] + q[1:, :, :]) * delta_p\n",
    "            q_trapz = torch.sum(q_area, dim=0)\n",
    "        \n",
    "        else:\n",
    "            raise ValueError(f\"Unsupported tensor dimensions: {q.shape}\")\n",
    "        \n",
    "        return q_trapz\n",
    "\n",
    "    def pressure_integral_trapz_sliced(self, \n",
    "                                       q: torch.Tensor,\n",
    "                                       ind_start: int,\n",
    "                                       ind_end: int) -> torch.Tensor:\n",
    "        '''\n",
    "        As in `pressure_integral_trapz`, but supports pressure level indexing,\n",
    "        so it can calculate integrals of a subset of levels\n",
    "        '''\n",
    "        num_dims = len(q.shape)\n",
    "\n",
    "        delta_p = self.upper_air_pressure[ind_start:ind_end].diff(dim=-1)\n",
    "        \n",
    "        if num_dims == 5:  # (batch_size, level, time, latitude, longitude)\n",
    "            delta_p = delta_p.unsqueeze(0).unsqueeze(-1).unsqueeze(-1).unsqueeze(-1)\n",
    "            q_slice = q[:, ind_start:ind_end, ...]\n",
    "            q_area = 0.5 * (q_slice[:, :-1, :, :, :] + q_slice[:, 1:, :, :, :]) * delta_p\n",
    "            q_trapz = torch.sum(q_area, dim=1)\n",
    "        \n",
    "        elif num_dims == 4:  # (batch_size, level, latitude, longitude) or (time, level, latitude, longitude)\n",
    "            delta_p = delta_p.unsqueeze(0).unsqueeze(-1).unsqueeze(-1)\n",
    "            q_slice = q[:, ind_start:ind_end, ...]\n",
    "            q_area = 0.5 * (q_slice[:, :-1, :, :] + q_slice[:, 1:, :, :]) * delta_p  # Trapezoidal rule\n",
    "            q_trapz = torch.sum(q_area, dim=1)\n",
    "        \n",
    "        elif num_dims == 3:  # (level, latitude, longitude)\n",
    "            delta_p = delta_p.unsqueeze(-1).unsqueeze(-1)  # Expand for broadcasting\n",
    "            q_slice = q[ind_start:ind_end, ...]\n",
    "            q_area = 0.5 * (q_slice[:-1, :, :] + q_slice[1:, :, :]) * delta_p\n",
    "            q_trapz = torch.sum(q_area, dim=0)\n",
    "        \n",
    "        else:\n",
    "            raise ValueError(f\"Unsupported tensor dimensions: {q.shape}\")\n",
    "        \n",
    "        return q_trapz\n",
    "    \n",
    "\n",
    "    def weighted_sum(self,\n",
    "                     q: torch.Tensor, \n",
    "                     axis: Dict[tuple, None] = None, \n",
    "                     keepdims: bool = False) -> torch.Tensor:\n",
    "        '''\n",
    "        Compute the weighted sum of a given quantity for PyTorch tensors.\n",
    "        \n",
    "        Args:\n",
    "            data: the quantity to be summed (PyTorch tensor)\n",
    "            axis: dims to compute the sum (can be int or tuple of ints)\n",
    "            keepdims: whether to keep the reduced dimensions or not\n",
    "    \n",
    "        Returns:\n",
    "            Weighted sum (PyTorch tensor)\n",
    "        '''\n",
    "        q_w = q * self.area\n",
    "        q_sum = torch.sum(q_w, dim=axis, keepdim=keepdims)\n",
    "        return q_sum\n",
    "\n",
    "    def total_dry_air_mass(self, \n",
    "                           q: torch.Tensor) -> torch.Tensor:\n",
    "        '''\n",
    "        Compute the total mass of dry air over the entire globe [kg]\n",
    "        '''\n",
    "        mass_dry_per_area = self.integral(1-q) / GRAVITY # kg/m^2\n",
    "        # weighted sum on latitude and longitude dimensions\n",
    "        mass_dry_sum = self.weighted_sum(mass_dry_per_area, axis=(-2, -1)) # kg\n",
    "        \n",
    "        return mass_dry_sum\n",
    "\n",
    "    def total_column_water(self, \n",
    "                           q: torch.Tensor) -> torch.Tensor:\n",
    "        '''\n",
    "        Compute total column water (TCW) per air column [kg/m2]\n",
    "        '''\n",
    "        TWC = self.integral(q) / GRAVITY # kg/m^2\n",
    "        \n",
    "        return TWC"
   ]
  },
  {
   "cell_type": "code",
   "execution_count": 11,
   "id": "398b3e98-9e6b-4d58-ab99-3bec9dfe44d4",
   "metadata": {},
   "outputs": [],
   "source": [
    "physics_core = physics_pressure_level(longitude, latitude, upper_air_pressure, midpoint=False)"
   ]
  },
  {
   "cell_type": "markdown",
   "id": "97a9c20b-f035-4a23-ab66-0056d0529b3e",
   "metadata": {},
   "source": [
    "## Conservation of total dry air mass"
   ]
  },
  {
   "cell_type": "code",
   "execution_count": 12,
   "id": "56876d3b-303f-4d02-a5df-40f6a981398c",
   "metadata": {},
   "outputs": [],
   "source": [
    "ind_fix = 24\n",
    "N_levels = len(upper_air_pressure)"
   ]
  },
  {
   "cell_type": "code",
   "execution_count": 13,
   "id": "4bfb618a-33ac-49f5-b31c-7f57fb275f58",
   "metadata": {},
   "outputs": [
    {
     "name": "stdout",
     "output_type": "stream",
     "text": [
      "Residual to conserve the dry air mass [kg]: tensor([-1.1399e+13, -6.1822e+12, -2.2353e+13, -1.0393e+13, -1.6828e+13,\n",
      "         5.1657e+11, -1.7665e+13, -3.6353e+12, -6.0755e+12,  9.3962e+12,\n",
      "        -1.2338e+13, -3.5996e+13, -1.3081e+13, -1.5854e+13, -9.0417e+12,\n",
      "         1.9265e+13, -2.7896e+13,  1.3063e+13, -2.4751e+13,  5.3644e+12,\n",
      "        -9.9773e+12,  1.6798e+13,  2.8719e+12,  7.7928e+12,  1.5677e+13,\n",
      "         4.3084e+13,  1.6181e+13, -5.7406e+12,  2.9898e+13,  3.4587e+13,\n",
      "         6.4398e+11, -8.1429e+12,  1.7020e+13,  2.4333e+13, -5.4689e+12,\n",
      "         1.3990e+13,  3.6388e+13,  4.6260e+13,  5.1963e+12, -7.7809e+12,\n",
      "         1.7242e+12,  2.8496e+13, -1.3586e+12,  1.0690e+13,  1.5660e+13,\n",
      "         3.6193e+13,  1.0461e+11, -1.6270e+13,  1.4462e+13,  4.7283e+13,\n",
      "         1.2494e+13,  6.5931e+12,  5.9314e+12,  2.6126e+13, -9.1448e+12,\n",
      "         1.3154e+13, -9.1608e+11,  1.3272e+13, -1.7012e+13,  2.2345e+12,\n",
      "        -1.6404e+13,  1.6785e+12, -8.8135e+12,  1.8329e+13],\n",
      "       dtype=torch.float64)\n"
     ]
    }
   ],
   "source": [
    "q_batch_correct = q_batch.clone()\n",
    "\n",
    "mass_dry_per_area_hold = physics_core.integral_sliced(1-q_batch_correct, 0, ind_fix) / GRAVITY\n",
    "mass_dry_sum_hold = physics_core.weighted_sum(mass_dry_per_area_hold, axis=(-2, -1))\n",
    "\n",
    "mass_dry_per_area_fix = physics_core.integral_sliced(1-q_batch_correct, ind_fix-1, N_levels) / GRAVITY\n",
    "mass_dry_sum_fix = physics_core.weighted_sum(mass_dry_per_area_fix, axis=(-2, -1))\n",
    "\n",
    "mass_dry_sum = mass_dry_sum_hold + mass_dry_sum_fix\n",
    "# ------------------------------------------------------------------------------ #\n",
    "# check residual term\n",
    "mass_dry_res = mass_dry_sum[:, 1] - mass_dry_sum[:, 0]\n",
    "print('Residual to conserve the dry air mass [kg]: {}'.format(mass_dry_res))\n",
    "# ------------------------------------------------------------------------------ #\n",
    "\n",
    "#mass_dry_sum = physics_core.total_dry_air_mass(q_batch_correct)\n",
    "\n",
    "mass_residual_on_fix = mass_dry_sum[:, 0] - mass_dry_sum_hold[:, 1]\n",
    "\n",
    "# Compute the ratio\n",
    "q_correct_ratio = mass_residual_on_fix / mass_dry_sum_fix[:, 1]\n",
    "q_correct_ratio = q_correct_ratio.unsqueeze(-1).unsqueeze(-1).unsqueeze(-1)\n",
    "\n",
    "q_batch_correct[:, ind_fix-1:, 1, ...] = 1 - (1 - q_batch_correct[:, ind_fix-1:, 1, ...]) * q_correct_ratio"
   ]
  },
  {
   "cell_type": "code",
   "execution_count": 14,
   "id": "a8a3b1f0-2796-4b1e-b477-5fa7829272bc",
   "metadata": {},
   "outputs": [
    {
     "name": "stdout",
     "output_type": "stream",
     "text": [
      "Residual to conserve the dry air mass [kg]: tensor([ 6.9509e+11,  4.0885e+11,  1.4078e+12,  6.4591e+11,  1.0496e+12,\n",
      "        -1.0420e+10,  1.0934e+12,  2.1636e+11,  3.5707e+11, -5.8398e+11,\n",
      "         7.8352e+11,  2.2627e+12,  8.0991e+11,  9.6994e+11,  5.5208e+11,\n",
      "        -1.2107e+12,  1.7561e+12, -8.3651e+11,  1.5445e+12, -2.8516e+11,\n",
      "         6.2872e+11, -1.0571e+12, -1.7373e+11, -4.3924e+11, -1.0149e+12,\n",
      "        -2.7005e+12, -1.0249e+12,  3.4124e+11, -1.8657e+12, -2.1568e+12,\n",
      "         8.4724e+09,  5.2184e+11, -1.0760e+12, -1.5072e+12,  3.2792e+11,\n",
      "        -8.7736e+11, -2.2855e+12, -2.9114e+12, -3.3312e+11,  4.6299e+11,\n",
      "        -1.2021e+11, -1.7943e+12,  9.0686e+10, -6.7237e+11, -9.9338e+11,\n",
      "        -2.2831e+12, -1.9362e+10,  1.0396e+12, -8.9415e+11, -2.9445e+12,\n",
      "        -7.7169e+11, -4.0491e+11, -3.8082e+11, -1.6561e+12,  5.7175e+11,\n",
      "        -8.1994e+11, -1.7098e+10, -8.4203e+11,  1.0766e+12, -1.3691e+11,\n",
      "         1.0470e+12, -1.2581e+11,  5.5494e+11, -1.1431e+12],\n",
      "       dtype=torch.float64)\n"
     ]
    }
   ],
   "source": [
    "# ------------------------------------------------------------------------------ #\n",
    "mass_dry_sum = physics_core.total_dry_air_mass(q_batch_correct)\n",
    "mass_dry_res = mass_dry_sum[:, 1] - mass_dry_sum[:, 0]\n",
    "print('Residual to conserve the dry air mass [kg]: {}'.format(mass_dry_res))\n",
    "# ------------------------------------------------------------------------------ #"
   ]
  },
  {
   "cell_type": "markdown",
   "id": "7261f125-f88f-4652-9475-1694a35a7123",
   "metadata": {},
   "source": [
    "**Old**"
   ]
  },
  {
   "cell_type": "code",
   "execution_count": 15,
   "id": "03b722a4-37cb-43d0-9c04-938c872f5487",
   "metadata": {},
   "outputs": [],
   "source": [
    "# q_batch_correct = q_batch.clone()\n",
    "\n",
    "# correction_cycle_num = 1 # iterative to handle numrical precision\n",
    "\n",
    "# for i in range(correction_cycle_num):\n",
    "#     mass_dry_sum = physics_core.total_dry_air_mass(q_batch_correct)\n",
    "    \n",
    "#     # ------------------------------------------------------------------------------ #\n",
    "#     # check residual term\n",
    "#     mass_dry_res = mass_dry_sum[:, 1] - mass_dry_sum[:, 0]\n",
    "#     print('Residual to conserve the dry air mass [kg]: {}'.format(mass_dry_res))\n",
    "#     # ------------------------------------------------------------------------------ #\n",
    "    \n",
    "#     q_correct_ratio = mass_dry_sum[:, 0] / mass_dry_sum[:, 1]\n",
    "#     q_correct_ratio = q_correct_ratio.unsqueeze(-1).unsqueeze(-1).unsqueeze(-1)\n",
    "#     q_batch_correct[:, :, 1, ...] = 1 - (1 - q_batch_correct[:, :, 1, ...]) * q_correct_ratio"
   ]
  },
  {
   "cell_type": "code",
   "execution_count": 16,
   "id": "3cef80dd-9849-48fe-9024-64529d6b9ee5",
   "metadata": {},
   "outputs": [
    {
     "name": "stdout",
     "output_type": "stream",
     "text": [
      "Residual to conserve the dry air mass [kg]: tensor([ 6.9509e+11,  4.0885e+11,  1.4078e+12,  6.4591e+11,  1.0496e+12,\n",
      "        -1.0420e+10,  1.0934e+12,  2.1636e+11,  3.5707e+11, -5.8398e+11,\n",
      "         7.8352e+11,  2.2627e+12,  8.0991e+11,  9.6994e+11,  5.5208e+11,\n",
      "        -1.2107e+12,  1.7561e+12, -8.3651e+11,  1.5445e+12, -2.8516e+11,\n",
      "         6.2872e+11, -1.0571e+12, -1.7373e+11, -4.3924e+11, -1.0149e+12,\n",
      "        -2.7005e+12, -1.0249e+12,  3.4124e+11, -1.8657e+12, -2.1568e+12,\n",
      "         8.4724e+09,  5.2184e+11, -1.0760e+12, -1.5072e+12,  3.2792e+11,\n",
      "        -8.7736e+11, -2.2855e+12, -2.9114e+12, -3.3312e+11,  4.6299e+11,\n",
      "        -1.2021e+11, -1.7943e+12,  9.0686e+10, -6.7237e+11, -9.9338e+11,\n",
      "        -2.2831e+12, -1.9362e+10,  1.0396e+12, -8.9415e+11, -2.9445e+12,\n",
      "        -7.7169e+11, -4.0491e+11, -3.8082e+11, -1.6561e+12,  5.7175e+11,\n",
      "        -8.1994e+11, -1.7098e+10, -8.4203e+11,  1.0766e+12, -1.3691e+11,\n",
      "         1.0470e+12, -1.2581e+11,  5.5494e+11, -1.1431e+12],\n",
      "       dtype=torch.float64)\n"
     ]
    }
   ],
   "source": [
    "# ------------------------------------------------------------------------------ #\n",
    "mass_dry_sum = physics_core.total_dry_air_mass(q_batch_correct)\n",
    "# mass_dry_res = mass_dry_sum[:, 1] - mass_dry_sum[:, 0]\n",
    "print('Residual to conserve the dry air mass [kg]: {}'.format(mass_dry_res))\n",
    "# ------------------------------------------------------------------------------ #"
   ]
  },
  {
   "cell_type": "markdown",
   "id": "da483aec-5cd7-41ce-8691-9eb30550834c",
   "metadata": {},
   "source": [
    "## Conservation of moisture"
   ]
  },
  {
   "cell_type": "code",
   "execution_count": 17,
   "id": "c75e2308-1387-4821-84d2-8e110169bf4c",
   "metadata": {},
   "outputs": [
    {
     "name": "stdout",
     "output_type": "stream",
     "text": [
      "Residual to conserve moisture budge [kg/s]: tensor([-1.5168e+08,  8.1725e+08,  7.8938e+07, -4.6144e+08,  1.6145e+08,\n",
      "         4.0507e+08,  2.4236e+07, -2.6004e+08,  6.1994e+07,  6.2030e+08,\n",
      "        -1.0645e+08, -4.9454e+08,  6.1004e+08,  5.5018e+08, -6.7023e+08,\n",
      "        -5.4988e+08,  5.8153e+08,  1.1151e+09,  4.1976e+08, -3.8566e+08,\n",
      "         5.0965e+08,  4.2488e+07, -6.1936e+08, -1.1281e+09, -5.8318e+08,\n",
      "        -9.2500e+08, -1.4729e+09, -1.7925e+09, -1.1098e+09, -7.3493e+08,\n",
      "        -7.4473e+08, -1.0190e+09, -6.5689e+08, -4.1555e+08, -5.8804e+08,\n",
      "        -1.2679e+09, -1.5663e+09, -9.3553e+08, -9.8787e+08, -1.0895e+09,\n",
      "        -3.1924e+08, -3.3563e+08, -7.7815e+08, -1.1565e+09, -9.5750e+08,\n",
      "        -9.4542e+08, -9.0858e+08, -7.8964e+08, -8.9020e+08, -1.2442e+09,\n",
      "        -1.2491e+09, -1.2804e+09, -7.2070e+08, -4.3521e+08, -4.2332e+08,\n",
      "        -6.4981e+08, -8.3582e+07,  3.3719e+08, -7.9500e+07, -5.8825e+08,\n",
      "         2.7331e+07,  5.3509e+08, -3.8185e+08, -1.5456e+09],\n",
      "       dtype=torch.float64)\n"
     ]
    }
   ],
   "source": [
    "N_seconds = 3600 * 6 # 6 hourly data\n",
    "\n",
    "precip_batch_flux = precip_batch[:, 1, ...] * RHO_WATER / N_seconds # m/hour --> kg/m^2/s, positive\n",
    "evapor_batch_flux = evapor_batch[:, 1, ...] * RHO_WATER / N_seconds # kg/m^2/s, negative\n",
    "\n",
    "precip_batch_correct = precip_batch_flux.clone()\n",
    "\n",
    "# pre-compute TWC\n",
    "TWC = physics_core.total_column_water(q_batch_correct)\n",
    "dTWC_dt = (TWC[:, 1, ...] - TWC[:, 0, ...]) / N_seconds # kg/m^2/s\n",
    "TWC_sum = physics_core.weighted_sum(dTWC_dt, axis=(-2, -1)) # kg/s\n",
    "\n",
    "# pre-compute evaporation\n",
    "E_sum = physics_core.weighted_sum(evapor_batch_flux, axis=(-2, -1)) # kg/s\n",
    "\n",
    "correction_cycle_num = 1\n",
    "\n",
    "for i in range(correction_cycle_num):\n",
    "    P_sum = physics_core.weighted_sum(precip_batch_correct, axis=(-2, -1)) # kg/s\n",
    "    residual = -TWC_sum - E_sum - P_sum # kg/s\n",
    "\n",
    "    # ------------------------------------------------------------------------------ #\n",
    "    print('Residual to conserve moisture budge [kg/s]: {}'.format(residual))\n",
    "    # ------------------------------------------------------------------------------ #\n",
    "    \n",
    "    # P_correct = P_sum + residual # kg/s\n",
    "    P_correct_ratio = (P_sum + residual) / P_sum\n",
    "    P_correct_ratio = P_correct_ratio.unsqueeze(-1).unsqueeze(-1)\n",
    "    precip_batch_correct = precip_batch_correct * P_correct_ratio"
   ]
  },
  {
   "cell_type": "code",
   "execution_count": 18,
   "id": "9dd8756f-7859-40ac-83a3-9de902ffec6b",
   "metadata": {},
   "outputs": [
    {
     "name": "stdout",
     "output_type": "stream",
     "text": [
      "Residual to conserve moisture budge [kg/s]: tensor([ -874.7156,   -90.9392,  -501.8408,   435.4669,   336.4176,   636.4086,\n",
      "         -732.4830,   575.5671,   450.8901, -1179.6511,   502.2926,  -927.9430,\n",
      "          646.7278,  -342.5582,   820.5086,    88.2951,  -206.5913, -1568.8612,\n",
      "          -95.0119,   627.5631,   152.7741,  -497.4650,   122.2431,   514.7252,\n",
      "          334.7354, -1137.4798,  1284.5080,   123.6681,   414.2711,   398.7937,\n",
      "          476.8464,  -622.6649,   332.2394, -1204.9807,   -74.0208,   407.3359,\n",
      "         -982.1229,  -354.3493, -1055.6186,  -769.4539,  -465.1213,  -606.3862,\n",
      "         -498.8248,   403.5292,   838.3971,   228.1954,  -279.3270,  -198.4896,\n",
      "          423.5581,  -195.8684,  -393.9427,  -230.5711,  -753.5994,   310.2205,\n",
      "         -509.0625,   368.2702,  -429.9662,   321.7530,   825.5231,   -89.6560,\n",
      "          129.3203,   634.6681,   337.3184,  -707.9703], dtype=torch.float64)\n"
     ]
    }
   ],
   "source": [
    "# ------------------------------------------------------------------------------ #\n",
    "P_sum = physics_core.weighted_sum(precip_batch_correct, axis=(-2, -1)) # kg/s\n",
    "residual = -TWC_sum - E_sum - P_sum # kg/s\n",
    "print('Residual to conserve moisture budge [kg/s]: {}'.format(residual))\n",
    "# ------------------------------------------------------------------------------ #"
   ]
  },
  {
   "cell_type": "code",
   "execution_count": 19,
   "id": "6556ea30-bff2-4647-871b-1dae8024bd54",
   "metadata": {},
   "outputs": [
    {
     "data": {
      "text/plain": [
       "tensor(-7.4016e-07, dtype=torch.float64)"
      ]
     },
     "execution_count": 19,
     "metadata": {},
     "output_type": "execute_result"
    }
   ],
   "source": [
    "(precip_batch_correct - precip_batch_flux).mean()"
   ]
  },
  {
   "cell_type": "code",
   "execution_count": 20,
   "id": "19494f11-5d33-489e-b182-889f6b980c21",
   "metadata": {},
   "outputs": [
    {
     "data": {
      "text/plain": [
       "tensor(0.0003, dtype=torch.float64)"
      ]
     },
     "execution_count": 20,
     "metadata": {},
     "output_type": "execute_result"
    }
   ],
   "source": [
    "(precip_batch_correct - precip_batch_flux).max()"
   ]
  },
  {
   "cell_type": "markdown",
   "id": "1849ff22-0561-4550-a69a-4ea522a9a8ff",
   "metadata": {},
   "source": [
    "### Conservation of energy"
   ]
  },
  {
   "cell_type": "code",
   "execution_count": 21,
   "id": "c243538f-f550-47f8-b7a5-a7988850fec9",
   "metadata": {},
   "outputs": [
    {
     "name": "stdout",
     "output_type": "stream",
     "text": [
      "Residual to conserve energy budget [Watts]: tensor([-7.5009e+14, -1.1777e+16,  2.6745e+15, -4.6578e+15,  1.0571e+15,\n",
      "        -1.4666e+16,  3.1927e+15, -1.6726e+15, -1.2179e+14, -1.0903e+16,\n",
      "         2.6925e+15, -4.3855e+15,  1.5747e+15, -1.6774e+16,  2.2277e+15,\n",
      "        -5.8720e+15,  2.8603e+15, -9.0812e+15,  5.8271e+15, -3.2539e+15,\n",
      "         1.9158e+15, -9.1749e+15,  2.0047e+15, -4.2040e+15, -1.0004e+15,\n",
      "        -1.7374e+16, -1.2836e+15, -7.0447e+15, -2.9478e+15, -1.4620e+16,\n",
      "         1.7221e+15, -5.4929e+15, -2.7841e+15, -1.2605e+16,  2.0757e+15,\n",
      "        -3.8119e+15, -6.0479e+15, -1.5652e+16,  2.3484e+14, -7.9958e+15,\n",
      "        -1.9099e+15, -1.2560e+16,  1.6726e+15, -7.9714e+15, -3.2428e+15,\n",
      "        -1.5958e+16,  1.2185e+15, -7.2020e+15, -2.1522e+15, -1.6731e+16,\n",
      "        -1.2706e+15, -1.1454e+16, -2.0984e+15, -1.8182e+16,  1.0513e+15,\n",
      "        -6.9333e+15, -1.3373e+15, -1.3688e+16,  1.7749e+15, -8.2970e+15,\n",
      "        -2.1178e+13, -1.5914e+16,  6.6188e+14, -8.0890e+15],\n",
      "       dtype=torch.float64)\n",
      "Sources & sinks [Watts]: tensor([-7.9992e+15, -1.0884e+15, -2.1736e+15, -1.0477e+16, -7.5407e+15,\n",
      "        -4.2307e+14, -1.0417e+15, -9.9128e+15, -7.3291e+15,  1.4379e+14,\n",
      "        -2.4204e+14, -8.4010e+15, -6.0793e+15,  3.1502e+14,  1.9501e+14,\n",
      "        -8.2972e+15, -6.5555e+15, -9.3473e+14, -6.7650e+14, -9.5765e+15,\n",
      "        -8.2268e+15, -2.8152e+15, -2.9503e+15, -1.1942e+16, -9.9187e+15,\n",
      "        -3.6381e+15, -3.1208e+15, -1.1683e+16, -9.8923e+15, -3.7861e+15,\n",
      "        -3.2175e+15, -1.1799e+16, -1.0212e+16, -3.3746e+15, -2.5991e+15,\n",
      "        -1.1411e+16, -8.9905e+15, -1.3023e+15, -7.3192e+14, -9.9099e+15,\n",
      "        -7.9442e+15, -1.5331e+15, -1.9491e+15, -1.0949e+16, -9.3189e+15,\n",
      "        -2.9332e+15, -3.4860e+15, -1.2600e+16, -1.1002e+16, -4.1690e+15,\n",
      "        -4.0735e+15, -1.2614e+16, -1.0039e+16, -2.6674e+15, -2.5019e+15,\n",
      "        -1.1319e+16, -8.8400e+15, -1.7223e+15, -1.6150e+15, -1.0085e+16,\n",
      "        -7.8787e+15, -1.3847e+15, -1.4826e+15, -1.0160e+16])\n",
      "Tendency [Watts]: tensor([-7.2491e+15,  1.0688e+16, -4.8481e+15, -5.8192e+15, -8.5978e+15,\n",
      "         1.4243e+16, -4.2344e+15, -8.2402e+15, -7.2073e+15,  1.1047e+16,\n",
      "        -2.9346e+15, -4.0156e+15, -7.6540e+15,  1.7089e+16, -2.0327e+15,\n",
      "        -2.4251e+15, -9.4158e+15,  8.1465e+15, -6.5036e+15, -6.3227e+15,\n",
      "        -1.0143e+16,  6.3597e+15, -4.9549e+15, -7.7379e+15, -8.9183e+15,\n",
      "         1.3735e+16, -1.8373e+15, -4.6383e+15, -6.9445e+15,  1.0834e+16,\n",
      "        -4.9396e+15, -6.3063e+15, -7.4282e+15,  9.2300e+15, -4.6748e+15,\n",
      "        -7.5988e+15, -2.9427e+15,  1.4350e+16, -9.6676e+14, -1.9141e+15,\n",
      "        -6.0343e+15,  1.1027e+16, -3.6217e+15, -2.9775e+15, -6.0761e+15,\n",
      "         1.3025e+16, -4.7046e+15, -5.3980e+15, -8.8501e+15,  1.2562e+16,\n",
      "        -2.8029e+15, -1.1596e+15, -7.9402e+15,  1.5514e+16, -3.5532e+15,\n",
      "        -4.3857e+15, -7.5027e+15,  1.1966e+16, -3.3898e+15, -1.7875e+15,\n",
      "        -7.8575e+15,  1.4530e+16, -2.1445e+15, -2.0711e+15],\n",
      "       dtype=torch.float64)\n"
     ]
    }
   ],
   "source": [
    "N_seconds = 3600 * 6 # 6 hourly data\n",
    "\n",
    "# C_p (batch, time, level, lat, lon)\n",
    "C_p = (1 - q_batch_correct) * CP_DRY + q_batch_correct * CP_VAPOR\n",
    "# kinetic energy (batch, time, level, lat, lon)\n",
    "ken = 0.5 * (u_batch ** 2 + v_batch ** 2)\n",
    "\n",
    "# initialize T_correct\n",
    "T_batch_correct = T_batch.clone()\n",
    "\n",
    "# layer-wise atmospheric energy, but without thermal energy \n",
    "# (batch, time, level, lat, lon)\n",
    "E_qgk = LH_WATER * q_batch_correct + GPH_surf_batch + ken\n",
    "\n",
    "# TOA net energy flux (batch, time, lat, lon)\n",
    "R_T = (TOA_net_batch + OLR_batch) / N_seconds\n",
    "R_T = R_T[:, 1, :, :]\n",
    "# R_T global sum\n",
    "R_T_sum = physics_core.weighted_sum(R_T, axis=(-2, -1))\n",
    "\n",
    "# surface net energy flux (batch, time, lat, lon)\n",
    "F_S = (R_short_batch + R_long_batch + LH_batch + SH_batch) / N_seconds\n",
    "F_S = F_S[:, 1, :, :]  # Extract time index 1\n",
    "# F_S global sum\n",
    "F_S_sum = physics_core.weighted_sum(F_S, axis=(-2, -1))\n",
    "\n",
    "correction_cycle_num = 1\n",
    "\n",
    "for i in range(correction_cycle_num):\n",
    "\n",
    "    # layer-wise atmospheric energy (sensible heat + others)\n",
    "    #  (batch, time, level, lat, lon)\n",
    "    E_level = C_p * T_batch_correct + E_qgk\n",
    "\n",
    "    # total atmospheric energy (TE) of an air column\n",
    "    # (batch, time, lat, lon)\n",
    "    TE = physics_core.integral(E_level) / GRAVITY\n",
    "\n",
    "    # ---------------------------------------------------------------------------- #\n",
    "    # tendency of TE (batch, lat, lon)\n",
    "    dTE_dt = (TE[:, 1, :, :] - TE[:, 0, :, :]) / N_seconds\n",
    "    # global sum of TE tendency (batch,)\n",
    "    dTE_sum = physics_core.weighted_sum(dTE_dt, axis=(1, 2), keepdims=False)\n",
    "    # compute the residual (batch,)\n",
    "    delta_dTE_sum = (R_T_sum - F_S_sum) - dTE_sum\n",
    "    print('Residual to conserve energy budget [Watts]: {}'.format(delta_dTE_sum))\n",
    "    print('Sources & sinks [Watts]: {}'.format(R_T_sum - F_S_sum))\n",
    "    print('Tendency [Watts]: {}'.format(dTE_sum))\n",
    "    # ---------------------------------------------------------------------------- #\n",
    "\n",
    "    # TE at t0 and t1 (batch,)\n",
    "    total_weighted_TE_t0 = physics_core.weighted_sum(TE[:, 0, :, :], axis=(-2, -1)) \n",
    "    total_weighted_TE_t1 = physics_core.weighted_sum(TE[:, 1, :, :], axis=(-2, -1))\n",
    "\n",
    "    # calculate the correction ratio for E_t1 (batch,) --> (batch, 1, 1, 1)\n",
    "    E_correct_ratio = (N_seconds * (R_T_sum - F_S_sum) + total_weighted_TE_t0) / total_weighted_TE_t1\n",
    "    E_correct_ratio = E_correct_ratio.view(-1, 1, 1, 1)\n",
    "\n",
    "    # Apply the correction to layer-wise atmospheric energy at t1\n",
    "    # (batch, level, lat, lon)\n",
    "    E_t1_correct = E_level[:, :, 1, :, :] * E_correct_ratio\n",
    "\n",
    "    # barotropic correction of T at t1\n",
    "    T_batch_correct[:, :, 1, :, :] = (E_t1_correct - E_qgk[:, :, 1, :, :]) / C_p[:, :, 1, :, :]"
   ]
  },
  {
   "cell_type": "code",
   "execution_count": null,
   "id": "a810a941-333a-4850-84dd-65f915e50b29",
   "metadata": {},
   "outputs": [],
   "source": []
  },
  {
   "cell_type": "code",
   "execution_count": null,
   "id": "dd5f4d41-c7f9-4d82-a9a2-ec8b5467eb75",
   "metadata": {},
   "outputs": [],
   "source": []
  },
  {
   "cell_type": "code",
   "execution_count": 22,
   "id": "b7895dc3-c929-4daf-b744-67b89b2330c7",
   "metadata": {},
   "outputs": [
    {
     "name": "stdout",
     "output_type": "stream",
     "text": [
      "Residual to conserve energy budget [Watts]: tensor([-1.0645e+10,  1.4958e+09,  7.9249e+08, -4.9176e+09,  5.3336e+09,\n",
      "        -2.3437e+09,  1.3843e+09,  4.0844e+09,  1.3450e+10, -8.2858e+08,\n",
      "        -1.4026e+09,  3.4404e+09, -2.1101e+09,  1.6056e+09, -4.6264e+09,\n",
      "        -3.9229e+09, -1.1526e+09, -1.9281e+08,  4.8714e+09,  1.9771e+09,\n",
      "        -2.9832e+09,  2.2839e+09, -4.6357e+08,  8.2582e+08, -2.8786e+09,\n",
      "         6.9375e+09,  5.0283e+09,  9.5705e+08,  9.0029e+07, -5.1233e+08,\n",
      "        -1.3577e+09, -1.3430e+09, -1.1327e+09,  3.7176e+09,  1.5401e+09,\n",
      "         9.1192e+09,  2.9654e+09, -1.7639e+08,  1.6451e+10,  1.0168e+09,\n",
      "         4.7398e+09,  2.2298e+09, -1.3036e+09,  3.5192e+09,  1.0512e+09,\n",
      "        -6.6120e+08,  1.7799e+09, -4.2629e+09, -1.2831e+09,  4.7185e+09,\n",
      "         2.6793e+09, -4.3820e+09,  2.9694e+09, -2.1660e+09,  4.1275e+09,\n",
      "        -2.8971e+09,  1.1264e+09,  7.6727e+09,  7.7292e+08, -1.1620e+09,\n",
      "        -1.6591e+10, -1.5810e+08,  1.1713e+10, -4.8974e+09],\n",
      "       dtype=torch.float64)\n"
     ]
    }
   ],
   "source": [
    "# ---------------------------------------------------------------------------- #\n",
    "E_level = C_p * T_batch_correct + E_qgk\n",
    "TE = physics_core.integral(E_level) / GRAVITY\n",
    "dTE_dt = (TE[:, 1, :, :] - TE[:, 0, :, :]) / N_seconds\n",
    "dTE_sum = physics_core.weighted_sum(dTE_dt, axis=(-2, -1), keepdims=False)\n",
    "energy_residual = dTE_sum - (R_T_sum - F_S_sum)\n",
    "print('Residual to conserve energy budget [Watts]: {}'.format(energy_residual))\n",
    "# ---------------------------------------------------------------------------- #"
   ]
  },
  {
   "cell_type": "code",
   "execution_count": 28,
   "id": "ef16b1fc-9a04-4b5f-8dbd-af997470a6ad",
   "metadata": {},
   "outputs": [
    {
     "data": {
      "text/plain": [
       "tensor(-0.0076)"
      ]
     },
     "execution_count": 28,
     "metadata": {},
     "output_type": "execute_result"
    }
   ],
   "source": [
    "(T_batch_correct - T_batch).mean()"
   ]
  },
  {
   "cell_type": "code",
   "execution_count": 29,
   "id": "581228f6-3905-4e88-a5f4-c376b753e081",
   "metadata": {},
   "outputs": [
    {
     "data": {
      "text/plain": [
       "tensor(0.0970)"
      ]
     },
     "execution_count": 29,
     "metadata": {},
     "output_type": "execute_result"
    }
   ],
   "source": [
    "(T_batch_correct - T_batch).abs().max()"
   ]
  },
  {
   "cell_type": "code",
   "execution_count": 30,
   "id": "a8e2775b-4993-4d3a-8911-53308aef6286",
   "metadata": {},
   "outputs": [
    {
     "data": {
      "text/plain": [
       "torch.float32"
      ]
     },
     "execution_count": 30,
     "metadata": {},
     "output_type": "execute_result"
    }
   ],
   "source": [
    "R_T_sum.dtype"
   ]
  },
  {
   "cell_type": "code",
   "execution_count": null,
   "id": "b76928d9-e6ee-436d-9fbf-bb6ded362600",
   "metadata": {},
   "outputs": [],
   "source": []
  }
 ],
 "metadata": {
  "kernelspec": {
   "display_name": "Python 3 (ipykernel)",
   "language": "python",
   "name": "python3"
  },
  "language_info": {
   "codemirror_mode": {
    "name": "ipython",
    "version": 3
   },
   "file_extension": ".py",
   "mimetype": "text/x-python",
   "name": "python",
   "nbconvert_exporter": "python",
   "pygments_lexer": "ipython3",
   "version": "3.11.9"
  }
 },
 "nbformat": 4,
 "nbformat_minor": 5
}
