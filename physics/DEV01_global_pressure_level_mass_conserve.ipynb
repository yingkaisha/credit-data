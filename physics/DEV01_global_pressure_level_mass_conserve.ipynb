{
 "cells": [
  {
   "cell_type": "markdown",
   "id": "233753c4-f8c0-42d9-a0c8-a190038f49d3",
   "metadata": {},
   "source": [
    "# Global-scale atmospheric moisture and mass budgets on ERA5 pressure level data"
   ]
  },
  {
   "cell_type": "code",
   "execution_count": 1,
   "id": "c88a2547-ee20-4ccb-8395-e5805cefaba4",
   "metadata": {},
   "outputs": [],
   "source": [
    "import numpy as np\n",
    "import xarray as xr"
   ]
  },
  {
   "cell_type": "code",
   "execution_count": 2,
   "id": "145aeac9-1ac9-4326-abd4-bf4f5ee3c352",
   "metadata": {},
   "outputs": [],
   "source": [
    "import matplotlib.pyplot as plt\n",
    "%matplotlib inline"
   ]
  },
  {
   "cell_type": "markdown",
   "id": "473614a7-a1ed-4143-a6b1-faa79f96f8e9",
   "metadata": {},
   "source": [
    "ERA5 pressure level data:\n",
    "\n",
    "* `/glade/derecho/scratch/ksha/CREDIT_data/ERA5_plevel_base/upper_air/*.zarr`\n",
    "* `/glade/derecho/scratch/ksha/CREDIT_data/ERA5_plevel_base/surf/*.zarr`\n",
    "* `/glade/derecho/scratch/ksha/CREDIT_data/ERA5_plevel_base/accum/*.zarr`"
   ]
  },
  {
   "cell_type": "code",
   "execution_count": 3,
   "id": "0ab54e3c-2251-49a8-99ad-93430bba26d6",
   "metadata": {},
   "outputs": [],
   "source": [
    "base_dir = '/glade/derecho/scratch/ksha/CREDIT_data/ERA5_plevel_base/'\n",
    "ds_surf = xr.open_zarr(base_dir + 'surf/ERA5_plevel_6h_surf_1979.zarr')\n",
    "ds_accum = xr.open_zarr(base_dir + 'accum/ERA5_plevel_6h_accum_1979.zarr')\n",
    "ds_upper = xr.open_zarr(base_dir + 'upper_air/ERA5_plevel_6h_upper_air_1979.zarr')\n",
    "ds_static = xr.open_zarr(base_dir + 'static/ERA5_plevel_6h_static.zarr')"
   ]
  },
  {
   "cell_type": "code",
   "execution_count": 4,
   "id": "86bae29b-857e-43ce-9bf8-3cf1b975aac7",
   "metadata": {},
   "outputs": [],
   "source": [
    "t0 = 100\n",
    "t1 = 101"
   ]
  },
  {
   "cell_type": "code",
   "execution_count": 5,
   "id": "b9cf44db-54b5-4139-a5ff-3e4d84f99502",
   "metadata": {},
   "outputs": [],
   "source": [
    "GRAVITY = 9.80665\n",
    "R = 6371000  # m\n",
    "RHO_WATER = 1000.0 # kg/m^3"
   ]
  },
  {
   "cell_type": "code",
   "execution_count": 6,
   "id": "c45e7886-df26-465b-8a2e-a532b9d579b7",
   "metadata": {},
   "outputs": [],
   "source": [
    "x = ds_surf['longitude']\n",
    "y = ds_surf['latitude']\n",
    "lon, lat = np.meshgrid(x, y)\n",
    "level_p = 100*np.array(ds_upper['level'])"
   ]
  },
  {
   "cell_type": "code",
   "execution_count": 7,
   "id": "87a5fa97-37f2-4f98-b1b5-37665082efc6",
   "metadata": {},
   "outputs": [
    {
     "data": {
      "text/plain": [
       "array([   100.,    200.,    300.,    500.,    700.,   1000.,   2000.,\n",
       "         3000.,   5000.,   7000.,  10000.,  12500.,  15000.,  17500.,\n",
       "        20000.,  22500.,  25000.,  30000.,  35000.,  40000.,  45000.,\n",
       "        50000.,  55000.,  60000.,  65000.,  70000.,  75000.,  77500.,\n",
       "        80000.,  82500.,  85000.,  87500.,  90000.,  92500.,  95000.,\n",
       "        97500., 100000.])"
      ]
     },
     "execution_count": 7,
     "metadata": {},
     "output_type": "execute_result"
    }
   ],
   "source": [
    "level_p # Pa or kg/m/s2"
   ]
  },
  {
   "cell_type": "code",
   "execution_count": 8,
   "id": "5b526d22-9497-435c-8eef-9693de3c3b4c",
   "metadata": {},
   "outputs": [],
   "source": [
    "# level_diff = np.diff(level_p)\n",
    "# level_diff_cumsum = np.concatenate(([0], np.cumsum(level_diff)))"
   ]
  },
  {
   "cell_type": "code",
   "execution_count": 9,
   "id": "35f44d4a-4fba-4544-9bae-6e0d3798c54c",
   "metadata": {},
   "outputs": [],
   "source": [
    "q = np.array(ds_upper['Q'].isel(time=slice(t0, t1+1))) # kg/kg\n",
    "u = np.array(ds_upper['U'].isel(time=slice(t0, t1+1))) # m/s\n",
    "v = np.array(ds_upper['V'].isel(time=slice(t0, t1+1)))"
   ]
  },
  {
   "cell_type": "code",
   "execution_count": 10,
   "id": "5aeec658-5da9-4ebc-ad9b-6b3da857f001",
   "metadata": {},
   "outputs": [],
   "source": [
    "precip = np.array(ds_accum['total_precipitation'].isel(time=slice(t0, t1+1)))\n",
    "evapor = np.array(ds_accum['evaporation'].isel(time=slice(t0, t1+1)))"
   ]
  },
  {
   "cell_type": "code",
   "execution_count": 11,
   "id": "e205b7fb-c587-4b2c-a40f-d6905ecc1135",
   "metadata": {},
   "outputs": [],
   "source": [
    "# def geometric_mean(data):\n",
    "#     return np.exp(np.mean(np.log(data)))\n",
    "\n",
    "# def weighted_mean(data, weights, axis, keepdims=False):\n",
    "    \n",
    "#     expanded_weights = np.broadcast_to(weights, data.shape)\n",
    "#     weighted_sum = np.sum(data * expanded_weights, axis=axis, keepdims=keepdims)\n",
    "#     weights_sum = np.sum(expanded_weights, axis=axis, keepdims=keepdims)\n",
    "#     return weighted_sum / weights_sum\n",
    "\n",
    "def weighted_sum(data, weights, axis, keepdims=False):\n",
    "    '''\n",
    "    Compute the weighted sum of a given quantity\n",
    "\n",
    "    Args:\n",
    "        data: the quantity to be sum-ed\n",
    "        weights: weights that can be broadcasted to the shape of data\n",
    "        axis: dims to compute the sum\n",
    "        keepdims: keepdims\n",
    "\n",
    "    Returns:\n",
    "        weighted sum\n",
    "    '''\n",
    "    expanded_weights = np.broadcast_to(weights, data.shape)\n",
    "    return np.sum(data * expanded_weights, axis=axis, keepdims=keepdims)\n",
    "\n",
    "def pressure_integral(q, level_p, output_shape):\n",
    "    '''\n",
    "    Compute the pressure level integral of a given quantity using np.trapz\n",
    "\n",
    "    Args:\n",
    "        q: the quantity with dims of (level, lat, lon) or (time, level, lat, lon)\n",
    "        level_p: the pressure level of q as [Pa] and with dims of (level,)\n",
    "        output_shape: either (lat, lon) or (time, lat, lon)\n",
    "\n",
    "    Returns:\n",
    "        Pressure level integrals of q\n",
    "    '''\n",
    "    # (level, lat, lon) --> (lat, lon)\n",
    "    if len(output_shape) == 2:\n",
    "        Q = np.empty(output_shape)\n",
    "        for ix in range(output_shape[0]):\n",
    "            for iy in range(output_shape[1]):\n",
    "                Q[ix, iy] = np.trapz(q[:, ix, iy], level_p)\n",
    "                \n",
    "    # (time, level, lat, lon) --> (time, lat, lon)\n",
    "    elif len(output_shape) == 3:\n",
    "        Q = np.empty(output_shape)\n",
    "        for i_time in range(output_shape[0]):\n",
    "            for ix in range(output_shape[1]):\n",
    "                for iy in range(output_shape[2]):\n",
    "                    Q[i_time, ix, iy] = np.trapz(q[i_time, :, ix, iy], level_p)\n",
    "                    \n",
    "    else:\n",
    "        print('wrong output_shape')\n",
    "        raise\n",
    "        \n",
    "    return Q\n",
    "    \n",
    "def dx_dy(lat, lon):\n",
    "    '''\n",
    "    Compute the grid spacing from 2D lat/lon grids using central difference\n",
    "    for center grids and forward/backward difference for edge grids\n",
    "\n",
    "    Args:\n",
    "        lat, lon: 2D arrays of latitude and longitude.\n",
    "\n",
    "    Return:\n",
    "        dy, dx: 2D arrays of grid spacings\n",
    "    '''\n",
    "    \n",
    "    # Convert latitude and longitude from degrees to radians\n",
    "    lat_rad = np.radians(lat)\n",
    "    lon_rad = np.radians(lon)\n",
    "    \n",
    "    # Compute the grid spacing in the latitude direction (dy)\n",
    "    dy = np.zeros_like(lat)\n",
    "    dy[1:-1, :] = R * (lat_rad[2:, :] - lat_rad[:-2, :]) / 2.0\n",
    "    dy[0, :] = R * (lat_rad[1, :] - lat_rad[0, :])\n",
    "    dy[-1, :] = R * (lat_rad[-1, :] - lat_rad[-2, :])\n",
    "    \n",
    "    # Compute the grid spacing in the longitude direction (dx)\n",
    "    dx = np.zeros_like(lon)\n",
    "    dx[:, 1:-1] = R * np.cos(lat_rad[:, 1:-1]) * (lon_rad[:, 2:] - lon_rad[:, :-2]) / 2.0\n",
    "    dx[:, 0] = R * np.cos(lat_rad[:, 0]) * (lon_rad[:, 1] - lon_rad[:, 0])\n",
    "    dx[:, -1] = R * np.cos(lat_rad[:, -1]) * (lon_rad[:, -1] - lon_rad[:, -2])\n",
    "\n",
    "    return dy, dx\n",
    "\n",
    "def compute_grid_area(lat, lon):\n",
    "    '''\n",
    "    Compute grid cell areas from 2D lat/lon grids\n",
    "\n",
    "    Args:\n",
    "        lat, lon: latitude and longitude with dims of (lat, lon)\n",
    "\n",
    "    Return:\n",
    "        grid cell area, dims are (lat, lon)\n",
    "    '''\n",
    "    dy, dx = dx_dy(lat, lon)\n",
    "    area = dy*dx\n",
    "\n",
    "    return area\n",
    "\n",
    "area = np.abs(compute_grid_area(lat, lon))\n",
    "\n",
    "# w_lat = np.cos(np.deg2rad(lat))\n",
    "w_lat = area #/ np.sum(area)"
   ]
  },
  {
   "cell_type": "markdown",
   "id": "acaab4eb-4a4e-40b5-93f8-b7f72219e592",
   "metadata": {},
   "source": [
    "## Negative humidity fixes\n",
    "\n",
    "**Plan A**\n",
    "\n",
    "Given $q_{min}=10^{-12}$ as the lowest possible specific humidity in an atmospheric column. Negative humidity at pressure layer $p_k$ will be corrected to $q_{min}$\n",
    "\n",
    "\\begin{equation}\n",
    "q_{fill}\\left(p_k\\right) = q_{min}\n",
    "\\end{equation}\n",
    "\n",
    "The humidity at layer $k-1$ will be adjusted to conserve the mass of water vapor\n",
    "\n",
    "\\begin{equation}\n",
    "\\Delta q\\left(p_{k-1}\\right) = \\left(q_{min} - q_k\\right)\\frac{\\Delta p_k}{\\Delta p_{k-1}}\n",
    "\\end{equation}\n",
    "\n",
    "\\begin{equation}\n",
    "q_{fill}\\left(p_{k-1}\\right) = q\\left(p_{k-1}\\right) - \\Delta q\\left(p_{k-1}\\right)\n",
    "\\end{equation}\n",
    "\n",
    "If $k=0$ or $q_{fill}\\left(p_{k-1}\\right)$ is negative, i.e., not enough mass above $p_k$ to be relocated, no adjustments will be made for $q\\left(p_{k-1}\\right)$.\n",
    "\n",
    "**Plan B**\n",
    "\n",
    "Fix the layer without any adjustments on other layers:\n",
    "\n",
    "\\begin{equation}\n",
    "q_{fill}\\left(p_k\\right) = q_{min}\n",
    "\\end{equation}\n",
    "\n",
    "The conservation of total dry air mass will fix the mass imbalance."
   ]
  },
  {
   "cell_type": "code",
   "execution_count": null,
   "id": "398b9633-2de4-4438-82c5-99bf358499a8",
   "metadata": {},
   "outputs": [],
   "source": []
  },
  {
   "cell_type": "markdown",
   "id": "97a9c20b-f035-4a23-ab66-0056d0529b3e",
   "metadata": {},
   "source": [
    "## Conservation of total dry air mass"
   ]
  },
  {
   "cell_type": "markdown",
   "id": "a3064cff-8af3-48fe-9f69-e040f56f7823",
   "metadata": {},
   "source": [
    "Equation on a single air column (flux form equation with unit of kg/m^2/s):\n",
    "\n",
    "\\begin{equation}\n",
    "\\mathbf{\\nabla} \\cdot \\frac{1}{g} \\int_{p_0}^{p_1}{\\left[\\left(1-q\\right)\\mathbf{v}\\right]}dp + \\frac{1}{g}\\frac{\\partial}{\\partial t}\\int_{p_0}^{p_1}{\\left(1-q\\right)}dp = 0\n",
    "\\end{equation}\n",
    "\n",
    "For global sum, the first term (the divergence of vertically integrated dry air mass flux) is zero. So the second term (the time tendency of vertically integrated dry air mass per area) is also zero. \n",
    "\n",
    "From the second term = 0, the global sum of dry air mass $\\overline{m_d}$ stays unchanged (kg) :\n",
    "\n",
    "\\begin{equation}\n",
    "m_d = \\sum{\\frac{1}{g}\\int_{p_0}^{p_1}{\\left(1-q\\right)}dp}\n",
    "\\end{equation}\n",
    "\n",
    "\\begin{equation}\n",
    "m_d\\left(\\mathrm{y_input}\\right) - m_d\\left(\\mathrm{y_pred}\\right) = 0\n",
    "\\end{equation}\n",
    "\n",
    "For any residuals of this conservation, we apply multiplicative correction to specific humidty to close the budget:\n",
    "\n",
    "\\begin{equation}\n",
    "q^*\\left(\\mathrm{y_pred}\\right) = 1 - \\left[1 - q\\left(\\mathrm{y_pred}\\right)\\right]*\\frac{m_d\\left(\\mathrm{y_input}\\right)}{m_d\\left(\\mathrm{y_pred}\\right)}\n",
    "\\end{equation}\n",
    "\n",
    "<!-- This can be modified to consider the vertical variability of specific humidity $q_w$:\n",
    "\\begin{equation}\n",
    "r = 1 + q_w * \\left(\\frac{m_d\\left(\\mathrm{y_input}\\right)}{m_d\\left(\\mathrm{y_pred}\\right)} - 1\\right)\n",
    "\\end{equation}\n",
    "\n",
    "\\begin{equation}\n",
    "q^*\\left(\\mathrm{y_pred}\\right) = 1 - r*\\left[1 - q\\left(\\mathrm{y_pred}\\right)\\right]\n",
    "\\end{equation} -->"
   ]
  },
  {
   "cell_type": "code",
   "execution_count": 12,
   "id": "6c92bb64-68fb-447b-8014-a35e5d37df1b",
   "metadata": {},
   "outputs": [],
   "source": [
    "# a = np.array([[0.1, 0.2, 0.3, 0.4, 0.5], [0.15, 0.25, 0.35, 0.45, 0.55]])\n",
    "# w = np.array([150, 100])\n",
    "# y_level = np.array([100, 200, 300, 700, 1000])\n",
    "\n",
    "# amount = np.trapz(1-a, y_level)\n",
    "# amount_weighted_sum = np.sum(amount*w)\n",
    "\n",
    "# correct_sum = 151750\n",
    "\n",
    "# ratio = correct_sum / amount_weighted_sum\n",
    "# a_correct = 1 - (1 - a) * ratio\n",
    "# amount_fix = np.trapz(1-a_correct, y_level)\n",
    "# amount_sum_fix = np.sum(amount_fix*w)\n",
    "\n",
    "# error = correct_sum - amount_sum_fix"
   ]
  },
  {
   "cell_type": "code",
   "execution_count": 13,
   "id": "d91e4ee1-46cf-4f89-b636-85cf7bd62545",
   "metadata": {},
   "outputs": [],
   "source": [
    "# a = np.array([[0.1, 0.2, 0.3, 0.4, 0.5],\n",
    "#               [0.15, 0.25, 0.35, 0.45, 0.55]])\n",
    "# w = np.array([150, 100])\n",
    "# y_level = np.array([100, 200, 300, 700, 1000])\n",
    "\n",
    "# # Calculate the original amount\n",
    "# amount = np.trapz(1 - a, y_level)\n",
    "# amount_weighted_sum = np.sum(amount * w)\n",
    "\n",
    "# # Desired total sum after correction\n",
    "# correct_sum = 151750\n",
    "\n",
    "# # Calculate the additive increment (delta)\n",
    "# delta = (correct_sum - amount_weighted_sum) / ((y_level[-1] - y_level[0]) * np.sum(w))\n",
    "\n",
    "# # Adjust 'a' using the additive increment\n",
    "# a_correct = a - delta\n",
    "\n",
    "# # Ensure that 'a_correct' remains within valid limits [0, 1]\n",
    "# a_correct = np.clip(a_correct, 0, 1)\n",
    "\n",
    "# # Recalculate the amount after correction\n",
    "# amount_fix = np.trapz(1 - a_correct, y_level)\n",
    "# amount_sum_fix = np.sum(amount_fix * w)\n",
    "\n",
    "# # Calculate the error\n",
    "# error = correct_sum - amount_sum_fix\n",
    "\n",
    "# print(\"Additive increment (delta):\", delta)\n",
    "# print(\"Corrected 'a':\\n\", a_correct)\n",
    "# print(\"Corrected total amount:\", amount_sum_fix)\n",
    "# print(\"Error after correction:\", error)"
   ]
  },
  {
   "cell_type": "code",
   "execution_count": 14,
   "id": "f8329061-f067-46fc-b13b-2083ad5185a5",
   "metadata": {},
   "outputs": [],
   "source": [
    "# # Original data\n",
    "# a = np.array([[0.1, 0.2, 0.3, 0.4, 0.5],\n",
    "#               [0.15, 0.25, 0.35, 0.45, 0.55]])\n",
    "# w = np.array([150, 100])\n",
    "# y_level = np.array([100, 200, 300, 700, 1000])\n",
    "\n",
    "# # Calculate the original amount\n",
    "# amount = np.trapz(1 - a, y_level)\n",
    "# amount_weighted_sum = np.sum(amount * w)\n",
    "\n",
    "# # Desired total sum after correction\n",
    "# correct_sum = 151750\n",
    "\n",
    "# # Calculate the maximum possible delta at each level without making 'a_correct' negative\n",
    "# max_delta = np.min(a, axis=0)\n",
    "\n",
    "# # Calculate the total possible correction\n",
    "# # Compute the integration weights (differences between y_levels)\n",
    "# dy = np.diff(y_level)\n",
    "# # For trapezoidal rule, calculate the weights for each level\n",
    "# weights = np.zeros_like(a[0])\n",
    "# weights[0] = (dy[0]) / 2\n",
    "# weights[1:-1] = (dy[:-1] + dy[1:]) / 2\n",
    "# weights[-1] = (dy[-1]) / 2\n",
    "\n",
    "# # Total possible correction\n",
    "# total_possible_correction = np.sum(max_delta * weights)\n",
    "\n",
    "# # Calculate the required total correction\n",
    "# total_correction_needed = correct_sum - amount_weighted_sum\n",
    "\n",
    "# # Check if the correction is possible\n",
    "# if total_possible_correction < total_correction_needed / np.sum(w):\n",
    "#     raise ValueError(\"Cannot achieve the desired correction without making 'a_correct' negative.\")\n",
    "\n",
    "# # Calculate the scaling factor\n",
    "# scaling_factor = (total_correction_needed / np.sum(w)) / total_possible_correction\n",
    "\n",
    "# # Calculate delta as an array varying with 'level'\n",
    "# delta = max_delta * scaling_factor\n",
    "\n",
    "# # Adjust 'a' using the additive delta\n",
    "# a_correct = a - delta\n",
    "\n",
    "# # Ensure that 'a_correct' remains non-negative\n",
    "# a_correct = np.maximum(a_correct, 0)\n",
    "\n",
    "# # Recalculate the amount after correction\n",
    "# amount_fix = np.trapz(1 - a_correct, y_level)\n",
    "# amount_sum_fix = np.sum(amount_fix * w)\n",
    "\n",
    "# # Calculate the error\n",
    "# error = correct_sum - amount_sum_fix\n",
    "\n",
    "# print(\"Additive increment array (delta):\", delta)\n",
    "# print(\"Corrected 'a':\\n\", a_correct)\n",
    "# print(\"Corrected total amount:\", amount_sum_fix)\n",
    "# print(\"Error after correction:\", error)"
   ]
  },
  {
   "cell_type": "code",
   "execution_count": 15,
   "id": "8528bb06-3084-4850-8f10-6fb4282a9112",
   "metadata": {},
   "outputs": [],
   "source": [
    "# an example of std(q) that varies on pressure levels\n",
    "# top of atmos --> surface\n",
    "\n",
    "# damping_factor = 1.0\n",
    "# q_std = np.array([1, 1, 1, 1, 1, 1, 1, 1, 1, 1, 2, 2, 2, 2, 2, 2, 2, 2, 2, 2, 3, 3, 3, 3, 3, 3, 3, 3, 3, 3,\n",
    "#                   4, 4, 4, 4, 4, 2, 2])\n",
    "# q_std_norm = q_std / np.mean(q_std) # geometric_mean(q_std) # q_w\n",
    "\n",
    "# q_correct_ratio = 1 + q_std_norm * (mass_dry_sum[0] / mass_dry_sum[1] - 1)\n",
    "# q_correct[1, ...] = 1 - (1 - q_correct[1, ...]) * (1 + damping_factor * (q_correct_ratio[:, None, None] - 1))"
   ]
  },
  {
   "cell_type": "code",
   "execution_count": 17,
   "id": "d90eb120-d7c2-4a7b-85cb-392241105797",
   "metadata": {},
   "outputs": [
    {
     "name": "stdout",
     "output_type": "stream",
     "text": [
      "Residual to conserve the dry air mass [kg]: -272134672384.0\n",
      "Ratio to the total amount of air [kg/kg]: -5.2862212972804974e-08\n",
      "Correction iter 0\n",
      "Residual to conserve the dry air mass [kg]: 51641950208.0\n",
      "Ratio to the total amount of air [kg/kg]: 1.003145885936286e-08\n"
     ]
    }
   ],
   "source": [
    "q_correct = np.copy(q) # <-- corrected y_pred on q\n",
    "output_shape = (2,)+lon.shape\n",
    "\n",
    "correction_cycle_num = 1 # iterative to handle numrical precision\n",
    "\n",
    "for i in range(correction_cycle_num):\n",
    "    \n",
    "    mass_dry_per_area = pressure_integral(1-q_correct, level_p, output_shape) / GRAVITY # kg/m^2\n",
    "    mass_dry_sum = weighted_sum(mass_dry_per_area, w_lat, axis=(1, 2), keepdims=False) # kg\n",
    "    \n",
    "    # ----------------------------------------------------------------------- #\n",
    "    # check residual term\n",
    "    mass_dry_res = mass_dry_sum[0] - mass_dry_sum[1]\n",
    "    print('Residual to conserve the dry air mass [kg]: {}'.format(mass_dry_res))\n",
    "    print('Ratio to the total amount of air [kg/kg]: {}'.format(mass_dry_res/5.148e18))\n",
    "    # ----------------------------------------------------------------------- #\n",
    "    # correction\n",
    "    print('Correction iter {}'.format(i))\n",
    "    # get correction ratio\n",
    "    q_correct_ratio = mass_dry_sum[0] / mass_dry_sum[1] # no p level weighting\n",
    "    q_correct[1, ...] = 1 - (1 - q_correct[1, ...]) * q_correct_ratio\n",
    "\n",
    "# final checks\n",
    "mass_dry_per_area = pressure_integral(1-q_correct, level_p, output_shape) / GRAVITY\n",
    "mass_dry_sum = weighted_sum(mass_dry_per_area, w_lat, axis=(1, 2), keepdims=False)\n",
    "\n",
    "# ----------------------------------------------------------------------- #\n",
    "# check residual term\n",
    "mass_dry_res = mass_dry_sum[0] - mass_dry_sum[1]\n",
    "print('Residual to conserve the dry air mass [kg]: {}'.format(mass_dry_res))\n",
    "print('Ratio to the total amount of air [kg/kg]: {}'.format(mass_dry_res/5.148e18))"
   ]
  },
  {
   "cell_type": "markdown",
   "id": "da483aec-5cd7-41ce-8691-9eb30550834c",
   "metadata": {},
   "source": [
    "## Moisture budget"
   ]
  },
  {
   "cell_type": "markdown",
   "id": "a6732aa7-5a58-4578-85bf-818b24751012",
   "metadata": {},
   "source": [
    "Equation on a single air column (flux form equation with unit of kg/m^2/s):\n",
    "\n",
    "\\begin{equation}\n",
    "\\mathbf{\\nabla} \\cdot \\frac{1}{g} \\int_{0}^{p_s}{\\left(\\mathbf{v}q\\right)}dp = -\\frac{1}{g}\\frac{\\partial}{\\partial t}\\int_{0}^{p_s}{q}dp - E - P\n",
    "\\end{equation}\n",
    "\n",
    "For global sum, the first term (the divergence of integrated moisture flux) is zero. So the second term (the time tendency of total column water $Q$) is balanced by evaporation $E$ and precipitation $P$ (kg/s):\n",
    "\n",
    "\\begin{equation}\n",
    "\\overline{\\left(\\frac{\\partial Q}{\\partial t}\\right)} =  - \\overline{E} - \\overline{P}\n",
    "\\end{equation}\n",
    "\n",
    "For any residuals of this conservation, we use precipitation to close the budge:\n",
    "\n",
    "\\begin{equation}\n",
    "\\overline{P}^* = \\overline{\\left[\\frac{Q\\left(\\mathrm{y_pred}\\right) - Q\\left(\\mathrm{y_input}\\right)}{\\mathrm{second}}\\right]} - \\overline{E}\n",
    "\\end{equation}\n",
    "\n",
    "\\begin{equation}\n",
    "P^* = P * \\frac{\\overline{P}^*}{\\overline{P}}\n",
    "\\end{equation}"
   ]
  },
  {
   "cell_type": "code",
   "execution_count": 14,
   "id": "d8c68f64-5467-407e-b650-9553be7f595a",
   "metadata": {},
   "outputs": [],
   "source": [
    "# q_correct = np.copy(q)"
   ]
  },
  {
   "cell_type": "code",
   "execution_count": 15,
   "id": "a1fdf955-3e15-4291-94af-2423865c6778",
   "metadata": {},
   "outputs": [
    {
     "name": "stdout",
     "output_type": "stream",
     "text": [
      "Residual to conserve moisture budge [kg/s]: -256320051.6473465\n",
      "correction ratio: 0.9829969112402189\n",
      "Residual to conserve moisture budge [kg/s]: -442.4025478363037\n"
     ]
    }
   ],
   "source": [
    "N_seconds = 3600 * 6 # 6 hourly data\n",
    "output_shape = (2,)+lon.shape\n",
    "\n",
    "precip_flux = precip[1, ...] * RHO_WATER / N_seconds # m/hour --> kg/m^2/s, positive\n",
    "evapor_flux = evapor[1, ...] * RHO_WATER / N_seconds # kg/m^2/s, negative\n",
    "\n",
    "precip_correct = np.copy(precip_flux) # <-- corrected y_pred on precip\n",
    "\n",
    "correction_cycle_num = 1\n",
    "\n",
    "# pre-compute TWC\n",
    "TWC = pressure_integral(q_correct, level_p, output_shape) / GRAVITY # kg/m^2\n",
    "dTWC_dt = (TWC[1, ...] - TWC[0, ...]) / N_seconds # kg/m^2/s\n",
    "TWC_sum = weighted_sum(dTWC_dt, w_lat, axis=(0, 1), keepdims=False) # kg/s\n",
    "\n",
    "# pre-compute evaporation\n",
    "E_sum = weighted_sum(evapor_flux, w_lat, axis=(0, 1), keepdims=False) # kg/s\n",
    "\n",
    "for i in range(correction_cycle_num):\n",
    "    \n",
    "    P_sum = weighted_sum(precip_correct, w_lat, axis=(0, 1), keepdims=False) # kg/s\n",
    "    residual = -TWC_sum - E_sum - P_sum # kg/s\n",
    "    print('Residual to conserve moisture budge [kg/s]: {}'.format(residual))\n",
    "    P_correct = P_sum + residual # kg/s\n",
    "    P_correct_ratio = (P_sum + residual) / P_sum\n",
    "    print('correction ratio: {}'.format(P_correct_ratio))\n",
    "    precip_correct = precip_correct * P_correct_ratio\n",
    "\n",
    "# final checks\n",
    "P_sum = weighted_sum(precip_correct, w_lat, axis=(0, 1), keepdims=False)\n",
    "residual = -TWC_sum - E_sum - P_sum\n",
    "print('Residual to conserve moisture budge [kg/s]: {}'.format(residual))"
   ]
  },
  {
   "cell_type": "markdown",
   "id": "e93712d1-d22e-42f6-9267-7e3c99c99c0d",
   "metadata": {},
   "source": [
    "## Conclosions\n",
    "\n",
    "* ERA5 conserves global mean quantities well with very little residuals.\n",
    "* The correction method can close the budge subjet to numerical precision.\n",
    "* Possible improvement: the corrections were applied equally to all lat/lon gids.\n",
    "    * (1) 3D corrections can be applied to consider the spatial variability of specific humdity and precipitation flux.\n",
    "    * (2) Alternatively, such spatial variability can be considered using single-column-based budget calculations."
   ]
  },
  {
   "cell_type": "code",
   "execution_count": null,
   "id": "61e4e5aa-f7d1-408a-a947-6b9a9854f496",
   "metadata": {},
   "outputs": [],
   "source": []
  }
 ],
 "metadata": {
  "kernelspec": {
   "display_name": "Python 3 (ipykernel)",
   "language": "python",
   "name": "python3"
  },
  "language_info": {
   "codemirror_mode": {
    "name": "ipython",
    "version": 3
   },
   "file_extension": ".py",
   "mimetype": "text/x-python",
   "name": "python",
   "nbconvert_exporter": "python",
   "pygments_lexer": "ipython3",
   "version": "3.11.9"
  }
 },
 "nbformat": 4,
 "nbformat_minor": 5
}
