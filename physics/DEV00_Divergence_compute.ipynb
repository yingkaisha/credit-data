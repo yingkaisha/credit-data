{
 "cells": [
  {
   "cell_type": "code",
   "execution_count": null,
   "id": "1bb9c0dd-e0df-4d5e-ae69-e426f50dc60b",
   "metadata": {},
   "outputs": [],
   "source": []
  },
  {
   "cell_type": "code",
   "execution_count": null,
   "id": "0a1192f1-3207-43c0-9a20-64f0780e04c0",
   "metadata": {},
   "outputs": [],
   "source": [
    "import numpy as np\n",
    "import xarray as xr"
   ]
  },
  {
   "cell_type": "code",
   "execution_count": null,
   "id": "f76c4cfb-8d3e-48cd-aa47-434aafa5d0b6",
   "metadata": {},
   "outputs": [],
   "source": [
    "import matplotlib.pyplot as plt\n",
    "%matplotlib inline"
   ]
  },
  {
   "cell_type": "code",
   "execution_count": null,
   "id": "81e92986-7fe2-4b5c-99ce-1a7b1a8920bb",
   "metadata": {},
   "outputs": [],
   "source": [
    "base_dir = '/glade/derecho/scratch/ksha/CREDIT_data/ERA5_plevel_base/'\n",
    "ds_upper = xr.open_zarr(base_dir + 'upper_air/ERA5_plevel_6h_upper_air_1979.zarr')"
   ]
  },
  {
   "cell_type": "code",
   "execution_count": null,
   "id": "5d8b0cee-35ff-467f-83dd-b703d3e0753f",
   "metadata": {},
   "outputs": [],
   "source": [
    "t0 = 200\n",
    "t1 = 201"
   ]
  },
  {
   "cell_type": "code",
   "execution_count": null,
   "id": "d83f987e-e588-402e-b947-256b81c6f470",
   "metadata": {},
   "outputs": [],
   "source": [
    "GRAVITY = 9.80665\n",
    "LH_WATER = 2.26e6  # J/kg\n",
    "CP_DRY = 1005 # J/kg K\n",
    "CP_VAPOR = 1846 # J/kg K\n",
    "R = 6371000  # m"
   ]
  },
  {
   "cell_type": "code",
   "execution_count": null,
   "id": "60724bba-4ad7-4297-b5ba-1080d429eff3",
   "metadata": {},
   "outputs": [],
   "source": [
    "x = ds_surf['longitude']\n",
    "y = ds_surf['latitude']\n",
    "lon, lat = np.meshgrid(x, y)\n",
    "level_p = 100*np.array(ds_upper['level'])"
   ]
  },
  {
   "cell_type": "code",
   "execution_count": null,
   "id": "b0e212a8-2993-43a4-a0c1-1a7235b7562d",
   "metadata": {},
   "outputs": [],
   "source": [
    "u = np.array(ds_upper['U'].isel(time=slice(t0, t1+1))) # m/s\n",
    "v = np.array(ds_upper['V'].isel(time=slice(t0, t1+1)))"
   ]
  },
  {
   "cell_type": "code",
   "execution_count": null,
   "id": "9cb1b257-2d71-4060-a49f-fa0491149514",
   "metadata": {},
   "outputs": [],
   "source": []
  },
  {
   "cell_type": "code",
   "execution_count": null,
   "id": "8bfdf9bb-7108-4720-85cc-254e467720cd",
   "metadata": {},
   "outputs": [],
   "source": []
  }
 ],
 "metadata": {
  "kernelspec": {
   "display_name": "Python 3 (ipykernel)",
   "language": "python",
   "name": "python3"
  },
  "language_info": {
   "codemirror_mode": {
    "name": "ipython",
    "version": 3
   },
   "file_extension": ".py",
   "mimetype": "text/x-python",
   "name": "python",
   "nbconvert_exporter": "python",
   "pygments_lexer": "ipython3",
   "version": "3.11.9"
  }
 },
 "nbformat": 4,
 "nbformat_minor": 5
}
