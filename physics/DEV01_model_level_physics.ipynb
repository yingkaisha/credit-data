{
 "cells": [
  {
   "cell_type": "markdown",
   "id": "233753c4-f8c0-42d9-a0c8-a190038f49d3",
   "metadata": {},
   "source": [
    "# Model level physics"
   ]
  },
  {
   "cell_type": "markdown",
   "id": "b7bc9626-d30e-42c3-9a7a-32eb88b4f7a6",
   "metadata": {},
   "source": [
    "## A review of the ACE approach\n",
    "\n",
    "### Conservations of global dry air mass\n",
    "\n",
    "The surface pressure of try air:\n",
    "\n",
    "\\begin{equation}\n",
    "p_d = p_s - \\frac{1}{g}\\int_{p_t}^{p_b}{q}dp\n",
    "\\end{equation}\n",
    "\n",
    "* $g$ - gravitational constant\n",
    "* $q$ - specific total water\n",
    "* $p_s$ - surface pressure\n",
    "* $p_d$ - surface pressure due to dry air\n",
    "\n",
    "Compute the global weighted mean of $p_d$ from input and prediction:\n",
    "\n",
    "\\begin{equation}\n",
    "\\overline{\\mathrm{Res}} = \\overline{p_d\\left(\\mathrm{y_pred}\\right)} - \\overline{p_d\\left(\\mathrm{y_input}\\right)}\n",
    "\\end{equation}\n",
    "\n",
    "Apply a global mean correction to the surface pressure of try air and invert to the corrected surface pressure:\n",
    "\n",
    "\\begin{equation}\n",
    "p_d^* = p_d - \\overline{\\mathrm{Res}}\n",
    "\\end{equation}\n",
    "\n",
    "(Not sure how $p_s^*$ was updated)\n",
    "\n",
    "### Conservation of moisture budget\n",
    "\n",
    "The moisture budget equation:\n",
    "\n",
    "\\begin{equation}\n",
    "\\frac{1}{g}\\frac{\\partial}{\\partial t}\\int_{0}^{p_s}{q}dp + \\mathbf{\\nabla} \\cdot \\frac{1}{g} \\int_{0}^{p_s}{\\left(\\mathbf{v}q\\right)}dp + E + P = 0\n",
    "\\end{equation}\n",
    "\n",
    "* The first term: the tendency of total column water ($Q$)\n",
    "* The second term: the divergence of vertical integral of water vapour flux ($\\mathrm{div}$)\n",
    "* $E$ and $P$ - evaporation and precipitation\n",
    "\n",
    "Correct $\\mathrm{div}$ so that its global weighted mean is zero:\n",
    "\n",
    "\\begin{equation}\n",
    "\\mathrm{div}^* = \\mathrm{div} - \\overline{\\mathrm{div}}\n",
    "\\end{equation}\n",
    "\n",
    "Correct precipitation to close the budget\n",
    "\n",
    "\\begin{equation}\n",
    "\\overline{P}^* = \\overline{E} - \\overline{\\left[\\frac{Q\\left(\\mathrm{y_pred}\\right) - Q\\left(\\mathrm{y_input}\\right)}{\\mathrm{second}}\\right]}\n",
    "\\end{equation}\n",
    "\n",
    "\\begin{equation}\n",
    "P^* = P * \\frac{\\overline{P}^*}{\\overline{P}}\n",
    "\\end{equation}"
   ]
  },
  {
   "cell_type": "code",
   "execution_count": null,
   "id": "9b6b6127-b20d-47dc-bd85-54370f020293",
   "metadata": {},
   "outputs": [],
   "source": []
  }
 ],
 "metadata": {
  "kernelspec": {
   "display_name": "Python 3 (ipykernel)",
   "language": "python",
   "name": "python3"
  },
  "language_info": {
   "codemirror_mode": {
    "name": "ipython",
    "version": 3
   },
   "file_extension": ".py",
   "mimetype": "text/x-python",
   "name": "python",
   "nbconvert_exporter": "python",
   "pygments_lexer": "ipython3",
   "version": "3.11.9"
  }
 },
 "nbformat": 4,
 "nbformat_minor": 5
}
