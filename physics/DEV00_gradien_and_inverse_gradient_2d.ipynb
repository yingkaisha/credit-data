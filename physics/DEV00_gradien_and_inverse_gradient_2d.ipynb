{
 "cells": [
  {
   "cell_type": "code",
   "execution_count": 1,
   "id": "93fb4b05-09d5-48a1-971d-0d1e4aee1710",
   "metadata": {},
   "outputs": [],
   "source": [
    "import numpy as np"
   ]
  },
  {
   "cell_type": "code",
   "execution_count": 8,
   "id": "ef95f5b0-4202-4660-b3f9-d39667ac240d",
   "metadata": {},
   "outputs": [],
   "source": []
  },
  {
   "cell_type": "code",
   "execution_count": null,
   "id": "2471f1a1-e3c0-4437-aeea-f21ad32a51ef",
   "metadata": {},
   "outputs": [],
   "source": []
  },
  {
   "cell_type": "code",
   "execution_count": 16,
   "id": "e49c3313-6a94-4f39-8b59-112740b3b38c",
   "metadata": {},
   "outputs": [
    {
     "name": "stdout",
     "output_type": "stream",
     "text": [
      "error: 0.004787738236913826\n"
     ]
    }
   ],
   "source": [
    "def compute_gradient_2d(E, dy, dx):\n",
    "    # Use second-order central differencing in the interior, and forward/backward at the boundaries\n",
    "    dEdy = np.zeros_like(E)\n",
    "    dEdx = np.zeros_like(E)\n",
    "    \n",
    "    # Central differencing in the interior (higher order)\n",
    "    dEdy[1:-1, :] = (E[2:, :] - E[:-2, :]) / (dy[1:-1, :] + dy[:-2, :])\n",
    "    dEdx[:, 1:-1] = (E[:, 2:] - E[:, :-2]) / (dx[:, 1:-1] + dx[:, :-2])\n",
    "\n",
    "    # Forward differencing at the first row (North boundary)\n",
    "    dEdy[0, :] = (E[1, :] - E[0, :]) / dy[0, :]\n",
    "    # Backward differencing at the last row (South boundary)\n",
    "    dEdy[-1, :] = (E[-1, :] - E[-2, :]) / dy[-1, :]\n",
    "\n",
    "    # Forward differencing at the first column (Prime meridian)\n",
    "    dEdx[:, 0] = (E[:, 1] - E[:, 0]) / dx[:, 0]\n",
    "    # Backward differencing at the last column (International Date Line)\n",
    "    dEdx[:, -1] = (E[:, -1] - E[:, -2]) / dx[:, -1]\n",
    "    \n",
    "    return dEdy, dEdx\n",
    "\n",
    "def estimate_E_from_gradients_high_order(dEdy, dEdx, dy, dx):\n",
    "    ny, nx = dEdy.shape\n",
    "    E_estimated = np.zeros((ny, nx))\n",
    "\n",
    "    # Integrate dEdy along y (downward integration)\n",
    "    E_estimated[1:, 0] = np.cumsum(dEdy[:-1, 0] * dy[:-1, 0])\n",
    "\n",
    "    # Integrate dEdx along x for each row\n",
    "    for i in range(ny):\n",
    "        E_estimated[i, 1:] = np.cumsum(dEdx[i, :-1] * dx[i, :-1])\n",
    "\n",
    "    return E_estimated\n",
    "\n",
    "# Define the grid\n",
    "ny, nx = 25, 50\n",
    "ly, lx = 1.0, 1.0\n",
    "\n",
    "# Create grid\n",
    "x = np.linspace(0, lx, nx)\n",
    "y = np.linspace(0, ly, ny)\n",
    "X, Y = np.meshgrid(x, y)\n",
    "\n",
    "# Calculate dx and dy\n",
    "dx = np.gradient(X, axis=1)\n",
    "dy = np.gradient(Y, axis=0)\n",
    "\n",
    "# Define the source term f (Gaussian distribution)\n",
    "sigma = 0.1\n",
    "f = np.exp(-((X - lx/2)**2 + (Y - ly/2)**2) / (2 * sigma**2))\n",
    "\n",
    "# Compute the numerical gradient using compute_gradient_2d\n",
    "dfdy, dfdx = compute_gradient_2d(f, dy, dx)\n",
    "\n",
    "f_recover = estimate_E_from_gradients(dfdy, dfdx, dy, dx)\n",
    "\n",
    "error = np.mean(np.abs(f_recover - f))\n",
    "\n",
    "print('error: {}'.format(error))"
   ]
  },
  {
   "cell_type": "code",
   "execution_count": null,
   "id": "6b09f113-d0c7-46bb-8cc3-e91b8ab7260b",
   "metadata": {},
   "outputs": [],
   "source": []
  },
  {
   "cell_type": "code",
   "execution_count": 8,
   "id": "1de91030-54af-4e7e-9434-caae31a643fd",
   "metadata": {},
   "outputs": [
    {
     "data": {
      "text/plain": [
       "(0.9999910129439605, 0.9994682903047929)"
      ]
     },
     "execution_count": 8,
     "metadata": {},
     "output_type": "execute_result"
    }
   ],
   "source": [
    "# Calculate the errors between the numerical and exact derivatives\n",
    "error_dfdx = np.abs(dfdx_numeric - dfdx_exact)\n",
    "error_dfdy = np.abs(dfdy_numeric - dfdy_exact)\n",
    "\n",
    "max_error_dfdx = np.max(error_dfdx)\n",
    "max_error_dfdy = np.max(error_dfdy)\n",
    "\n",
    "max_error_dfdx, max_error_dfdy"
   ]
  },
  {
   "cell_type": "code",
   "execution_count": null,
   "id": "e9ebc759-312c-4fab-9164-7c0dbc35efc2",
   "metadata": {},
   "outputs": [],
   "source": []
  }
 ],
 "metadata": {
  "kernelspec": {
   "display_name": "Python 3 (ipykernel)",
   "language": "python",
   "name": "python3"
  },
  "language_info": {
   "codemirror_mode": {
    "name": "ipython",
    "version": 3
   },
   "file_extension": ".py",
   "mimetype": "text/x-python",
   "name": "python",
   "nbconvert_exporter": "python",
   "pygments_lexer": "ipython3",
   "version": "3.11.9"
  }
 },
 "nbformat": 4,
 "nbformat_minor": 5
}
