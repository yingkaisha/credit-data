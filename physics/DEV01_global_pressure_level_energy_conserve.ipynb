{
 "cells": [
  {
   "cell_type": "code",
   "execution_count": 1,
   "id": "0472050e-c0f9-4eff-88b5-f3de99566e77",
   "metadata": {},
   "outputs": [],
   "source": [
    "import numpy as np\n",
    "import xarray as xr"
   ]
  },
  {
   "cell_type": "code",
   "execution_count": 2,
   "id": "3f63812d-651c-4b65-8858-f856486ecba7",
   "metadata": {},
   "outputs": [],
   "source": [
    "import matplotlib.pyplot as plt\n",
    "%matplotlib inline"
   ]
  },
  {
   "cell_type": "markdown",
   "id": "55cfdf73-0e03-4edd-b264-ef7e522f79ec",
   "metadata": {},
   "source": [
    "Files: ERA5 pressure level data from `1979-01-01T00 - 1979-01-01T12`\n",
    "\n",
    "* `/glade/derecho/scratch/ksha/CREDIT_data/ERA5_pressure_lev/upper_air_test.zarr`\n",
    "* `/glade/derecho/scratch/ksha/CREDIT_data/ERA5_pressure_lev/surf_test.zarr`"
   ]
  },
  {
   "cell_type": "code",
   "execution_count": 3,
   "id": "a2ae6eb3-018b-4307-8f1e-f0c3b3ccdcbb",
   "metadata": {},
   "outputs": [],
   "source": [
    "ds_upper = xr.open_zarr('/glade/derecho/scratch/ksha/CREDIT_data/ERA5_pressure_lev/upper_air_test.zarr')\n",
    "ds_surf = xr.open_zarr('/glade/derecho/scratch/ksha/CREDIT_data/ERA5_pressure_lev/surf_test.zarr')"
   ]
  },
  {
   "cell_type": "code",
   "execution_count": 4,
   "id": "951cba2f-160e-46c6-bb68-8765b46091ed",
   "metadata": {},
   "outputs": [],
   "source": [
    "GRAVITY = 9.80665\n",
    "LH_WATER = 2.26e6  # J/kg\n",
    "CP_DRY = 1005 # J/kg K\n",
    "CP_VAPOR = 1846 # J/kg K\n",
    "R = 6371000  # m"
   ]
  },
  {
   "cell_type": "code",
   "execution_count": 5,
   "id": "a233cfcd-0c14-49d9-93a8-3fac7b050ee4",
   "metadata": {},
   "outputs": [],
   "source": [
    "x = ds_surf['longitude']\n",
    "y = ds_surf['latitude']\n",
    "lon, lat = np.meshgrid(x, y)\n",
    "level_p = 100*np.array(ds_upper['level'])"
   ]
  },
  {
   "cell_type": "code",
   "execution_count": 6,
   "id": "45bf431e-db77-409e-ba6d-583f0d91a4e1",
   "metadata": {},
   "outputs": [
    {
     "data": {
      "text/plain": [
       "array([   100,    200,    300,    500,    700,   1000,   2000,   3000,\n",
       "         5000,   7000,  10000,  12500,  15000,  17500,  20000,  22500,\n",
       "        25000,  30000,  35000,  40000,  45000,  50000,  55000,  60000,\n",
       "        65000,  70000,  75000,  77500,  80000,  82500,  85000,  87500,\n",
       "        90000,  92500,  95000,  97500, 100000])"
      ]
     },
     "execution_count": 6,
     "metadata": {},
     "output_type": "execute_result"
    }
   ],
   "source": [
    "level_p # Pa or kg/m/s2"
   ]
  },
  {
   "cell_type": "code",
   "execution_count": 7,
   "id": "a96daf7b-80e8-40b6-9d93-1e0a8f3994af",
   "metadata": {},
   "outputs": [],
   "source": [
    "q = np.array(ds_upper['specific_humidity']) # kg/kg\n",
    "T = np.array(ds_upper['temperature']) # K\n",
    "u = np.array(ds_upper['u_component_of_wind']) # m/s\n",
    "v = np.array(ds_upper['v_component_of_wind'])\n",
    "GPH_surf = np.array(ds_surf['geopotential_at_surface']) # J/m2\n",
    "TOA_net = np.array(ds_surf['top_net_solar_radiation']) # J/m2\n",
    "OLR = np.array(ds_surf['top_net_thermal_radiation']) # J/m2\n",
    "R_short = np.array(ds_surf['surface_net_solar_radiation']) # J/m2\n",
    "R_long = np.array(ds_surf['surface_net_thermal_radiation']) # J/m2\n",
    "LH = np.array(ds_surf['surface_latent_heat_flux']) # J/m2\n",
    "SH = np.array(ds_surf['surface_sensible_heat_flux']) # J/m2"
   ]
  },
  {
   "cell_type": "code",
   "execution_count": 8,
   "id": "00e5169f-c8a1-49b3-aea6-6205515fd341",
   "metadata": {},
   "outputs": [],
   "source": [
    "def weighted_sum(data, weights, axis, keepdims=False):\n",
    "    '''\n",
    "    Compute the weighted sum of a given quantity\n",
    "\n",
    "    Args:\n",
    "        data: the quantity to be sum-ed\n",
    "        weights: weights that can be broadcasted to the shape of data\n",
    "        axis: dims to compute the sum\n",
    "        keepdims: keepdims\n",
    "\n",
    "    Returns:\n",
    "        weighted sum\n",
    "    '''\n",
    "    expanded_weights = np.broadcast_to(weights, data.shape)\n",
    "    return np.sum(data * expanded_weights, axis=axis, keepdims=keepdims)\n",
    "\n",
    "def pressure_integral(q, level_p, output_shape):\n",
    "    '''\n",
    "    Compute the pressure level integral of a given quantity using np.trapz\n",
    "\n",
    "    Args:\n",
    "        q: the quantity with dims of (level, lat, lon) or (time, level, lat, lon)\n",
    "        level_p: the pressure level of q as [Pa] and with dims of (level,)\n",
    "        output_shape: either (lat, lon) or (time, lat, lon)\n",
    "\n",
    "    Returns:\n",
    "        Pressure level integrals of q\n",
    "    '''\n",
    "    # (level, lat, lon) --> (lat, lon)\n",
    "    if len(output_shape) == 2:\n",
    "        Q = np.empty(output_shape)\n",
    "        for ix in range(output_shape[0]):\n",
    "            for iy in range(output_shape[1]):\n",
    "                Q[ix, iy] = np.trapz(q[:, ix, iy], level_p)\n",
    "                \n",
    "    # (time, level, lat, lon) --> (time, lat, lon)\n",
    "    elif len(output_shape) == 3:\n",
    "        Q = np.empty(output_shape)\n",
    "        for i_time in range(output_shape[0]):\n",
    "            for ix in range(output_shape[1]):\n",
    "                for iy in range(output_shape[2]):\n",
    "                    Q[i_time, ix, iy] = np.trapz(q[i_time, :, ix, iy], level_p)\n",
    "                    \n",
    "    else:\n",
    "        print('wrong output_shape')\n",
    "        raise\n",
    "        \n",
    "    return Q\n",
    "    \n",
    "def dx_dy(lat, lon):\n",
    "    '''\n",
    "    Compute the grid spacing from 2D lat/lon grids using central difference\n",
    "    for center grids and forward/backward difference for edge grids\n",
    "\n",
    "    Args:\n",
    "        lat, lon: 2D arrays of latitude and longitude.\n",
    "\n",
    "    Return:\n",
    "        dy, dx: 2D arrays of grid spacings\n",
    "    '''\n",
    "    \n",
    "    # Convert latitude and longitude from degrees to radians\n",
    "    lat_rad = np.radians(lat)\n",
    "    lon_rad = np.radians(lon)\n",
    "    \n",
    "    # Compute the grid spacing in the latitude direction (dy)\n",
    "    dy = np.zeros_like(lat)\n",
    "    dy[1:-1, :] = R * (lat_rad[2:, :] - lat_rad[:-2, :]) / 2.0\n",
    "    dy[0, :] = R * (lat_rad[1, :] - lat_rad[0, :])\n",
    "    dy[-1, :] = R * (lat_rad[-1, :] - lat_rad[-2, :])\n",
    "    \n",
    "    # Compute the grid spacing in the longitude direction (dx)\n",
    "    dx = np.zeros_like(lon)\n",
    "    dx[:, 1:-1] = R * np.cos(lat_rad[:, 1:-1]) * (lon_rad[:, 2:] - lon_rad[:, :-2]) / 2.0\n",
    "    dx[:, 0] = R * np.cos(lat_rad[:, 0]) * (lon_rad[:, 1] - lon_rad[:, 0])\n",
    "    dx[:, -1] = R * np.cos(lat_rad[:, -1]) * (lon_rad[:, -1] - lon_rad[:, -2])\n",
    "\n",
    "    return dy, dx\n",
    "\n",
    "def compute_grid_area(lat, lon):\n",
    "    '''\n",
    "    Compute grid cell areas from 2D lat/lon grids\n",
    "\n",
    "    Args:\n",
    "        lat, lon: latitude and longitude with dims of (lat, lon)\n",
    "\n",
    "    Return:\n",
    "        grid cell area, dims are (lat, lon)\n",
    "    '''\n",
    "    dy, dx = dx_dy(lat, lon)\n",
    "    area = dy*dx\n",
    "\n",
    "    return area\n",
    "\n",
    "area = compute_grid_area(lat, lon)\n",
    "\n",
    "# w_lat = np.cos(np.deg2rad(lat))\n",
    "w_lat = area #/ np.sum(area)"
   ]
  },
  {
   "cell_type": "markdown",
   "id": "018a0f4f-65fc-41c2-9f3f-850b318566d1",
   "metadata": {},
   "source": [
    "## Conservation of energy\n",
    "\n",
    "Reference:\n",
    "* [Trenberth and Solomon 1994](https://link.springer.com/content/pdf/10.1007/BF00210625.pdf)\n",
    "* [Atmospheric conservation properties\n",
    "in ERA-Interim](https://www.ecmwf.int/sites/default/files/elibrary/2011/8175-atmospheric-conservation-properties-era-interim.pdf)\n",
    "* [ERA5 variable table](https://cds.climate.copernicus.eu/cdsapp#!/dataset/reanalysis-era5-single-levels?tab=overview)\n",
    "\n",
    "\n",
    "Equation on a single air-column:\n",
    "\n",
    "\\begin{equation}\n",
    "\\frac{\\partial \\mathrm{E}}{\\partial t} + \\mathbf{\\nabla}\\cdot\\frac{1}{g}\\int_{p_0}^{p_1}{\\mathbf{v}\\left(h+k\\right)}dp = R_T - F_S\n",
    "\\end{equation}\n",
    "\n",
    "$E$ is the total energy of an air column\n",
    "\n",
    "\\begin{equation}\n",
    "E = \\frac{1}{g}\\int_{p_0}^{p_1}{\\left(Lq+C_pT+\\Phi_s+k\\right)}dp\n",
    "\\end{equation}\n",
    "\n",
    "Where $L$ is latent heat of condensation of water, $C_p$ is  the specific heat capacity of air at constant pressure, $\\Phi_s$ is geopotential at surface, $k=0.5*\\left(\\mathbf{v} \\cdot \\mathbf{v}\\right)$ is kinetic energy.\n",
    "\n",
    "$C_p$ is a function of humidity:\n",
    "\n",
    "\\begin{equation}\n",
    "C_p = (1-q) C_{pd} + q C_{pv}\n",
    "\\end{equation}\n",
    "\n",
    "$R_T$ and $F_S$ are energy fluxes on the top of the atmosphere and the surface of earth:\n",
    "\n",
    "\\begin{equation}\n",
    "R_T = TOA_{\\mathrm{net}} + OLR\n",
    "\\end{equation}\n",
    "\n",
    "\\begin{equation}\n",
    "F_s = R_{\\mathrm{short}} + R_{\\mathrm{long}} + H_{\\mathrm{sensible}} + H_{\\mathrm{latent}}\n",
    "\\end{equation}\n",
    "\n",
    "For global sum, the divergence term is 0, so the time tendency of total energy is balanced by energy fluxes from the top of the atmosphere and the surface of earth:\n",
    "\n",
    "\\begin{equation}\n",
    "\\overline{\\left(\\frac{\\partial E}{\\partial t}\\right)} =  \\overline{R_T} - \\overline{F_s}\n",
    "\\end{equation}"
   ]
  },
  {
   "cell_type": "code",
   "execution_count": 9,
   "id": "2c581212-e8b6-40cc-8798-eae297ff0a87",
   "metadata": {},
   "outputs": [],
   "source": [
    "t0 = 8\n",
    "t1 = 9\n",
    "N_seconds = 3600"
   ]
  },
  {
   "cell_type": "code",
   "execution_count": 10,
   "id": "2f5311dd-1e9f-4390-92da-eb554eef0368",
   "metadata": {},
   "outputs": [],
   "source": [
    "C_p = (1-q)*CP_DRY + q*CP_VAPOR\n",
    "C_p = C_p[:t1+1, ...]\n",
    "\n",
    "ken = 0.5*(u**2 + v**2)\n",
    "ken = ken[:t1+1, ...]\n",
    "\n",
    "T_correct = np.copy(T)\n",
    "T_correct = T_correct[:t1+1, ...]\n",
    "\n",
    "GPH_surf = GPH_surf[:t1+1, ...]\n",
    "\n",
    "q = q[:t1+1, ...]"
   ]
  },
  {
   "cell_type": "code",
   "execution_count": 12,
   "id": "ab5aa0f8-50dd-4062-88c4-5e607abc9243",
   "metadata": {},
   "outputs": [
    {
     "data": {
      "text/plain": [
       "(2,)"
      ]
     },
     "execution_count": 12,
     "metadata": {},
     "output_type": "execute_result"
    }
   ],
   "source": [
    "TE_temp_term.shape"
   ]
  },
  {
   "cell_type": "code",
   "execution_count": 11,
   "id": "a3c51a39-5162-40b2-81f1-0b99e3a19f03",
   "metadata": {},
   "outputs": [
    {
     "ename": "IndexError",
     "evalue": "index 9 is out of bounds for axis 0 with size 2",
     "output_type": "error",
     "traceback": [
      "\u001b[0;31m---------------------------------------------------------------------------\u001b[0m",
      "\u001b[0;31mIndexError\u001b[0m                                Traceback (most recent call last)",
      "Cell \u001b[0;32mIn[11], line 15\u001b[0m\n\u001b[1;32m      5\u001b[0m TE_temp_term \u001b[38;5;241m=\u001b[39m weighted_sum(\n\u001b[1;32m      6\u001b[0m     pressure_integral(\n\u001b[1;32m      7\u001b[0m         C_p \u001b[38;5;241m*\u001b[39m T_correct, level_p, (\u001b[38;5;241m2\u001b[39m,)\u001b[38;5;241m+\u001b[39mlon\u001b[38;5;241m.\u001b[39mshape) \u001b[38;5;241m/\u001b[39m GRAVITY, \n\u001b[1;32m      8\u001b[0m     w_lat, axis\u001b[38;5;241m=\u001b[39m(\u001b[38;5;241m1\u001b[39m, \u001b[38;5;241m2\u001b[39m)) \n\u001b[1;32m     10\u001b[0m TE_vapor_ken \u001b[38;5;241m=\u001b[39m weighted_sum(\n\u001b[1;32m     11\u001b[0m     pressure_integral(\n\u001b[1;32m     12\u001b[0m         LH_WATER\u001b[38;5;241m*\u001b[39mq \u001b[38;5;241m+\u001b[39m GPH_surf[:, \u001b[38;5;28;01mNone\u001b[39;00m, \u001b[38;5;241m.\u001b[39m\u001b[38;5;241m.\u001b[39m\u001b[38;5;241m.\u001b[39m] \u001b[38;5;241m+\u001b[39m ken, level_p, (\u001b[38;5;241m2\u001b[39m,)\u001b[38;5;241m+\u001b[39mlon\u001b[38;5;241m.\u001b[39mshape) \u001b[38;5;241m/\u001b[39m GRAVITY, \n\u001b[1;32m     13\u001b[0m     w_lat, axis\u001b[38;5;241m=\u001b[39m(\u001b[38;5;241m1\u001b[39m, \u001b[38;5;241m2\u001b[39m)) \n\u001b[0;32m---> 15\u001b[0m TE_sum_t1 \u001b[38;5;241m=\u001b[39m \u001b[43mTE_temp_term\u001b[49m\u001b[43m[\u001b[49m\u001b[43mt1\u001b[49m\u001b[43m,\u001b[49m\u001b[43m \u001b[49m\u001b[38;5;241;43m.\u001b[39;49m\u001b[38;5;241;43m.\u001b[39;49m\u001b[38;5;241;43m.\u001b[39;49m\u001b[43m]\u001b[49m \u001b[38;5;241m+\u001b[39m TE_vapor_ken[t1, \u001b[38;5;241m.\u001b[39m\u001b[38;5;241m.\u001b[39m\u001b[38;5;241m.\u001b[39m] \n\u001b[1;32m     16\u001b[0m TE_sum_t0 \u001b[38;5;241m=\u001b[39m TE_temp_term[t0, \u001b[38;5;241m.\u001b[39m\u001b[38;5;241m.\u001b[39m\u001b[38;5;241m.\u001b[39m] \u001b[38;5;241m+\u001b[39m TE_vapor_ken[t0, \u001b[38;5;241m.\u001b[39m\u001b[38;5;241m.\u001b[39m\u001b[38;5;241m.\u001b[39m]\n\u001b[1;32m     17\u001b[0m dTE_sum \u001b[38;5;241m=\u001b[39m (TE_sum_t1 \u001b[38;5;241m-\u001b[39m TE_sum_t0) \u001b[38;5;241m/\u001b[39m N_seconds\n",
      "\u001b[0;31mIndexError\u001b[0m: index 9 is out of bounds for axis 0 with size 2"
     ]
    }
   ],
   "source": [
    "correction_cycle_num = 4\n",
    "\n",
    "for i in range(correction_cycle_num):\n",
    "\n",
    "    TE_temp_term = weighted_sum(\n",
    "        pressure_integral(\n",
    "            C_p * T_correct, level_p, (2,)+lon.shape) / GRAVITY, \n",
    "        w_lat, axis=(1, 2)) \n",
    "    \n",
    "    TE_vapor_ken = weighted_sum(\n",
    "        pressure_integral(\n",
    "            LH_WATER*q + GPH_surf[:, None, ...] + ken, level_p, (2,)+lon.shape) / GRAVITY, \n",
    "        w_lat, axis=(1, 2)) \n",
    "    \n",
    "    TE_sum_t1 = TE_temp_term[t1, ...] + TE_vapor_ken[t1, ...] \n",
    "    TE_sum_t0 = TE_temp_term[t0, ...] + TE_vapor_ken[t0, ...]\n",
    "    dTE_sum = (TE_sum_t1 - TE_sum_t0) / N_seconds\n",
    "    \n",
    "    R_T = (TOA_net + OLR) / N_seconds\n",
    "    R_T = R_T[t1, ...]\n",
    "    \n",
    "    F_S = (R_short + R_long + LH + SH) / N_seconds\n",
    "    F_S = F_S[t1, ...]\n",
    "    \n",
    "    RF_sum = weighted_sum(R_T+F_S, w_lat, axis=(0, 1), keepdims=False)\n",
    "    energy_residual = dTE_sum + RF_sum\n",
    "    print('Residual to conserve energy budge [J/s]: {}'.format(energy_residual))\n",
    "    \n",
    "    T_correct_ratio = (-RF_sum * N_seconds + TE_sum_t0 - TE_vapor_ken[t1, ...]) / TE_temp_term[t1, ...]\n",
    "    T_correct[t1, ...] = T_correct[t1, ...]  * T_correct_ratio\n",
    "    print('Correction ratio: {}'.format(T_correct_ratio))\n",
    "    \n",
    "TE_temp_term = weighted_sum(\n",
    "    pressure_integral(\n",
    "        C_p * T_correct, level_p, (2,)+lon.shape) / GRAVITY, \n",
    "    w_lat, axis=(1, 2)) \n",
    "\n",
    "TE_vapor_ken = weighted_sum(\n",
    "    pressure_integral(\n",
    "        LH_WATER*q + GPH_surf[:, None, ...] + ken, level_p, (2,)+lon.shape) / GRAVITY, \n",
    "    w_lat, axis=(1, 2)) \n",
    "\n",
    "TE_sum_t1 = TE_temp_term[t1, ...] + TE_vapor_ken[t1, ...] \n",
    "TE_sum_t0 = TE_temp_term[t0, ...] + TE_vapor_ken[t0, ...]\n",
    "dTE_sum = (TE_sum_t1 - TE_sum_t0) / N_seconds\n",
    "\n",
    "R_T = (TOA_net + OLR) / N_seconds\n",
    "R_T = R_T[t1, ...]\n",
    "\n",
    "F_S = (R_short + R_long + LH + SH) / N_seconds\n",
    "F_S = F_S[t1, ...]\n",
    "\n",
    "RF_sum = weighted_sum(R_T+F_S, w_lat, axis=(0, 1), keepdims=False)\n",
    "energy_residual = dTE_sum + RF_sum\n",
    "print('Residual to conserve energy budge [J/s]: {}'.format(energy_residual))"
   ]
  },
  {
   "cell_type": "code",
   "execution_count": null,
   "id": "79184246-ff33-46e9-8480-42f2b8c509c1",
   "metadata": {},
   "outputs": [],
   "source": [
    "# # an example of std(q) that varies on pressure levels\n",
    "# # top of atmos --> surface\n",
    "# T_std = np.array([1, 1, 1, 1, 1, 1, 1, 1, 1, 1, 2, 2, 2, 2, 2, 2, 2, 2, 2, 2, 3, 3, 3, 3, 3, 3, 3, 3, 3, 3,\n",
    "#                   4, 4, 4, 4, 4, 2, 2])\n",
    "\n",
    "# T_std_norm = T_std / np.mean(T_std) # geometric_mean(q_std) # q_w"
   ]
  },
  {
   "cell_type": "code",
   "execution_count": null,
   "id": "e471c10c-e7ee-43f5-8b88-c68b03998ea6",
   "metadata": {},
   "outputs": [],
   "source": [
    "C_p = (1-q)*CP_DRY + q*CP_VAPOR\n",
    "C_p = C_p[:t1+1, ...]\n",
    "\n",
    "ken = 0.5*(u**2 + v**2)\n",
    "ken = ken[:t1+1, ...]\n",
    "\n",
    "T_correct = np.copy(T)\n",
    "T_correct = T_correct[:t1+1, ...]\n",
    "\n",
    "GPH_surf = GPH_surf[:t1+1, ...]\n",
    "\n",
    "q = q[:t1+1, ...]"
   ]
  },
  {
   "cell_type": "code",
   "execution_count": null,
   "id": "53ee3be5-1248-449a-8aed-92530ea6b20a",
   "metadata": {},
   "outputs": [],
   "source": [
    "correction_cycle_num = 6\n",
    "\n",
    "for i in range(correction_cycle_num):\n",
    "\n",
    "    E_level = C_p * T_correct + LH_WATER*q + GPH_surf[:, None, ...] + ken\n",
    "    TE = pressure_integral(E_level, level_p, (2,)+lon.shape) / GRAVITY\n",
    "    \n",
    "    dTE_dt = (TE[1, ...] - TE[0, ...]) / N_seconds\n",
    "    dTE_sum = weighted_sum(dTE_dt, w_lat, axis=(0, 1), keepdims=False)\n",
    "    \n",
    "    R_T = (TOA_net + OLR) / N_seconds\n",
    "    R_T = R_T[t1, ...]\n",
    "    \n",
    "    F_S = (R_short + R_long + LH + SH) / N_seconds\n",
    "    F_S = F_S[t1, ...]\n",
    "    \n",
    "    RF_sum = weighted_sum(R_T+F_S, w_lat, axis=(0, 1), keepdims=False)\n",
    "    energy_residual = dTE_sum + RF_sum\n",
    "    print('Residual to conserve energy budge [J/s]: {}'.format(energy_residual))\n",
    "    \n",
    "    # T_correct_ratio = 1 + T_std_norm * (-RF_sum/dTE_sum - 1)\n",
    "    T_correct_ratio = -RF_sum/dTE_sum\n",
    "    T_correct = T_correct * T_correct_ratio\n",
    "    print('Correction ratio: {}'.format(T_correct_ratio))\n",
    "\n",
    "E_level = C_p * T_correct + LH_WATER*q + GPH_surf[:, None, ...] + ken\n",
    "TE = pressure_integral(E_level, level_p, (2,)+lon.shape) / GRAVITY\n",
    "\n",
    "dTE_dt = (TE[1, ...] - TE[0, ...]) / N_seconds\n",
    "dTE_sum = weighted_sum(dTE_dt, w_lat, axis=(0, 1), keepdims=False)\n",
    "\n",
    "R_T = (TOA_net + OLR) / N_seconds\n",
    "R_T = R_T[t1, ...]\n",
    "\n",
    "F_S = (R_short + R_long + LH + SH) / N_seconds\n",
    "F_S = F_S[t1, ...]\n",
    "\n",
    "RF_sum = weighted_sum(R_T+F_S, w_lat, axis=(0, 1), keepdims=False)\n",
    "energy_residual_final = dTE_sum + RF_sum\n",
    "print('Residual to conserve energy budge [J/s]: {}'.format(energy_residual_final))"
   ]
  },
  {
   "cell_type": "code",
   "execution_count": null,
   "id": "d1ee1fac-5022-4abb-863a-6fcbf29dd332",
   "metadata": {},
   "outputs": [],
   "source": []
  },
  {
   "cell_type": "code",
   "execution_count": null,
   "id": "bbc42df0-257e-4a3b-a2d8-638412fe383e",
   "metadata": {},
   "outputs": [],
   "source": []
  }
 ],
 "metadata": {
  "kernelspec": {
   "display_name": "Python 3 (ipykernel)",
   "language": "python",
   "name": "python3"
  },
  "language_info": {
   "codemirror_mode": {
    "name": "ipython",
    "version": 3
   },
   "file_extension": ".py",
   "mimetype": "text/x-python",
   "name": "python",
   "nbconvert_exporter": "python",
   "pygments_lexer": "ipython3",
   "version": "3.11.9"
  }
 },
 "nbformat": 4,
 "nbformat_minor": 5
}
