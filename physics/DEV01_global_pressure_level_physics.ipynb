{
 "cells": [
  {
   "cell_type": "markdown",
   "id": "233753c4-f8c0-42d9-a0c8-a190038f49d3",
   "metadata": {},
   "source": [
    "# Global-scale atmospheric moisture and mass budgets in ERA5 pressure level data\n",
    "\n",
    "* find the way to compute global-scale mass budget (dry air + moisure) on ERA5\n",
    "* Apply this budget computation in AI weather prediction model as physcis-based constraints. "
   ]
  },
  {
   "cell_type": "code",
   "execution_count": 1,
   "id": "c88a2547-ee20-4ccb-8395-e5805cefaba4",
   "metadata": {},
   "outputs": [],
   "source": [
    "import numpy as np\n",
    "import xarray as xr"
   ]
  },
  {
   "cell_type": "code",
   "execution_count": 2,
   "id": "145aeac9-1ac9-4326-abd4-bf4f5ee3c352",
   "metadata": {},
   "outputs": [],
   "source": [
    "import matplotlib.pyplot as plt\n",
    "%matplotlib inline"
   ]
  },
  {
   "cell_type": "markdown",
   "id": "473614a7-a1ed-4143-a6b1-faa79f96f8e9",
   "metadata": {},
   "source": [
    "Files: ERA5 pressure level data from `1979-01-01T00 - 1979-01-01T12`\n",
    "\n",
    "* `/glade/derecho/scratch/ksha/CREDIT_data/ERA5_pressure_lev/upper_air_test.zarr`\n",
    "* `/glade/derecho/scratch/ksha/CREDIT_data/ERA5_pressure_lev/surf_test.zarr`"
   ]
  },
  {
   "cell_type": "code",
   "execution_count": 3,
   "id": "0ab54e3c-2251-49a8-99ad-93430bba26d6",
   "metadata": {},
   "outputs": [],
   "source": [
    "ds_upper = xr.open_zarr('/glade/derecho/scratch/ksha/CREDIT_data/ERA5_pressure_lev/upper_air_test.zarr')\n",
    "ds_surf = xr.open_zarr('/glade/derecho/scratch/ksha/CREDIT_data/ERA5_pressure_lev/surf_test.zarr')"
   ]
  },
  {
   "cell_type": "code",
   "execution_count": 4,
   "id": "b9cf44db-54b5-4139-a5ff-3e4d84f99502",
   "metadata": {},
   "outputs": [],
   "source": [
    "GRAVITY = 9.80665\n",
    "R = 6371000  # m\n",
    "RHO_WATER = 1000.0 # kg/m^3"
   ]
  },
  {
   "cell_type": "code",
   "execution_count": 5,
   "id": "c45e7886-df26-465b-8a2e-a532b9d579b7",
   "metadata": {},
   "outputs": [],
   "source": [
    "x = ds_surf['longitude']\n",
    "y = ds_surf['latitude']\n",
    "lon, lat = np.meshgrid(x, y)\n",
    "level_p = 100*np.array(ds_upper['level'])"
   ]
  },
  {
   "cell_type": "code",
   "execution_count": 6,
   "id": "87a5fa97-37f2-4f98-b1b5-37665082efc6",
   "metadata": {},
   "outputs": [
    {
     "data": {
      "text/plain": [
       "array([   100,    200,    300,    500,    700,   1000,   2000,   3000,\n",
       "         5000,   7000,  10000,  12500,  15000,  17500,  20000,  22500,\n",
       "        25000,  30000,  35000,  40000,  45000,  50000,  55000,  60000,\n",
       "        65000,  70000,  75000,  77500,  80000,  82500,  85000,  87500,\n",
       "        90000,  92500,  95000,  97500, 100000])"
      ]
     },
     "execution_count": 6,
     "metadata": {},
     "output_type": "execute_result"
    }
   ],
   "source": [
    "level_p # Pa or kg/m/s2"
   ]
  },
  {
   "cell_type": "code",
   "execution_count": 7,
   "id": "5b526d22-9497-435c-8eef-9693de3c3b4c",
   "metadata": {},
   "outputs": [],
   "source": [
    "# level_diff = np.diff(level_p)\n",
    "# level_diff_cumsum = np.concatenate(([0], np.cumsum(level_diff)))"
   ]
  },
  {
   "cell_type": "code",
   "execution_count": 8,
   "id": "35f44d4a-4fba-4544-9bae-6e0d3798c54c",
   "metadata": {},
   "outputs": [],
   "source": [
    "q_v = np.array(ds_upper['specific_humidity']) # kg/kg\n",
    "q_ci = np.array(ds_upper['specific_cloud_ice_water_content'])\n",
    "q_cl = np.array(ds_upper['specific_cloud_liquid_water_content'])\n",
    "# not preprocessed \n",
    "# q_r = np.array(ds_upper['specific_rain_water_content'])\n",
    "# q_s = np.array(ds_upper['specific_snow_water_content'])\n",
    "\n",
    "q = q_v # + q_ci + q_cl + q_r + q_s\n",
    "\n",
    "u = np.array(ds_upper['u_component_of_wind']) # m/s\n",
    "v = np.array(ds_upper['v_component_of_wind'])"
   ]
  },
  {
   "cell_type": "code",
   "execution_count": 9,
   "id": "e205b7fb-c587-4b2c-a40f-d6905ecc1135",
   "metadata": {},
   "outputs": [],
   "source": [
    "# def geometric_mean(data):\n",
    "#     return np.exp(np.mean(np.log(data)))\n",
    "\n",
    "# def weighted_mean(data, weights, axis, keepdims=False):\n",
    "    \n",
    "#     expanded_weights = np.broadcast_to(weights, data.shape)\n",
    "#     weighted_sum = np.sum(data * expanded_weights, axis=axis, keepdims=keepdims)\n",
    "#     weights_sum = np.sum(expanded_weights, axis=axis, keepdims=keepdims)\n",
    "#     return weighted_sum / weights_sum\n",
    "\n",
    "def weighted_sum(data, weights, axis, keepdims=False):\n",
    "    '''\n",
    "    Compute the weighted sum of a given quantity\n",
    "\n",
    "    Args:\n",
    "        data: the quantity to be sum-ed\n",
    "        weights: weights that can be broadcasted to the shape of data\n",
    "        axis: dims to compute the sum\n",
    "        keepdims: keepdims\n",
    "\n",
    "    Returns:\n",
    "        weighted sum\n",
    "    '''\n",
    "    expanded_weights = np.broadcast_to(weights, data.shape)\n",
    "    return np.sum(data * expanded_weights, axis=axis, keepdims=keepdims)\n",
    "\n",
    "def pressure_integral(q, level_p, output_shape):\n",
    "    '''\n",
    "    Compute the pressure level integral of a given quantity using np.trapz\n",
    "\n",
    "    Args:\n",
    "        q: the quantity with dims of (level, lat, lon) or (time, level, lat, lon)\n",
    "        level_p: the pressure level of q as [Pa] and with dims of (level,)\n",
    "        output_shape: either (lat, lon) or (time, lat, lon)\n",
    "\n",
    "    Returns:\n",
    "        Pressure level integrals of q\n",
    "    '''\n",
    "    # (level, lat, lon) --> (lat, lon)\n",
    "    if len(output_shape) == 2:\n",
    "        Q = np.empty(output_shape)\n",
    "        for ix in range(output_shape[0]):\n",
    "            for iy in range(output_shape[1]):\n",
    "                Q[ix, iy] = np.trapz(q[:, ix, iy], level_p)\n",
    "                \n",
    "    # (time, level, lat, lon) --> (time, lat, lon)\n",
    "    elif len(output_shape) == 3:\n",
    "        Q = np.empty(output_shape)\n",
    "        for i_time in range(output_shape[0]):\n",
    "            for ix in range(output_shape[1]):\n",
    "                for iy in range(output_shape[2]):\n",
    "                    Q[i_time, ix, iy] = np.trapz(q[i_time, :, ix, iy], level_p)\n",
    "                    \n",
    "    else:\n",
    "        print('wrong output_shape')\n",
    "        raise\n",
    "        \n",
    "    return Q\n",
    "    \n",
    "def dx_dy(lat, lon):\n",
    "    '''\n",
    "    Compute the grid spacing from 2D lat/lon grids using central difference\n",
    "    for center grids and forward/backward difference for edge grids\n",
    "\n",
    "    Args:\n",
    "        lat, lon: 2D arrays of latitude and longitude.\n",
    "\n",
    "    Return:\n",
    "        dy, dx: 2D arrays of grid spacings\n",
    "    '''\n",
    "    \n",
    "    # Convert latitude and longitude from degrees to radians\n",
    "    lat_rad = np.radians(lat)\n",
    "    lon_rad = np.radians(lon)\n",
    "    \n",
    "    # Compute the grid spacing in the latitude direction (dy)\n",
    "    dy = np.zeros_like(lat)\n",
    "    dy[1:-1, :] = R * (lat_rad[2:, :] - lat_rad[:-2, :]) / 2.0\n",
    "    dy[0, :] = R * (lat_rad[1, :] - lat_rad[0, :])\n",
    "    dy[-1, :] = R * (lat_rad[-1, :] - lat_rad[-2, :])\n",
    "    \n",
    "    # Compute the grid spacing in the longitude direction (dx)\n",
    "    dx = np.zeros_like(lon)\n",
    "    dx[:, 1:-1] = R * np.cos(lat_rad[:, 1:-1]) * (lon_rad[:, 2:] - lon_rad[:, :-2]) / 2.0\n",
    "    dx[:, 0] = R * np.cos(lat_rad[:, 0]) * (lon_rad[:, 1] - lon_rad[:, 0])\n",
    "    dx[:, -1] = R * np.cos(lat_rad[:, -1]) * (lon_rad[:, -1] - lon_rad[:, -2])\n",
    "\n",
    "    return dy, dx\n",
    "\n",
    "def compute_grid_area(lat, lon):\n",
    "    '''\n",
    "    Compute grid cell areas from 2D lat/lon grids\n",
    "\n",
    "    Args:\n",
    "        lat, lon: latitude and longitude with dims of (lat, lon)\n",
    "\n",
    "    Return:\n",
    "        grid cell area, dims are (lat, lon)\n",
    "    '''\n",
    "    dy, dx = dx_dy(lat, lon)\n",
    "    area = dy*dx\n",
    "\n",
    "    return area\n",
    "\n",
    "area = compute_grid_area(lat, lon)\n",
    "\n",
    "# w_lat = np.cos(np.deg2rad(lat))\n",
    "w_lat = area #/ np.sum(area)"
   ]
  },
  {
   "cell_type": "markdown",
   "id": "97a9c20b-f035-4a23-ab66-0056d0529b3e",
   "metadata": {},
   "source": [
    "## Conservation of total dry air mass"
   ]
  },
  {
   "cell_type": "markdown",
   "id": "a3064cff-8af3-48fe-9f69-e040f56f7823",
   "metadata": {},
   "source": [
    "Equation on a single air column (flux form equation with unit of kg/m^2/s):\n",
    "\n",
    "\\begin{equation}\n",
    "\\mathbf{\\nabla} \\cdot \\frac{1}{g} \\int_{p_0}^{p_1}{\\left[\\left(1-q\\right)\\mathbf{v}\\right]}dp + \\frac{1}{g}\\frac{\\partial}{\\partial t}\\int_{p_0}^{p_1}{\\left(1-q\\right)}dp = 0\n",
    "\\end{equation}\n",
    "\n",
    "For global sum, the first term (the divergence of vertically integrated dry air mass flux) is zero. So the second term (the time tendency of vertically integrated dry air mass per area) is also zero. \n",
    "\n",
    "From the second term = 0, the global sum of dry air mass $\\overline{m_d}$ stays unchanged (kg) :\n",
    "\n",
    "\\begin{equation}\n",
    "m_d = \\sum{\\frac{1}{g}\\int_{p_0}^{p_1}{\\left(1-q\\right)}dp}\n",
    "\\end{equation}\n",
    "\n",
    "\\begin{equation}\n",
    "m_d\\left(\\mathrm{y_input}\\right) - m_d\\left(\\mathrm{y_pred}\\right) = 0\n",
    "\\end{equation}\n",
    "\n",
    "For any residuals of this conservation, we apply multiplicative correction to specific humidty to close the budget:\n",
    "\n",
    "\\begin{equation}\n",
    "q^*\\left(\\mathrm{y_pred}\\right) = 1 - \\left[1 - q\\left(\\mathrm{y_pred}\\right)\\right]*\\frac{m_d\\left(\\mathrm{y_input}\\right)}{m_d\\left(\\mathrm{y_pred}\\right)}\n",
    "\\end{equation}\n",
    "\n",
    "This can be modified to consider the vertical variability of specific humidity $q_w$:\n",
    "\\begin{equation}\n",
    "r = 1 + q_w * \\left(\\frac{m_d\\left(\\mathrm{y_input}\\right)}{m_d\\left(\\mathrm{y_pred}\\right)} - 1\\right)\n",
    "\\end{equation}\n",
    "\n",
    "\\begin{equation}\n",
    "q^*\\left(\\mathrm{y_pred}\\right) = 1 - r*\\left[1 - q\\left(\\mathrm{y_pred}\\right)\\right]\n",
    "\\end{equation}"
   ]
  },
  {
   "cell_type": "code",
   "execution_count": 10,
   "id": "e101fd12-3f1d-46fd-9ad5-45447e51645d",
   "metadata": {},
   "outputs": [],
   "source": [
    "t0 = 0\n",
    "t1 = 1\n",
    "q_correct = np.copy(q) # <-- corrected y_pred on q\n",
    "output_shape = (2,)+lon.shape"
   ]
  },
  {
   "cell_type": "code",
   "execution_count": 11,
   "id": "35952475-5073-40f7-9971-3923683faad5",
   "metadata": {},
   "outputs": [],
   "source": [
    "# an example of std(q) that varies on pressure levels\n",
    "# top of atmos --> surface\n",
    "q_std = np.array([1, 1, 1, 1, 1, 1, 1, 1, 1, 1, 2, 2, 2, 2, 2, 2, 2, 2, 2, 2, 3, 3, 3, 3, 3, 3, 3, 3, 3, 3,\n",
    "                  4, 4, 4, 4, 4, 2, 2])\n",
    "\n",
    "q_std_norm = q_std / np.mean(q_std) # geometric_mean(q_std) # q_w"
   ]
  },
  {
   "cell_type": "code",
   "execution_count": 12,
   "id": "d90eb120-d7c2-4a7b-85cb-392241105797",
   "metadata": {},
   "outputs": [
    {
     "name": "stdout",
     "output_type": "stream",
     "text": [
      "Residual to conserve the dry air mass [kg]: 1640762961920.0\n",
      "Ratio to the total amount of air [kg/kg]: 3.1871852407148405e-07\n",
      "Correction iter 0\n",
      "Residual to conserve the dry air mass [kg]: -241162088448.0\n",
      "Ratio to the total amount of air [kg/kg]: -4.684578252680653e-08\n",
      "Correction iter 1\n",
      "Residual to conserve the dry air mass [kg]: 43565337600.0\n",
      "Ratio to the total amount of air [kg/kg]: 8.462575291375292e-09\n",
      "Correction iter 2\n",
      "Residual to conserve the dry air mass [kg]: 43565337600.0\n",
      "Ratio to the total amount of air [kg/kg]: 8.462575291375292e-09\n"
     ]
    }
   ],
   "source": [
    "correction_cycle_num = 3 # iterative to handle numrical precision\n",
    "\n",
    "for i in range(correction_cycle_num):\n",
    "    \n",
    "    mass_dry_per_area = pressure_integral(1-q_correct, level_p, output_shape) / GRAVITY # kg/m^2\n",
    "    mass_dry_sum = weighted_sum(mass_dry_per_area, w_lat, axis=(1, 2), keepdims=False) # kg\n",
    "    \n",
    "    # ----------------------------------------------------------------------- #\n",
    "    # check residual term\n",
    "    mass_dry_res = mass_dry_sum[t0] - mass_dry_sum[t1]\n",
    "    print('Residual to conserve the dry air mass [kg]: {}'.format(mass_dry_res))\n",
    "    print('Ratio to the total amount of air [kg/kg]: {}'.format(mass_dry_res/5.148e18))\n",
    "    \n",
    "    # ----------------------------------------------------------------------- #\n",
    "    # correction\n",
    "    print('Correction iter {}'.format(i))\n",
    "    # q_correct_ratio = mass_dry_sum[t0] / mass_dry_sum[t1] # no p level weighting\n",
    "    q_correct_ratio = 1 + q_std_norm * (mass_dry_sum[t0] / mass_dry_sum[t1] - 1)\n",
    "    q_correct[t1, ...] = 1 - (1 - q_correct[t1, ...]) * q_correct_ratio[:, None, None]\n",
    "\n",
    "# final checks\n",
    "mass_dry_per_area = pressure_integral(1-q_correct, level_p, output_shape) / GRAVITY\n",
    "mass_dry_sum = weighted_sum(mass_dry_per_area, w_lat, axis=(1, 2), keepdims=False)\n",
    "\n",
    "# ----------------------------------------------------------------------- #\n",
    "# check residual term\n",
    "mass_dry_res = mass_dry_sum[t0] - mass_dry_sum[t1]\n",
    "print('Residual to conserve the dry air mass [kg]: {}'.format(mass_dry_res))\n",
    "print('Ratio to the total amount of air [kg/kg]: {}'.format(mass_dry_res/5.148e18))"
   ]
  },
  {
   "cell_type": "code",
   "execution_count": 13,
   "id": "8e3f492f-65a4-4273-8637-7b0064dfe08a",
   "metadata": {},
   "outputs": [
    {
     "data": {
      "text/plain": [
       "array([1.        , 1.        , 1.        , 1.        , 1.        ,\n",
       "       1.        , 1.        , 1.        , 1.        , 1.        ,\n",
       "       0.99999999, 0.99999999, 0.99999999, 0.99999999, 0.99999999,\n",
       "       0.99999999, 0.99999999, 0.99999999, 0.99999999, 0.99999999,\n",
       "       0.99999999, 0.99999999, 0.99999999, 0.99999999, 0.99999999,\n",
       "       0.99999999, 0.99999999, 0.99999999, 0.99999999, 0.99999999,\n",
       "       0.99999999, 0.99999999, 0.99999999, 0.99999999, 0.99999999,\n",
       "       0.99999999, 0.99999999])"
      ]
     },
     "execution_count": 13,
     "metadata": {},
     "output_type": "execute_result"
    }
   ],
   "source": [
    "q_correct_ratio # r"
   ]
  },
  {
   "cell_type": "markdown",
   "id": "da483aec-5cd7-41ce-8691-9eb30550834c",
   "metadata": {},
   "source": [
    "## Moisture budget"
   ]
  },
  {
   "cell_type": "markdown",
   "id": "a6732aa7-5a58-4578-85bf-818b24751012",
   "metadata": {},
   "source": [
    "Equation on a single air column (flux form equation with unit of kg/m^2/s):\n",
    "\n",
    "\\begin{equation}\n",
    "\\mathbf{\\nabla} \\cdot \\frac{1}{g} \\int_{0}^{p_s}{\\left(\\mathbf{v}q\\right)}dp = -\\frac{1}{g}\\frac{\\partial}{\\partial t}\\int_{0}^{p_s}{q}dp - E - P\n",
    "\\end{equation}\n",
    "\n",
    "For global sum, the first term (the divergence of integrated moisture flux) is zero. So the second term (the time tendency of total column water $Q$) is balanced by evaporation $E$ and precipitation $P$ (kg/s):\n",
    "\n",
    "\\begin{equation}\n",
    "\\overline{\\left(\\frac{\\partial Q}{\\partial t}\\right)} =  - \\overline{E} - \\overline{P}\n",
    "\\end{equation}\n",
    "\n",
    "For any residuals of this conservation, we use precipitation to close the budge:\n",
    "\n",
    "\\begin{equation}\n",
    "\\overline{P}^* = \\overline{\\left[\\frac{Q\\left(\\mathrm{y_pred}\\right) - Q\\left(\\mathrm{y_input}\\right)}{\\mathrm{second}}\\right]} - \\overline{E}\n",
    "\\end{equation}\n",
    "\n",
    "\\begin{equation}\n",
    "P^* = P * \\frac{\\overline{P}^*}{\\overline{P}}\n",
    "\\end{equation}"
   ]
  },
  {
   "cell_type": "code",
   "execution_count": 14,
   "id": "41f9e508-0db2-4c03-a597-9f221536e60c",
   "metadata": {},
   "outputs": [],
   "source": [
    "t0 = 0\n",
    "t1 = 1\n",
    "N_seconds = 3600 # hourly data\n",
    "output_shape = (2,)+lon.shape"
   ]
  },
  {
   "cell_type": "code",
   "execution_count": 15,
   "id": "5602b6dc-391b-4bd9-bc2f-e6f7edbb9cdb",
   "metadata": {},
   "outputs": [],
   "source": [
    "precip = np.array(ds_surf['total_precipitation'])\n",
    "evapor = np.array(ds_surf['evaporation'])\n",
    "\n",
    "precip_flux = precip[t1, ...] * RHO_WATER / N_seconds # m/hour --> kg/m^2/s, positive\n",
    "evapor_flux = evapor[t1, ...] * RHO_WATER / N_seconds # kg/m^2/s, negative\n",
    "\n",
    "precip_correct = np.copy(precip_flux) # <-- corrected y_pred on precip"
   ]
  },
  {
   "cell_type": "code",
   "execution_count": 16,
   "id": "a1fdf955-3e15-4291-94af-2423865c6778",
   "metadata": {},
   "outputs": [
    {
     "name": "stdout",
     "output_type": "stream",
     "text": [
      "Residual to conserve moisture budge [kg/s]: 882060249.191227\n",
      "Residual to conserve moisture budge [kg/s]: -38.808773040771484\n"
     ]
    }
   ],
   "source": [
    "correction_cycle_num = 1\n",
    "\n",
    "# pre-compute TWC\n",
    "TWC = pressure_integral(q_correct, level_p, output_shape) / GRAVITY # kg/m^2\n",
    "dTWC_dt = (TWC[t1, ...] - TWC[t0, ...]) / N_seconds # kg/m^2/s\n",
    "TWC_sum = weighted_sum(dTWC_dt, w_lat, axis=(0, 1), keepdims=False) # kg/s\n",
    "\n",
    "# pre-compute evaporation\n",
    "E_sum = weighted_sum(evapor_flux, w_lat, axis=(0, 1), keepdims=False) # kg/s\n",
    "\n",
    "for i in range(correction_cycle_num):\n",
    "    \n",
    "    P_sum = weighted_sum(precip_correct, w_lat, axis=(0, 1), keepdims=False) # kg/s\n",
    "    residual = -TWC_sum - E_sum - P_sum # kg/s\n",
    "    print('Residual to conserve moisture budge [kg/s]: {}'.format(residual))\n",
    "    \n",
    "    P_correct = P_sum + residual # kg/s\n",
    "    P_correct_ratio = (P_sum + residual) / P_sum\n",
    "    \n",
    "    precip_correct = precip_correct * P_correct_ratio\n",
    "\n",
    "# final checks\n",
    "P_sum = weighted_sum(precip_correct, w_lat, axis=(0, 1), keepdims=False)\n",
    "residual = -TWC_sum - E_sum - P_sum\n",
    "print('Residual to conserve moisture budge [kg/s]: {}'.format(residual))"
   ]
  },
  {
   "cell_type": "code",
   "execution_count": 17,
   "id": "4237701f-5255-489f-ab4e-5b6e287f040b",
   "metadata": {},
   "outputs": [
    {
     "data": {
      "text/plain": [
       "0.9451103285649111"
      ]
     },
     "execution_count": 17,
     "metadata": {},
     "output_type": "execute_result"
    }
   ],
   "source": [
    "P_correct_ratio"
   ]
  },
  {
   "cell_type": "markdown",
   "id": "e93712d1-d22e-42f6-9267-7e3c99c99c0d",
   "metadata": {},
   "source": [
    "## Conclosions\n",
    "\n",
    "* ERA5 conserves global mean quantities well with very little residuals.\n",
    "* The correction method can close the budge subjet to numerical precision.\n",
    "* Possible improvement: the corrections were applied equally to all lat/lon gids.\n",
    "    * (1) 3D corrections can be applied to consider the spatial variability of specific humdity and precipitation flux.\n",
    "    * (2) Alternatively, such spatial variability can be considered using single-column-based budget calculations."
   ]
  },
  {
   "cell_type": "markdown",
   "id": "5efcb193-cf1c-4481-ba55-ad28b5b5bd10",
   "metadata": {},
   "source": [
    "## Net step\n",
    "\n",
    "* Clarify needed ERA5 variables --> Prepare ERA5 pressure level data.\n",
    "* Multi-year testing on ERA5 to check the consistency of its global budget.\n",
    "* Convert the current numpy functions to pytorch and let it consider batch size dimension."
   ]
  },
  {
   "cell_type": "markdown",
   "id": "0825d84c-1edc-4eaa-9690-071490f41918",
   "metadata": {},
   "source": [
    "## Pytorch version (x)"
   ]
  },
  {
   "cell_type": "code",
   "execution_count": null,
   "id": "24cd9278-82b0-49c6-9b46-fe607bed5f64",
   "metadata": {},
   "outputs": [],
   "source": [
    "lon_tensor = torch.from_numpy(lon)\n",
    "lat_tensor = torch.from_numpy(lat)\n",
    "level_tensor = torch.from_numpy(level_p)\n",
    "q_tensor = torch.from_numpy(np.array(q))"
   ]
  },
  {
   "cell_type": "code",
   "execution_count": null,
   "id": "fca82872-f1fa-4710-a0ac-73c0d1c21dc9",
   "metadata": {},
   "outputs": [],
   "source": []
  }
 ],
 "metadata": {
  "kernelspec": {
   "display_name": "Python 3 (ipykernel)",
   "language": "python",
   "name": "python3"
  },
  "language_info": {
   "codemirror_mode": {
    "name": "ipython",
    "version": 3
   },
   "file_extension": ".py",
   "mimetype": "text/x-python",
   "name": "python",
   "nbconvert_exporter": "python",
   "pygments_lexer": "ipython3",
   "version": "3.11.9"
  }
 },
 "nbformat": 4,
 "nbformat_minor": 5
}
