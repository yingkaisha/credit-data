{
 "cells": [
  {
   "cell_type": "code",
   "execution_count": null,
   "id": "0cd835f6-9496-4bf7-b920-39a8ab233238",
   "metadata": {},
   "outputs": [],
   "source": [
    "import os\n",
    "import sys\n",
    "import yaml\n",
    "import argparse\n",
    "from glob import glob\n",
    "from datetime import datetime, timedelta\n",
    "\n",
    "import numpy as np\n",
    "import xarray as xr"
   ]
  },
  {
   "cell_type": "code",
   "execution_count": null,
   "id": "8ab41be3-8a50-4596-a3ed-01b5b55805f6",
   "metadata": {},
   "outputs": [],
   "source": [
    "sys.path.insert(0, os.path.realpath('../libs/'))\n",
    "import graph_utils as gu\n",
    "import verif_utils as vu"
   ]
  },
  {
   "cell_type": "code",
   "execution_count": null,
   "id": "3c6ca586-1355-4c29-9368-5d5dbcb6edab",
   "metadata": {},
   "outputs": [],
   "source": [
    "config_name = os.path.realpath('plot_config.yml')\n",
    "\n",
    "with open(config_name, 'r') as stream:\n",
    "    conf = yaml.safe_load(stream)"
   ]
  },
  {
   "cell_type": "code",
   "execution_count": null,
   "id": "613dd710-56b1-4d09-a0b7-3724419a03f6",
   "metadata": {},
   "outputs": [],
   "source": [
    "# graph tools\n",
    "import matplotlib.pyplot as plt\n",
    "import matplotlib.gridspec as gridspec\n",
    "%matplotlib inline"
   ]
  },
  {
   "cell_type": "markdown",
   "id": "d9ab139b-6f2c-453c-a4e0-f461034f74a6",
   "metadata": {},
   "source": [
    "## Figure settings"
   ]
  },
  {
   "cell_type": "code",
   "execution_count": null,
   "id": "459395a2-0c13-47a0-978a-8ca078c57ec9",
   "metadata": {},
   "outputs": [],
   "source": [
    "need_publish = False\n",
    "\n",
    "# True: publication quality figures\n",
    "# False: low resolution figures in the notebook\n",
    "\n",
    "if need_publish:\n",
    "    dpi_ = conf['figure']['keys']['dpi']\n",
    "else:\n",
    "    dpi_ = 75"
   ]
  },
  {
   "cell_type": "markdown",
   "id": "746d512c-40d5-44f5-80e7-b4852882487f",
   "metadata": {},
   "source": [
    "## Import data"
   ]
  },
  {
   "cell_type": "code",
   "execution_count": null,
   "id": "c4aa572c-b6b0-404d-bbed-e4a8b6f16fe1",
   "metadata": {},
   "outputs": [],
   "source": [
    "# year range\n",
    "year_range = conf['example']['year_range']\n",
    "years_pick = np.arange(year_range[0], year_range[1]+1, 1).astype(str)\n",
    "\n",
    "# lat/lon variables\n",
    "OURS_dataset = xr.open_dataset(conf['geo']['geo_file_nc'])\n",
    "x_OURS = np.array(OURS_dataset['longitude'])\n",
    "y_OURS = np.array(OURS_dataset['latitude'])\n",
    "\n",
    "lon_OURS, lat_OURS = np.meshgrid(x_OURS, y_OURS)"
   ]
  },
  {
   "cell_type": "code",
   "execution_count": null,
   "id": "71dd92d0-2c49-4aad-afa6-1cb83cdbf26f",
   "metadata": {},
   "outputs": [],
   "source": [
    "# ERA5 verif target\n",
    "filename_ERA5 = sorted(glob(conf['example']['save_loc_target']))\n",
    "filename_ERA5 = [fn for fn in filename_ERA5 if any(year in fn for year in years_pick)]\n",
    "\n",
    "# merge yearly ERA5 as one\n",
    "ds_ERA5 = [vu.get_forward_data(fn) for fn in filename_ERA5]\n",
    "ds_ERA5_merge = xr.concat(ds_ERA5, dim='time')\n",
    "    \n",
    "# Select the specified variables and their levels\n",
    "variables_levels = conf['example']['verif_variables']\n",
    "\n",
    "# subset merged ERA5 and unify coord names\n",
    "ds_ERA5_merge = vu.ds_subset_everything(ds_ERA5_merge, variables_levels)\n",
    "ds_ERA5_merge = ds_ERA5_merge.rename({'latitude':'lat','longitude':'lon'})"
   ]
  },
  {
   "cell_type": "code",
   "execution_count": null,
   "id": "df85a872-6e16-44a2-b68c-3449d96f7c62",
   "metadata": {},
   "outputs": [],
   "source": [
    "# medium size model\n",
    "filename_medium = sorted(glob(conf['example']['save_loc_base']+'*.nc'))\n",
    "filename_medium = [fn for fn in filename_medium if any(year in fn for year in years_pick)]\n",
    "\n",
    "# large model\n",
    "filename_large = sorted(glob(conf['example']['save_loc_ours']+'*.nc'))\n",
    "filename_large = [fn for fn in filename_large if any(year in fn for year in years_pick)]"
   ]
  },
  {
   "cell_type": "markdown",
   "id": "9b05b027-58b4-434a-bda6-eedead0f690c",
   "metadata": {},
   "source": [
    "## Pick example days and get its variable subsets"
   ]
  },
  {
   "cell_type": "code",
   "execution_count": null,
   "id": "93ce6f75-234e-4be1-aaa8-66ed469c9f86",
   "metadata": {},
   "outputs": [],
   "source": [
    "example_day = 2105\n",
    "example_lead_index = 239 # day-10\n",
    "\n",
    "varnames = ['V500', 'U500', 'T500', 'Q500', 'Z500', 'SP', 't2m']\n",
    "\n",
    "dict_example = {}\n",
    "\n",
    "for varname in varnames:\n",
    "    ds_medium = xr.open_dataset(filename_medium[example_day])\n",
    "    ds_large = xr.open_dataset(filename_large[example_day])\n",
    "    \n",
    "    var_medium = ds_medium[varname].isel(time=example_lead_index)\n",
    "    var_large = ds_large[varname].isel(time=example_lead_index)\n",
    "\n",
    "    dict_example['{}_medium'.format(varname)] = np.array(var_medium)\n",
    "    dict_example['{}_large'.format(varname)] = np.array(var_large)\n",
    "\n",
    "    ds_target = ds_ERA5_merge.sel(time=ds_medium['time'])\n",
    "    dict_example['{}_target'.format(varname)] = np.array(ds_target[varname].isel(time=example_lead_index))"
   ]
  },
  {
   "cell_type": "code",
   "execution_count": null,
   "id": "9dc0f5a3-f691-4a11-baf4-516d56d4581b",
   "metadata": {},
   "outputs": [],
   "source": []
  },
  {
   "cell_type": "code",
   "execution_count": null,
   "id": "9cb1b562-4e8d-4112-9f5d-82dde99d2147",
   "metadata": {},
   "outputs": [],
   "source": [
    "model_names = \n",
    "\n",
    "fig = plt.figure(figsize=(13, 13), dpi=dpi_)\n",
    "gs = gridspec.GridSpec(5, 3, height_ratios=[1, 1, 1, 1, 1], width_ratios=[1, 1, 1])\n",
    "\n",
    "ind_x = [0, 1, 2, 3, 4]\n",
    "ind_y = [0, 1, 2]\n",
    "\n",
    "AX = np.zeros((5, 3)).tolist()\n",
    "AX_flat = []\n",
    "for ix, ix_gs in enumerate(ind_x):\n",
    "    for iy, iy_gs in enumerate(ind_y):\n",
    "        AX[ix][iy] = plt.subplot(gs[ix_gs, iy_gs])\n",
    "        AX_flat.append(plt.subplot(gs[ix_gs, iy_gs]))\n",
    "\n",
    "plt.subplots_adjust(0, 0, 1, 1, hspace=0.1, wspace=0.1)\n",
    "\n",
    "for ax in AX_flat:\n",
    "    ax = gu.ax_decorate_box(ax)\n",
    "\n"
   ]
  },
  {
   "cell_type": "code",
   "execution_count": null,
   "id": "a1313745-09d9-49e0-a06f-b9f2fe838e0c",
   "metadata": {},
   "outputs": [],
   "source": []
  },
  {
   "cell_type": "code",
   "execution_count": null,
   "id": "7971560d-5490-42bb-9fe1-35c5b0fdafc7",
   "metadata": {},
   "outputs": [],
   "source": []
  },
  {
   "cell_type": "code",
   "execution_count": null,
   "id": "4fbc5630-9bf2-48c2-be13-625e3a86dca4",
   "metadata": {},
   "outputs": [],
   "source": []
  }
 ],
 "metadata": {
  "kernelspec": {
   "display_name": "Python 3 (ipykernel)",
   "language": "python",
   "name": "python3"
  },
  "language_info": {
   "codemirror_mode": {
    "name": "ipython",
    "version": 3
   },
   "file_extension": ".py",
   "mimetype": "text/x-python",
   "name": "python",
   "nbconvert_exporter": "python",
   "pygments_lexer": "ipython3",
   "version": "3.10.13"
  }
 },
 "nbformat": 4,
 "nbformat_minor": 5
}
