{
 "cells": [
  {
   "cell_type": "markdown",
   "id": "9a92e132-43d5-42ee-b0d1-96d619c1fd43",
   "metadata": {},
   "source": [
    "# Visualize example forecasts"
   ]
  },
  {
   "cell_type": "code",
   "execution_count": null,
   "id": "a09ddd7b-cfb3-4076-aa53-c49a60353c4d",
   "metadata": {},
   "outputs": [],
   "source": [
    "import os\n",
    "import sys\n",
    "import yaml\n",
    "import argparse\n",
    "from glob import glob\n",
    "from datetime import datetime, timedelta\n",
    "\n",
    "import numpy as np\n",
    "import xarray as xr"
   ]
  },
  {
   "cell_type": "code",
   "execution_count": null,
   "id": "8ab41be3-8a50-4596-a3ed-01b5b55805f6",
   "metadata": {},
   "outputs": [],
   "source": [
    "sys.path.insert(0, os.path.realpath('../libs/'))\n",
    "import graph_utils as gu\n",
    "import verif_utils as vu"
   ]
  },
  {
   "cell_type": "code",
   "execution_count": null,
   "id": "3c6ca586-1355-4c29-9368-5d5dbcb6edab",
   "metadata": {},
   "outputs": [],
   "source": [
    "config_name = os.path.realpath('plot_config.yml')\n",
    "\n",
    "with open(config_name, 'r') as stream:\n",
    "    conf = yaml.safe_load(stream)"
   ]
  },
  {
   "cell_type": "code",
   "execution_count": null,
   "id": "613dd710-56b1-4d09-a0b7-3724419a03f6",
   "metadata": {},
   "outputs": [],
   "source": [
    "# graph tools\n",
    "import matplotlib.pyplot as plt\n",
    "import matplotlib.gridspec as gridspec\n",
    "\n",
    "import cartopy.crs as ccrs\n",
    "import cartopy.mpl.geoaxes\n",
    "import cartopy.feature as cfeature\n",
    "\n",
    "%matplotlib inline"
   ]
  },
  {
   "cell_type": "markdown",
   "id": "d9ab139b-6f2c-453c-a4e0-f461034f74a6",
   "metadata": {},
   "source": [
    "## Figure settings"
   ]
  },
  {
   "cell_type": "code",
   "execution_count": null,
   "id": "459395a2-0c13-47a0-978a-8ca078c57ec9",
   "metadata": {},
   "outputs": [],
   "source": [
    "need_publish = True\n",
    "\n",
    "# True: publication quality figures\n",
    "# False: low resolution figures in the notebook\n",
    "\n",
    "if need_publish:\n",
    "    dpi_ = conf['figure']['keys']['dpi']\n",
    "else:\n",
    "    dpi_ = 75"
   ]
  },
  {
   "cell_type": "markdown",
   "id": "746d512c-40d5-44f5-80e7-b4852882487f",
   "metadata": {},
   "source": [
    "## Import data"
   ]
  },
  {
   "cell_type": "code",
   "execution_count": null,
   "id": "c4aa572c-b6b0-404d-bbed-e4a8b6f16fe1",
   "metadata": {},
   "outputs": [],
   "source": [
    "# year range\n",
    "year_range = conf['example']['year_range']\n",
    "years_pick = np.arange(year_range[0], year_range[1]+1, 1).astype(str)\n",
    "\n",
    "# lat/lon variables\n",
    "OURS_dataset = xr.open_dataset(conf['geo']['geo_file_nc'])\n",
    "x_OURS = np.array(OURS_dataset['longitude'])\n",
    "y_OURS = np.array(OURS_dataset['latitude'])\n",
    "\n",
    "lon_OURS, lat_OURS = np.meshgrid(x_OURS, y_OURS)"
   ]
  },
  {
   "cell_type": "code",
   "execution_count": null,
   "id": "71dd92d0-2c49-4aad-afa6-1cb83cdbf26f",
   "metadata": {},
   "outputs": [],
   "source": [
    "# ERA5 verif target\n",
    "filename_ERA5 = sorted(glob(conf['example']['save_loc_target']))\n",
    "filename_ERA5 = [fn for fn in filename_ERA5 if any(year in fn for year in years_pick)]\n",
    "\n",
    "# merge yearly ERA5 as one\n",
    "ds_ERA5 = [vu.get_forward_data(fn) for fn in filename_ERA5]\n",
    "ds_ERA5_merge = xr.concat(ds_ERA5, dim='time')\n",
    "    \n",
    "# Select the specified variables and their levels\n",
    "variables_levels = conf['example']['verif_variables']\n",
    "\n",
    "# subset merged ERA5 and unify coord names\n",
    "ds_ERA5_merge = vu.ds_subset_everything(ds_ERA5_merge, variables_levels)\n",
    "ds_ERA5_merge = ds_ERA5_merge.rename({'latitude':'lat','longitude':'lon'})"
   ]
  },
  {
   "cell_type": "code",
   "execution_count": null,
   "id": "df85a872-6e16-44a2-b68c-3449d96f7c62",
   "metadata": {},
   "outputs": [],
   "source": [
    "# medium size model\n",
    "filename_medium = sorted(glob(conf['example']['save_loc_base']+'*.nc'))\n",
    "filename_medium = [fn for fn in filename_medium if any(year in fn for year in years_pick)]\n",
    "\n",
    "# large model\n",
    "filename_large = sorted(glob(conf['example']['save_loc_ours']+'*.nc'))\n",
    "filename_large = [fn for fn in filename_large if any(year in fn for year in years_pick)]"
   ]
  },
  {
   "cell_type": "markdown",
   "id": "9b05b027-58b4-434a-bda6-eedead0f690c",
   "metadata": {},
   "source": [
    "## Pick your init and lead times"
   ]
  },
  {
   "cell_type": "code",
   "execution_count": null,
   "id": "8a44892b-7a3d-4283-a458-bfd17e9d0fd3",
   "metadata": {},
   "outputs": [],
   "source": [
    "date_base = datetime(year_range[0], 1, 1)\n",
    "N_12hours = len(filename_medium)\n",
    "date_list = [date_base + timedelta(hours=12*i) for i in range(N_12hours)]"
   ]
  },
  {
   "cell_type": "markdown",
   "id": "1676c2ae-7dca-4fca-8b0c-3f6e0fae28d6",
   "metadata": {},
   "source": [
    "**Your [datetime] and [00Z/12Z] to visualize**"
   ]
  },
  {
   "cell_type": "code",
   "execution_count": null,
   "id": "c8ae44b8-309b-49d8-8c37-2c77bae8aea1",
   "metadata": {},
   "outputs": [],
   "source": [
    "my_date = datetime(2019, 11, 18, 12)\n",
    "ind_pick = date_list.index(my_date)"
   ]
  },
  {
   "cell_type": "markdown",
   "id": "46f0f879-4976-47ae-9fe1-94aa8bf93ff8",
   "metadata": {},
   "source": [
    "**Your lead time index to visualize**"
   ]
  },
  {
   "cell_type": "code",
   "execution_count": null,
   "id": "c3861de9-f959-446a-9b96-59b69a536d04",
   "metadata": {},
   "outputs": [],
   "source": [
    "example_lead_index = 239 # day-10"
   ]
  },
  {
   "cell_type": "markdown",
   "id": "678c6ab8-09e2-4ed3-8720-d4e271f75a15",
   "metadata": {},
   "source": [
    "**Your variables**"
   ]
  },
  {
   "cell_type": "code",
   "execution_count": null,
   "id": "47c86187-c2d1-42b3-bc60-acc433bc268c",
   "metadata": {},
   "outputs": [],
   "source": [
    "varnames = ['V500', 'U500', 'T500', 'Q500', 'Z500', 'SP', 't2m']"
   ]
  },
  {
   "cell_type": "code",
   "execution_count": null,
   "id": "93ce6f75-234e-4be1-aaa8-66ed469c9f86",
   "metadata": {},
   "outputs": [],
   "source": [
    "dict_example = {}\n",
    "\n",
    "print('Get {}'.format(filename_medium[ind_pick]))\n",
    "print('Get {}'.format(filename_large[ind_pick]))\n",
    "\n",
    "for varname in varnames:\n",
    "    ds_medium = xr.open_dataset(filename_medium[ind_pick])\n",
    "    ds_large = xr.open_dataset(filename_large[ind_pick])\n",
    "    \n",
    "    var_medium = ds_medium[varname].isel(time=example_lead_index)\n",
    "    var_large = ds_large[varname].isel(time=example_lead_index)\n",
    "\n",
    "    dict_example['{}_medium'.format(varname)] = np.array(var_medium)\n",
    "    dict_example['{}_large'.format(varname)] = np.array(var_large)\n",
    "\n",
    "    ds_target = ds_ERA5_merge.sel(time=ds_medium['time'])\n",
    "    dict_example['{}_target'.format(varname)] = np.array(ds_target[varname].isel(time=example_lead_index))"
   ]
  },
  {
   "cell_type": "markdown",
   "id": "a74a4ba0-c1a8-4f11-a770-43304b033976",
   "metadata": {},
   "source": [
    "## Plot"
   ]
  },
  {
   "cell_type": "code",
   "execution_count": null,
   "id": "51dc7204-fc70-4c11-b409-2effc059fdd8",
   "metadata": {},
   "outputs": [],
   "source": [
    "def map_gridline_opt(ax):\n",
    "    '''\n",
    "    Customize cartopy map gridlines\n",
    "    '''\n",
    "    # lat/lon gridlines and labeling\n",
    "\n",
    "    GL = ax.gridlines(crs=ccrs.PlateCarree(), \n",
    "                      draw_labels=False, x_inline=False, y_inline=False, \n",
    "                      color='k', linewidth=0.1, linestyle=':', zorder=5)\n",
    "    GL.top_labels = None; GL.bottom_labels = None\n",
    "    GL.right_labels = None; GL.left_labels = None\n",
    "    GL.xlabel_style = {'size': 14}; GL.ylabel_style = {'size': 14}\n",
    "    GL.rotate_labels = False\n",
    "\n",
    "    ax.add_feature(cfeature.COASTLINE.with_scale('110m'), edgecolor='k', linewidth=0.5, zorder=5)\n",
    "    ax.spines['geo'].set_linewidth(2.5)\n",
    "    return ax"
   ]
  },
  {
   "cell_type": "code",
   "execution_count": null,
   "id": "1b511b5a-abb3-403c-b3ee-468ed399577b",
   "metadata": {},
   "outputs": [],
   "source": [
    "def colorbar_opt(fig, ax, cbar, cbar_extend='max'):\n",
    "    '''\n",
    "    Customize the colorbar\n",
    "    '''\n",
    "    CBar = fig.colorbar(cbar, location='right', orientation='vertical', \n",
    "                        pad=0.02, fraction=0.025, shrink=0.6, aspect=15, extend=cbar_extend, ax=ax)\n",
    "    CBar.ax.tick_params(axis='y', labelsize=14, direction='in', length=0)\n",
    "    CBar.outline.set_linewidth(2.5)\n",
    "    return CBar\n"
   ]
  },
  {
   "cell_type": "code",
   "execution_count": null,
   "id": "9cb1b562-4e8d-4112-9f5d-82dde99d2147",
   "metadata": {},
   "outputs": [],
   "source": [
    "model_names = ['medium', 'large', 'target']\n",
    "\n",
    "viridis_plasma = gu.cmap_combine(plt.cm.viridis, plt.cm.plasma_r)\n",
    "pcolor_keys = {\n",
    "    'Z500' :  {'vmin':488, 'vmax':588, 'cmap':plt.cm.nipy_spectral},\n",
    "    'T500' :  {'vmin':230, 'vmax':280, 'cmap':plt.cm.nipy_spectral},\n",
    "    'UV500':  {'vmin':0  , 'vmax':60 , 'cmap':plt.cm.Spectral_r},\n",
    "    'Q500' :  {'vmin':0  , 'vmax':0.5, 'cmap':plt.cm.YlGn},\n",
    "    't2m'  :  {'vmin':220, 'vmax':320, 'cmap':plt.cm.nipy_spectral},\n",
    "    'SP'   :  {'vmin':500, 'vmax':1040,'cmap':plt.cm.nipy_spectral}\n",
    "}\n",
    "\n",
    "scales = [1e-2, 1, 1, 1e2, 1, 1e-2]\n",
    "\n",
    "titles = ['500 hPa geopential height 1E2 | {}', \n",
    "          '500 hPa air temperature | {}',\n",
    "          '500 Pha horizontal wind | {}',\n",
    "          '500 hPa specific humidity 1E-2| {}',\n",
    "          '2-m temperature | {}',\n",
    "          'Surface pressure 1E2 | {}']\n",
    "\n",
    "\n",
    "proj_ = ccrs.PlateCarree(central_longitude=0.0)\n",
    "\n",
    "fig = plt.figure(figsize=(13, 16), dpi=dpi_)\n",
    "gs = gridspec.GridSpec(6, 3, height_ratios=[1, 1, 1, 1, 1, 1], width_ratios=[1, 1, 1])\n",
    "\n",
    "ind_x = [0, 1, 2, 3, 4, 5]\n",
    "ind_y = [0, 1, 2]\n",
    "\n",
    "AX = np.zeros((6, 3)).tolist()\n",
    "AX_flat = []\n",
    "for ix, ix_gs in enumerate(ind_x):\n",
    "    for iy, iy_gs in enumerate(ind_y):\n",
    "        AX[ix][iy] = plt.subplot(gs[ix_gs, iy_gs], projection=proj_)\n",
    "        AX_flat.append(plt.subplot(gs[ix_gs, iy_gs]))\n",
    "\n",
    "plt.subplots_adjust(0, 0, 1, 1, hspace=0.0, wspace=0.05)\n",
    "\n",
    "for ax in AX_flat:\n",
    "    ax = map_gridline_opt(ax)\n",
    "\n",
    "#ax.text(0.025, 0.95, titles[i], ha='left', va='top', fontsize=14, transform=ax.transAxes)\n",
    "for i in range(len(AX)):\n",
    "    for i_model, model_name in enumerate(model_names):\n",
    "        ax = AX[i][i_model]\n",
    "        ax.set_title(titles[i].format(model_name), fontsize=14)\n",
    "\n",
    "for i_model, model_name in enumerate(model_names):\n",
    "    for i_var, varname in enumerate(list(pcolor_keys.keys())):\n",
    "    # ------------------------------------------------------- #\n",
    "        if varname == 'UV500':\n",
    "            speed = dict_example['U500_{}'.format(model_name)]**2 + dict_example['V500_{}'.format(model_name)]**2\n",
    "            speed = np.sqrt(speed)\n",
    "            CS_ = AX[i_var][i_model].pcolormesh(lon_OURS, lat_OURS, \n",
    "                                            scales[i_var]*speed, \n",
    "                                            **pcolor_keys[varname])\n",
    "\n",
    "            AX[i_var][i_model].quiver(lon_OURS[::30, ::30], lat_OURS[::30, ::30], \n",
    "                                      dict_example['U500_{}'.format(model_name)][::30, ::30], \n",
    "                                      dict_example['V500_{}'.format(model_name)][::30, ::30])\n",
    "            \n",
    "            if i_model == 2:\n",
    "                cbar = colorbar_opt(fig, AX[i_var][i_model], CS_)\n",
    "        else:\n",
    "            CS_ = AX[i_var][i_model].pcolormesh(lon_OURS, lat_OURS, \n",
    "                                            scales[i_var]*dict_example['{}_{}'.format(varname, model_name)], \n",
    "                                            **pcolor_keys[varname])\n",
    "            if i_model == 2:\n",
    "                cbar = colorbar_opt(fig, AX[i_var][i_model], CS_)\n",
    "\n",
    "ax_title1 = fig.add_axes([0.0, 1.005, 1.0, 0.02])\n",
    "title_len = 0.35\n",
    "fontsize_list = [16,]*10\n",
    "fontweight_list = ['normal', 'bold', 'normal', 'bold', 'normal', 'bold', 'normal']\n",
    "gu.string_partial_format(fig, ax_title1, 0.5*(1-title_len), 1.0, 'left', 'top', \n",
    "                         ['Example output | ', os.path.basename(filename_medium[ind_pick]),], \n",
    "                         ['k', 'k'], fontsize_list, fontweight_list)\n",
    "ax_title1.set_axis_off()\n",
    "\n",
    "if need_publish:\n",
    "    # Save figure\n",
    "    fig.savefig(conf['figure']['save_loc']+'example.png', format='png', **conf['figure']['keys'])"
   ]
  },
  {
   "cell_type": "code",
   "execution_count": null,
   "id": "1343f2f1-fe4d-4d05-853d-56c7d2d86ac4",
   "metadata": {},
   "outputs": [],
   "source": []
  },
  {
   "cell_type": "code",
   "execution_count": null,
   "id": "a1313745-09d9-49e0-a06f-b9f2fe838e0c",
   "metadata": {},
   "outputs": [],
   "source": []
  },
  {
   "cell_type": "code",
   "execution_count": null,
   "id": "7971560d-5490-42bb-9fe1-35c5b0fdafc7",
   "metadata": {},
   "outputs": [],
   "source": []
  },
  {
   "cell_type": "code",
   "execution_count": null,
   "id": "4fbc5630-9bf2-48c2-be13-625e3a86dca4",
   "metadata": {},
   "outputs": [],
   "source": []
  }
 ],
 "metadata": {
  "kernelspec": {
   "display_name": "Python 3 (ipykernel)",
   "language": "python",
   "name": "python3"
  },
  "language_info": {
   "codemirror_mode": {
    "name": "ipython",
    "version": 3
   },
   "file_extension": ".py",
   "mimetype": "text/x-python",
   "name": "python",
   "nbconvert_exporter": "python",
   "pygments_lexer": "ipython3",
   "version": "3.10.13"
  }
 },
 "nbformat": 4,
 "nbformat_minor": 5
}
